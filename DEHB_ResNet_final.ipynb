{
  "cells": [
    {
      "cell_type": "markdown",
      "metadata": {
        "id": "992c99fb"
      },
      "source": [
        "# download libraries\n"
      ],
      "id": "992c99fb"
    },
    {
      "cell_type": "code",
      "execution_count": null,
      "metadata": {
        "colab": {
          "base_uri": "https://localhost:8080/"
        },
        "id": "HXJEL1iOp8o2",
        "outputId": "12942b42-6772-4a1b-907b-b627d401d5d3"
      },
      "outputs": [
        {
          "output_type": "stream",
          "name": "stdout",
          "text": [
            "Looking in indexes: https://pypi.org/simple, https://us-python.pkg.dev/colab-wheels/public/simple/\n",
            "Collecting rtdl\n",
            "  Downloading rtdl-0.0.13-py3-none-any.whl (23 kB)\n",
            "Requirement already satisfied: numpy<2,>=1.18 in /usr/local/lib/python3.7/dist-packages (from rtdl) (1.21.6)\n",
            "Requirement already satisfied: torch<2,>=1.7 in /usr/local/lib/python3.7/dist-packages (from rtdl) (1.12.1+cu113)\n",
            "Requirement already satisfied: typing-extensions in /usr/local/lib/python3.7/dist-packages (from torch<2,>=1.7->rtdl) (4.1.1)\n",
            "Installing collected packages: rtdl\n",
            "Successfully installed rtdl-0.0.13\n",
            "Looking in indexes: https://pypi.org/simple, https://us-python.pkg.dev/colab-wheels/public/simple/\n",
            "Collecting libzero==0.0.4\n",
            "  Downloading libzero-0.0.4-py3-none-any.whl (26 kB)\n",
            "Requirement already satisfied: torch<2,>=1.6 in /usr/local/lib/python3.7/dist-packages (from libzero==0.0.4) (1.12.1+cu113)\n",
            "Requirement already satisfied: tqdm<5,>=4.0 in /usr/local/lib/python3.7/dist-packages (from libzero==0.0.4) (4.64.0)\n",
            "Requirement already satisfied: numpy<2,>=1.17 in /usr/local/lib/python3.7/dist-packages (from libzero==0.0.4) (1.21.6)\n",
            "Collecting pynvml<9,>=8.0\n",
            "  Downloading pynvml-8.0.4-py3-none-any.whl (36 kB)\n",
            "Requirement already satisfied: typing-extensions in /usr/local/lib/python3.7/dist-packages (from torch<2,>=1.6->libzero==0.0.4) (4.1.1)\n",
            "Installing collected packages: pynvml, libzero\n",
            "Successfully installed libzero-0.0.4 pynvml-8.0.4\n"
          ]
        }
      ],
      "source": [
        "# Requirements:\n",
        "!pip install rtdl\n",
        "!pip install libzero==0.0.4 \n"
      ],
      "id": "HXJEL1iOp8o2"
    },
    {
      "cell_type": "code",
      "execution_count": null,
      "metadata": {
        "colab": {
          "base_uri": "https://localhost:8080/"
        },
        "id": "FUCS9tuC_csH",
        "outputId": "47fea6ac-4aad-42a9-e2db-8c5b853e5155"
      },
      "outputs": [
        {
          "output_type": "stream",
          "name": "stdout",
          "text": [
            "Looking in indexes: https://pypi.org/simple, https://us-python.pkg.dev/colab-wheels/public/simple/\n",
            "Collecting openml\n",
            "  Downloading openml-0.12.2.tar.gz (119 kB)\n",
            "\u001b[?25l\r\u001b[K     |██▊                             | 10 kB 27.7 MB/s eta 0:00:01\r\u001b[K     |█████▌                          | 20 kB 10.7 MB/s eta 0:00:01\r\u001b[K     |████████▏                       | 30 kB 14.8 MB/s eta 0:00:01\r\u001b[K     |███████████                     | 40 kB 7.0 MB/s eta 0:00:01\r\u001b[K     |█████████████▋                  | 51 kB 7.2 MB/s eta 0:00:01\r\u001b[K     |████████████████▍               | 61 kB 8.5 MB/s eta 0:00:01\r\u001b[K     |███████████████████▏            | 71 kB 8.9 MB/s eta 0:00:01\r\u001b[K     |█████████████████████▉          | 81 kB 8.6 MB/s eta 0:00:01\r\u001b[K     |████████████████████████▋       | 92 kB 9.5 MB/s eta 0:00:01\r\u001b[K     |███████████████████████████▎    | 102 kB 7.9 MB/s eta 0:00:01\r\u001b[K     |██████████████████████████████  | 112 kB 7.9 MB/s eta 0:00:01\r\u001b[K     |████████████████████████████████| 119 kB 7.9 MB/s \n",
            "\u001b[?25hCollecting liac-arff>=2.4.0\n",
            "  Downloading liac-arff-2.5.0.tar.gz (13 kB)\n",
            "Collecting xmltodict\n",
            "  Downloading xmltodict-0.13.0-py2.py3-none-any.whl (10.0 kB)\n",
            "Requirement already satisfied: requests in /usr/local/lib/python3.7/dist-packages (from openml) (2.23.0)\n",
            "Requirement already satisfied: scikit-learn>=0.18 in /usr/local/lib/python3.7/dist-packages (from openml) (1.0.2)\n",
            "Requirement already satisfied: python-dateutil in /usr/local/lib/python3.7/dist-packages (from openml) (2.8.2)\n",
            "Requirement already satisfied: pandas>=1.0.0 in /usr/local/lib/python3.7/dist-packages (from openml) (1.3.5)\n",
            "Requirement already satisfied: scipy>=0.13.3 in /usr/local/lib/python3.7/dist-packages (from openml) (1.7.3)\n",
            "Requirement already satisfied: numpy>=1.6.2 in /usr/local/lib/python3.7/dist-packages (from openml) (1.21.6)\n",
            "Collecting minio\n",
            "  Downloading minio-7.1.11-py3-none-any.whl (76 kB)\n",
            "\u001b[K     |████████████████████████████████| 76 kB 3.5 MB/s \n",
            "\u001b[?25hRequirement already satisfied: pyarrow in /usr/local/lib/python3.7/dist-packages (from openml) (6.0.1)\n",
            "Requirement already satisfied: pytz>=2017.3 in /usr/local/lib/python3.7/dist-packages (from pandas>=1.0.0->openml) (2022.2.1)\n",
            "Requirement already satisfied: six>=1.5 in /usr/local/lib/python3.7/dist-packages (from python-dateutil->openml) (1.15.0)\n",
            "Requirement already satisfied: joblib>=0.11 in /usr/local/lib/python3.7/dist-packages (from scikit-learn>=0.18->openml) (1.1.0)\n",
            "Requirement already satisfied: threadpoolctl>=2.0.0 in /usr/local/lib/python3.7/dist-packages (from scikit-learn>=0.18->openml) (3.1.0)\n",
            "Requirement already satisfied: urllib3 in /usr/local/lib/python3.7/dist-packages (from minio->openml) (1.24.3)\n",
            "Requirement already satisfied: certifi in /usr/local/lib/python3.7/dist-packages (from minio->openml) (2022.6.15)\n",
            "Requirement already satisfied: idna<3,>=2.5 in /usr/local/lib/python3.7/dist-packages (from requests->openml) (2.10)\n",
            "Requirement already satisfied: chardet<4,>=3.0.2 in /usr/local/lib/python3.7/dist-packages (from requests->openml) (3.0.4)\n",
            "Building wheels for collected packages: openml, liac-arff\n",
            "  Building wheel for openml (setup.py) ... \u001b[?25l\u001b[?25hdone\n",
            "  Created wheel for openml: filename=openml-0.12.2-py3-none-any.whl size=137326 sha256=03c400ac038fdf67e4ea60f0a4b6754aee130d36ab24f0dcb491746f7fdf0365\n",
            "  Stored in directory: /root/.cache/pip/wheels/6a/20/88/cf4ac86aa18e2cd647ed16ebe274a5dacee9d0075fa02af250\n",
            "  Building wheel for liac-arff (setup.py) ... \u001b[?25l\u001b[?25hdone\n",
            "  Created wheel for liac-arff: filename=liac_arff-2.5.0-py3-none-any.whl size=11732 sha256=bfa8b30346f830ca024e303fb08d71723a00dd92a57e799a54973970157c387c\n",
            "  Stored in directory: /root/.cache/pip/wheels/1f/0f/15/332ca86cbebf25ddf98518caaf887945fbe1712b97a0f2493b\n",
            "Successfully built openml liac-arff\n",
            "Installing collected packages: xmltodict, minio, liac-arff, openml\n",
            "Successfully installed liac-arff-2.5.0 minio-7.1.11 openml-0.12.2 xmltodict-0.13.0\n"
          ]
        }
      ],
      "source": [
        "!pip install openml"
      ],
      "id": "FUCS9tuC_csH"
    },
    {
      "cell_type": "code",
      "execution_count": null,
      "metadata": {
        "colab": {
          "base_uri": "https://localhost:8080/"
        },
        "id": "nGlipvj4HUua",
        "outputId": "11d9b6f7-bfe5-42f5-a820-3068b8a51736"
      },
      "outputs": [
        {
          "output_type": "stream",
          "name": "stdout",
          "text": [
            "Looking in indexes: https://pypi.org/simple, https://us-python.pkg.dev/colab-wheels/public/simple/\n",
            "Collecting wandb\n",
            "  Downloading wandb-0.13.2-py2.py3-none-any.whl (1.8 MB)\n",
            "\u001b[K     |████████████████████████████████| 1.8 MB 6.9 MB/s \n",
            "\u001b[?25hCollecting shortuuid>=0.5.0\n",
            "  Downloading shortuuid-1.0.9-py3-none-any.whl (9.4 kB)\n",
            "Requirement already satisfied: psutil>=5.0.0 in /usr/local/lib/python3.7/dist-packages (from wandb) (5.4.8)\n",
            "Requirement already satisfied: protobuf<4.0dev,>=3.12.0 in /usr/local/lib/python3.7/dist-packages (from wandb) (3.17.3)\n",
            "Requirement already satisfied: setuptools in /usr/local/lib/python3.7/dist-packages (from wandb) (57.4.0)\n",
            "Collecting pathtools\n",
            "  Downloading pathtools-0.1.2.tar.gz (11 kB)\n",
            "Requirement already satisfied: six>=1.13.0 in /usr/local/lib/python3.7/dist-packages (from wandb) (1.15.0)\n",
            "Collecting docker-pycreds>=0.4.0\n",
            "  Downloading docker_pycreds-0.4.0-py2.py3-none-any.whl (9.0 kB)\n",
            "Requirement already satisfied: PyYAML in /usr/local/lib/python3.7/dist-packages (from wandb) (6.0)\n",
            "Collecting GitPython>=1.0.0\n",
            "  Downloading GitPython-3.1.27-py3-none-any.whl (181 kB)\n",
            "\u001b[K     |████████████████████████████████| 181 kB 56.8 MB/s \n",
            "\u001b[?25hRequirement already satisfied: requests<3,>=2.0.0 in /usr/local/lib/python3.7/dist-packages (from wandb) (2.23.0)\n",
            "Collecting sentry-sdk>=1.0.0\n",
            "  Downloading sentry_sdk-1.9.5-py2.py3-none-any.whl (157 kB)\n",
            "\u001b[K     |████████████████████████████████| 157 kB 66.7 MB/s \n",
            "\u001b[?25hCollecting setproctitle\n",
            "  Downloading setproctitle-1.3.2-cp37-cp37m-manylinux_2_5_x86_64.manylinux1_x86_64.manylinux_2_17_x86_64.manylinux2014_x86_64.whl (30 kB)\n",
            "Requirement already satisfied: promise<3,>=2.0 in /usr/local/lib/python3.7/dist-packages (from wandb) (2.3)\n",
            "Requirement already satisfied: Click!=8.0.0,>=7.0 in /usr/local/lib/python3.7/dist-packages (from wandb) (7.1.2)\n",
            "Requirement already satisfied: typing-extensions>=3.7.4.3 in /usr/local/lib/python3.7/dist-packages (from GitPython>=1.0.0->wandb) (4.1.1)\n",
            "Collecting gitdb<5,>=4.0.1\n",
            "  Downloading gitdb-4.0.9-py3-none-any.whl (63 kB)\n",
            "\u001b[K     |████████████████████████████████| 63 kB 2.1 MB/s \n",
            "\u001b[?25hCollecting smmap<6,>=3.0.1\n",
            "  Downloading smmap-5.0.0-py3-none-any.whl (24 kB)\n",
            "Requirement already satisfied: idna<3,>=2.5 in /usr/local/lib/python3.7/dist-packages (from requests<3,>=2.0.0->wandb) (2.10)\n",
            "Requirement already satisfied: certifi>=2017.4.17 in /usr/local/lib/python3.7/dist-packages (from requests<3,>=2.0.0->wandb) (2022.6.15)\n",
            "Requirement already satisfied: urllib3!=1.25.0,!=1.25.1,<1.26,>=1.21.1 in /usr/local/lib/python3.7/dist-packages (from requests<3,>=2.0.0->wandb) (1.24.3)\n",
            "Requirement already satisfied: chardet<4,>=3.0.2 in /usr/local/lib/python3.7/dist-packages (from requests<3,>=2.0.0->wandb) (3.0.4)\n",
            "Collecting sentry-sdk>=1.0.0\n",
            "  Downloading sentry_sdk-1.9.4-py2.py3-none-any.whl (157 kB)\n",
            "\u001b[K     |████████████████████████████████| 157 kB 63.9 MB/s \n",
            "\u001b[?25h  Downloading sentry_sdk-1.9.3-py2.py3-none-any.whl (157 kB)\n",
            "\u001b[K     |████████████████████████████████| 157 kB 54.4 MB/s \n",
            "\u001b[?25h  Downloading sentry_sdk-1.9.2-py2.py3-none-any.whl (157 kB)\n",
            "\u001b[K     |████████████████████████████████| 157 kB 62.1 MB/s \n",
            "\u001b[?25h  Downloading sentry_sdk-1.9.1-py2.py3-none-any.whl (157 kB)\n",
            "\u001b[K     |████████████████████████████████| 157 kB 54.6 MB/s \n",
            "\u001b[?25h  Downloading sentry_sdk-1.9.0-py2.py3-none-any.whl (156 kB)\n",
            "\u001b[K     |████████████████████████████████| 156 kB 57.7 MB/s \n",
            "\u001b[?25hBuilding wheels for collected packages: pathtools\n",
            "  Building wheel for pathtools (setup.py) ... \u001b[?25l\u001b[?25hdone\n",
            "  Created wheel for pathtools: filename=pathtools-0.1.2-py3-none-any.whl size=8806 sha256=e8fffbbcf70ce2deef1c117046224934c867a29cd4117f9443fb069857657872\n",
            "  Stored in directory: /root/.cache/pip/wheels/3e/31/09/fa59cef12cdcfecc627b3d24273699f390e71828921b2cbba2\n",
            "Successfully built pathtools\n",
            "Installing collected packages: smmap, gitdb, shortuuid, setproctitle, sentry-sdk, pathtools, GitPython, docker-pycreds, wandb\n",
            "Successfully installed GitPython-3.1.27 docker-pycreds-0.4.0 gitdb-4.0.9 pathtools-0.1.2 sentry-sdk-1.9.0 setproctitle-1.3.2 shortuuid-1.0.9 smmap-5.0.0 wandb-0.13.2\n"
          ]
        }
      ],
      "source": [
        "!pip install wandb\n"
      ],
      "id": "nGlipvj4HUua"
    },
    {
      "cell_type": "code",
      "execution_count": null,
      "metadata": {
        "colab": {
          "base_uri": "https://localhost:8080/"
        },
        "id": "IGuoK2CCdiH8",
        "outputId": "f1332cf9-e8d7-40c8-b80c-fb2935cf40ea"
      },
      "outputs": [
        {
          "output_type": "stream",
          "name": "stdout",
          "text": [
            "Looking in indexes: https://pypi.org/simple, https://us-python.pkg.dev/colab-wheels/public/simple/\n",
            "Requirement already satisfied: rtdl in /usr/local/lib/python3.7/dist-packages (0.0.13)\n",
            "Requirement already satisfied: torch<2,>=1.7 in /usr/local/lib/python3.7/dist-packages (from rtdl) (1.12.1+cu113)\n",
            "Requirement already satisfied: numpy<2,>=1.18 in /usr/local/lib/python3.7/dist-packages (from rtdl) (1.21.6)\n",
            "Requirement already satisfied: typing-extensions in /usr/local/lib/python3.7/dist-packages (from torch<2,>=1.7->rtdl) (4.1.1)\n",
            "Looking in indexes: https://pypi.org/simple, https://us-python.pkg.dev/colab-wheels/public/simple/\n",
            "Requirement already satisfied: libzero==0.0.4 in /usr/local/lib/python3.7/dist-packages (0.0.4)\n",
            "Requirement already satisfied: pynvml<9,>=8.0 in /usr/local/lib/python3.7/dist-packages (from libzero==0.0.4) (8.0.4)\n",
            "Requirement already satisfied: tqdm<5,>=4.0 in /usr/local/lib/python3.7/dist-packages (from libzero==0.0.4) (4.64.0)\n",
            "Requirement already satisfied: numpy<2,>=1.17 in /usr/local/lib/python3.7/dist-packages (from libzero==0.0.4) (1.21.6)\n",
            "Requirement already satisfied: torch<2,>=1.6 in /usr/local/lib/python3.7/dist-packages (from libzero==0.0.4) (1.12.1+cu113)\n",
            "Requirement already satisfied: typing-extensions in /usr/local/lib/python3.7/dist-packages (from torch<2,>=1.6->libzero==0.0.4) (4.1.1)\n"
          ]
        }
      ],
      "source": [
        "# Requirements:\n",
        "!pip install rtdl\n",
        "!pip install libzero==0.0.4"
      ],
      "id": "IGuoK2CCdiH8"
    },
    {
      "cell_type": "code",
      "execution_count": null,
      "metadata": {
        "id": "ehSUeaAT7TwO",
        "colab": {
          "base_uri": "https://localhost:8080/"
        },
        "outputId": "e919727d-3df6-4aaa-89bf-6338a40a5fb2"
      },
      "outputs": [
        {
          "output_type": "stream",
          "name": "stdout",
          "text": [
            "Looking in indexes: https://pypi.org/simple, https://us-python.pkg.dev/colab-wheels/public/simple/\n",
            "Collecting ConfigSpace\n",
            "  Downloading ConfigSpace-0.6.0-cp37-cp37m-manylinux_2_17_x86_64.manylinux2014_x86_64.whl (4.9 MB)\n",
            "\u001b[K     |████████████████████████████████| 4.9 MB 8.1 MB/s \n",
            "\u001b[?25hRequirement already satisfied: cython in /usr/local/lib/python3.7/dist-packages (from ConfigSpace) (0.29.32)\n",
            "Requirement already satisfied: numpy in /usr/local/lib/python3.7/dist-packages (from ConfigSpace) (1.21.6)\n",
            "Requirement already satisfied: typing-extensions in /usr/local/lib/python3.7/dist-packages (from ConfigSpace) (4.1.1)\n",
            "Requirement already satisfied: pyparsing in /usr/local/lib/python3.7/dist-packages (from ConfigSpace) (3.0.9)\n",
            "Requirement already satisfied: scipy in /usr/local/lib/python3.7/dist-packages (from ConfigSpace) (1.7.3)\n",
            "Installing collected packages: ConfigSpace\n",
            "Successfully installed ConfigSpace-0.6.0\n"
          ]
        }
      ],
      "source": [
        "!pip install ConfigSpace"
      ],
      "id": "ehSUeaAT7TwO"
    },
    {
      "cell_type": "markdown",
      "metadata": {
        "id": "YwTQag8A7Udh"
      },
      "source": [
        "#Auxiliary classes "
      ],
      "id": "YwTQag8A7Udh"
    },
    {
      "cell_type": "code",
      "execution_count": null,
      "metadata": {
        "id": "78FOYnnJAhAs"
      },
      "outputs": [],
      "source": [
        "from __future__ import annotations\n",
        "\n",
        "from dataclasses import dataclass\n",
        "from typing import Iterable\n",
        "\n",
        "import numpy as np\n",
        "import openml\n",
        "import pandas as pd\n",
        "from openml import OpenMLDataset\n",
        "from sklearn.model_selection import train_test_split\n",
        "from sklearn.preprocessing import LabelEncoder\n",
        "\n",
        "task_ids = (\n",
        "    40588,\n",
        "    40589,\n",
        "    40590,\n",
        "    40591,\n",
        "    40592,\n",
        "    40593,\n",
        "    40594,\n",
        "    40595,\n",
        "    40596,\n",
        "    40597,\n",
        ")\n",
        "\n",
        "\n",
        "@dataclass\n",
        "class Split:\n",
        "    X: np.ndarray\n",
        "    y: np.ndarray\n",
        "\n",
        "\n",
        "@dataclass\n",
        "class Dataset:\n",
        "    name: str\n",
        "    id: int\n",
        "    features: pd.DataFrame\n",
        "    labels: pd.DataFrame\n",
        "    openml: OpenMLDataset\n",
        "    encoders: dict[str, LabelEncoder]\n",
        "\n",
        "    def split(\n",
        "        self,\n",
        "        splits: Iterable[float],\n",
        "        seed: int | None = 1,\n",
        "    ) -> tuple[Split, ...]:\n",
        "        \"\"\"Create splits of the data\n",
        "\n",
        "        Parameters\n",
        "        ----------\n",
        "        splits : Iterable[float]\n",
        "            The percentages of splits to generate\n",
        "\n",
        "        seed : int | None = None\n",
        "            The seed to use for the splits\n",
        "\n",
        "        Returns\n",
        "        -------\n",
        "        tuple[Split, ...]\n",
        "            The collected splits\n",
        "        \"\"\"\n",
        "        splits = list(splits)\n",
        "        assert abs(1 - sum(splits)) <= 1e-6, \"Splits must sum to 1\"\n",
        "\n",
        "        sample_sizes = tuple(int(s * len(self.features)) for s in splits)\n",
        "\n",
        "        collected_splits = []\n",
        "\n",
        "        next_xs = self.features.to_numpy()\n",
        "        next_ys = self.labels.to_numpy()\n",
        "\n",
        "        for size in sample_sizes[:-1]:\n",
        "            xs, next_xs, ys, next_ys = train_test_split(\n",
        "                next_xs, next_ys, train_size=size, random_state=seed\n",
        "            )\n",
        "            collected_splits.append(Split(X=xs, y=ys))\n",
        "        collected_splits.append(Split(X=next_xs, y=next_ys))\n",
        "\n",
        "        return tuple(collected_splits)\n",
        "\n",
        "    @staticmethod\n",
        "    def from_openml(id: int) -> Dataset:\n",
        "        \"\"\"Processes an multilabel OpenMLDataset into its features and targets\n",
        "\n",
        "        Parameters\n",
        "        ----------\n",
        "        id: int\n",
        "            The id of the dataset\n",
        "\n",
        "        Returns\n",
        "        -------\n",
        "        Dataset\n",
        "        \"\"\"\n",
        "        dataset = openml.datasets.get_dataset(id)\n",
        "        print(dataset.name, id)\n",
        "        targets = dataset.default_target_attribute.split(\",\")\n",
        "        data, _, _, _ = dataset.get_data()\n",
        "\n",
        "        assert isinstance(data, pd.DataFrame)\n",
        "\n",
        "        # Process the features and turn all categorical columns into ints\n",
        "        features = data.drop(columns=targets)\n",
        "        encoders: dict[str, LabelEncoder] = {}\n",
        "\n",
        "        for name, col in features.iteritems():\n",
        "            if col.dtype in [\"object\", \"category\", \"string\"]:\n",
        "                encoder = LabelEncoder()\n",
        "                features[name] = encoder.fit_transform(col)\n",
        "                encoders[name] = encoder\n",
        "\n",
        "        labels = data[targets]\n",
        "\n",
        "        # Since we assume binary multilabel data, we convert the labels\n",
        "        # to all be boolean types\n",
        "        labels = labels.astype(bool)\n",
        "\n",
        "        return Dataset(\n",
        "            name=dataset.name,\n",
        "            id=id,\n",
        "            features=features,\n",
        "            labels=labels,\n",
        "            openml=dataset,\n",
        "            encoders=encoders,\n",
        "        )\n",
        "\n",
        "from sklearn.metrics import f1_score as sklearn_f1_score\n",
        "import numpy as np\n",
        "\n",
        "def f1_score(y_true: np.ndarray, y_pred:np.ndarray) -> float:\n",
        "    return sklearn_f1_score(y_true, y_pred, average=\"macro\", zero_division=0)"
      ],
      "id": "78FOYnnJAhAs"
    },
    {
      "cell_type": "code",
      "execution_count": null,
      "metadata": {
        "id": "fdd7b91e"
      },
      "outputs": [],
      "source": [
        "# mlp for multi-label classification\n",
        "from numpy import mean\n",
        "from numpy import std\n",
        "from sklearn.datasets import make_multilabel_classification\n",
        "from sklearn.model_selection import RepeatedKFold\n",
        "from keras.models import Sequential\n",
        "from keras.layers import Dense\n",
        "from sklearn.metrics import accuracy_score\n",
        "\n",
        "# get the dataset\n",
        "def get_dataset():\n",
        "\tX, y = make_multilabel_classification(n_samples=1000, n_features=10, n_classes=3, n_labels=2, random_state=1)\n",
        "\treturn X, y\n",
        "\n",
        "# get the model\n",
        "def get_model(n_inputs, n_outputs):\n",
        "\tmodel = Sequential()\n",
        "\tmodel.add(Dense(20, input_dim=n_inputs, kernel_initializer='he_uniform', activation='relu'))\n",
        "\tmodel.add(Dense(20, kernel_initializer='he_uniform', activation='relu'))\n",
        "\tmodel.add(Dense(n_outputs, activation='sigmoid'))\n",
        "\tmodel.compile(loss='binary_crossentropy', optimizer='adam')\n",
        "\treturn model\n",
        "\n",
        "# evaluate a model using repeated k-fold cross-validation\n",
        "def evaluate_model(X, y):\n",
        "\tresults = list()\n",
        "\tn_inputs, n_outputs = X.shape[1], y.shape[1]\n",
        "\t# define evaluation procedure\n",
        "\tcv = RepeatedKFold(n_splits=10, n_repeats=3, random_state=1)\n",
        "\t# enumerate folds\n",
        "\tfor train_ix, test_ix in cv.split(X):\n",
        "\t\t# prepare data\n",
        "\t\tX_train, X_test = X[train_ix], X[test_ix]\n",
        "\t\ty_train, y_test = y[train_ix], y[test_ix]\n",
        "\t\t# define model\n",
        "\t\tmodel = get_model(n_inputs, n_outputs)\n",
        "\t\t# fit model\n",
        "\t\tmodel.fit(X_train, y_train, verbose=0, epochs=100)\n",
        "\t\t# make a prediction on the test set\n",
        "\t\tyhat = model.predict(X_test)\n",
        "\t\t# round probabilities to class labels\n",
        "\t\tyhat = yhat.round()\n",
        "\t\t# calculate accuracy\n",
        "\t\tacc = f1_score(y_test, yhat)\n",
        "\t\t# store result\n",
        "\t\tprint('>%.3f' % acc)\n",
        "\t\tresults.append(acc)\n",
        "\treturn results\n",
        "\n"
      ],
      "id": "fdd7b91e"
    },
    {
      "cell_type": "code",
      "execution_count": null,
      "metadata": {
        "colab": {
          "base_uri": "https://localhost:8080/"
        },
        "id": "edWaUa8kwuEH",
        "outputId": "11a07308-33ed-4181-c5a4-d43c9e2738e9"
      },
      "outputs": [
        {
          "output_type": "stream",
          "name": "stdout",
          "text": [
            "Using cuda device\n"
          ]
        }
      ],
      "source": [
        "import torch\n",
        "from torch import nn\n",
        "from torch.utils.data import DataLoader\n",
        "from torchvision import datasets\n",
        "from torchvision.transforms import ToTensor\n",
        "import pandas as pd\n",
        "# Get cpu or gpu device for training.\n",
        "device = \"cuda\" if torch.cuda.is_available() else \"cpu\"\n",
        "print(f\"Using {device} device\")"
      ],
      "id": "edWaUa8kwuEH"
    },
    {
      "cell_type": "code",
      "execution_count": null,
      "metadata": {
        "id": "cxiXzs_415CK"
      },
      "outputs": [],
      "source": [
        "from torch.functional import split\n",
        "class MyDataset(Dataset):\n",
        " \n",
        "  def __init__(self,split):\n",
        " \n",
        "    x=np.array(split.X)\n",
        "    y=np.array(split.y)\n",
        " \n",
        "    self.x_train=torch.tensor(x,dtype=torch.float32)\n",
        "    self.y_train=torch.tensor(y,dtype=torch.float32)\n",
        " \n",
        "  def __len__(self):\n",
        "    return len(self.y_train)\n",
        "   \n",
        "  def __getitem__(self,idx):\n",
        "    return self.x_train[idx],self.y_train[idx]"
      ],
      "id": "cxiXzs_415CK"
    },
    {
      "cell_type": "code",
      "execution_count": null,
      "metadata": {
        "id": "GT0hxXsDwsuQ"
      },
      "outputs": [],
      "source": [
        "def train_(dataloader, model, loss_fn, optimizer,logger,dataset_test=None,ftt=False):\n",
        "    size = len(dataloader.dataset)\n",
        "    model.train()\n",
        "    for batch, (X, y) in enumerate(dataloader):\n",
        "        X, y = X.to(device), y.to(device)\n",
        "        # Compute prediction error\n",
        "        pred = model(X,None) if ftt else model(X) \n",
        "        loss = loss_fn(pred, y)\n",
        "        # Backpropagation\n",
        "        optimizer.zero_grad()\n",
        "        loss.backward()\n",
        "        optimizer.step()\n",
        "        if batch % 100 == 0:\n",
        "          yhat = torch.sigmoid(pred).round()\n",
        "          f1_train = f1_score(y.detach().cpu().numpy(), yhat.detach().cpu().numpy())\n",
        "          if(dataset_test is not None):\n",
        "            f1_test = test(dataset_test,model,loss_fn,ftt)\n",
        "            logger.log({\"loss\":loss,\"F1_train\":f1_train,\"F1_val\":f1_test})\n",
        "          else:\n",
        "            logger.log({\"loss\":loss,\"F1_train\":f1_train})\n",
        "        del X,y,pred,loss\n",
        "\n",
        "def train(dataloader, model, loss_fn, optimizer,dataset_test=None,ftt=False):\n",
        "    size = len(dataloader.dataset)\n",
        "    model.train()\n",
        "    for batch, (X, y) in enumerate(dataloader):\n",
        "        X, y = X.to(device), y.to(device)\n",
        "        # Compute prediction error\n",
        "        pred = model(X,None) if ftt else model(X) \n",
        "        loss = loss_fn(pred, y)\n",
        "        # Backpropagation\n",
        "        optimizer.zero_grad()\n",
        "        loss.backward()\n",
        "        optimizer.step()\n",
        "       \n",
        "\n",
        "def test(dataloader, model, loss_fn,ftt=False):\n",
        "    size = len(dataloader.dataset)\n",
        "    num_batches = len(dataloader)\n",
        "    #print(\"num batches: \"+str(num_batches))\n",
        "    #print(\"size: \"+str(size))\n",
        "    model.eval()\n",
        "    f1 = 0\n",
        "    with torch.no_grad():\n",
        "        for X, y in dataloader:\n",
        "            X, y = X.to(device), y.to(device)\n",
        "            pred = model(X,None) if ftt else  model(X ) \n",
        "            pred = torch.sigmoid(pred)\n",
        "            yhat = pred.round()\n",
        "            # calculate accuracy\n",
        "            f1 += f1_score(y.detach().cpu().numpy(), yhat.detach().cpu().numpy())\n",
        "    f1 /= num_batches\n",
        "    return f1\n",
        "    "
      ],
      "id": "GT0hxXsDwsuQ"
    },
    {
      "cell_type": "code",
      "execution_count": null,
      "metadata": {
        "id": "9zzFnXXM5ZW5"
      },
      "outputs": [],
      "source": [
        "def get_best_thresholds(dataloader,model,ftt=False):\n",
        "  model.eval()\n",
        "  with torch.no_grad():\n",
        "      for X, y in dataloader:\n",
        "          X, y = X.to(device), y.to(device)\n",
        "          pred = model(X,None) if ftt else  model(X)\n",
        "          pred = torch.sigmoid(pred)\n",
        "  final_thresholds = np.array([])\n",
        "  thresholds = np.array([.20,.40,.50,.60,80])\n",
        "  for i in range(y.shape[1]):\n",
        "    pred_ =pred[:,i]\n",
        "    y_ = y[:,i]\n",
        "    scores = np.array([])\n",
        "    for threshold in thresholds:\n",
        "      yhat = (pred_>threshold).float()\n",
        "      score = f1_score(yhat.detach().cpu().numpy(),y_.detach().cpu().numpy())\n",
        "      scores = np.append(scores,score)\n",
        "    index = np.argmax(scores)\n",
        "    final_thresholds = np.append(final_thresholds,thresholds[index])\n",
        "  return final_thresholds"
      ],
      "id": "9zzFnXXM5ZW5"
    },
    {
      "cell_type": "code",
      "execution_count": null,
      "metadata": {
        "id": "v2mxto2LtQaA"
      },
      "outputs": [],
      "source": [
        "def test_with_thresholds(dataloader, model, loss_fn,thresholds,ftt=False):\n",
        "    size = len(dataloader.dataset)\n",
        "    num_batches = len(dataloader)\n",
        "    model.eval()\n",
        "    f1 = 0\n",
        "    with torch.no_grad():\n",
        "        for X, y in dataloader:\n",
        "            X, y = X.to(device), y.to(device)\n",
        "            pred = model(X,None) if ftt else  model(X) \n",
        "            pred = torch.sigmoid(pred)\n",
        "            yhat = None\n",
        "            for i in range(len(thresholds)):\n",
        "              pred_ =pred[:,i]\n",
        "              yhat_ = (pred_>thresholds[i]).float()\n",
        "              if yhat== None:\n",
        "                yhat = yhat_ \n",
        "              else: \n",
        "                yhat = torch.column_stack((yhat,yhat_))\n",
        "            f1 = f1_score(y.detach().cpu().numpy(), yhat.detach().cpu().numpy())\n",
        "    f1 /= num_batches\n",
        "    return f1\n"
      ],
      "id": "v2mxto2LtQaA"
    },
    {
      "cell_type": "code",
      "execution_count": null,
      "metadata": {
        "colab": {
          "base_uri": "https://localhost:8080/"
        },
        "id": "a66cCmbcZs-9",
        "outputId": "379b84b8-a93e-4b67-a837-66dc73959e08"
      },
      "outputs": [
        {
          "output_type": "stream",
          "name": "stdout",
          "text": [
            "total    : 17071734784\n",
            "free     : 17069506560\n",
            "used     : 2228224\n"
          ]
        }
      ],
      "source": [
        "from pynvml import *\n",
        "nvmlInit()\n",
        "h = nvmlDeviceGetHandleByIndex(0)\n",
        "info = nvmlDeviceGetMemoryInfo(h)\n",
        "print(f'total    : {info.total}')\n",
        "print(f'free     : {info.free}')\n",
        "print(f'used     : {info.used}')"
      ],
      "id": "a66cCmbcZs-9"
    },
    {
      "cell_type": "code",
      "execution_count": null,
      "metadata": {
        "colab": {
          "base_uri": "https://localhost:8080/"
        },
        "id": "xvEsfg1xsUSE",
        "outputId": "a159d45d-c150-4c00-d8a0-dcd85369cd49"
      },
      "outputs": [
        {
          "output_type": "stream",
          "name": "stdout",
          "text": [
            "ResNet(\n",
            "  (first_layer): Linear(in_features=2, out_features=512, bias=True)\n",
            "  (blocks): Sequential(\n",
            "    (0): Block(\n",
            "      (normalization): BatchNorm1d(512, eps=1e-05, momentum=0.1, affine=True, track_running_stats=True)\n",
            "      (linear_first): Linear(in_features=512, out_features=512, bias=True)\n",
            "      (activation): ReLU()\n",
            "      (dropout_first): Dropout(p=0.35, inplace=False)\n",
            "      (linear_second): Linear(in_features=512, out_features=512, bias=True)\n",
            "      (dropout_second): Dropout(p=0.0, inplace=False)\n",
            "    )\n",
            "    (1): Block(\n",
            "      (normalization): BatchNorm1d(512, eps=1e-05, momentum=0.1, affine=True, track_running_stats=True)\n",
            "      (linear_first): Linear(in_features=512, out_features=512, bias=True)\n",
            "      (activation): ReLU()\n",
            "      (dropout_first): Dropout(p=0.35, inplace=False)\n",
            "      (linear_second): Linear(in_features=512, out_features=512, bias=True)\n",
            "      (dropout_second): Dropout(p=0.0, inplace=False)\n",
            "    )\n",
            "    (2): Block(\n",
            "      (normalization): BatchNorm1d(512, eps=1e-05, momentum=0.1, affine=True, track_running_stats=True)\n",
            "      (linear_first): Linear(in_features=512, out_features=512, bias=True)\n",
            "      (activation): ReLU()\n",
            "      (dropout_first): Dropout(p=0.35, inplace=False)\n",
            "      (linear_second): Linear(in_features=512, out_features=512, bias=True)\n",
            "      (dropout_second): Dropout(p=0.0, inplace=False)\n",
            "    )\n",
            "    (3): Block(\n",
            "      (normalization): BatchNorm1d(512, eps=1e-05, momentum=0.1, affine=True, track_running_stats=True)\n",
            "      (linear_first): Linear(in_features=512, out_features=512, bias=True)\n",
            "      (activation): ReLU()\n",
            "      (dropout_first): Dropout(p=0.35, inplace=False)\n",
            "      (linear_second): Linear(in_features=512, out_features=512, bias=True)\n",
            "      (dropout_second): Dropout(p=0.0, inplace=False)\n",
            "    )\n",
            "    (4): Block(\n",
            "      (normalization): BatchNorm1d(512, eps=1e-05, momentum=0.1, affine=True, track_running_stats=True)\n",
            "      (linear_first): Linear(in_features=512, out_features=512, bias=True)\n",
            "      (activation): ReLU()\n",
            "      (dropout_first): Dropout(p=0.35, inplace=False)\n",
            "      (linear_second): Linear(in_features=512, out_features=512, bias=True)\n",
            "      (dropout_second): Dropout(p=0.0, inplace=False)\n",
            "    )\n",
            "  )\n",
            "  (head): Head(\n",
            "    (normalization): BatchNorm1d(512, eps=1e-05, momentum=0.1, affine=True, track_running_stats=True)\n",
            "    (activation): ReLU()\n",
            "    (linear): Linear(in_features=512, out_features=1, bias=True)\n",
            "  )\n",
            ")\n"
          ]
        }
      ],
      "source": [
        "import rtdl\n",
        "x = torch.randn(4, 2)\n",
        "config = { \"d_in\":x.shape[1],\n",
        "    \"n_blocks\":5,\n",
        "    \"d_main\":512,\n",
        "    \"d_hidden\":512,\n",
        "    \"dropout_first\":0.35,\n",
        "    \"dropout_second\":0.0,\n",
        "    \"d_out\":1}\n",
        "module = rtdl.ResNet.make_baseline(**config)\n",
        "assert module(x).shape == (len(x), 1)\n",
        "\n",
        "print(module)"
      ],
      "id": "xvEsfg1xsUSE"
    },
    {
      "cell_type": "markdown",
      "metadata": {
        "id": "FynifhSy7hpv"
      },
      "source": [
        "#Data Preprocesing "
      ],
      "id": "FynifhSy7hpv"
    },
    {
      "cell_type": "code",
      "execution_count": null,
      "metadata": {
        "id": "poqSM9xu7miV"
      },
      "outputs": [],
      "source": [
        "import openml\n",
        "import numpy as np\n",
        "import math\n",
        "import time\n",
        "from sklearn import preprocessing\n",
        "\n",
        "def dataset_num_to_id(dataset_number):\n",
        "    dataset_ids = [40590, 40591, 40592, 40593, 40594, 40595, 40596, 40597, 40588, 40589]\n",
        "    return dataset_ids[dataset_number]\n",
        "\n",
        "\n",
        "class OpenMlDataset():\n",
        "    def __init__(self, dataset_id, threshold = 0.8, normalization_type=\"standard\", split=0.8, seed=0) -> None:\n",
        "        self.dataset_id = dataset_id\n",
        "        self.random_generator = np.random.RandomState(seed)\n",
        "        self.split = split\n",
        "        self.load_dataset()\n",
        "        self.pred_preprocessing = PredictorsPreprocessingModule(self.pred_data, self.pred_categorical_indicator, correlation_threshold=threshold, normalization_type=normalization_type)\n",
        "        #self.target_preprocessing = TargetsPreprocessingModule(self.target_data, transformation_name=transformation)\n",
        "        self.pred_data = self.pred_preprocessing.get_data()\n",
        "        self.train_test_split()\n",
        "        #self.target_data = self.target_preprocessing.get_data()\n",
        "    \n",
        "    def load_dataset(self):\n",
        "        dataset = openml.datasets.get_dataset(self.dataset_id)\n",
        "        self.targets_name = dataset.default_target_attribute.split(\",\")\n",
        "        \n",
        "        X, _, categorical_indicator, features_name = dataset.get_data(dataset_format=\"dataframe\")\n",
        "        self.features_name = features_name\n",
        "        self.categorical_indicator = categorical_indicator\n",
        "        \n",
        "        for i, name in enumerate(self.features_name):\n",
        "            if not self.categorical_indicator[i]:\n",
        "                continue\n",
        "            encoder = preprocessing.LabelEncoder()\n",
        "            encoder.fit(X[name])\n",
        "            column = encoder.transform(X[name])\n",
        "            X.loc[:, name] = column.astype('float32')\n",
        "        \n",
        "        X = X.astype('float32')\n",
        "        self.data = X.to_numpy()\n",
        "        \n",
        "        print(\"Chosen dataset is \",dataset.name, \" (id:\"+str(self.dataset_id)+\")\")\n",
        "        print(\"Original dataset shape is \",self.data.shape)\n",
        "        print(\"Number of predictors : \", len(self.features_name) - len(self.targets_name), \"Number of targets : \", len(self.targets_name))\n",
        "\n",
        "        # Split data into predictors and targets\n",
        "        target_inds = []\n",
        "        pred_inds = []\n",
        "        for i in range(self.data.shape[1]):\n",
        "            if self.features_name[i] in self.targets_name:\n",
        "                target_inds.append(i)\n",
        "            else:\n",
        "                pred_inds.append(i)\n",
        "        self.target_categorical_indicator = [self.categorical_indicator[i] for i in target_inds]\n",
        "        self.pred_categorical_indicator = [self.categorical_indicator[i] for i in pred_inds]\n",
        "        self.pred_data = self.data[:, pred_inds]\n",
        "        self.target_data = self.data[:, target_inds]\n",
        "\n",
        "\n",
        "    def get_predictors(self):\n",
        "        return self.train_pred_data, self.pred_categorical_indicator\n",
        "        \n",
        "    \n",
        "    def get_targets(self):\n",
        "        return self.train_tar_data, self.target_categorical_indicator\n",
        "        \n",
        "        \n",
        "    def get_test_predictors(self):\n",
        "        return self.test_pred_data, self.pred_categorical_indicator\n",
        "        \n",
        "    \n",
        "    def get_test_targets(self):\n",
        "        return self.test_tar_data, self.target_categorical_indicator\n",
        "\n",
        "    \n",
        "    def get_dataset(self):\n",
        "        return self.pred_data, self.target_data\n",
        "    \n",
        "\n",
        "    def train_test_split(self):\n",
        "        #print(type(self.pred_data))\n",
        "        #print(type(self.target_data))\n",
        "        perm_idxs = np.arange(self.data.shape[0])\n",
        "        self.random_generator.shuffle(perm_idxs)\n",
        "        split_idx = int(self.data.shape[0]*self.split)  \n",
        "        train_idxs = perm_idxs[:split_idx]\n",
        "        valid_idxs = perm_idxs[split_idx:]\n",
        "        self.train_pred_data = self.pred_data[train_idxs]\n",
        "        self.train_tar_data = self.target_data[train_idxs]\n",
        "        self.test_pred_data = self.pred_data[valid_idxs]\n",
        "        self.test_tar_data = self.target_data[valid_idxs] \n",
        "\n",
        "\n",
        "\n",
        "class PredictorsPreprocessingModule():\n",
        "    def __init__(self, data, categorical_indicator, correlation_threshold = 0.8, normalization_type = \"standard\") -> None:\n",
        "        self.data = data\n",
        "        self.categorical_indicator = categorical_indicator\n",
        "        self.correlation_threshold = correlation_threshold\n",
        "        self.normalization_type = normalization_type\n",
        "        assert self.data.shape[1] == len(self.categorical_indicator), \"Categorical indicator should have length equal to the number of features\"\n",
        "        self.features_to_remove_list = []\n",
        "        self.scaler_list = []\n",
        "        self.preprocessing()\n",
        "    \n",
        "    def preprocessing(self):\n",
        "        self.transform_2_value_numeric_to_binary()\n",
        "        self.check_for_single_value_parameters()\n",
        "        #self.check_for_duplicated_samples()\n",
        "        self.check_for_values_with_one_occurance()\n",
        "        self.check_for_pseudocorrelation()\n",
        "        self.check_for_correlation()\n",
        "        # Must be the last\n",
        "        self.normalize_dataset()\n",
        "        self.dataset_one_hot_encoding()\n",
        "    \n",
        "    \n",
        "    def transform_2_value_numeric_to_binary(self):\n",
        "        transformed_features_num = 0\n",
        "        for i in range(self.data.shape[1]):\n",
        "            if self.categorical_indicator[i]:\n",
        "                pass\n",
        "            unique_values = np.unique(self.data[:, i])\n",
        "            if unique_values.shape[0] == 2:\n",
        "                encoder = preprocessing.LabelEncoder()\n",
        "                encoder.fit(self.data[:, i])\n",
        "                \n",
        "                self.data[:, i] = (encoder.transform(self.data[:, i])).astype('float32')\n",
        "                self.categorical_indicator[i] = True\n",
        "                transformed_features_num = transformed_features_num + 1\n",
        "\n",
        "        print(transformed_features_num, \" numeric features were transformed into binary\")\n",
        "        \n",
        "        \n",
        "    def check_for_duplicated_samples(self):\n",
        "        \n",
        "        old = self.data.shape[0]\n",
        "        self.data = np.unique(self.data, axis=0)\n",
        "        new = self.data.shape[0]\n",
        "        print(\"Removed \",old - new,\" samples due to being duplicates\")\n",
        "        \n",
        "       \n",
        "    def check_for_values_with_one_occurance(self):\n",
        "        \n",
        "        params_to_delete = []\n",
        "        for i in np.arange(self.data.shape[1]-1, -1, -1):\n",
        "            if not self.categorical_indicator[i]:\n",
        "                continue\n",
        "            temp = (self.data[:,i]).astype(int)\n",
        "            temp = temp + abs(int(np.amin(temp)))+1\n",
        "            occurances = np.bincount(temp)\n",
        "            if 1 in occurances:\n",
        "                params_to_delete.append(i)\n",
        "\n",
        "        old = self.data.shape[1]\n",
        "        self.data = np.delete(self.data, params_to_delete, 1)\n",
        "        self.clear_feature_data(params_to_delete)\n",
        "        new = self.data.shape[1]\n",
        "        print(\"Removed \",old - new,\" parameters with 1 occurance of value\")\n",
        "        #print(params_to_delete)\n",
        "        \n",
        "        \n",
        "    def check_for_single_value_parameters(self):\n",
        "        \n",
        "        params_to_delete = []\n",
        "        for i in np.arange(self.data.shape[1]-1, -1, -1):\n",
        "            unique_values = np.unique(self.data[:,i])\n",
        "            if unique_values.shape[0] == 1:\n",
        "                params_to_delete.append(i)\n",
        "\n",
        "        old = self.data.shape[1]\n",
        "        self.data = np.delete(self.data, params_to_delete, 1)\n",
        "        self.clear_feature_data(params_to_delete)\n",
        "        new = self.data.shape[1]\n",
        "        print(\"Removed \",old - new,\" parameters with one unique value\")\n",
        "        #print(params_to_delete)\n",
        "    \n",
        "    def check_for_pseudocorrelation(self):\n",
        "        \n",
        "        params_to_delete = []\n",
        "        for i in np.arange(self.data.shape[1]-1, -1, -1):\n",
        "            if not self.categorical_indicator[i]:\n",
        "                continue\n",
        "            for j in np.arange(i-1, -1, -1):\n",
        "                if not self.categorical_indicator[j]:\n",
        "                    continue\n",
        "                # Check for pseudocorrelation\n",
        "                temp_i = self.data[:,i]\n",
        "                temp_j = self.data[:,j]\n",
        "                uniq_val_num_i = np.unique(self.data[:,i]).shape[0]\n",
        "                uniq_val_num_j = np.unique(self.data[:,j]).shape[0]\n",
        "                if uniq_val_num_i > uniq_val_num_j:\n",
        "                    lower = j\n",
        "                else:\n",
        "                    lower = i\n",
        "                temp_i = temp_i * uniq_val_num_j\n",
        "                sum = temp_i + temp_j\n",
        "                uniq_val_sum = np.unique(sum)\n",
        "                if uniq_val_sum.shape[0] == uniq_val_num_i or uniq_val_sum.shape[0] == uniq_val_num_j:\n",
        "                    if not(lower in params_to_delete):\n",
        "                        params_to_delete.append(lower)\n",
        "\n",
        "        old = self.data.shape[1]\n",
        "        self.data = np.delete(self.data, params_to_delete, 1)\n",
        "        self.clear_feature_data(params_to_delete)\n",
        "        new = self.data.shape[1]\n",
        "        print(\"Removed \",old - new,\" parameters with pseudocorrelated values\")\n",
        "              \n",
        "              \n",
        "    def check_for_correlation(self):\n",
        "        params_to_delete = []\n",
        "        for i in range(self.data.shape[1]):\n",
        "            if self.categorical_indicator[i]:\n",
        "                continue\n",
        "            for j in range(i+1, self.data.shape[1]):\n",
        "                if self.categorical_indicator[j]:\n",
        "                    continue\n",
        "                \n",
        "                sum_i = np.sum(self.data[:, i])\n",
        "                sum_j = np.sum(self.data[:, j])\n",
        "                sum_i2 = np.sum(self.data[:, i]**2)\n",
        "                sum_j2 = np.sum(self.data[:, j]**2)\n",
        "                sum_ij = np.sum(self.data[:, i] * self.data[:, j])\n",
        "                n = self.data.shape[0]\n",
        "                \n",
        "                correlation = (n*sum_ij - sum_i * sum_j)/(math.sqrt((n * sum_i2 - (sum_i)**2)*(n * sum_j2 - (sum_j)**2)))\n",
        "                correlation = abs(correlation)\n",
        "                if correlation>= self.correlation_threshold:\n",
        "                    #print(\"correlation \",correlation)\n",
        "                    #print(\" i \",i,\" j \",j)\n",
        "                    if np.unique(self.data[:, i]).shape[0] >= np.unique(self.data[:, j]).shape[0]:\n",
        "                        if not(j in params_to_delete):\n",
        "                            params_to_delete.append(j)\n",
        "                    else:\n",
        "                        if not(i in params_to_delete):\n",
        "                            params_to_delete.append(i)\n",
        "                \n",
        "        old = self.data.shape[1]\n",
        "        self.data = np.delete(self.data, params_to_delete, 1)\n",
        "        self.clear_feature_data(params_to_delete)\n",
        "        new = self.data.shape[1]\n",
        "        print(\"Removed \",old - new,\" parameters with correlated values\")\n",
        "        #print(params_to_delete)\n",
        "            \n",
        "                 \n",
        "    def clear_feature_data(self, indices:list):\n",
        "        indices.sort()\n",
        "        self.features_to_remove_list.append(indices)\n",
        "        indices = indices[::-1]\n",
        "        for i in indices:\n",
        "            self.categorical_indicator.pop(i)\n",
        "       \n",
        "       \n",
        "    def normalize_dataset(self):\n",
        "        for i in range(self.data.shape[1]):\n",
        "            if self.categorical_indicator:\n",
        "                self.scaler_list.append(None)\n",
        "                continue\n",
        "            \n",
        "            if self.normalization_type == \"standard\":\n",
        "                self.scaler_list.append(preprocessing.StandardScaler())\n",
        "                self.scaler_list[i].fit(self.data[:, i].reshape(-1, 1))\n",
        "                self.data[:, i] = self.scaler_list[i].transform(self.data[:, i].reshape(-1, 1)).reshape((-1))\n",
        "            elif self.normalization_type == \"robust\":\n",
        "                self.scaler_list.append(preprocessing.RobustScaler())\n",
        "                self.scaler_list[i].fit(self.data[:, i].reshape(-1, 1))\n",
        "                self.data[:, i] = self.scaler_list[i].transform(self.data[:, i].reshape(-1, 1)).reshape((-1))\n",
        "            else:\n",
        "                modes = [\"standard\", \"robust\"]\n",
        "                print(\"Wrong normalization mode. Choose one of the following: \", modes)\n",
        "                \n",
        "                \n",
        "    def one_hot_encoding(self, x):\n",
        "        length = x.shape[0]\n",
        "        max_value = int(np.max(x))\n",
        "        new_array = np.zeros((length, max_value+1))\n",
        "        new_array[np.arange(length), x.astype(int)] = 1.0\n",
        "        return new_array \n",
        "               \n",
        "                \n",
        "    def dataset_one_hot_encoding(self):\n",
        "        for i in range(self.data.shape[1]-1, -1, -1):\n",
        "            if np.unique(self.data[:, i]).shape[0] == 2 or not self.categorical_indicator[i]:\n",
        "                temp_ar = np.reshape(self.data[:, i], (-1, 1))\n",
        "            else:\n",
        "                temp_ar = self.one_hot_encoding(self.data[:,i])\n",
        "            \n",
        "            if i+1 == self.data.shape[1]:\n",
        "                self.data = np.concatenate((self.data[:,:i], temp_ar), axis=1)\n",
        "            else:\n",
        "                self.data = np.concatenate((self.data[:,:i], temp_ar, self.data[:,i+1:]), axis=1)\n",
        "    \n",
        "                \n",
        "    def get_data(self):\n",
        "        return self.data\n",
        "            \n",
        "\n",
        "    # def transform_validation(self, valid_data):\n",
        "    #     for i in range(len(self.features_to_remove_list)):\n",
        "    #         valid_data = np.delete(valid_data, self.features_to_remove_list[i], axis = 1)\n",
        "    #     for i in range(len(self.scaler_list)):\n",
        "    #         if self.scaler_list[i] is None:\n",
        "    #             continue\n",
        "    #         valid_data[:,i] = self.scaler_list[i].transform(valid_data[:, i].reshape(-1, 1)).reshape((-1))\n",
        "    #     return valid_data\n",
        "        \n",
        "\n",
        "class TargetsPreprocessingModule():\n",
        "    def __init__(self, data, transformation_name = \"pt3\") -> None:\n",
        "        self.data = data\n",
        "        self.transformation_name = transformation_name\n",
        "        self.choose_transformation()\n",
        "        self.dataset_one_hot_encoding()\n",
        "    \n",
        "    \n",
        "    def choose_transformation(self):\n",
        "        if self.transformation_name == \"pt3\":\n",
        "            self.pt3()\n",
        "        else:\n",
        "            assert False, \"Invalid transformation name\"        \n",
        "            \n",
        "    def pt3(self):\n",
        "        self.unique_vectors = np.unique(self.data, axis=0)\n",
        "        print(\"Found \", self.unique_vectors.shape[0], \"unique target vectors\")\n",
        "        indices_list = []\n",
        "        \n",
        "        for i in range(self.unique_vectors.shape[0]):\n",
        "            temp = abs(self.data - self.unique_vectors[i])\n",
        "            sum = np.sum(temp, axis=1)\n",
        "            indices = np.nonzero(sum == 0)[0]\n",
        "            self.data[indices] = i\n",
        "        \n",
        "        self.data = self.data[:,0].reshape(-1,1)\n",
        "    \n",
        "    # def pt3_val(self, val_data):\n",
        "    #     for i in range(self.unique_vectors.shape[0]):\n",
        "    #         temp = abs(val_data - self.unique_vectors[i])\n",
        "    #         sum = np.sum(temp, axis=1)\n",
        "    #         indices = np.nonzero(sum == 0)[0]\n",
        "    #         if indices.size == 0:\n",
        "    #             continue\n",
        "    #         val_data[indices] = i\n",
        "        \n",
        "    #     val_data = val_data[:,0].reshape(-1,1)\n",
        "    #     val_data = self.dataset_one_hot_encoding(val_data)\n",
        "    #     return val_data\n",
        "                \n",
        "    \n",
        "    def one_hot_encoding(self, x):\n",
        "        length = x.shape[0]\n",
        "        max_value = int(np.max(x))\n",
        "        new_array = np.zeros((length, max_value+1))\n",
        "        new_array[np.arange(length), x.astype(int)] = 1.0\n",
        "        return new_array \n",
        "               \n",
        "                \n",
        "    def dataset_one_hot_encoding(self):\n",
        "        for i in range(self.data.shape[1]-1, -1, -1):\n",
        "            if np.unique(self.data[:, i]).shape[0] == 2:\n",
        "                temp_ar = np.reshape(self.data[:, i], (-1, 1))\n",
        "            else:\n",
        "                temp_ar = self.one_hot_encoding(self.data[:,i])\n",
        "            \n",
        "            if i+1 == self.data.shape[1]:\n",
        "                self.data = np.concatenate((self.data[:,:i], temp_ar), axis=1)\n",
        "            else:\n",
        "                self.data = np.concatenate((self.data[:,:i], temp_ar, self.data[:,i+1:]), axis=1)\n",
        "        return self.data\n",
        "    \n",
        "    def get_data(self):\n",
        "        return self.data\n",
        "    \n",
        "        \n",
        "\n",
        "class CrossValidation():\n",
        "    def __init__(self, pred_data, target_data, split_num) -> None:\n",
        "        self.pred_data = pred_data\n",
        "        self.target_data = target_data\n",
        "        self.split_num = split_num\n",
        "        self.make_splits()\n",
        "        self.iter = 0    \n",
        "    \n",
        "    def make_splits(self):\n",
        "        samples_per_split = self.pred_data.shape[0]//self.split_num + 1\n",
        "        self.pred_data_per_split = []\n",
        "        self.target_data_per_split = []\n",
        "        for i in range(self.split_num):\n",
        "            self.pred_data_per_split.append(self.pred_data[i*samples_per_split : min((i+1)*samples_per_split, self.pred_data.shape[0])])\n",
        "            self.target_data_per_split.append(self.target_data[i*samples_per_split : min((i+1)*samples_per_split, self.target_data.shape[0])])\n",
        "\n",
        "    \n",
        "    def __iter__(self):\n",
        "        return self\n",
        "    \n",
        "    \n",
        "    def __next__(self):\n",
        "        if self.iter == self.split_num:\n",
        "            self.iter = 0\n",
        "            raise StopIteration\n",
        "        \n",
        "        valid_pred = self.pred_data_per_split[self.iter]\n",
        "        valid_target = self.target_data_per_split[self.iter]\n",
        "        train_pred = None\n",
        "        train_target = None\n",
        "        for i in range(self.split_num):\n",
        "            if i == self.iter:\n",
        "                continue\n",
        "            if train_pred is None:\n",
        "                train_pred = self.pred_data_per_split[i]\n",
        "                train_target = self.target_data_per_split[i]\n",
        "            else:\n",
        "                train_pred = np.concatenate((train_pred, self.pred_data_per_split[i]), axis=0)\n",
        "                train_target = np.concatenate((train_target, self.target_data_per_split[i]), axis=0)\n",
        "        self.iter = self.iter + 1\n",
        "        return train_pred, train_target, valid_pred, valid_target\n",
        "    \n",
        "    \n",
        "    def __getitem__(self, index):\n",
        "        valid_pred = self.pred_data_per_split[index]\n",
        "        valid_target = self.target_data_per_split[index]\n",
        "        train_pred = None\n",
        "        train_target = None\n",
        "        for i in range(self.split_num):\n",
        "            if i == index:\n",
        "                continue\n",
        "            if train_pred is None:\n",
        "                train_pred = self.pred_data_per_split[i]\n",
        "                train_target = self.target_data_per_split[i]\n",
        "            else:\n",
        "                train_pred = np.concatenate((train_pred, self.pred_data_per_split[i]), axis=0)\n",
        "                train_target = np.concatenate((train_target, self.target_data_per_split[i]), axis=0)\n",
        "        return train_pred, train_target, valid_pred, valid_target\n",
        "    \n",
        "    \n",
        "    def __len__(self):\n",
        "        return self.split_num\n",
        "\n",
        "\n",
        "class Split:\n",
        "  def __init__(self, x, y):\n",
        "    self.X = x\n",
        "    self.y = y\n",
        "\n",
        "# dataset_names = [\"birds\", \"emotions\", \"enron\", \"genbase\",\n",
        "#                          \"image\", \"langLog\", \"reuters\", \"scene\",\n",
        "#                          \"slashdot\", \"yeast\"]\n",
        "# for idx, i in enumerate(task_ids):\n",
        "#     dataset = OpenMlDataset(i)\n",
        "#     print(dataset_names[idx])\n",
        "#     pred_data, _ = dataset.get_predictors()\n",
        "#     target_data, _ = dataset.get_targets()\n",
        "    \n",
        "#     cross_validation = CrossValidation(pred_data=pred_data, target_data=target_data, split_num=3)\n",
        "    \n",
        "#     print(len(cross_validation))\n",
        "    \n",
        "\n",
        "#     score_tests = np.array([])\n",
        "\n",
        "#     for i, (tp, tt, vp, vt) in enumerate(cross_validation):\n",
        "#         loss_fn = nn.BCEWithLogitsLoss()\n",
        "\n",
        "\n",
        "#         train_split = Split(x=tp,y=tt)\n",
        "#         validation_split = Split(x=vp,y=vt)\n",
        "\n",
        "        \n",
        "#         train_dataset = MyDataset(train_split)\n",
        "#         test_dataset = MyDataset(validation_split)\n",
        "\n",
        "        \n",
        "#         train_dataloader = DataLoader(train_dataset, batch_size=256)\n",
        "#         test_dataloader = DataLoader(test_dataset, batch_size=256)\n",
        "\n",
        "#         n_inputs, n_outputs = tp.shape[1], tt.shape[1]\n",
        "\n",
        "\n",
        "#         name = \"ResNet_DEHB_\" + dataset_names[i]\n",
        "#         config = { \"d_in\":n_inputs,\n",
        "#           \"n_blocks\":5,\n",
        "#           \"d_main\":512,\n",
        "#           \"d_hidden\":256,\n",
        "#           \"dropout_first\":.3,\n",
        "#           \"dropout_second\":.2,\n",
        "#           \"d_out\":n_outputs}\n",
        "\n",
        "\n",
        "#         model = rtdl.ResNet.make_baseline(**config).to(device)  \n",
        "\n",
        "#         optimizer = torch.optim.AdamW(model.parameters(), lr=.0003, weight_decay=.5)\n",
        "#         # print(i, \" \", tp.shape, \" \", tt.shape, \" \", vp.shape, \" \", vt.shape,)\n",
        "#         # print(np.sum(tp, axis=(0,1)), \" \", np.sum(tt, axis=(0,1)), \" \", np.sum(vp, axis=(0,1)), \" \", np.sum(vt, axis=(0,1)), \" \",  )\n",
        "        \n",
        "        \n",
        "#         budget = 250\n",
        "#         for t in range(budget):\n",
        "#           train(train_dataloader, model, loss_fn, optimizer,ftt=False,dataset_test=test_dataloader)\n",
        "#         score_test = test(test_dataloader,model, loss_fn,ftt=False)\n",
        "\n",
        "#         score_tests = np.append(score_tests,score_test)\n",
        "#         print(\"F1 score: \" + str(score_test))\n",
        "#     print(np.mean(score_tests))\n",
        "#     print(np.std(score_tests))\n",
        "\n",
        "\n",
        "\n",
        "\n",
        "    # j = 1\n",
        "    # tp, tt, vp, vt = cross_validation[j]\n",
        "    # print(j)\n",
        "    # print(np.sum(tp, axis=(0,1)), \" \", np.sum(tt, axis=(0,1)), \" \", np.sum(vp, axis=(0,1)), \" \", np.sum(vt, axis=(0,1)), \" \",  )\n",
        "    \n",
        "    # for i, (tp, tt, vp, vt) in enumerate(cross_validation):\n",
        "    #     print(i, \" \", tp.shape, \" \", tt.shape, \" \", vp.shape, \" \", vt.shape,)\n",
        "    #     print(np.sum(tp, axis=(0,1)), \" \", np.sum(tt, axis=(0,1)), \" \", np.sum(vp, axis=(0,1)), \" \", np.sum(vt, axis=(0,1)), \" \",  )"
      ],
      "id": "poqSM9xu7miV"
    },
    {
      "cell_type": "markdown",
      "source": [
        "#DE"
      ],
      "metadata": {
        "id": "TmtzG9jkc64P"
      },
      "id": "TmtzG9jkc64P"
    },
    {
      "cell_type": "code",
      "source": [
        "import matplotlib.pyplot as plt\n",
        "import rtdl\n",
        "import wandb\n",
        "\n",
        "dataset_names = [\"birds\", \"emotions\", \"enron\", \"genbase\",\n",
        "                         \"image\", \"langLog\", \"reuters\", \"scene\",\n",
        "                         \"slashdot\", \"yeast\"]"
      ],
      "metadata": {
        "id": "cNVEp-YVjrw-"
      },
      "id": "cNVEp-YVjrw-",
      "execution_count": null,
      "outputs": []
    },
    {
      "cell_type": "code",
      "source": [
        "names = {    40588:\"birds\",\n",
        "    40589:\"emotions\",\n",
        "    40590:\"enron\",\n",
        "    40591:\"genbase\",\n",
        "    40592:\"image\",\n",
        "    40593:\"langLog\",\n",
        "    40594:\"reuters\",\n",
        "    40595:\"scene\",\n",
        "    40596:\"slashdot\",\n",
        "    40597:\"yeast\"}\n",
        "\n",
        "names[40595]"
      ],
      "metadata": {
        "colab": {
          "base_uri": "https://localhost:8080/",
          "height": 35
        },
        "id": "Yw0h9_JDBTYy",
        "outputId": "6eeee15f-416f-45cf-ad00-4ed1d4866d17"
      },
      "id": "Yw0h9_JDBTYy",
      "execution_count": null,
      "outputs": [
        {
          "output_type": "execute_result",
          "data": {
            "text/plain": [
              "'scene'"
            ],
            "application/vnd.google.colaboratory.intrinsic+json": {
              "type": "string"
            }
          },
          "metadata": {},
          "execution_count": 17
        }
      ]
    },
    {
      "cell_type": "code",
      "source": [
        "\n",
        "def obj(x,budget,**kwargs):\n",
        "\n",
        "    seed = 42\n",
        "    dataset = kwargs['dataset']\n",
        "    \n",
        "    cross_validation = CrossValidation(pred_data=dataset.train_pred_data, target_data=dataset.train_tar_data, split_num=3)\n",
        "\n",
        "    score_tests = np.array([])\n",
        "\n",
        "    for i, (tp, tt, vp, vt) in enumerate(cross_validation):\n",
        "        loss_fn = nn.BCEWithLogitsLoss()\n",
        "\n",
        "\n",
        "        train_split = Split(x=tp,y=tt)\n",
        "        validation_split = Split(x=vp,y=vt)\n",
        "\n",
        "        \n",
        "        train_dataset = MyDataset(train_split)\n",
        "        test_dataset = MyDataset(validation_split)\n",
        "\n",
        "        \n",
        "        train_dataloader = DataLoader(train_dataset, batch_size=256)\n",
        "        test_dataloader = DataLoader(test_dataset, batch_size=256)\n",
        "\n",
        "        n_inputs, n_outputs = tp.shape[1], tt.shape[1]\n",
        "\n",
        "        config = { \"d_in\":n_inputs,\n",
        "        \"n_blocks\":x[\"n_blocks\"],\n",
        "        \"d_main\":x[\"d_main\"],\n",
        "        \"d_hidden\":x[\"d_hidden\"],\n",
        "        \"dropout_first\":x[\"dropout_first\"],\n",
        "        \"dropout_second\":x[\"dropout_second\"],\n",
        "        \"d_out\":n_outputs}\n",
        "\n",
        "        model = rtdl.ResNet.make_baseline(**config).to(device)  \n",
        "\n",
        "        config[\"batch_size\"] = 256\n",
        "        config[\"epoch\"] = budget\n",
        "        config[\"weight_decay\"] = x['weight_decay']\n",
        "\n",
        "        optimizer = torch.optim.AdamW(model.parameters(), lr=x[\"lr\"], weight_decay=x['weight_decay'])\n",
        "        #Only save the first run\n",
        "        if i==0:\n",
        "          with wandb.init(\n",
        "                  project=\"multilabel\",\n",
        "                  config=config,\n",
        "                  group=str(dataset.dataset_id),\n",
        "                  reinit=True,\n",
        "                  mode=\"offline\",\n",
        "                  settings=wandb.Settings(start_method=\"thread\")):\n",
        "\n",
        "              for t in range(budget):\n",
        "                  train(train_dataloader, model, loss_fn, optimizer,ftt=False,dataset_test=test_dataloader)\n",
        "                  score_test = test(test_dataloader,model, loss_fn,ftt=False)\n",
        "\n",
        "              score_tests = np.append(score_tests,score_test)\n",
        "        else:\n",
        "            for t in range(budget):\n",
        "                  train(train_dataloader, model, loss_fn, optimizer,ftt=False,dataset_test=test_dataloader)\n",
        "                  score_test = test(test_dataloader,model, loss_fn,ftt=False)\n",
        "\n",
        "            score_tests = np.append(score_tests,score_test)\n",
        "\n",
        "    print(config)\n",
        "    print(np.mean(score_tests))\n",
        "    return {'mean_F1':np.mean(score_tests), 'std_F1':np.std(score_tests)}\n"
      ],
      "metadata": {
        "id": "DQl6OtLRAwwE"
      },
      "id": "DQl6OtLRAwwE",
      "execution_count": null,
      "outputs": []
    },
    {
      "cell_type": "code",
      "source": [
        "\n",
        "def obj_withno_preprocesing(x,budget,dataset_id):\n",
        "\n",
        "  seed = 42\n",
        "\n",
        "  loss_fn = nn.BCEWithLogitsLoss()\n",
        "\n",
        "  dataset = Dataset.from_openml(dataset_id)\n",
        "  train_split, test_split = dataset.split(splits=(0.75, 0.25), seed=seed)\n",
        "  n_inputs, n_outputs = len(dataset.features.columns), len(dataset.labels.columns)\n",
        "\n",
        "  name = \"ResNet_DEHB_\" + dataset.name\n",
        "  config = { \"d_in\":n_inputs,\n",
        "    \"n_blocks\":x[\"n_blocks\"],\n",
        "    \"d_main\":x[\"d_main\"],\n",
        "    \"d_hidden\":x[\"d_hidden\"],\n",
        "    \"dropout_first\":x[\"dropout_first\"],\n",
        "    \"dropout_second\":x[\"dropout_second\"],\n",
        "    \"d_out\":n_outputs}\n",
        "\n",
        "\n",
        "  model = rtdl.ResNet.make_baseline(**config).to(device)  \n",
        "\n",
        "  config[\"batch_size\"] = x[\"batch_size\"]\n",
        "  config[\"epoch\"] = budget\n",
        "  config[\"weight_decay\"] = x['weight_decay']\n",
        "\n",
        "  print(config)\n",
        "\n",
        "  optimizer = torch.optim.AdamW(model.parameters(), lr=x[\"lr\"], weight_decay=x['weight_decay'])\n",
        "\n",
        "  train_dataset = MyDataset(train_split)\n",
        "  test_dataset = MyDataset(test_split)\n",
        "\n",
        "  train_dataloader = DataLoader(train_dataset, batch_size=512)\n",
        "  test_dataloader = DataLoader(test_dataset, batch_size=512)\n",
        "\n",
        "  for t in range(budget):\n",
        "    train(train_dataloader, model, loss_fn, optimizer,ftt=False,dataset_test=test_dataloader)\n",
        "  \n",
        "  score_test = test(test_dataloader,model, loss_fn,ftt=False)\n",
        "\n",
        "  del model\n",
        "  torch.cuda.empty_cache()\n",
        "\n",
        "  print(\"f1_score: \" + str(score_test))\n",
        "  \n",
        "  return {\"f1_score\": score_test}"
      ],
      "metadata": {
        "id": "uxJqYFWxgQsu"
      },
      "id": "uxJqYFWxgQsu",
      "execution_count": null,
      "outputs": []
    },
    {
      "cell_type": "code",
      "source": [
        "import json\n",
        "import os\n",
        "import time\n",
        "from typing import Callable, Union\n",
        "\n",
        "import ConfigSpace\n",
        "import numpy as np\n",
        "from ConfigSpace.util import (deactivate_inactive_hyperparameters,\n",
        "                              impute_inactive_values)\n",
        "\n",
        "SEED = 42\n",
        "\n",
        "\n",
        "class ConfigVectorSpace(ConfigSpace.ConfigurationSpace):\n",
        "\n",
        "    def __init__(self, *args, **kwargs) -> None:\n",
        "        super().__init__(*args, **kwargs)\n",
        "\n",
        "        self.hyperparameters = self.get_hyperparameters()\n",
        "        self.dim = len(self.hyperparameters)\n",
        "\n",
        "        self.name_to_idx = {}\n",
        "        for i, hp in enumerate(self.hyperparameters):\n",
        "            # maps hyperparameter name to positional index in vector form\n",
        "            self.name_to_idx[hp.name] = i\n",
        "        \n",
        "    def sample_vectors(self, size):\n",
        "        configurations = super().sample_configuration(size)\n",
        "        if not isinstance(configurations , list):\n",
        "            configurations = [configurations]\n",
        "\n",
        "        vectors = [self._to_vector(config) for config in configurations]\n",
        "        return vectors\n",
        "    \n",
        "    def _to_vector(self, config: ConfigSpace.Configuration) -> np.array:\n",
        "        '''Converts ConfigSpace.Configuration object to numpy array scaled to [0,1]\n",
        "        Works when self is a ConfigVectorSpace object and the input config is a ConfigSpace.Configuration object.\n",
        "        Handles conditional spaces implicitly by replacing illegal parameters with default values\n",
        "        to maintain the dimensionality of the vector.\n",
        "        '''        \n",
        "        config = impute_inactive_values(config)\n",
        "\n",
        "        vector = [None] * self.dim\n",
        "        self.name_to_id = dict()\n",
        "\n",
        "        for name in config:\n",
        "            idx = self.name_to_idx[name]\n",
        "            hyper = self[name]\n",
        "            if type(hyper) == ConfigSpace.OrdinalHyperparameter:\n",
        "                nlevels = len(hyper.sequence)\n",
        "                vector[idx] = hyper.sequence.index(config[name]) / nlevels\n",
        "            elif type(hyper) == ConfigSpace.CategoricalHyperparameter:\n",
        "                nlevels = len(hyper.choices)\n",
        "                vector[idx] = hyper.choices.index(config[name]) / nlevels\n",
        "            else:\n",
        "                bounds = (hyper.lower, hyper.upper)\n",
        "                param_value = config[name]\n",
        "                if hyper.log:\n",
        "                    vector[idx] = np.log(param_value / bounds[0]) / np.log(bounds[1] / bounds[0])\n",
        "                else:\n",
        "                    vector[idx] = (config[name] - bounds[0]) / (bounds[1] - bounds[0])\n",
        "        return np.array(vector)\n",
        "    \n",
        "    def to_config(self, vector: np.array) -> ConfigSpace.Configuration:\n",
        "        '''Converts numpy array to ConfigSpace.Configuration object\n",
        "        Works when self is a ConfigVectorSpace object and the input vector is in the domain [0, 1].\n",
        "        '''\n",
        "        # creates a ConfigSpace object dict with all hyperparameters present, the inactive too\n",
        "        new_config = impute_inactive_values(self.sample_configuration()).get_dictionary()\n",
        "\n",
        "        # iterates over all hyperparameters and normalizes each based on its type\n",
        "        for hyper in self.hyperparameters:\n",
        "            idx = self.name_to_idx[hyper.name]\n",
        "\n",
        "            if type(hyper) == ConfigSpace.OrdinalHyperparameter:\n",
        "                ranges = np.arange(start=0, stop=1, step=1/len(hyper.sequence))\n",
        "                param_value = hyper.sequence[np.where((vector[idx] < ranges) == False)[0][-1]]\n",
        "            elif type(hyper) == ConfigSpace.CategoricalHyperparameter:\n",
        "                ranges = np.arange(start=0, stop=1, step=1/len(hyper.choices))\n",
        "                param_value = hyper.choices[np.where((vector[idx] < ranges) == False)[0][-1]]\n",
        "            else:  # handles UniformFloatHyperparameter & UniformIntegerHyperparameter\n",
        "                # rescaling continuous values\n",
        "                if hyper.log:\n",
        "                    log_range = np.log(hyper.upper) - np.log(hyper.lower)\n",
        "                    param_value = np.exp(np.log(hyper.lower) + vector[idx] * log_range)\n",
        "                else:\n",
        "                    param_value = hyper.lower + (hyper.upper - hyper.lower) * vector[idx]\n",
        "                if type(hyper) == ConfigSpace.UniformIntegerHyperparameter:\n",
        "                    param_value = int(np.round(param_value))  # converting to discrete (int)\n",
        "                else:\n",
        "                    param_value = float(param_value)\n",
        "            new_config[hyper.name] = param_value\n",
        "\n",
        "        #self.check_configuration(ConfigSpace.Configuration(self, values=new_config))\n",
        "        #new_config = impute_inactive_values(ConfigSpace.Configuration(self, values=new_config))\n",
        "        # the mapping from unit hypercube to the actual config space may lead to illegal\n",
        "        # configurations based on conditions defined, which need to be deactivated/removed\n",
        "        new_config = deactivate_inactive_hyperparameters(\n",
        "            configuration = new_config, configuration_space=self\n",
        "        )\n",
        "        return new_config\n",
        "\n",
        "\n",
        "class DE(object):\n",
        "    def __init__(self,\n",
        "        space : ConfigVectorSpace,\n",
        "        crossover_prob : float = 0.9,\n",
        "        mutation_factor : float = 0.8,\n",
        "        metric = \"f1_Score\",\n",
        "        mode = \"max\",\n",
        "        rs: np.random.RandomState=None,\n",
        "        bound_control = \"random\",\n",
        "        save_path : Union[str, None] =\"./data.json\",\n",
        "        save_freq=10) -> None:\n",
        "\n",
        "        assert 0 <= crossover_prob <= 1, ValueError(\"crossover_prob given is not a probability\")\n",
        "        assert 0 <= mutation_factor <= 2, ValueError(\"mutation_factor not in range [0, 2]\")\n",
        "        assert mode in [\"min\", \"max\"], ValueError(\"Valid optimization mode in ['min', 'max']\")\n",
        "        \n",
        "        self.space = space\n",
        "        self.crossover_prob = crossover_prob\n",
        "        self.mutation_factor = mutation_factor\n",
        "        self.metric = metric\n",
        "        self.mode = mode\n",
        "        self.rs = rs\n",
        "        self.bound_control = bound_control\n",
        "        self.save_path = save_path\n",
        "        self.save_freq = save_freq\n",
        "        \n",
        "        self.traj = []\n",
        "        self.runtime = []\n",
        "        self.inc_config = None\n",
        "        self.inc_score = float(\"inf\") if self.mode == \"min\" else float(\"-inf\")\n",
        "\n",
        "        self.histroy = []\n",
        "\n",
        "        self._min_pop_size = 3\n",
        "        self._eval_counter = 0\n",
        "        self._iteration_counter = -1\n",
        "\n",
        "    def _init_population(self, pop_size : int) -> np.ndarray :\n",
        "\n",
        "        # sample from ConfigSpace s.t. conditional constraints (if any) are maintained\n",
        "        population = self.space.sample_vectors(size=pop_size)\n",
        "        return np.asarray(population)\n",
        "    \n",
        "    def _eval_population(self, obj : Callable, population: Union[np.ndarray, list] , budget, **kwargs) -> np.ndarray:\n",
        "        fitness = []\n",
        "\n",
        "        for candidate in population:\n",
        "            if self._is_termination():\n",
        "                raise StopIteration\n",
        "\n",
        "            config = self.space.to_config(candidate)\n",
        "            result = obj(config, budget, **kwargs)\n",
        "\n",
        "            assert isinstance(result, dict), TypeError(\"Objective function must return a dictionary\")\n",
        "            assert self.metric in result, KeyError(f\"Given mteric '{self.metric}' not found in dictionary {result}, returned by the objective function\")\n",
        "            score = result[self.metric]\n",
        "\n",
        "            condition = {\n",
        "                \"min\" : score < self.inc_score,\n",
        "                \"max\" : score > self.inc_score, \n",
        "            } \n",
        "\n",
        "            config_dict = config.get_dictionary()\n",
        "            config_dict.update({\"budget\": budget})\n",
        "\n",
        "            if condition[self.mode]:\n",
        "                self.inc_config = config_dict\n",
        "                self.inc_score = score\n",
        "\n",
        "            fitness.append(score)\n",
        "            # trajectory updated at every fn eval, regardless of save_freq\n",
        "            self.traj.append(self.inc_score)\n",
        "            self.runtime.append(self._time_elapsed())\n",
        "            self._update_history(candidate, result, budget)\n",
        "\n",
        "            self._eval_counter += 1\n",
        "\n",
        "            # Update history and wrtie data every 'save_freq' objective fn evaluations\n",
        "            if self._eval_counter % self.save_freq == 0:\n",
        "                self.save_data()\n",
        "\n",
        "        return np.asarray(fitness)\n",
        "\n",
        "    def _update_history(self, candidate, result, budget):\n",
        "        record = {\n",
        "            \"candidate\": candidate.tolist(),\n",
        "            \"budget\": budget}\n",
        "        \n",
        "        record.update(result)\n",
        "        self.histroy.append(record)\n",
        "\n",
        "    def _sample(self, population, size, replace=False):\n",
        "        selection = self.rs.choice(np.arange(len(population)), size, replace=replace)\n",
        "        return population[selection]\n",
        "\n",
        "    def _mutation(self, population: np.ndarray):\n",
        "        pop_size = len(population)\n",
        "        assert pop_size > self._min_pop_size, ValueError(f\"Population too small ( < DE()._min_pop_size = {self._min_pop_size}) for mutation\")\n",
        "\n",
        "        base, a, b = self._sample(population, self._min_pop_size)\n",
        "\n",
        "        diff = a - b\n",
        "        mutant = base + self.mutation_factor * diff\n",
        "        return mutant\n",
        "\n",
        "    def _crossover(self, candidate: np.ndarray, mutant: np.ndarray) -> np.ndarray:\n",
        "        # Sample a random value from U[0, 1] for every dimension\n",
        "        p = self.rs.rand(self.space.dim)\n",
        "\n",
        "        # perform binomial crossover\n",
        "        child = np.asarray([mutant[i] if p[i] < self.crossover_prob else candidate[i] for i in range(self.space.dim)])\n",
        "        return child\n",
        "    \n",
        "    def _selection(self, population: np.ndarray, children: np.ndarray, fitness: np.ndarray, children_fitness: np.ndarray):\n",
        "        # Conduct parent-child competition and select new population \n",
        "        pop_size = len(population)\n",
        "        for i in range(pop_size):\n",
        "            condition = {\n",
        "                \"max\" : children_fitness[i] >= fitness[i],\n",
        "                \"min\" : children_fitness[i] <= fitness[i]\n",
        "                }\n",
        "            if condition[self.mode]:\n",
        "                population[i] = children[i]\n",
        "                fitness[i] = children_fitness[i]\n",
        "        \n",
        "        return population, fitness\n",
        "    \n",
        "    def _check_bounds(self, vector: np.ndarray) -> np.ndarray:\n",
        "\n",
        "        violations = np.where((vector > 1) | (vector < 0))[0]\n",
        "        if len(violations) == 0:\n",
        "            return vector\n",
        "        if self.bound_control == 'random':\n",
        "            vector[violations] = self.rs.uniform(low=0.0, high=1.0, size=len(violations))\n",
        "        else:\n",
        "            # Can be exploited by optimizer if solution at clip limits \n",
        "            vector[violations] = np.clip(vector[violations], a_min=0, a_max=1)\n",
        "        return vector\n",
        "\n",
        "    def _next_generation(self, population, alt_pop=None):\n",
        "        children = []\n",
        "\n",
        "        for candidate in population:\n",
        "            # If alt_pop is None, vanilla mutation is perfomed\n",
        "            mutant = self._mutation(alt_pop if alt_pop is not None else population)\n",
        "            mutant = self._check_bounds(mutant)\n",
        "            child = self._crossover(candidate, mutant)\n",
        "            children.append(child)\n",
        "        \n",
        "        return children\n",
        "\n",
        "    def optimize(self, obj : Callable, budget=None, pop_size : Union[int,None] = None, limit: int = 10, unit : str = \"iter\", **kwargs):\n",
        "        self._set_limit(limit, unit)\n",
        "\n",
        "        if pop_size is None:\n",
        "            pop_size = 10 * self.space.dim # heuristic\n",
        "\n",
        "        try: \n",
        "            # Initialize and Evaluate the population\n",
        "            population = self._init_population(pop_size)\n",
        "            fitness = self._eval_population(obj, population, budget, **kwargs)\n",
        "\n",
        "            # Until budget is exhausted\n",
        "            while not self._is_termination(limit, unit):\n",
        "                self._iteration_counter += 1\n",
        "\n",
        "                children = self._next_generation(population)\n",
        "\n",
        "                children_fitness = self._eval_population(obj, children, budget)\n",
        "                population, fitness = self._selection(population, children, fitness, children_fitness)\n",
        "        \n",
        "        except StopIteration:\n",
        "            return self.inc_config\n",
        "    \n",
        "    def _set_limit(self, limit : int, unit : str):\n",
        "        self.limit = limit\n",
        "        self.unit = unit\n",
        "        self._start_timer()\n",
        "     \n",
        "    def _start_timer(self):\n",
        "        self._wall_clock_start = time.time()\n",
        "    \n",
        "    def _time_elapsed(self):\n",
        "        # time difference in sec\n",
        "        diff = time.time() - self._wall_clock_start\n",
        "        return diff\n",
        "\n",
        "    def _is_termination(self):\n",
        "        assert self.unit in [\"hr\", \"min\", \"sec\", \"evals\", \"iter\"], ValueError(\"Unrecognized unit given\")\n",
        "\n",
        "        if self.unit in [\"hr\", \"min\", \"sec\"]:\n",
        "            scale = {\n",
        "                \"sec\" : 1,\n",
        "                \"min\" : 60,\n",
        "                \"hr\"  : 60 * 60\n",
        "            }\n",
        "            diff = self._time_elapsed()\n",
        "            return diff >= self.limit * scale[self.unit]\n",
        "        elif self.unit == \"evals\":\n",
        "            return self._eval_counter >= self.limit\n",
        "        else:\n",
        "            return self._iteration_counter >= self.limit\n",
        "\n",
        "    def save_data(self):\n",
        "        data = {\n",
        "            \"params\" : self._init_params(),\n",
        "            \"result\" : {\n",
        "                \"best_config\": self.inc_config,\n",
        "                \"best_score\" : self.inc_score,\n",
        "            },\n",
        "            \"traj\": self.traj,\n",
        "            \"runtime\": self.runtime,\n",
        "            \"history\" : self.histroy,\n",
        "        }\n",
        "\n",
        "        if self.save_path is not None:\n",
        "            # path = os.path.join(self.save_path, \"data.json\")\n",
        "            # os.makedirs(save_path, exist_ok=True)\n",
        "            os.makedirs(os.path.dirname(self.save_path), exist_ok=True)\n",
        "            with open(self.save_path, \"w+\") as outfile:\n",
        "                json.dump(data, outfile)\n",
        "    \n",
        "    def _init_params(self):\n",
        "        params = {\n",
        "            \"crossover_prob\" : self.crossover_prob,\n",
        "            \"mutation_factor\" : self.mutation_factor,\n",
        "            \"metric\" : self.metric,\n",
        "            \"mode\" : self.mode,\n",
        "            \"seed\" : SEED,\n",
        "            \"bound_control\" : self.bound_control,\n",
        "            \"iters\" : self._iteration_counter,\n",
        "            \"evals\" : self._eval_counter\n",
        "\n",
        "        }\n",
        "        return params\n",
        "\n",
        "class DEHB(DE):\n",
        "    def __init__(self, \n",
        "        space: ConfigVectorSpace,\n",
        "        min_budget : int = 10,\n",
        "        max_budget : int = 100,\n",
        "        eta : int = 2,\n",
        "        crossover_prob: float = 0.9, \n",
        "        mutation_factor: float = 0.8, \n",
        "        metric = \"f1_score\",\n",
        "        mode = \"max\",\n",
        "        rs: np.random.RandomState=None,\n",
        "        bound_control = \"random\",\n",
        "        save_path : Union[str, None] =\"./data.json\",\n",
        "        save_freq=10) -> None:\n",
        "\n",
        "        super().__init__(space=space,\n",
        "            crossover_prob=crossover_prob, \n",
        "            mutation_factor=mutation_factor,\n",
        "            metric=metric,\n",
        "            mode=mode,\n",
        "            rs=rs,\n",
        "            bound_control=bound_control,\n",
        "            save_path=save_path,\n",
        "            save_freq=save_freq\n",
        "            )\n",
        "        \n",
        "        self.min_budget = min_budget\n",
        "        self.max_budget = max_budget\n",
        "\n",
        "        self.eta = eta\n",
        "        \n",
        "        self._all_in_one = self._get_bracket()\n",
        "        self._SH_iter = len(self._all_in_one)\n",
        "\n",
        "        self._genus = None\n",
        "    \n",
        "    def _get_bracket(self):\n",
        "        # max num of eliminations in a bracket \n",
        "        s_max = int(np.floor(np.log(self.max_budget / self.min_budget) / np.log(self.eta)))\n",
        "\n",
        "        # num of downsampling left at stage i in range(s_max + 1)\n",
        "        n_downsampling = np.linspace(start=s_max, stop=0, num=s_max + 1)\n",
        "\n",
        "        budgets = (self.max_budget * np.power(self.eta, -n_downsampling)).tolist()\n",
        "        n_configs = (np.power(self.eta, n_downsampling)).tolist()\n",
        "\n",
        "        bracket = tuple((int(n), int(b)) for n, b in zip(n_configs, budgets))\n",
        "        return bracket\n",
        "\n",
        "    def _init_eval_genus(self, obj : Callable, **kwargs):\n",
        "        genus = dict()\n",
        "\n",
        "        for (pop_size, budget) in self._all_in_one:\n",
        "            species = dict()\n",
        "            species[\"population\"] = self._init_population(pop_size)\n",
        "            species[\"fitness\"] = self._eval_population(obj, species[\"population\"], budget, **kwargs)\n",
        "            \n",
        "            #genus[budget] = species\n",
        "            genus[budget] = self._sort_species(species)\n",
        "        return genus\n",
        "    \n",
        "    def _sort_species(self, species : np.ndarray):\n",
        "        species = species.copy()\n",
        "        ranking = np.argsort(species[\"fitness\"])\n",
        "        if self.mode == \"max\":\n",
        "            ranking = ranking[::-1]\n",
        "        \n",
        "        species[\"population\"] = species[\"population\"][ranking]\n",
        "        species[\"fitness\"] = species[\"fitness\"][ranking]\n",
        "\n",
        "        return species\n",
        "\n",
        "    def _select_promotions(self, target : dict, previous : dict):\n",
        "        promotions = []\n",
        "        pop_size = len(target[\"population\"])\n",
        "\n",
        "        for individual in previous[\"population\"]:\n",
        "            # If individual already in target, then ignore it to minimize fn_evals\n",
        "            if np.any(np.all(individual == target[\"population\"], axis=1)):\n",
        "                continue\n",
        "            \n",
        "            promotions.append(individual)\n",
        "        \n",
        "        if len(promotions) >= pop_size:\n",
        "            promotions = promotions[:pop_size]\n",
        "        else:\n",
        "            return previous[\"population\"][:pop_size]\n",
        "            # raise BufferError(\"Not enough to promote\")\n",
        "            # Can simply pick top pop_size many individuals even \n",
        "            # if duplicates exist in target\n",
        "        \n",
        "        return np.asarray(promotions)\n",
        "    \n",
        "    def _get_alt_population(self, target : dict, previous : dict):\n",
        "\n",
        "        # stage == 0, previous is None\n",
        "        if previous is None:\n",
        "            \n",
        "            # Edge case where stage==0, but target population too small\n",
        "            # for vanilla mutation, so we need an alt_pop that is not None\n",
        "            if len(target) < self._min_pop_size :\n",
        "                previous = target\n",
        "            else:\n",
        "                return None\n",
        "\n",
        "        pop_size = len(target[\"population\"])\n",
        "        alt_pop = previous[\"population\"][:pop_size]\n",
        "\n",
        "        if len(alt_pop) < self._min_pop_size:\n",
        "            filler_size = self._min_pop_size - len(alt_pop) + 1\n",
        "            filler_pop = self._sample(self.global_pupulation, filler_size)\n",
        "\n",
        "            alt_pop = np.concatenate([filler_pop, alt_pop])\n",
        "        \n",
        "        return alt_pop\n",
        "    \n",
        "    def optimize(self, obj : Callable, limit : int = 10, unit : str = \"iter\", **kwargs):\n",
        "        self._set_limit(limit, unit)\n",
        "\n",
        "        try:\n",
        "            self.genus = self._init_eval_genus(obj, **kwargs)\n",
        "\n",
        "            while True: # DEHB iteration\n",
        "                self._iteration_counter += 1\n",
        "\n",
        "                for j in range(self._SH_iter): # SH iterations\n",
        "                    \n",
        "                    previous = None\n",
        "                    bracket = self._all_in_one[j:]\n",
        "\n",
        "                    for stage, (pop_size, budget) in enumerate(bracket): # stages in a bracket\n",
        "                        target =  self.genus[budget]\n",
        "\n",
        "                        # Only True for first DEHB iteration and non-inital SH stage\n",
        "                        promotion = True if self._iteration_counter == 0 and stage > 0 else False\n",
        "                        if promotion:\n",
        "                            children = self._select_promotions(target, previous)\n",
        "                        else:\n",
        "                            alt_pop = self._get_alt_population(target, previous)\n",
        "                            children = self._next_generation(target[\"population\"], alt_pop)\n",
        "\n",
        "                        children_fitness = self._eval_population(obj, children, budget, **kwargs)\n",
        "                        target[\"population\"], target[\"fitness\"] = self._selection(target[\"population\"], children, target[\"fitness\"], children_fitness)\n",
        "\n",
        "                        target = self._sort_species(target)\n",
        "                        self.genus[budget] = target\n",
        "                        previous = target\n",
        "\n",
        "        except StopIteration :\n",
        "            return self.inc_config\n",
        "            \n",
        "    def _init_params(self):\n",
        "        params = {\n",
        "            \"min_budget\" : self.min_budget,\n",
        "            \"max_budget\" : self.max_budget,\n",
        "            \"eta\"  : self.eta\n",
        "        }\n",
        "        params.update(super()._init_params())\n",
        "        return params\n",
        "\n",
        "    @property\n",
        "    def global_pupulation(self):\n",
        "        assert self.genus is not None, AssertionError(\"No populaiton in genus initialized\")\n",
        "        return np.concatenate([species[\"population\"] for species in self.genus.values()])\n",
        "\n",
        "\n",
        "\n",
        "\n",
        "if __name__ == \"__main__\":\n",
        "\n",
        "    dataset_id =40588\n",
        "\n",
        "    current_dataset = OpenMlDataset(dataset_id,split=0.75,seed=42)\n",
        "\n",
        "    current_dataset.train_test_split()\n",
        "\n",
        "    rs = np.random.RandomState(seed=SEED)\n",
        "    \n",
        "    space = ConfigVectorSpace(\n",
        "        name=\"neuralnetwork\",\n",
        "        seed=SEED,\n",
        "        space={\n",
        "            \"lr\": ConfigSpace.UniformFloatHyperparameter(\"lr\", lower=1e-4, upper=1e-3, log=True, default_value=1e-3),\n",
        "            \"dropout_first\": ConfigSpace.Float('dropout_first', bounds=(0, 0.9), default=0.34, distribution=ConfigSpace.Normal(mu=0.5, sigma=0.35)),\n",
        "            \"dropout_second\": ConfigSpace.Float('dropout_second', bounds=(0, 0.9), default=0.34, distribution=ConfigSpace.Normal(mu=0.5, sigma=0.35)),\n",
        "            \"weight_decay\": ConfigSpace.Float(\"weight_decay\", bounds=(0, 2), default=0.1),\n",
        "            \"n_blocks\": ConfigSpace.UniformIntegerHyperparameter(\"n_blocks\", lower=4, upper=5, default_value=5),\n",
        "            \"d_main\": ConfigSpace.OrdinalHyperparameter(\"d_main\", sequence=[256,512], default_value=512),\n",
        "            \"d_hidden\" : ConfigSpace.OrdinalHyperparameter(\"d_hidden\", sequence=[ 256, 512], default_value=512)\n",
        "        },\n",
        "    )\n",
        "\n",
        "    dehb = DEHB(space, metric='mean_F1',min_budget=8, max_budget=250, rs=rs)\n",
        "\n",
        "    start_time = time.process_time()\n",
        "\n",
        "    print(f\"Best configuration  {dehb.optimize(obj, limit=50,  unit='min', dataset=current_dataset)}\")\n",
        "    print(f\"Time elapsed (CPU time): {(time.process_time() - start_time):.4f} seconds\")\n",
        "    print(dehb.inc_score)\n"
      ],
      "metadata": {
        "colab": {
          "base_uri": "https://localhost:8080/",
          "height": 1000,
          "referenced_widgets": [
            "2e540392b71249c980fbd6d3a5b20769",
            "fa8095e256094a438121580bbb78aafe",
            "dc0a307f39f94684bcb252c5752f5278",
            "266ccfc889404609a2844031d4e25c4d",
            "1abc9fbef70e4fadb15ee6dfbd7ab4e2",
            "96d118c669144dd1b9ca154e0b36eacb",
            "b02e892fada24f0895eda5962089c377",
            "3a44ff45d9154d32b98ccef803bd4276",
            "f74a140a218d49ffae80b7a408bfd9ea",
            "e30815a3fedf4e5390bbec453c467fa5",
            "6f4e25b6224d47af9bc4981df266f4a3",
            "50d6f1d6b2de419b8eade4752bcb20bb",
            "950042af481746d28f9434307caba915",
            "70afb512cfae46569a4a8a84b81a9129",
            "31d5cdeee28248a6bba89b571a71ee2c",
            "b42e6cdb9e8c43c4a90b943904d335a3",
            "b4fd3879bcad4caa9193d5794574a487",
            "a330fb6ef5fe4692b3c8f4e4b0b88080",
            "18f7a18a6d084826be9d94fca3c7210f",
            "87b213af8fd2400d98c4df87b3130553",
            "1cf29a728cad4817b891b5ff3929ee2a",
            "80f4a215861443e9bc972365ca68667d",
            "9890c33b89ad463884ad119a721e6012",
            "ce144a8f2f614b318d2b803ae58f218a",
            "8cb62c85930a4dde9f335d0246927c11",
            "a5e5b695b5254b48ba132fe8639d183d",
            "d76ae86b1a9848b6a085c54efdac68b5",
            "985ec2540b714e59b1bb692372efac51",
            "fb46441d9246439f9b2f26114aed0a42",
            "e52983fc7fa245079fe4eb0ae2f0cd26",
            "56d82f602fa648e5ad9bd8818b462899",
            "58c499fa8e3547279d93d59f6ea63d22",
            "ec09f8bb42f3474c9d813e91411bc455",
            "1585b55b124e49d9848d686dd45b0f7c",
            "01f9230b88624caaa4423f50e4cc5384",
            "854d96928ae2495a8d5c27d29a58d8fa",
            "307982f2fa7f44a8bdf3de8e71a13a13",
            "e78015df47244ca8a140baacc210f38e",
            "fede9ed3bf4d41afb6896c2e267991f8",
            "5c924eb216d143f2a1b856263ebfbc7c",
            "0c389e5ca99843eead50f9347b196d50",
            "09cda8c5cd684a80955a115ab5d4a181",
            "38bebff0f9ab49a4b836c1cfe9c25cd8",
            "9d3900a6c2d84256b7f18497c4643a8d",
            "5d1f3072fcfa4250b517ddc3ecc1815a",
            "0a659b29d4534d46b88f78b0f385e663",
            "300cc41960a345a296a27ef5e3f36376",
            "46eff1a48cf74a259f045c1deaa779c4",
            "d152273a20a0452bb0e8fb0435e7d760",
            "f082df72b1ef4c5b8443aec428b702bf",
            "0e28e425bce4459996692486d2497cb0",
            "c0fccda902354bf8938e0cdc813d4573",
            "07469c4bcc6f480ebb76b94e4b570096",
            "f744576f2d9f4c58a43f7cf598d04744",
            "547afd9b1de745a0920616112f1011a9",
            "0633fce9f9f9448c962ad0b3175fa7dd",
            "aecb4056b3e24605837e6428d3689721",
            "c50169b4d61d46dfa4a6b6a6d703babf",
            "87fbb11d7db34d128274ca0414882130",
            "8b002dadc2a14e73b721555c09bf4bfc",
            "9325f789e2904b5bb7c2f8ddf4b88e1c",
            "a68eeddac6164f6f933c2927005b21aa",
            "91efe9f773144663b6f0aaac84ad4d3b",
            "62fc8cc3b10a48acb3049650c49b166a",
            "9d6bbd45be1c42bfa9641f15d5cef7ab",
            "57930329386842ea8bba9d9164abea19",
            "5986529d3a874fb68d1d28fa6466aa40",
            "91e3b9b5388840a0a028cc7f053c74e2",
            "581cadb915ef49daa438713a903f76ad",
            "e7a6615c0efc4e7cb1abaddc3c53d3cf",
            "085f1bb11b3b4fcc95fb945d3bd57c48",
            "17c66698207e48888f9a9d88f09c6308",
            "eda43566e92342a28f0399754b717824",
            "4c199e8b4a3c4b428cbb2d704d079271",
            "02ff1047db134aaf8f66ba03b80d1124",
            "59f2b5dbd54d464aa51b5acf3d4689e0",
            "64d860572b9e47c4b20e567e27da15dc",
            "575071bee7a2421ca3b27a47fd43358a",
            "7e16e98e504a41d4b18fd718165192b5",
            "46ba19f4c2b243f1b0d9dcadb7db8fb3",
            "803a17fe4fd84d8b95399a635b715217",
            "c8a87731f30b4e8aa7f3bc96b1f16ccb",
            "18bf06356b484e6da98d097c7b5ef828",
            "2971f68f92cf4c7d916dc414709afba1",
            "a46f4f2b643f437c82cae8e1339f52e4",
            "99fdd8a8ab024a4abde1229dc15879de",
            "020fcea62a564509ad39e98a760845d0",
            "3bc6c480ca12448a996fc3eceba22018",
            "f40f98b1471740f494feb227a5646b39",
            "71d774047cd2456db5ef85fb491fb4f2",
            "906c5308d42f40caaf51a8d6a50a4d30",
            "4b524d3fafa04657a8ca35d6180db78d",
            "03dd7e1df76f48b2b4c345130de70c4e",
            "0e175b74a6014a13b33fdb46223825f2",
            "787dd33cb7954ab49cac1b443721cf64",
            "b0ecdabbd03e47e8b4dd827c60c6e059",
            "7675066aa5bd48b8bc020670682cc348",
            "480f7e5c4dfa4d35aeadbdc0e3171401",
            "9d4e037251914f2795150cf6c0c6fcce",
            "c59a8b5bd5ca4cf9b143228d2fff94a2",
            "5226ed3d14be482da30a97791482a654",
            "7c858de534104ae9b05ab3d750b012ad",
            "b0c0b8b9ecf941848459d7f9163823bf",
            "c8dc6f8a13c74c92bb3b0143351721c4",
            "089d0e220de44214a3106a57103d3c79",
            "d2fd4f8dc0f24a85892555c5b27cb27d",
            "8d8ce3ee5f194071b1750496672a5932",
            "538c77c7fff74c2397ad15d4dd4e8b5d",
            "e2a9b8f8990e4cc2b6b630ea30a4c58d",
            "ed702bc4198b4cbd898013fdecc73350",
            "3cc150bbf3214433995fa0d0a6a6b19f",
            "0402c1c465e34b6fae04eae6e6e091de",
            "9391aa110e47448e9e4553ffc729a6e1",
            "d5cc762fef304398848325201fcd6ff0",
            "e1642b127e5a4882b766abbee837dfcb",
            "18fe370f817c4846a9f74866a5caf1d4",
            "fdb9087559754c4aa3df4e2297bb9eab",
            "cd3a16eed539446babf8d356c5c46faf",
            "4e161ade94ee4b8c8d73a768b60c08a5",
            "540121aca6e5425caa3d78cbd2915216",
            "7b9b36eb8166467cad129fd59f2df8e0",
            "bbe10b681de349c699a88b095bef9d9f",
            "9b6b7960e10f48e4bf48faafd21ab345",
            "d4abffe608f5415aab22508d8bb800e8",
            "a2013e01038b42de93249b7865a293e0",
            "4796c17c99424a0093fccb04e96fd595",
            "6768eaecdb5e4a83a63be026fc112180",
            "533c78c15c544bf58f916f1cedd7a471",
            "1c3a23159ff54bf2b457eae68f538097",
            "7ee46d58030f4b768805349de9f731d9",
            "b01a33fe19c64b7393a8943825a4a00e",
            "342ff1f1bde942deb9210b1e69409030",
            "177546106a88450db962ea0e5f7440cd",
            "2873409344b844578abf8faceecf8b70",
            "25d91a1eb5aa4c83b1bd92d373fb0086",
            "7292b3871fdd4c6d97e86fd9ae85f315",
            "c0e5962bb8914546a932e1c5f4e52f38",
            "b79bb454f2c94e49b44b99a3a0bc29f9",
            "794a78fc1c25490987baa15744847179",
            "46387c49540042fb9bf346a1ec46ab2a",
            "39542c425f3044858430869022237d15",
            "75fa0d2f11c54116b7d19450ecd16908",
            "7d5b5350807245899edf9251b1ae18ad",
            "f4047bf7adfb483387bb3a571faf97d8",
            "459725b15dc34f3e9f34bbf15f23a072",
            "c9b948d605f74ae7b18455736da2cd9a",
            "09caddac95044521b3f5f228c80e787a",
            "c13318f62b914d0fbda598d181b06ede",
            "10cffe1bdf7349b3ac0e6734fa6e9d9f",
            "3dbd09f7b35340d3be1a375f18f0e506",
            "a956449f104c4c7e83ffc14710535b32",
            "d5ee8a0c403a42a79bad267845f8afba",
            "94d47b76bba14aadb0816c927abd7397",
            "f775ae4029d04b3b8538b4c05fd36884",
            "ddb528155f3f41829f204fa599d6ae13",
            "c6e1bde13a2040dea4a1b090b26930f8",
            "83f72b13456d451aa97402e72c91f5cd",
            "3a17f1defb5c49979c7c445edf4503e3",
            "47667385829f48e9a9eb7065fda36ecf",
            "9af3f5a829e0433f97bb3a23e10daaef",
            "c88e1b9c68bf460f9383efdf200afb27",
            "864ee26eedca411fa0680d6ab40062f2",
            "40779ed4dc1446a1ba73e3e9e4160fe0",
            "2b594f76311842cabb35fe734e64dce2",
            "c91c5d53ce614f5ab8ebb0279f3368cc",
            "3b366c6eb9164207830148bf9927c4ff",
            "4aea391259604e07a3ed39bf96d1e3f7",
            "87fd5d5e8c6944cea56d09f0633c9511",
            "cbefeb5790eb4ea9a4e50c5247879198",
            "4922127875d14d13b49c851738ebbf74",
            "00acbb4eb91d4985aec33c02ab63862f",
            "a07590ec740d4973adb8a66ca1827c41",
            "dcb36dea60ef4d0294407861f1b9cedb",
            "59a4f38c885140f5985bd4519dc1b9b7",
            "4c5c74e407bb42789d8fcb67d159a4cd",
            "da26b6a1e86b41a4b264967b4f760797",
            "011aa7e9943c4a32822e9de6e476b431",
            "d88a7ff95bba497f9c449617bc092bfe",
            "a99f536bdb8b4dc6bcba8ae391e7bd7f",
            "2fa2314005724ce9a17ad4b5a2471d81",
            "3768c86879c94ad6b83ed6b9cd9d8d8d",
            "da136be83d5745e39d90e4d980286842",
            "f5dca476d0dc486497166c8ecf1e12b6",
            "9647aa5a8e944f528a49abba5e837323",
            "fa233a38ca00499984349e0f764a3c5b",
            "1858da34289f4dbfafae462a367389bc",
            "a14a7465a7674e5ca8280458f24b9994",
            "9e1f200518d540589623e8a10e9d4948",
            "7387bb30291e4c2aacfbd52a7d82edde",
            "7460908925a246ffabd1322021648ca1",
            "d54332f693054320b7a685cfdc152f2c",
            "6ad7582e16ef49c8a57c41d5ad44239f",
            "cb302596ae0b443787772e0a5d61340f",
            "bd7a7c9d28ac4a07b6ebaeac7bcf57bc",
            "2c47a725a58f4bf3a4002da6917f1b54",
            "4a830fe595ab498c9bb7c359300448e0",
            "5c3fdc88614c4f859f4e3a8258e0652e",
            "e8b5ce756b934b16a25422d72d7976ed",
            "bc5db62da5c84a1eb0a5dc1eae509e5f",
            "4ddb2e0f16fe45dc87afab6b2ec7824b",
            "69f8da994c1c4e70908c9f469c44c8da",
            "9ded5a8fb1284918aec5dbdf2fa9ad2a",
            "b4518727fff7414f9fd479e20efff4db",
            "3f6bf537e1784116978d016543e12124",
            "8adb13470ab343eb9bc2e79bf77b101a",
            "d21d108fb0824d7186b80200df07855e",
            "45add5989071452189e3740ae17f3347",
            "5b9e9c7a308e4ad39814fef4bd595d2f",
            "5a6a29da4a5d4bf4a7981a4cb34d4cac",
            "c0b947d122ff48a1814a79f3be43c42c",
            "8ccd7bfd98c74bf0911c845a560b73f2",
            "12213f812b424ca4bcf64cdd2d6e3163",
            "53778c672be242cc891755aeaf7e98f9",
            "fd6a6ebc6b404ef3af7f2d9ae0998dc6",
            "a73cc365f89340e7a28adc593c172d66",
            "ae5fe8d55c834af8b4c89dde2708a035",
            "c327527c51a8482bb07c10b3faf4345f",
            "a9359ebb560b421296dbe69abac4949e",
            "b41a21a1794541428f994d6ed20fab29",
            "6f9da0a5a2024d6d80b3fdd4027d4cb4",
            "93d173efae0b43bd9b2488c23dfaa5cb",
            "a198bdc276d843408fbda07a9851c2cf",
            "f792a4e5d5424aef8152ff0b23952f2d",
            "b73ef3cf66d44c32b3b2cd98dcc7b660",
            "95df1e4211fd48a1bc6d97bff0df06b0",
            "c883a09a5c5c430a855d262a3741ec83",
            "628b4ae8be214bf6823ae158cd2f35d5",
            "3aa37676f1ce43ef880740f8c5f25fa4",
            "933c1a5044cb41289cf24aab96583e79",
            "b3e06079e5e9452eb48e2d114f37ff79",
            "ba0bdf8d94fb4af484d68ec989023217",
            "1a45700a5fe943e7a3712e8e02ec77a2",
            "d1de3ade4ed74b25ba78258c6b3213e0",
            "26fccf94d268465f81ae1967b38d7074",
            "cd5986c150884ae2a6929337be32b15f",
            "9ee4023d202e4d20a1ac29d93cf98695",
            "8690408817e8417d863cd3df523aad15",
            "4413ce4ce20a4a59938801b5a9e406a0",
            "4fb6cc9941544b67985958645ec2b2d7",
            "1fe74a1ae65b49c2a54c15ec7c6fdf66",
            "d8e449d6c2a94c98bb6ad77b91c09376",
            "3227cf09ec1e41748e0b3386cbcc97ba",
            "bafbbd0c544946fea2a408516c5daf7a",
            "bd53a0d91fd64f5d8c56fbb359c30273",
            "499495787db644d182a24b0fa78c1a90",
            "fadc35e9fcc3413d9477ee23135f856d",
            "3c80db5ab6c8409d9cdc06be1298a366",
            "497ac14fbfda49f088bcb55b0e1cc4f1"
          ]
        },
        "id": "0xtjoOTi52Ft",
        "outputId": "f2bab51f-9370-4d59-b318-f423c5de900c"
      },
      "id": "0xtjoOTi52Ft",
      "execution_count": null,
      "outputs": [
        {
          "output_type": "stream",
          "name": "stdout",
          "text": [
            "Chosen dataset is  birds  (id:40588)\n",
            "Original dataset shape is  (645, 279)\n",
            "Number of predictors :  260 Number of targets :  19\n",
            "1  numeric features were transformed into binary\n",
            "Removed  0  parameters with one unique value\n",
            "Removed  0  parameters with 1 occurance of value\n",
            "Removed  0  parameters with pseudocorrelated values\n",
            "Removed  128  parameters with correlated values\n"
          ]
        },
        {
          "output_type": "display_data",
          "data": {
            "text/plain": [
              "<IPython.core.display.HTML object>"
            ],
            "text/html": [
              "Tracking run with wandb version 0.13.2"
            ]
          },
          "metadata": {}
        },
        {
          "output_type": "display_data",
          "data": {
            "text/plain": [
              "<IPython.core.display.HTML object>"
            ],
            "text/html": [
              "W&B syncing is set to <code>`offline`<code> in this directory.  <br/>Run <code>`wandb online`<code> or set <code>WANDB_MODE=online<code> to enable cloud syncing."
            ]
          },
          "metadata": {}
        },
        {
          "output_type": "display_data",
          "data": {
            "text/plain": [
              "<IPython.core.display.HTML object>"
            ],
            "text/html": [
              "Waiting for W&B process to finish... <strong style=\"color:green\">(success).</strong>"
            ]
          },
          "metadata": {}
        },
        {
          "output_type": "display_data",
          "data": {
            "text/plain": [
              "VBox(children=(Label(value='0.000 MB of 0.000 MB uploaded (0.000 MB deduped)\\r'), FloatProgress(value=1.0, max…"
            ],
            "application/vnd.jupyter.widget-view+json": {
              "version_major": 2,
              "version_minor": 0,
              "model_id": "2e540392b71249c980fbd6d3a5b20769"
            }
          },
          "metadata": {}
        },
        {
          "output_type": "display_data",
          "data": {
            "text/plain": [
              "<IPython.core.display.HTML object>"
            ],
            "text/html": [
              "You can sync this run to the cloud by running:<br/><code>wandb sync /content/wandb/offline-run-20220828_120505-2sqv9r5g<code>"
            ]
          },
          "metadata": {}
        },
        {
          "output_type": "display_data",
          "data": {
            "text/plain": [
              "<IPython.core.display.HTML object>"
            ],
            "text/html": [
              "Find logs at: <code>./wandb/offline-run-20220828_120505-2sqv9r5g/logs</code>"
            ]
          },
          "metadata": {}
        },
        {
          "output_type": "stream",
          "name": "stdout",
          "text": [
            "{'d_in': 143, 'n_blocks': 4, 'd_main': 512, 'd_hidden': 256, 'dropout_first': 0.3353363621058919, 'dropout_second': 0.10310874613762411, 'd_out': 19, 'batch_size': 256, 'epoch': 15, 'weight_decay': 1.726206851751187}\n",
            "0.027767328538063425\n"
          ]
        },
        {
          "output_type": "display_data",
          "data": {
            "text/plain": [
              "<IPython.core.display.HTML object>"
            ],
            "text/html": [
              "Tracking run with wandb version 0.13.2"
            ]
          },
          "metadata": {}
        },
        {
          "output_type": "display_data",
          "data": {
            "text/plain": [
              "<IPython.core.display.HTML object>"
            ],
            "text/html": [
              "W&B syncing is set to <code>`offline`<code> in this directory.  <br/>Run <code>`wandb online`<code> or set <code>WANDB_MODE=online<code> to enable cloud syncing."
            ]
          },
          "metadata": {}
        },
        {
          "output_type": "display_data",
          "data": {
            "text/plain": [
              "<IPython.core.display.HTML object>"
            ],
            "text/html": [
              "Waiting for W&B process to finish... <strong style=\"color:green\">(success).</strong>"
            ]
          },
          "metadata": {}
        },
        {
          "output_type": "display_data",
          "data": {
            "text/plain": [
              "VBox(children=(Label(value='0.000 MB of 0.000 MB uploaded (0.000 MB deduped)\\r'), FloatProgress(value=1.0, max…"
            ],
            "application/vnd.jupyter.widget-view+json": {
              "version_major": 2,
              "version_minor": 0,
              "model_id": "f74a140a218d49ffae80b7a408bfd9ea"
            }
          },
          "metadata": {}
        },
        {
          "output_type": "display_data",
          "data": {
            "text/plain": [
              "<IPython.core.display.HTML object>"
            ],
            "text/html": [
              "You can sync this run to the cloud by running:<br/><code>wandb sync /content/wandb/offline-run-20220828_120508-3rucd8ea<code>"
            ]
          },
          "metadata": {}
        },
        {
          "output_type": "display_data",
          "data": {
            "text/plain": [
              "<IPython.core.display.HTML object>"
            ],
            "text/html": [
              "Find logs at: <code>./wandb/offline-run-20220828_120508-3rucd8ea/logs</code>"
            ]
          },
          "metadata": {}
        },
        {
          "output_type": "stream",
          "name": "stdout",
          "text": [
            "{'d_in': 143, 'n_blocks': 5, 'd_main': 512, 'd_hidden': 512, 'dropout_first': 0.49538119076215653, 'dropout_second': 0.8377374000639999, 'd_out': 19, 'batch_size': 256, 'epoch': 15, 'weight_decay': 1.2465962536551158}\n",
            "0.03495422193483135\n"
          ]
        },
        {
          "output_type": "display_data",
          "data": {
            "text/plain": [
              "<IPython.core.display.HTML object>"
            ],
            "text/html": [
              "Tracking run with wandb version 0.13.2"
            ]
          },
          "metadata": {}
        },
        {
          "output_type": "display_data",
          "data": {
            "text/plain": [
              "<IPython.core.display.HTML object>"
            ],
            "text/html": [
              "W&B syncing is set to <code>`offline`<code> in this directory.  <br/>Run <code>`wandb online`<code> or set <code>WANDB_MODE=online<code> to enable cloud syncing."
            ]
          },
          "metadata": {}
        },
        {
          "output_type": "display_data",
          "data": {
            "text/plain": [
              "<IPython.core.display.HTML object>"
            ],
            "text/html": [
              "Waiting for W&B process to finish... <strong style=\"color:green\">(success).</strong>"
            ]
          },
          "metadata": {}
        },
        {
          "output_type": "display_data",
          "data": {
            "text/plain": [
              "VBox(children=(Label(value='0.000 MB of 0.000 MB uploaded (0.000 MB deduped)\\r'), FloatProgress(value=1.0, max…"
            ],
            "application/vnd.jupyter.widget-view+json": {
              "version_major": 2,
              "version_minor": 0,
              "model_id": "b4fd3879bcad4caa9193d5794574a487"
            }
          },
          "metadata": {}
        },
        {
          "output_type": "display_data",
          "data": {
            "text/plain": [
              "<IPython.core.display.HTML object>"
            ],
            "text/html": [
              "You can sync this run to the cloud by running:<br/><code>wandb sync /content/wandb/offline-run-20220828_120512-29es6c7j<code>"
            ]
          },
          "metadata": {}
        },
        {
          "output_type": "display_data",
          "data": {
            "text/plain": [
              "<IPython.core.display.HTML object>"
            ],
            "text/html": [
              "Find logs at: <code>./wandb/offline-run-20220828_120512-29es6c7j/logs</code>"
            ]
          },
          "metadata": {}
        },
        {
          "output_type": "stream",
          "name": "stdout",
          "text": [
            "{'d_in': 143, 'n_blocks': 4, 'd_main': 512, 'd_hidden': 256, 'dropout_first': 0.43003127542882263, 'dropout_second': 0.8568935677327879, 'd_out': 19, 'batch_size': 256, 'epoch': 15, 'weight_decay': 0.6617960497052984}\n",
            "0.03615958587859248\n"
          ]
        },
        {
          "output_type": "display_data",
          "data": {
            "text/plain": [
              "<IPython.core.display.HTML object>"
            ],
            "text/html": [
              "Tracking run with wandb version 0.13.2"
            ]
          },
          "metadata": {}
        },
        {
          "output_type": "display_data",
          "data": {
            "text/plain": [
              "<IPython.core.display.HTML object>"
            ],
            "text/html": [
              "W&B syncing is set to <code>`offline`<code> in this directory.  <br/>Run <code>`wandb online`<code> or set <code>WANDB_MODE=online<code> to enable cloud syncing."
            ]
          },
          "metadata": {}
        },
        {
          "output_type": "display_data",
          "data": {
            "text/plain": [
              "<IPython.core.display.HTML object>"
            ],
            "text/html": [
              "Waiting for W&B process to finish... <strong style=\"color:green\">(success).</strong>"
            ]
          },
          "metadata": {}
        },
        {
          "output_type": "display_data",
          "data": {
            "text/plain": [
              "VBox(children=(Label(value='0.000 MB of 0.000 MB uploaded (0.000 MB deduped)\\r'), FloatProgress(value=1.0, max…"
            ],
            "application/vnd.jupyter.widget-view+json": {
              "version_major": 2,
              "version_minor": 0,
              "model_id": "8cb62c85930a4dde9f335d0246927c11"
            }
          },
          "metadata": {}
        },
        {
          "output_type": "display_data",
          "data": {
            "text/plain": [
              "<IPython.core.display.HTML object>"
            ],
            "text/html": [
              "You can sync this run to the cloud by running:<br/><code>wandb sync /content/wandb/offline-run-20220828_120515-2ol02f2r<code>"
            ]
          },
          "metadata": {}
        },
        {
          "output_type": "display_data",
          "data": {
            "text/plain": [
              "<IPython.core.display.HTML object>"
            ],
            "text/html": [
              "Find logs at: <code>./wandb/offline-run-20220828_120515-2ol02f2r/logs</code>"
            ]
          },
          "metadata": {}
        },
        {
          "output_type": "stream",
          "name": "stdout",
          "text": [
            "{'d_in': 143, 'n_blocks': 5, 'd_main': 256, 'd_hidden': 256, 'dropout_first': 0.3251023841344367, 'dropout_second': 0.7047907898390531, 'd_out': 19, 'batch_size': 256, 'epoch': 15, 'weight_decay': 0.12711670057204727}\n",
            "0.027634743408600667\n"
          ]
        },
        {
          "output_type": "display_data",
          "data": {
            "text/plain": [
              "<IPython.core.display.HTML object>"
            ],
            "text/html": [
              "Tracking run with wandb version 0.13.2"
            ]
          },
          "metadata": {}
        },
        {
          "output_type": "display_data",
          "data": {
            "text/plain": [
              "<IPython.core.display.HTML object>"
            ],
            "text/html": [
              "W&B syncing is set to <code>`offline`<code> in this directory.  <br/>Run <code>`wandb online`<code> or set <code>WANDB_MODE=online<code> to enable cloud syncing."
            ]
          },
          "metadata": {}
        },
        {
          "output_type": "display_data",
          "data": {
            "text/plain": [
              "<IPython.core.display.HTML object>"
            ],
            "text/html": [
              "Waiting for W&B process to finish... <strong style=\"color:green\">(success).</strong>"
            ]
          },
          "metadata": {}
        },
        {
          "output_type": "display_data",
          "data": {
            "text/plain": [
              "VBox(children=(Label(value='0.000 MB of 0.000 MB uploaded (0.000 MB deduped)\\r'), FloatProgress(value=1.0, max…"
            ],
            "application/vnd.jupyter.widget-view+json": {
              "version_major": 2,
              "version_minor": 0,
              "model_id": "ec09f8bb42f3474c9d813e91411bc455"
            }
          },
          "metadata": {}
        },
        {
          "output_type": "display_data",
          "data": {
            "text/plain": [
              "<IPython.core.display.HTML object>"
            ],
            "text/html": [
              "You can sync this run to the cloud by running:<br/><code>wandb sync /content/wandb/offline-run-20220828_120518-1kog8e6u<code>"
            ]
          },
          "metadata": {}
        },
        {
          "output_type": "display_data",
          "data": {
            "text/plain": [
              "<IPython.core.display.HTML object>"
            ],
            "text/html": [
              "Find logs at: <code>./wandb/offline-run-20220828_120518-1kog8e6u/logs</code>"
            ]
          },
          "metadata": {}
        },
        {
          "output_type": "stream",
          "name": "stdout",
          "text": [
            "{'d_in': 143, 'n_blocks': 4, 'd_main': 512, 'd_hidden': 256, 'dropout_first': 0.5565173068779105, 'dropout_second': 0.3356264456132211, 'd_out': 19, 'batch_size': 256, 'epoch': 15, 'weight_decay': 0.6219646434313244}\n",
            "0.02781558001619472\n"
          ]
        },
        {
          "output_type": "display_data",
          "data": {
            "text/plain": [
              "<IPython.core.display.HTML object>"
            ],
            "text/html": [
              "Tracking run with wandb version 0.13.2"
            ]
          },
          "metadata": {}
        },
        {
          "output_type": "display_data",
          "data": {
            "text/plain": [
              "<IPython.core.display.HTML object>"
            ],
            "text/html": [
              "W&B syncing is set to <code>`offline`<code> in this directory.  <br/>Run <code>`wandb online`<code> or set <code>WANDB_MODE=online<code> to enable cloud syncing."
            ]
          },
          "metadata": {}
        },
        {
          "output_type": "display_data",
          "data": {
            "text/plain": [
              "<IPython.core.display.HTML object>"
            ],
            "text/html": [
              "Waiting for W&B process to finish... <strong style=\"color:green\">(success).</strong>"
            ]
          },
          "metadata": {}
        },
        {
          "output_type": "display_data",
          "data": {
            "text/plain": [
              "VBox(children=(Label(value='0.000 MB of 0.000 MB uploaded (0.000 MB deduped)\\r'), FloatProgress(value=1.0, max…"
            ],
            "application/vnd.jupyter.widget-view+json": {
              "version_major": 2,
              "version_minor": 0,
              "model_id": "0c389e5ca99843eead50f9347b196d50"
            }
          },
          "metadata": {}
        },
        {
          "output_type": "display_data",
          "data": {
            "text/plain": [
              "<IPython.core.display.HTML object>"
            ],
            "text/html": [
              "You can sync this run to the cloud by running:<br/><code>wandb sync /content/wandb/offline-run-20220828_120521-350nhtaq<code>"
            ]
          },
          "metadata": {}
        },
        {
          "output_type": "display_data",
          "data": {
            "text/plain": [
              "<IPython.core.display.HTML object>"
            ],
            "text/html": [
              "Find logs at: <code>./wandb/offline-run-20220828_120521-350nhtaq/logs</code>"
            ]
          },
          "metadata": {}
        },
        {
          "output_type": "stream",
          "name": "stdout",
          "text": [
            "{'d_in': 143, 'n_blocks': 5, 'd_main': 256, 'd_hidden': 512, 'dropout_first': 0.18979067275579625, 'dropout_second': 0.1437860349937251, 'd_out': 19, 'batch_size': 256, 'epoch': 15, 'weight_decay': 0.6503666440534941}\n",
            "0.023469593524039985\n"
          ]
        },
        {
          "output_type": "display_data",
          "data": {
            "text/plain": [
              "<IPython.core.display.HTML object>"
            ],
            "text/html": [
              "Tracking run with wandb version 0.13.2"
            ]
          },
          "metadata": {}
        },
        {
          "output_type": "display_data",
          "data": {
            "text/plain": [
              "<IPython.core.display.HTML object>"
            ],
            "text/html": [
              "W&B syncing is set to <code>`offline`<code> in this directory.  <br/>Run <code>`wandb online`<code> or set <code>WANDB_MODE=online<code> to enable cloud syncing."
            ]
          },
          "metadata": {}
        },
        {
          "output_type": "display_data",
          "data": {
            "text/plain": [
              "<IPython.core.display.HTML object>"
            ],
            "text/html": [
              "Waiting for W&B process to finish... <strong style=\"color:green\">(success).</strong>"
            ]
          },
          "metadata": {}
        },
        {
          "output_type": "display_data",
          "data": {
            "text/plain": [
              "VBox(children=(Label(value='0.000 MB of 0.000 MB uploaded (0.000 MB deduped)\\r'), FloatProgress(value=1.0, max…"
            ],
            "application/vnd.jupyter.widget-view+json": {
              "version_major": 2,
              "version_minor": 0,
              "model_id": "d152273a20a0452bb0e8fb0435e7d760"
            }
          },
          "metadata": {}
        },
        {
          "output_type": "display_data",
          "data": {
            "text/plain": [
              "<IPython.core.display.HTML object>"
            ],
            "text/html": [
              "You can sync this run to the cloud by running:<br/><code>wandb sync /content/wandb/offline-run-20220828_120524-18rr8wof<code>"
            ]
          },
          "metadata": {}
        },
        {
          "output_type": "display_data",
          "data": {
            "text/plain": [
              "<IPython.core.display.HTML object>"
            ],
            "text/html": [
              "Find logs at: <code>./wandb/offline-run-20220828_120524-18rr8wof/logs</code>"
            ]
          },
          "metadata": {}
        },
        {
          "output_type": "stream",
          "name": "stdout",
          "text": [
            "{'d_in': 143, 'n_blocks': 5, 'd_main': 512, 'd_hidden': 256, 'dropout_first': 0.3258271806376749, 'dropout_second': 0.6085928150000488, 'd_out': 19, 'batch_size': 256, 'epoch': 15, 'weight_decay': 1.4592123566761281}\n",
            "0.03316021210758053\n"
          ]
        },
        {
          "output_type": "display_data",
          "data": {
            "text/plain": [
              "<IPython.core.display.HTML object>"
            ],
            "text/html": [
              "Tracking run with wandb version 0.13.2"
            ]
          },
          "metadata": {}
        },
        {
          "output_type": "display_data",
          "data": {
            "text/plain": [
              "<IPython.core.display.HTML object>"
            ],
            "text/html": [
              "W&B syncing is set to <code>`offline`<code> in this directory.  <br/>Run <code>`wandb online`<code> or set <code>WANDB_MODE=online<code> to enable cloud syncing."
            ]
          },
          "metadata": {}
        },
        {
          "output_type": "display_data",
          "data": {
            "text/plain": [
              "<IPython.core.display.HTML object>"
            ],
            "text/html": [
              "Waiting for W&B process to finish... <strong style=\"color:green\">(success).</strong>"
            ]
          },
          "metadata": {}
        },
        {
          "output_type": "display_data",
          "data": {
            "text/plain": [
              "VBox(children=(Label(value='0.000 MB of 0.000 MB uploaded (0.000 MB deduped)\\r'), FloatProgress(value=1.0, max…"
            ],
            "application/vnd.jupyter.widget-view+json": {
              "version_major": 2,
              "version_minor": 0,
              "model_id": "aecb4056b3e24605837e6428d3689721"
            }
          },
          "metadata": {}
        },
        {
          "output_type": "display_data",
          "data": {
            "text/plain": [
              "<IPython.core.display.HTML object>"
            ],
            "text/html": [
              "You can sync this run to the cloud by running:<br/><code>wandb sync /content/wandb/offline-run-20220828_120528-1miz5bmf<code>"
            ]
          },
          "metadata": {}
        },
        {
          "output_type": "display_data",
          "data": {
            "text/plain": [
              "<IPython.core.display.HTML object>"
            ],
            "text/html": [
              "Find logs at: <code>./wandb/offline-run-20220828_120528-1miz5bmf/logs</code>"
            ]
          },
          "metadata": {}
        },
        {
          "output_type": "stream",
          "name": "stdout",
          "text": [
            "{'d_in': 143, 'n_blocks': 4, 'd_main': 512, 'd_hidden': 256, 'dropout_first': 0.38247184516014204, 'dropout_second': 0.4358756457415974, 'd_out': 19, 'batch_size': 256, 'epoch': 15, 'weight_decay': 1.2751149427104262}\n",
            "0.02300168283547785\n"
          ]
        },
        {
          "output_type": "display_data",
          "data": {
            "text/plain": [
              "<IPython.core.display.HTML object>"
            ],
            "text/html": [
              "Tracking run with wandb version 0.13.2"
            ]
          },
          "metadata": {}
        },
        {
          "output_type": "display_data",
          "data": {
            "text/plain": [
              "<IPython.core.display.HTML object>"
            ],
            "text/html": [
              "W&B syncing is set to <code>`offline`<code> in this directory.  <br/>Run <code>`wandb online`<code> or set <code>WANDB_MODE=online<code> to enable cloud syncing."
            ]
          },
          "metadata": {}
        },
        {
          "output_type": "display_data",
          "data": {
            "text/plain": [
              "<IPython.core.display.HTML object>"
            ],
            "text/html": [
              "Waiting for W&B process to finish... <strong style=\"color:green\">(success).</strong>"
            ]
          },
          "metadata": {}
        },
        {
          "output_type": "display_data",
          "data": {
            "text/plain": [
              "VBox(children=(Label(value='0.000 MB of 0.000 MB uploaded (0.000 MB deduped)\\r'), FloatProgress(value=1.0, max…"
            ],
            "application/vnd.jupyter.widget-view+json": {
              "version_major": 2,
              "version_minor": 0,
              "model_id": "9d6bbd45be1c42bfa9641f15d5cef7ab"
            }
          },
          "metadata": {}
        },
        {
          "output_type": "display_data",
          "data": {
            "text/plain": [
              "<IPython.core.display.HTML object>"
            ],
            "text/html": [
              "You can sync this run to the cloud by running:<br/><code>wandb sync /content/wandb/offline-run-20220828_120531-2l2kp38x<code>"
            ]
          },
          "metadata": {}
        },
        {
          "output_type": "display_data",
          "data": {
            "text/plain": [
              "<IPython.core.display.HTML object>"
            ],
            "text/html": [
              "Find logs at: <code>./wandb/offline-run-20220828_120531-2l2kp38x/logs</code>"
            ]
          },
          "metadata": {}
        },
        {
          "output_type": "stream",
          "name": "stdout",
          "text": [
            "{'d_in': 143, 'n_blocks': 4, 'd_main': 512, 'd_hidden': 256, 'dropout_first': 0.44716087482514294, 'dropout_second': 0.1712805630460114, 'd_out': 19, 'batch_size': 256, 'epoch': 15, 'weight_decay': 1.774425485152653}\n",
            "0.042306245412896425\n"
          ]
        },
        {
          "output_type": "display_data",
          "data": {
            "text/plain": [
              "<IPython.core.display.HTML object>"
            ],
            "text/html": [
              "Tracking run with wandb version 0.13.2"
            ]
          },
          "metadata": {}
        },
        {
          "output_type": "display_data",
          "data": {
            "text/plain": [
              "<IPython.core.display.HTML object>"
            ],
            "text/html": [
              "W&B syncing is set to <code>`offline`<code> in this directory.  <br/>Run <code>`wandb online`<code> or set <code>WANDB_MODE=online<code> to enable cloud syncing."
            ]
          },
          "metadata": {}
        },
        {
          "output_type": "display_data",
          "data": {
            "text/plain": [
              "<IPython.core.display.HTML object>"
            ],
            "text/html": [
              "Waiting for W&B process to finish... <strong style=\"color:green\">(success).</strong>"
            ]
          },
          "metadata": {}
        },
        {
          "output_type": "display_data",
          "data": {
            "text/plain": [
              "VBox(children=(Label(value='0.000 MB of 0.000 MB uploaded (0.000 MB deduped)\\r'), FloatProgress(value=1.0, max…"
            ],
            "application/vnd.jupyter.widget-view+json": {
              "version_major": 2,
              "version_minor": 0,
              "model_id": "eda43566e92342a28f0399754b717824"
            }
          },
          "metadata": {}
        },
        {
          "output_type": "display_data",
          "data": {
            "text/plain": [
              "<IPython.core.display.HTML object>"
            ],
            "text/html": [
              "You can sync this run to the cloud by running:<br/><code>wandb sync /content/wandb/offline-run-20220828_120534-1wcgllcb<code>"
            ]
          },
          "metadata": {}
        },
        {
          "output_type": "display_data",
          "data": {
            "text/plain": [
              "<IPython.core.display.HTML object>"
            ],
            "text/html": [
              "Find logs at: <code>./wandb/offline-run-20220828_120534-1wcgllcb/logs</code>"
            ]
          },
          "metadata": {}
        },
        {
          "output_type": "stream",
          "name": "stdout",
          "text": [
            "{'d_in': 143, 'n_blocks': 5, 'd_main': 512, 'd_hidden': 512, 'dropout_first': 0.6858195777779077, 'dropout_second': 0.4746794694710085, 'd_out': 19, 'batch_size': 256, 'epoch': 15, 'weight_decay': 0.9444298503238986}\n",
            "0.036201583055878526\n"
          ]
        },
        {
          "output_type": "display_data",
          "data": {
            "text/plain": [
              "<IPython.core.display.HTML object>"
            ],
            "text/html": [
              "Tracking run with wandb version 0.13.2"
            ]
          },
          "metadata": {}
        },
        {
          "output_type": "display_data",
          "data": {
            "text/plain": [
              "<IPython.core.display.HTML object>"
            ],
            "text/html": [
              "W&B syncing is set to <code>`offline`<code> in this directory.  <br/>Run <code>`wandb online`<code> or set <code>WANDB_MODE=online<code> to enable cloud syncing."
            ]
          },
          "metadata": {}
        },
        {
          "output_type": "display_data",
          "data": {
            "text/plain": [
              "<IPython.core.display.HTML object>"
            ],
            "text/html": [
              "Waiting for W&B process to finish... <strong style=\"color:green\">(success).</strong>"
            ]
          },
          "metadata": {}
        },
        {
          "output_type": "display_data",
          "data": {
            "text/plain": [
              "VBox(children=(Label(value='0.000 MB of 0.000 MB uploaded (0.000 MB deduped)\\r'), FloatProgress(value=1.0, max…"
            ],
            "application/vnd.jupyter.widget-view+json": {
              "version_major": 2,
              "version_minor": 0,
              "model_id": "803a17fe4fd84d8b95399a635b715217"
            }
          },
          "metadata": {}
        },
        {
          "output_type": "display_data",
          "data": {
            "text/plain": [
              "<IPython.core.display.HTML object>"
            ],
            "text/html": [
              "You can sync this run to the cloud by running:<br/><code>wandb sync /content/wandb/offline-run-20220828_120538-2e7lwwrt<code>"
            ]
          },
          "metadata": {}
        },
        {
          "output_type": "display_data",
          "data": {
            "text/plain": [
              "<IPython.core.display.HTML object>"
            ],
            "text/html": [
              "Find logs at: <code>./wandb/offline-run-20220828_120538-2e7lwwrt/logs</code>"
            ]
          },
          "metadata": {}
        },
        {
          "output_type": "stream",
          "name": "stdout",
          "text": [
            "{'d_in': 143, 'n_blocks': 5, 'd_main': 512, 'd_hidden': 256, 'dropout_first': 0.24790759758984154, 'dropout_second': 0.05925761178930527, 'd_out': 19, 'batch_size': 256, 'epoch': 15, 'weight_decay': 0.2391884918766034}\n",
            "0.0584730028188734\n"
          ]
        },
        {
          "output_type": "display_data",
          "data": {
            "text/plain": [
              "<IPython.core.display.HTML object>"
            ],
            "text/html": [
              "Tracking run with wandb version 0.13.2"
            ]
          },
          "metadata": {}
        },
        {
          "output_type": "display_data",
          "data": {
            "text/plain": [
              "<IPython.core.display.HTML object>"
            ],
            "text/html": [
              "W&B syncing is set to <code>`offline`<code> in this directory.  <br/>Run <code>`wandb online`<code> or set <code>WANDB_MODE=online<code> to enable cloud syncing."
            ]
          },
          "metadata": {}
        },
        {
          "output_type": "display_data",
          "data": {
            "text/plain": [
              "<IPython.core.display.HTML object>"
            ],
            "text/html": [
              "Waiting for W&B process to finish... <strong style=\"color:green\">(success).</strong>"
            ]
          },
          "metadata": {}
        },
        {
          "output_type": "display_data",
          "data": {
            "text/plain": [
              "VBox(children=(Label(value='0.000 MB of 0.000 MB uploaded (0.000 MB deduped)\\r'), FloatProgress(value=1.0, max…"
            ],
            "application/vnd.jupyter.widget-view+json": {
              "version_major": 2,
              "version_minor": 0,
              "model_id": "f40f98b1471740f494feb227a5646b39"
            }
          },
          "metadata": {}
        },
        {
          "output_type": "display_data",
          "data": {
            "text/plain": [
              "<IPython.core.display.HTML object>"
            ],
            "text/html": [
              "You can sync this run to the cloud by running:<br/><code>wandb sync /content/wandb/offline-run-20220828_120542-11dxu13u<code>"
            ]
          },
          "metadata": {}
        },
        {
          "output_type": "display_data",
          "data": {
            "text/plain": [
              "<IPython.core.display.HTML object>"
            ],
            "text/html": [
              "Find logs at: <code>./wandb/offline-run-20220828_120542-11dxu13u/logs</code>"
            ]
          },
          "metadata": {}
        },
        {
          "output_type": "stream",
          "name": "stdout",
          "text": [
            "{'d_in': 143, 'n_blocks': 5, 'd_main': 512, 'd_hidden': 256, 'dropout_first': 0.4880227980143415, 'dropout_second': 0.7960573339250134, 'd_out': 19, 'batch_size': 256, 'epoch': 15, 'weight_decay': 1.42648957444599}\n",
            "0.026654067851889993\n"
          ]
        },
        {
          "output_type": "display_data",
          "data": {
            "text/plain": [
              "<IPython.core.display.HTML object>"
            ],
            "text/html": [
              "Tracking run with wandb version 0.13.2"
            ]
          },
          "metadata": {}
        },
        {
          "output_type": "display_data",
          "data": {
            "text/plain": [
              "<IPython.core.display.HTML object>"
            ],
            "text/html": [
              "W&B syncing is set to <code>`offline`<code> in this directory.  <br/>Run <code>`wandb online`<code> or set <code>WANDB_MODE=online<code> to enable cloud syncing."
            ]
          },
          "metadata": {}
        },
        {
          "output_type": "display_data",
          "data": {
            "text/plain": [
              "<IPython.core.display.HTML object>"
            ],
            "text/html": [
              "Waiting for W&B process to finish... <strong style=\"color:green\">(success).</strong>"
            ]
          },
          "metadata": {}
        },
        {
          "output_type": "display_data",
          "data": {
            "text/plain": [
              "VBox(children=(Label(value='0.000 MB of 0.000 MB uploaded (0.000 MB deduped)\\r'), FloatProgress(value=1.0, max…"
            ],
            "application/vnd.jupyter.widget-view+json": {
              "version_major": 2,
              "version_minor": 0,
              "model_id": "7675066aa5bd48b8bc020670682cc348"
            }
          },
          "metadata": {}
        },
        {
          "output_type": "display_data",
          "data": {
            "text/plain": [
              "<IPython.core.display.HTML object>"
            ],
            "text/html": [
              "You can sync this run to the cloud by running:<br/><code>wandb sync /content/wandb/offline-run-20220828_120546-6depsnlh<code>"
            ]
          },
          "metadata": {}
        },
        {
          "output_type": "display_data",
          "data": {
            "text/plain": [
              "<IPython.core.display.HTML object>"
            ],
            "text/html": [
              "Find logs at: <code>./wandb/offline-run-20220828_120546-6depsnlh/logs</code>"
            ]
          },
          "metadata": {}
        },
        {
          "output_type": "stream",
          "name": "stdout",
          "text": [
            "{'d_in': 143, 'n_blocks': 5, 'd_main': 512, 'd_hidden': 256, 'dropout_first': 0.5427891778043047, 'dropout_second': 0.29889133020925485, 'd_out': 19, 'batch_size': 256, 'epoch': 15, 'weight_decay': 1.5215700972337949}\n",
            "0.019301766721859733\n"
          ]
        },
        {
          "output_type": "display_data",
          "data": {
            "text/plain": [
              "<IPython.core.display.HTML object>"
            ],
            "text/html": [
              "Tracking run with wandb version 0.13.2"
            ]
          },
          "metadata": {}
        },
        {
          "output_type": "display_data",
          "data": {
            "text/plain": [
              "<IPython.core.display.HTML object>"
            ],
            "text/html": [
              "W&B syncing is set to <code>`offline`<code> in this directory.  <br/>Run <code>`wandb online`<code> or set <code>WANDB_MODE=online<code> to enable cloud syncing."
            ]
          },
          "metadata": {}
        },
        {
          "output_type": "display_data",
          "data": {
            "text/plain": [
              "<IPython.core.display.HTML object>"
            ],
            "text/html": [
              "Waiting for W&B process to finish... <strong style=\"color:green\">(success).</strong>"
            ]
          },
          "metadata": {}
        },
        {
          "output_type": "display_data",
          "data": {
            "text/plain": [
              "VBox(children=(Label(value='0.000 MB of 0.000 MB uploaded (0.000 MB deduped)\\r'), FloatProgress(value=1.0, max…"
            ],
            "application/vnd.jupyter.widget-view+json": {
              "version_major": 2,
              "version_minor": 0,
              "model_id": "089d0e220de44214a3106a57103d3c79"
            }
          },
          "metadata": {}
        },
        {
          "output_type": "display_data",
          "data": {
            "text/plain": [
              "<IPython.core.display.HTML object>"
            ],
            "text/html": [
              "You can sync this run to the cloud by running:<br/><code>wandb sync /content/wandb/offline-run-20220828_120549-1042qkvt<code>"
            ]
          },
          "metadata": {}
        },
        {
          "output_type": "display_data",
          "data": {
            "text/plain": [
              "<IPython.core.display.HTML object>"
            ],
            "text/html": [
              "Find logs at: <code>./wandb/offline-run-20220828_120549-1042qkvt/logs</code>"
            ]
          },
          "metadata": {}
        },
        {
          "output_type": "stream",
          "name": "stdout",
          "text": [
            "{'d_in': 143, 'n_blocks': 4, 'd_main': 512, 'd_hidden': 256, 'dropout_first': 0.07730160065442337, 'dropout_second': 0.592771866506994, 'd_out': 19, 'batch_size': 256, 'epoch': 15, 'weight_decay': 1.1225543951389925}\n",
            "0.026596351520375577\n"
          ]
        },
        {
          "output_type": "display_data",
          "data": {
            "text/plain": [
              "<IPython.core.display.HTML object>"
            ],
            "text/html": [
              "Tracking run with wandb version 0.13.2"
            ]
          },
          "metadata": {}
        },
        {
          "output_type": "display_data",
          "data": {
            "text/plain": [
              "<IPython.core.display.HTML object>"
            ],
            "text/html": [
              "W&B syncing is set to <code>`offline`<code> in this directory.  <br/>Run <code>`wandb online`<code> or set <code>WANDB_MODE=online<code> to enable cloud syncing."
            ]
          },
          "metadata": {}
        },
        {
          "output_type": "display_data",
          "data": {
            "text/plain": [
              "<IPython.core.display.HTML object>"
            ],
            "text/html": [
              "Waiting for W&B process to finish... <strong style=\"color:green\">(success).</strong>"
            ]
          },
          "metadata": {}
        },
        {
          "output_type": "display_data",
          "data": {
            "text/plain": [
              "VBox(children=(Label(value='0.000 MB of 0.000 MB uploaded (0.000 MB deduped)\\r'), FloatProgress(value=1.0, max…"
            ],
            "application/vnd.jupyter.widget-view+json": {
              "version_major": 2,
              "version_minor": 0,
              "model_id": "9391aa110e47448e9e4553ffc729a6e1"
            }
          },
          "metadata": {}
        },
        {
          "output_type": "display_data",
          "data": {
            "text/plain": [
              "<IPython.core.display.HTML object>"
            ],
            "text/html": [
              "You can sync this run to the cloud by running:<br/><code>wandb sync /content/wandb/offline-run-20220828_120553-2eshbooi<code>"
            ]
          },
          "metadata": {}
        },
        {
          "output_type": "display_data",
          "data": {
            "text/plain": [
              "<IPython.core.display.HTML object>"
            ],
            "text/html": [
              "Find logs at: <code>./wandb/offline-run-20220828_120553-2eshbooi/logs</code>"
            ]
          },
          "metadata": {}
        },
        {
          "output_type": "stream",
          "name": "stdout",
          "text": [
            "{'d_in': 143, 'n_blocks': 4, 'd_main': 256, 'd_hidden': 512, 'dropout_first': 0.5534680288542981, 'dropout_second': 0.3411465998323525, 'd_out': 19, 'batch_size': 256, 'epoch': 15, 'weight_decay': 1.541934359909122}\n",
            "0.017448803633014157\n"
          ]
        },
        {
          "output_type": "display_data",
          "data": {
            "text/plain": [
              "<IPython.core.display.HTML object>"
            ],
            "text/html": [
              "Tracking run with wandb version 0.13.2"
            ]
          },
          "metadata": {}
        },
        {
          "output_type": "display_data",
          "data": {
            "text/plain": [
              "<IPython.core.display.HTML object>"
            ],
            "text/html": [
              "W&B syncing is set to <code>`offline`<code> in this directory.  <br/>Run <code>`wandb online`<code> or set <code>WANDB_MODE=online<code> to enable cloud syncing."
            ]
          },
          "metadata": {}
        },
        {
          "output_type": "display_data",
          "data": {
            "text/plain": [
              "<IPython.core.display.HTML object>"
            ],
            "text/html": [
              "Waiting for W&B process to finish... <strong style=\"color:green\">(success).</strong>"
            ]
          },
          "metadata": {}
        },
        {
          "output_type": "display_data",
          "data": {
            "text/plain": [
              "VBox(children=(Label(value='0.000 MB of 0.000 MB uploaded (0.000 MB deduped)\\r'), FloatProgress(value=1.0, max…"
            ],
            "application/vnd.jupyter.widget-view+json": {
              "version_major": 2,
              "version_minor": 0,
              "model_id": "7b9b36eb8166467cad129fd59f2df8e0"
            }
          },
          "metadata": {}
        },
        {
          "output_type": "display_data",
          "data": {
            "text/plain": [
              "<IPython.core.display.HTML object>"
            ],
            "text/html": [
              "You can sync this run to the cloud by running:<br/><code>wandb sync /content/wandb/offline-run-20220828_120556-3gd04dj3<code>"
            ]
          },
          "metadata": {}
        },
        {
          "output_type": "display_data",
          "data": {
            "text/plain": [
              "<IPython.core.display.HTML object>"
            ],
            "text/html": [
              "Find logs at: <code>./wandb/offline-run-20220828_120556-3gd04dj3/logs</code>"
            ]
          },
          "metadata": {}
        },
        {
          "output_type": "stream",
          "name": "stdout",
          "text": [
            "{'d_in': 143, 'n_blocks': 4, 'd_main': 256, 'd_hidden': 256, 'dropout_first': 0.22072049661777932, 'dropout_second': 0.4921028693685879, 'd_out': 19, 'batch_size': 256, 'epoch': 15, 'weight_decay': 0.9875911927287815}\n",
            "0.06273166036857368\n"
          ]
        },
        {
          "output_type": "display_data",
          "data": {
            "text/plain": [
              "<IPython.core.display.HTML object>"
            ],
            "text/html": [
              "Tracking run with wandb version 0.13.2"
            ]
          },
          "metadata": {}
        },
        {
          "output_type": "display_data",
          "data": {
            "text/plain": [
              "<IPython.core.display.HTML object>"
            ],
            "text/html": [
              "W&B syncing is set to <code>`offline`<code> in this directory.  <br/>Run <code>`wandb online`<code> or set <code>WANDB_MODE=online<code> to enable cloud syncing."
            ]
          },
          "metadata": {}
        },
        {
          "output_type": "display_data",
          "data": {
            "text/plain": [
              "<IPython.core.display.HTML object>"
            ],
            "text/html": [
              "Waiting for W&B process to finish... <strong style=\"color:green\">(success).</strong>"
            ]
          },
          "metadata": {}
        },
        {
          "output_type": "display_data",
          "data": {
            "text/plain": [
              "VBox(children=(Label(value='0.000 MB of 0.000 MB uploaded (0.000 MB deduped)\\r'), FloatProgress(value=1.0, max…"
            ],
            "application/vnd.jupyter.widget-view+json": {
              "version_major": 2,
              "version_minor": 0,
              "model_id": "1c3a23159ff54bf2b457eae68f538097"
            }
          },
          "metadata": {}
        },
        {
          "output_type": "display_data",
          "data": {
            "text/plain": [
              "<IPython.core.display.HTML object>"
            ],
            "text/html": [
              "You can sync this run to the cloud by running:<br/><code>wandb sync /content/wandb/offline-run-20220828_120600-1lxruozw<code>"
            ]
          },
          "metadata": {}
        },
        {
          "output_type": "display_data",
          "data": {
            "text/plain": [
              "<IPython.core.display.HTML object>"
            ],
            "text/html": [
              "Find logs at: <code>./wandb/offline-run-20220828_120600-1lxruozw/logs</code>"
            ]
          },
          "metadata": {}
        },
        {
          "output_type": "stream",
          "name": "stdout",
          "text": [
            "{'d_in': 143, 'n_blocks': 4, 'd_main': 512, 'd_hidden': 256, 'dropout_first': 0.5780125460895813, 'dropout_second': 0.009627060759378026, 'd_out': 19, 'batch_size': 256, 'epoch': 31, 'weight_decay': 1.1538077692527182}\n",
            "0.015891030844549528\n"
          ]
        },
        {
          "output_type": "display_data",
          "data": {
            "text/plain": [
              "<IPython.core.display.HTML object>"
            ],
            "text/html": [
              "Tracking run with wandb version 0.13.2"
            ]
          },
          "metadata": {}
        },
        {
          "output_type": "display_data",
          "data": {
            "text/plain": [
              "<IPython.core.display.HTML object>"
            ],
            "text/html": [
              "W&B syncing is set to <code>`offline`<code> in this directory.  <br/>Run <code>`wandb online`<code> or set <code>WANDB_MODE=online<code> to enable cloud syncing."
            ]
          },
          "metadata": {}
        },
        {
          "output_type": "display_data",
          "data": {
            "text/plain": [
              "<IPython.core.display.HTML object>"
            ],
            "text/html": [
              "Waiting for W&B process to finish... <strong style=\"color:green\">(success).</strong>"
            ]
          },
          "metadata": {}
        },
        {
          "output_type": "display_data",
          "data": {
            "text/plain": [
              "VBox(children=(Label(value='0.000 MB of 0.000 MB uploaded (0.000 MB deduped)\\r'), FloatProgress(value=1.0, max…"
            ],
            "application/vnd.jupyter.widget-view+json": {
              "version_major": 2,
              "version_minor": 0,
              "model_id": "c0e5962bb8914546a932e1c5f4e52f38"
            }
          },
          "metadata": {}
        },
        {
          "output_type": "display_data",
          "data": {
            "text/plain": [
              "<IPython.core.display.HTML object>"
            ],
            "text/html": [
              "You can sync this run to the cloud by running:<br/><code>wandb sync /content/wandb/offline-run-20220828_120605-3myz9o89<code>"
            ]
          },
          "metadata": {}
        },
        {
          "output_type": "display_data",
          "data": {
            "text/plain": [
              "<IPython.core.display.HTML object>"
            ],
            "text/html": [
              "Find logs at: <code>./wandb/offline-run-20220828_120605-3myz9o89/logs</code>"
            ]
          },
          "metadata": {}
        },
        {
          "output_type": "stream",
          "name": "stdout",
          "text": [
            "{'d_in': 143, 'n_blocks': 4, 'd_main': 512, 'd_hidden': 512, 'dropout_first': 0.1275218752849797, 'dropout_second': 0.2112793774098568, 'd_out': 19, 'batch_size': 256, 'epoch': 31, 'weight_decay': 0.9850353876377278}\n",
            "0.03560289612921192\n"
          ]
        },
        {
          "output_type": "display_data",
          "data": {
            "text/plain": [
              "<IPython.core.display.HTML object>"
            ],
            "text/html": [
              "Tracking run with wandb version 0.13.2"
            ]
          },
          "metadata": {}
        },
        {
          "output_type": "display_data",
          "data": {
            "text/plain": [
              "<IPython.core.display.HTML object>"
            ],
            "text/html": [
              "W&B syncing is set to <code>`offline`<code> in this directory.  <br/>Run <code>`wandb online`<code> or set <code>WANDB_MODE=online<code> to enable cloud syncing."
            ]
          },
          "metadata": {}
        },
        {
          "output_type": "display_data",
          "data": {
            "text/plain": [
              "<IPython.core.display.HTML object>"
            ],
            "text/html": [
              "Waiting for W&B process to finish... <strong style=\"color:green\">(success).</strong>"
            ]
          },
          "metadata": {}
        },
        {
          "output_type": "display_data",
          "data": {
            "text/plain": [
              "VBox(children=(Label(value='0.000 MB of 0.000 MB uploaded (0.000 MB deduped)\\r'), FloatProgress(value=1.0, max…"
            ],
            "application/vnd.jupyter.widget-view+json": {
              "version_major": 2,
              "version_minor": 0,
              "model_id": "459725b15dc34f3e9f34bbf15f23a072"
            }
          },
          "metadata": {}
        },
        {
          "output_type": "display_data",
          "data": {
            "text/plain": [
              "<IPython.core.display.HTML object>"
            ],
            "text/html": [
              "You can sync this run to the cloud by running:<br/><code>wandb sync /content/wandb/offline-run-20220828_120609-328sn6c7<code>"
            ]
          },
          "metadata": {}
        },
        {
          "output_type": "display_data",
          "data": {
            "text/plain": [
              "<IPython.core.display.HTML object>"
            ],
            "text/html": [
              "Find logs at: <code>./wandb/offline-run-20220828_120609-328sn6c7/logs</code>"
            ]
          },
          "metadata": {}
        },
        {
          "output_type": "stream",
          "name": "stdout",
          "text": [
            "{'d_in': 143, 'n_blocks': 5, 'd_main': 256, 'd_hidden': 256, 'dropout_first': 0.21208489199145175, 'dropout_second': 0.5121469354668658, 'd_out': 19, 'batch_size': 256, 'epoch': 31, 'weight_decay': 0.390485975596089}\n",
            "0.020788605235403344\n"
          ]
        },
        {
          "output_type": "display_data",
          "data": {
            "text/plain": [
              "<IPython.core.display.HTML object>"
            ],
            "text/html": [
              "Tracking run with wandb version 0.13.2"
            ]
          },
          "metadata": {}
        },
        {
          "output_type": "display_data",
          "data": {
            "text/plain": [
              "<IPython.core.display.HTML object>"
            ],
            "text/html": [
              "W&B syncing is set to <code>`offline`<code> in this directory.  <br/>Run <code>`wandb online`<code> or set <code>WANDB_MODE=online<code> to enable cloud syncing."
            ]
          },
          "metadata": {}
        },
        {
          "output_type": "display_data",
          "data": {
            "text/plain": [
              "<IPython.core.display.HTML object>"
            ],
            "text/html": [
              "Waiting for W&B process to finish... <strong style=\"color:green\">(success).</strong>"
            ]
          },
          "metadata": {}
        },
        {
          "output_type": "display_data",
          "data": {
            "text/plain": [
              "VBox(children=(Label(value='0.000 MB of 0.000 MB uploaded (0.000 MB deduped)\\r'), FloatProgress(value=1.0, max…"
            ],
            "application/vnd.jupyter.widget-view+json": {
              "version_major": 2,
              "version_minor": 0,
              "model_id": "94d47b76bba14aadb0816c927abd7397"
            }
          },
          "metadata": {}
        },
        {
          "output_type": "display_data",
          "data": {
            "text/plain": [
              "<IPython.core.display.HTML object>"
            ],
            "text/html": [
              "You can sync this run to the cloud by running:<br/><code>wandb sync /content/wandb/offline-run-20220828_120614-2bj8kko4<code>"
            ]
          },
          "metadata": {}
        },
        {
          "output_type": "display_data",
          "data": {
            "text/plain": [
              "<IPython.core.display.HTML object>"
            ],
            "text/html": [
              "Find logs at: <code>./wandb/offline-run-20220828_120614-2bj8kko4/logs</code>"
            ]
          },
          "metadata": {}
        },
        {
          "output_type": "stream",
          "name": "stdout",
          "text": [
            "{'d_in': 143, 'n_blocks': 4, 'd_main': 512, 'd_hidden': 256, 'dropout_first': 0.7854289723852617, 'dropout_second': 0.6142280672210659, 'd_out': 19, 'batch_size': 256, 'epoch': 31, 'weight_decay': 1.4449042305230106}\n",
            "0.038613211740483856\n"
          ]
        },
        {
          "output_type": "display_data",
          "data": {
            "text/plain": [
              "<IPython.core.display.HTML object>"
            ],
            "text/html": [
              "Tracking run with wandb version 0.13.2"
            ]
          },
          "metadata": {}
        },
        {
          "output_type": "display_data",
          "data": {
            "text/plain": [
              "<IPython.core.display.HTML object>"
            ],
            "text/html": [
              "W&B syncing is set to <code>`offline`<code> in this directory.  <br/>Run <code>`wandb online`<code> or set <code>WANDB_MODE=online<code> to enable cloud syncing."
            ]
          },
          "metadata": {}
        },
        {
          "output_type": "display_data",
          "data": {
            "text/plain": [
              "<IPython.core.display.HTML object>"
            ],
            "text/html": [
              "Waiting for W&B process to finish... <strong style=\"color:green\">(success).</strong>"
            ]
          },
          "metadata": {}
        },
        {
          "output_type": "display_data",
          "data": {
            "text/plain": [
              "VBox(children=(Label(value='0.000 MB of 0.000 MB uploaded (0.000 MB deduped)\\r'), FloatProgress(value=1.0, max…"
            ],
            "application/vnd.jupyter.widget-view+json": {
              "version_major": 2,
              "version_minor": 0,
              "model_id": "c88e1b9c68bf460f9383efdf200afb27"
            }
          },
          "metadata": {}
        },
        {
          "output_type": "display_data",
          "data": {
            "text/plain": [
              "<IPython.core.display.HTML object>"
            ],
            "text/html": [
              "You can sync this run to the cloud by running:<br/><code>wandb sync /content/wandb/offline-run-20220828_120619-2q6nj3re<code>"
            ]
          },
          "metadata": {}
        },
        {
          "output_type": "display_data",
          "data": {
            "text/plain": [
              "<IPython.core.display.HTML object>"
            ],
            "text/html": [
              "Find logs at: <code>./wandb/offline-run-20220828_120619-2q6nj3re/logs</code>"
            ]
          },
          "metadata": {}
        },
        {
          "output_type": "stream",
          "name": "stdout",
          "text": [
            "{'d_in': 143, 'n_blocks': 5, 'd_main': 512, 'd_hidden': 256, 'dropout_first': 0.5526789299184808, 'dropout_second': 0.5851458625665333, 'd_out': 19, 'batch_size': 256, 'epoch': 31, 'weight_decay': 0.5615447248817116}\n",
            "0.03574264189398272\n"
          ]
        },
        {
          "output_type": "display_data",
          "data": {
            "text/plain": [
              "<IPython.core.display.HTML object>"
            ],
            "text/html": [
              "Tracking run with wandb version 0.13.2"
            ]
          },
          "metadata": {}
        },
        {
          "output_type": "display_data",
          "data": {
            "text/plain": [
              "<IPython.core.display.HTML object>"
            ],
            "text/html": [
              "W&B syncing is set to <code>`offline`<code> in this directory.  <br/>Run <code>`wandb online`<code> or set <code>WANDB_MODE=online<code> to enable cloud syncing."
            ]
          },
          "metadata": {}
        },
        {
          "output_type": "display_data",
          "data": {
            "text/plain": [
              "<IPython.core.display.HTML object>"
            ],
            "text/html": [
              "Waiting for W&B process to finish... <strong style=\"color:green\">(success).</strong>"
            ]
          },
          "metadata": {}
        },
        {
          "output_type": "display_data",
          "data": {
            "text/plain": [
              "VBox(children=(Label(value='0.000 MB of 0.000 MB uploaded (0.000 MB deduped)\\r'), FloatProgress(value=1.0, max…"
            ],
            "application/vnd.jupyter.widget-view+json": {
              "version_major": 2,
              "version_minor": 0,
              "model_id": "cbefeb5790eb4ea9a4e50c5247879198"
            }
          },
          "metadata": {}
        },
        {
          "output_type": "display_data",
          "data": {
            "text/plain": [
              "<IPython.core.display.HTML object>"
            ],
            "text/html": [
              "You can sync this run to the cloud by running:<br/><code>wandb sync /content/wandb/offline-run-20220828_120625-11auic7b<code>"
            ]
          },
          "metadata": {}
        },
        {
          "output_type": "display_data",
          "data": {
            "text/plain": [
              "<IPython.core.display.HTML object>"
            ],
            "text/html": [
              "Find logs at: <code>./wandb/offline-run-20220828_120625-11auic7b/logs</code>"
            ]
          },
          "metadata": {}
        },
        {
          "output_type": "stream",
          "name": "stdout",
          "text": [
            "{'d_in': 143, 'n_blocks': 5, 'd_main': 512, 'd_hidden': 256, 'dropout_first': 0.017225922782578007, 'dropout_second': 0.2697131037579685, 'd_out': 19, 'batch_size': 256, 'epoch': 31, 'weight_decay': 0.04863193286290768}\n",
            "0.029036664188063555\n"
          ]
        },
        {
          "output_type": "display_data",
          "data": {
            "text/plain": [
              "<IPython.core.display.HTML object>"
            ],
            "text/html": [
              "Tracking run with wandb version 0.13.2"
            ]
          },
          "metadata": {}
        },
        {
          "output_type": "display_data",
          "data": {
            "text/plain": [
              "<IPython.core.display.HTML object>"
            ],
            "text/html": [
              "W&B syncing is set to <code>`offline`<code> in this directory.  <br/>Run <code>`wandb online`<code> or set <code>WANDB_MODE=online<code> to enable cloud syncing."
            ]
          },
          "metadata": {}
        },
        {
          "output_type": "display_data",
          "data": {
            "text/plain": [
              "<IPython.core.display.HTML object>"
            ],
            "text/html": [
              "Waiting for W&B process to finish... <strong style=\"color:green\">(success).</strong>"
            ]
          },
          "metadata": {}
        },
        {
          "output_type": "display_data",
          "data": {
            "text/plain": [
              "VBox(children=(Label(value='0.000 MB of 0.000 MB uploaded (0.000 MB deduped)\\r'), FloatProgress(value=1.0, max…"
            ],
            "application/vnd.jupyter.widget-view+json": {
              "version_major": 2,
              "version_minor": 0,
              "model_id": "011aa7e9943c4a32822e9de6e476b431"
            }
          },
          "metadata": {}
        },
        {
          "output_type": "display_data",
          "data": {
            "text/plain": [
              "<IPython.core.display.HTML object>"
            ],
            "text/html": [
              "You can sync this run to the cloud by running:<br/><code>wandb sync /content/wandb/offline-run-20220828_120630-3dxl572p<code>"
            ]
          },
          "metadata": {}
        },
        {
          "output_type": "display_data",
          "data": {
            "text/plain": [
              "<IPython.core.display.HTML object>"
            ],
            "text/html": [
              "Find logs at: <code>./wandb/offline-run-20220828_120630-3dxl572p/logs</code>"
            ]
          },
          "metadata": {}
        },
        {
          "output_type": "stream",
          "name": "stdout",
          "text": [
            "{'d_in': 143, 'n_blocks': 5, 'd_main': 512, 'd_hidden': 256, 'dropout_first': 0.14821610684485909, 'dropout_second': 0.6292948049007299, 'd_out': 19, 'batch_size': 256, 'epoch': 31, 'weight_decay': 1.2909445918143356}\n",
            "0.023000924084515418\n"
          ]
        },
        {
          "output_type": "display_data",
          "data": {
            "text/plain": [
              "<IPython.core.display.HTML object>"
            ],
            "text/html": [
              "Tracking run with wandb version 0.13.2"
            ]
          },
          "metadata": {}
        },
        {
          "output_type": "display_data",
          "data": {
            "text/plain": [
              "<IPython.core.display.HTML object>"
            ],
            "text/html": [
              "W&B syncing is set to <code>`offline`<code> in this directory.  <br/>Run <code>`wandb online`<code> or set <code>WANDB_MODE=online<code> to enable cloud syncing."
            ]
          },
          "metadata": {}
        },
        {
          "output_type": "display_data",
          "data": {
            "text/plain": [
              "<IPython.core.display.HTML object>"
            ],
            "text/html": [
              "Waiting for W&B process to finish... <strong style=\"color:green\">(success).</strong>"
            ]
          },
          "metadata": {}
        },
        {
          "output_type": "display_data",
          "data": {
            "text/plain": [
              "VBox(children=(Label(value='0.000 MB of 0.000 MB uploaded (0.000 MB deduped)\\r'), FloatProgress(value=1.0, max…"
            ],
            "application/vnd.jupyter.widget-view+json": {
              "version_major": 2,
              "version_minor": 0,
              "model_id": "fa233a38ca00499984349e0f764a3c5b"
            }
          },
          "metadata": {}
        },
        {
          "output_type": "display_data",
          "data": {
            "text/plain": [
              "<IPython.core.display.HTML object>"
            ],
            "text/html": [
              "You can sync this run to the cloud by running:<br/><code>wandb sync /content/wandb/offline-run-20220828_120635-z97d0hhm<code>"
            ]
          },
          "metadata": {}
        },
        {
          "output_type": "display_data",
          "data": {
            "text/plain": [
              "<IPython.core.display.HTML object>"
            ],
            "text/html": [
              "Find logs at: <code>./wandb/offline-run-20220828_120635-z97d0hhm/logs</code>"
            ]
          },
          "metadata": {}
        },
        {
          "output_type": "stream",
          "name": "stdout",
          "text": [
            "{'d_in': 143, 'n_blocks': 5, 'd_main': 256, 'd_hidden': 256, 'dropout_first': 0.5934813232061655, 'dropout_second': 0.2808648280691347, 'd_out': 19, 'batch_size': 256, 'epoch': 31, 'weight_decay': 0.3542213588140979}\n",
            "0.016204187082045865\n"
          ]
        },
        {
          "output_type": "display_data",
          "data": {
            "text/plain": [
              "<IPython.core.display.HTML object>"
            ],
            "text/html": [
              "Tracking run with wandb version 0.13.2"
            ]
          },
          "metadata": {}
        },
        {
          "output_type": "display_data",
          "data": {
            "text/plain": [
              "<IPython.core.display.HTML object>"
            ],
            "text/html": [
              "W&B syncing is set to <code>`offline`<code> in this directory.  <br/>Run <code>`wandb online`<code> or set <code>WANDB_MODE=online<code> to enable cloud syncing."
            ]
          },
          "metadata": {}
        },
        {
          "output_type": "display_data",
          "data": {
            "text/plain": [
              "<IPython.core.display.HTML object>"
            ],
            "text/html": [
              "Waiting for W&B process to finish... <strong style=\"color:green\">(success).</strong>"
            ]
          },
          "metadata": {}
        },
        {
          "output_type": "display_data",
          "data": {
            "text/plain": [
              "VBox(children=(Label(value='0.000 MB of 0.000 MB uploaded (0.000 MB deduped)\\r'), FloatProgress(value=1.0, max…"
            ],
            "application/vnd.jupyter.widget-view+json": {
              "version_major": 2,
              "version_minor": 0,
              "model_id": "cb302596ae0b443787772e0a5d61340f"
            }
          },
          "metadata": {}
        },
        {
          "output_type": "display_data",
          "data": {
            "text/plain": [
              "<IPython.core.display.HTML object>"
            ],
            "text/html": [
              "You can sync this run to the cloud by running:<br/><code>wandb sync /content/wandb/offline-run-20220828_120641-3btkfeoy<code>"
            ]
          },
          "metadata": {}
        },
        {
          "output_type": "display_data",
          "data": {
            "text/plain": [
              "<IPython.core.display.HTML object>"
            ],
            "text/html": [
              "Find logs at: <code>./wandb/offline-run-20220828_120641-3btkfeoy/logs</code>"
            ]
          },
          "metadata": {}
        },
        {
          "output_type": "stream",
          "name": "stdout",
          "text": [
            "{'d_in': 143, 'n_blocks': 5, 'd_main': 512, 'd_hidden': 256, 'dropout_first': 0.7166944824699275, 'dropout_second': 0.6737081829325912, 'd_out': 19, 'batch_size': 256, 'epoch': 62, 'weight_decay': 1.5903723895374073}\n",
            "0.012726860254083485\n"
          ]
        },
        {
          "output_type": "display_data",
          "data": {
            "text/plain": [
              "<IPython.core.display.HTML object>"
            ],
            "text/html": [
              "Tracking run with wandb version 0.13.2"
            ]
          },
          "metadata": {}
        },
        {
          "output_type": "display_data",
          "data": {
            "text/plain": [
              "<IPython.core.display.HTML object>"
            ],
            "text/html": [
              "W&B syncing is set to <code>`offline`<code> in this directory.  <br/>Run <code>`wandb online`<code> or set <code>WANDB_MODE=online<code> to enable cloud syncing."
            ]
          },
          "metadata": {}
        },
        {
          "output_type": "display_data",
          "data": {
            "text/plain": [
              "<IPython.core.display.HTML object>"
            ],
            "text/html": [
              "Waiting for W&B process to finish... <strong style=\"color:green\">(success).</strong>"
            ]
          },
          "metadata": {}
        },
        {
          "output_type": "display_data",
          "data": {
            "text/plain": [
              "VBox(children=(Label(value='0.000 MB of 0.000 MB uploaded (0.000 MB deduped)\\r'), FloatProgress(value=1.0, max…"
            ],
            "application/vnd.jupyter.widget-view+json": {
              "version_major": 2,
              "version_minor": 0,
              "model_id": "69f8da994c1c4e70908c9f469c44c8da"
            }
          },
          "metadata": {}
        },
        {
          "output_type": "display_data",
          "data": {
            "text/plain": [
              "<IPython.core.display.HTML object>"
            ],
            "text/html": [
              "You can sync this run to the cloud by running:<br/><code>wandb sync /content/wandb/offline-run-20220828_120648-391go0cd<code>"
            ]
          },
          "metadata": {}
        },
        {
          "output_type": "display_data",
          "data": {
            "text/plain": [
              "<IPython.core.display.HTML object>"
            ],
            "text/html": [
              "Find logs at: <code>./wandb/offline-run-20220828_120648-391go0cd/logs</code>"
            ]
          },
          "metadata": {}
        },
        {
          "output_type": "stream",
          "name": "stdout",
          "text": [
            "{'d_in': 143, 'n_blocks': 5, 'd_main': 256, 'd_hidden': 512, 'dropout_first': 0.3778970162627111, 'dropout_second': 0.2623277215506513, 'd_out': 19, 'batch_size': 256, 'epoch': 62, 'weight_decay': 0.5416645025241484}\n",
            "0.029650740467437386\n"
          ]
        },
        {
          "output_type": "display_data",
          "data": {
            "text/plain": [
              "<IPython.core.display.HTML object>"
            ],
            "text/html": [
              "Tracking run with wandb version 0.13.2"
            ]
          },
          "metadata": {}
        },
        {
          "output_type": "display_data",
          "data": {
            "text/plain": [
              "<IPython.core.display.HTML object>"
            ],
            "text/html": [
              "W&B syncing is set to <code>`offline`<code> in this directory.  <br/>Run <code>`wandb online`<code> or set <code>WANDB_MODE=online<code> to enable cloud syncing."
            ]
          },
          "metadata": {}
        },
        {
          "output_type": "display_data",
          "data": {
            "text/plain": [
              "<IPython.core.display.HTML object>"
            ],
            "text/html": [
              "Waiting for W&B process to finish... <strong style=\"color:green\">(success).</strong>"
            ]
          },
          "metadata": {}
        },
        {
          "output_type": "display_data",
          "data": {
            "text/plain": [
              "VBox(children=(Label(value='0.000 MB of 0.000 MB uploaded (0.000 MB deduped)\\r'), FloatProgress(value=1.0, max…"
            ],
            "application/vnd.jupyter.widget-view+json": {
              "version_major": 2,
              "version_minor": 0,
              "model_id": "5a6a29da4a5d4bf4a7981a4cb34d4cac"
            }
          },
          "metadata": {}
        },
        {
          "output_type": "display_data",
          "data": {
            "text/plain": [
              "<IPython.core.display.HTML object>"
            ],
            "text/html": [
              "You can sync this run to the cloud by running:<br/><code>wandb sync /content/wandb/offline-run-20220828_120654-2lv0y3fx<code>"
            ]
          },
          "metadata": {}
        },
        {
          "output_type": "display_data",
          "data": {
            "text/plain": [
              "<IPython.core.display.HTML object>"
            ],
            "text/html": [
              "Find logs at: <code>./wandb/offline-run-20220828_120654-2lv0y3fx/logs</code>"
            ]
          },
          "metadata": {}
        },
        {
          "output_type": "stream",
          "name": "stdout",
          "text": [
            "{'d_in': 143, 'n_blocks': 5, 'd_main': 512, 'd_hidden': 512, 'dropout_first': 0.17669877790298927, 'dropout_second': 0.5643500096045972, 'd_out': 19, 'batch_size': 256, 'epoch': 62, 'weight_decay': 0.8779428414112722}\n",
            "0.034682104960742734\n"
          ]
        },
        {
          "output_type": "display_data",
          "data": {
            "text/plain": [
              "<IPython.core.display.HTML object>"
            ],
            "text/html": [
              "Tracking run with wandb version 0.13.2"
            ]
          },
          "metadata": {}
        },
        {
          "output_type": "display_data",
          "data": {
            "text/plain": [
              "<IPython.core.display.HTML object>"
            ],
            "text/html": [
              "W&B syncing is set to <code>`offline`<code> in this directory.  <br/>Run <code>`wandb online`<code> or set <code>WANDB_MODE=online<code> to enable cloud syncing."
            ]
          },
          "metadata": {}
        },
        {
          "output_type": "display_data",
          "data": {
            "text/plain": [
              "<IPython.core.display.HTML object>"
            ],
            "text/html": [
              "Waiting for W&B process to finish... <strong style=\"color:green\">(success).</strong>"
            ]
          },
          "metadata": {}
        },
        {
          "output_type": "display_data",
          "data": {
            "text/plain": [
              "VBox(children=(Label(value='0.000 MB of 0.000 MB uploaded (0.000 MB deduped)\\r'), FloatProgress(value=1.0, max…"
            ],
            "application/vnd.jupyter.widget-view+json": {
              "version_major": 2,
              "version_minor": 0,
              "model_id": "c327527c51a8482bb07c10b3faf4345f"
            }
          },
          "metadata": {}
        },
        {
          "output_type": "display_data",
          "data": {
            "text/plain": [
              "<IPython.core.display.HTML object>"
            ],
            "text/html": [
              "You can sync this run to the cloud by running:<br/><code>wandb sync /content/wandb/offline-run-20220828_120701-2alw4g2c<code>"
            ]
          },
          "metadata": {}
        },
        {
          "output_type": "display_data",
          "data": {
            "text/plain": [
              "<IPython.core.display.HTML object>"
            ],
            "text/html": [
              "Find logs at: <code>./wandb/offline-run-20220828_120701-2alw4g2c/logs</code>"
            ]
          },
          "metadata": {}
        },
        {
          "output_type": "stream",
          "name": "stdout",
          "text": [
            "{'d_in': 143, 'n_blocks': 4, 'd_main': 512, 'd_hidden': 512, 'dropout_first': 0.4936239508355729, 'dropout_second': 0.12900575224853322, 'd_out': 19, 'batch_size': 256, 'epoch': 62, 'weight_decay': 0.15691276268453191}\n",
            "0.025411830310462093\n"
          ]
        },
        {
          "output_type": "display_data",
          "data": {
            "text/plain": [
              "<IPython.core.display.HTML object>"
            ],
            "text/html": [
              "Tracking run with wandb version 0.13.2"
            ]
          },
          "metadata": {}
        },
        {
          "output_type": "display_data",
          "data": {
            "text/plain": [
              "<IPython.core.display.HTML object>"
            ],
            "text/html": [
              "W&B syncing is set to <code>`offline`<code> in this directory.  <br/>Run <code>`wandb online`<code> or set <code>WANDB_MODE=online<code> to enable cloud syncing."
            ]
          },
          "metadata": {}
        },
        {
          "output_type": "display_data",
          "data": {
            "text/plain": [
              "<IPython.core.display.HTML object>"
            ],
            "text/html": [
              "Waiting for W&B process to finish... <strong style=\"color:green\">(success).</strong>"
            ]
          },
          "metadata": {}
        },
        {
          "output_type": "display_data",
          "data": {
            "text/plain": [
              "VBox(children=(Label(value='0.000 MB of 0.000 MB uploaded (0.000 MB deduped)\\r'), FloatProgress(value=1.0, max…"
            ],
            "application/vnd.jupyter.widget-view+json": {
              "version_major": 2,
              "version_minor": 0,
              "model_id": "95df1e4211fd48a1bc6d97bff0df06b0"
            }
          },
          "metadata": {}
        },
        {
          "output_type": "display_data",
          "data": {
            "text/plain": [
              "<IPython.core.display.HTML object>"
            ],
            "text/html": [
              "You can sync this run to the cloud by running:<br/><code>wandb sync /content/wandb/offline-run-20220828_120708-8i9pj2ni<code>"
            ]
          },
          "metadata": {}
        },
        {
          "output_type": "display_data",
          "data": {
            "text/plain": [
              "<IPython.core.display.HTML object>"
            ],
            "text/html": [
              "Find logs at: <code>./wandb/offline-run-20220828_120708-8i9pj2ni/logs</code>"
            ]
          },
          "metadata": {}
        },
        {
          "output_type": "stream",
          "name": "stdout",
          "text": [
            "{'d_in': 143, 'n_blocks': 4, 'd_main': 512, 'd_hidden': 512, 'dropout_first': 0.4599303993767613, 'dropout_second': 0.47218267171027356, 'd_out': 19, 'batch_size': 256, 'epoch': 125, 'weight_decay': 1.2701873017352876}\n",
            "0.02684404423968852\n"
          ]
        },
        {
          "output_type": "display_data",
          "data": {
            "text/plain": [
              "<IPython.core.display.HTML object>"
            ],
            "text/html": [
              "Tracking run with wandb version 0.13.2"
            ]
          },
          "metadata": {}
        },
        {
          "output_type": "display_data",
          "data": {
            "text/plain": [
              "<IPython.core.display.HTML object>"
            ],
            "text/html": [
              "W&B syncing is set to <code>`offline`<code> in this directory.  <br/>Run <code>`wandb online`<code> or set <code>WANDB_MODE=online<code> to enable cloud syncing."
            ]
          },
          "metadata": {}
        },
        {
          "output_type": "display_data",
          "data": {
            "text/plain": [
              "<IPython.core.display.HTML object>"
            ],
            "text/html": [
              "Waiting for W&B process to finish... <strong style=\"color:green\">(success).</strong>"
            ]
          },
          "metadata": {}
        },
        {
          "output_type": "display_data",
          "data": {
            "text/plain": [
              "VBox(children=(Label(value='0.000 MB of 0.000 MB uploaded (0.000 MB deduped)\\r'), FloatProgress(value=1.0, max…"
            ],
            "application/vnd.jupyter.widget-view+json": {
              "version_major": 2,
              "version_minor": 0,
              "model_id": "d1de3ade4ed74b25ba78258c6b3213e0"
            }
          },
          "metadata": {}
        },
        {
          "output_type": "display_data",
          "data": {
            "text/plain": [
              "<IPython.core.display.HTML object>"
            ],
            "text/html": [
              "You can sync this run to the cloud by running:<br/><code>wandb sync /content/wandb/offline-run-20220828_120717-a2vnbamm<code>"
            ]
          },
          "metadata": {}
        },
        {
          "output_type": "display_data",
          "data": {
            "text/plain": [
              "<IPython.core.display.HTML object>"
            ],
            "text/html": [
              "Find logs at: <code>./wandb/offline-run-20220828_120717-a2vnbamm/logs</code>"
            ]
          },
          "metadata": {}
        },
        {
          "output_type": "stream",
          "name": "stdout",
          "text": [
            "{'d_in': 143, 'n_blocks': 5, 'd_main': 256, 'd_hidden': 512, 'dropout_first': 0.14397614332315062, 'dropout_second': 0.4594363055778315, 'd_out': 19, 'batch_size': 256, 'epoch': 125, 'weight_decay': 0.09060801954408904}\n",
            "0.03294889821904703\n"
          ]
        },
        {
          "output_type": "display_data",
          "data": {
            "text/plain": [
              "<IPython.core.display.HTML object>"
            ],
            "text/html": [
              "Tracking run with wandb version 0.13.2"
            ]
          },
          "metadata": {}
        },
        {
          "output_type": "display_data",
          "data": {
            "text/plain": [
              "<IPython.core.display.HTML object>"
            ],
            "text/html": [
              "W&B syncing is set to <code>`offline`<code> in this directory.  <br/>Run <code>`wandb online`<code> or set <code>WANDB_MODE=online<code> to enable cloud syncing."
            ]
          },
          "metadata": {}
        },
        {
          "output_type": "display_data",
          "data": {
            "text/plain": [
              "<IPython.core.display.HTML object>"
            ],
            "text/html": [
              "Waiting for W&B process to finish... <strong style=\"color:green\">(success).</strong>"
            ]
          },
          "metadata": {}
        },
        {
          "output_type": "display_data",
          "data": {
            "text/plain": [
              "VBox(children=(Label(value='0.000 MB of 0.000 MB uploaded (0.000 MB deduped)\\r'), FloatProgress(value=1.0, max…"
            ],
            "application/vnd.jupyter.widget-view+json": {
              "version_major": 2,
              "version_minor": 0,
              "model_id": "d8e449d6c2a94c98bb6ad77b91c09376"
            }
          },
          "metadata": {}
        },
        {
          "output_type": "display_data",
          "data": {
            "text/plain": [
              "<IPython.core.display.HTML object>"
            ],
            "text/html": [
              "You can sync this run to the cloud by running:<br/><code>wandb sync /content/wandb/offline-run-20220828_120728-2pxin67d<code>"
            ]
          },
          "metadata": {}
        },
        {
          "output_type": "display_data",
          "data": {
            "text/plain": [
              "<IPython.core.display.HTML object>"
            ],
            "text/html": [
              "Find logs at: <code>./wandb/offline-run-20220828_120728-2pxin67d/logs</code>"
            ]
          },
          "metadata": {}
        },
        {
          "output_type": "stream",
          "name": "stdout",
          "text": [
            "{'d_in': 143, 'n_blocks': 5, 'd_main': 256, 'd_hidden': 512, 'dropout_first': 0.5789134025079993, 'dropout_second': 0.44870398162945757, 'd_out': 19, 'batch_size': 256, 'epoch': 250, 'weight_decay': 0.7722052756015485}\n",
            "0.04035577188667825\n",
            "TERMINAtion\n",
            "TIME elapsed: 163.01245188713074\n",
            "limit: 60\n",
            "Best configuration  {'d_hidden': 256, 'd_main': 256, 'dropout_first': 0.22072049661777932, 'dropout_second': 0.4921028693685879, 'lr': 0.00022738055735631828, 'n_blocks': 4, 'weight_decay': 0.9875911927287815, 'budget': 15}\n",
            "Time elapsed (CPU time): 77.0570 seconds\n",
            "0.06273166036857368\n"
          ]
        }
      ]
    },
    {
      "cell_type": "code",
      "source": [
        "dehb.inc_config"
      ],
      "metadata": {
        "id": "u2Cnebwj5ACq",
        "outputId": "0ede4972-e6ef-44b1-c2b7-ada78c998901",
        "colab": {
          "base_uri": "https://localhost:8080/"
        }
      },
      "id": "u2Cnebwj5ACq",
      "execution_count": null,
      "outputs": [
        {
          "output_type": "execute_result",
          "data": {
            "text/plain": [
              "{'d_hidden': 256,\n",
              " 'd_main': 512,\n",
              " 'dropout_first': 0.44716087482514294,\n",
              " 'dropout_second': 0.1712805630460114,\n",
              " 'lr': 0.00012260057359187555,\n",
              " 'n_blocks': 4,\n",
              " 'weight_decay': 1.774425485152653,\n",
              " 'budget': 15}"
            ]
          },
          "metadata": {},
          "execution_count": 21
        }
      ]
    },
    {
      "cell_type": "code",
      "source": [
        "#train best model again with train + validation\n",
        "\n",
        "\n",
        "train_split = Split(x=current_dataset.train_pred_data,y=current_dataset.train_tar_data)\n",
        "test_split = Split(x=current_dataset.test_pred_data,y=current_dataset.test_tar_data)\n",
        "\n",
        "\n",
        "loss_fn = nn.BCEWithLogitsLoss()\n",
        "\n",
        "\n",
        "n_inputs, n_outputs = current_dataset.train_pred_data.shape[1], current_dataset.train_tar_data.shape[1]\n",
        "\n",
        "train_dataset = MyDataset(train_split)\n",
        "test_dataset = MyDataset(test_split)\n",
        "\n",
        "\n",
        "train_dataloader = DataLoader(train_dataset, batch_size=256)\n",
        "test_dataloader = DataLoader(test_dataset, batch_size=256)\n",
        "\n",
        "\n",
        "config = { \"d_in\":n_inputs,\n",
        "\"n_blocks\":dehb.inc_config['n_blocks'] ,\n",
        "\"d_main\": dehb.inc_config['d_main'],\n",
        "\"d_hidden\":dehb.inc_config['d_hidden'] ,\n",
        "\"dropout_first\": dehb.inc_config['dropout_first'],\n",
        "\"dropout_second\": dehb.inc_config['dropout_second'],\n",
        "\"d_out\":n_outputs}\n",
        "\n",
        "model = rtdl.ResNet.make_baseline(**config).to(device)  \n",
        "\n",
        "\n",
        "optimizer = torch.optim.AdamW(model.parameters(), lr= dehb.inc_config['lr'], weight_decay=dehb.inc_config['weight_decay'])\n",
        "budget = dehb.inc_config['budget']\n",
        "for t in range(budget):\n",
        "  train(train_dataloader, model, loss_fn, optimizer,ftt=False,dataset_test=test_dataloader)\n",
        "score_test = test(test_dataloader,model, loss_fn,ftt=False)\n",
        "\n",
        "print(\"Final Test F1: \"+ str(score_test))"
      ],
      "metadata": {
        "id": "mzPzoEv9kMUF",
        "colab": {
          "base_uri": "https://localhost:8080/"
        },
        "outputId": "cc0e699c-b19b-47d9-9a83-84db9f8be653"
      },
      "id": "mzPzoEv9kMUF",
      "execution_count": null,
      "outputs": [
        {
          "output_type": "stream",
          "name": "stdout",
          "text": [
            "(483, 143)\n",
            "(162, 143)\n",
            "Final Test F1: 0.0317020621729763\n"
          ]
        }
      ]
    },
    {
      "cell_type": "markdown",
      "source": [
        "Birds best config \n",
        "Best configuration  Configuration(values={\n",
        "  'batch_size': 512,\n",
        "  'd_hidden': 512,\n",
        "  'd_main': 512,\n",
        "  'dropout_first': 0.1313298666316309,\n",
        "  'dropout_second': 0.893321509153172,\n",
        "  'lr': 0.0005885030438145404,\n",
        "  'n_blocks': 5,\n",
        "  'weight_decay': 1.3577145790987095,\n",
        "})\n",
        "\n",
        "0.33484101594084664\n",
        "\n",
        "image\n",
        "Best configuration  Configuration(values={\n",
        "  'batch_size': 512,\n",
        "  'd_hidden': 256,\n",
        "  'd_main': 256,\n",
        "  'dropout_first': 0.2918100884129402,\n",
        "  'dropout_second': 0.31609682783434834,\n",
        "  'lr': 0.00040899758743869434,\n",
        "  'n_blocks': 5,\n",
        "  'weight_decay': 0.20364401159485068,\n",
        "})\n",
        "f1_score: 0.6979468113995667\n",
        "\n",
        "enron\n",
        "Best configuration  Configuration(values={  \n",
        "  'batch_size': 512,\n",
        "  'd_hidden': 512,\n",
        "  'd_main': 512,\n",
        "  'dropout_first': 0.48921216512890775,\n",
        "  'dropout_second': 0.3280479839105606,\n",
        "  'lr': 0.0007695393682412402,\n",
        "  'n_blocks': 4,\n",
        "  'weight_decay': 0.3702232586704518,\n",
        "})\n",
        "\n",
        "Time elapsed (CPU time): 2250.9658 seconds\n",
        "0.2257109478769928\n",
        "\n",
        "Best configuration  Configuration(values={\n",
        "  'batch_size': 512,\n",
        "  'd_hidden': 512,\n",
        "  'd_main': 512,\n",
        "  'dropout_first': 0.272715756283827,\n",
        "  'dropout_second': 0.05949379170911524,\n",
        "  'lr': 0.0009258646792713822,\n",
        "  'n_blocks': 5,\n",
        "  'weight_decay': 0.7332812066200931,\n",
        "})\n",
        "\n",
        "Time elapsed (CPU time): 2873.9166 seconds\n",
        "0.7350919546997978\n",
        "\n",
        "langlog  'epoch': 250,\n",
        "Best configuration  Configuration(values={\n",
        "  'dropout_first': 0.34125283174065396,\n",
        "  'dropout_second': 0.6942134407283955,\n",
        "  'weight_decay': 0.3967631469771825,\n",
        "})\n",
        "\n",
        "Time elapsed (CPU time): 2890.4874 seconds\n",
        "0.07342817451699311\n",
        "\n",
        "\n",
        "reuters 40594\n",
        "{'d_in': 243, 'n_blocks': 5, 'd_main': 512, 'd_hidden': 512, 'dropout_first': 0.1400190408305153,\n",
        " 'dropout_second': 0.005229411495629055, 'd_out': 7, 'batch_size': 512, 'epoch': 125, \n",
        " 'weight_decay': 2.6967112095782535}\n",
        "\n",
        "f1_score: 0.7010991205598903\n",
        "\n",
        "scene epoch 125\n",
        "Best configuration  Configuration(values={\n",
        "  'dropout_first': 0.08430729104528323,\n",
        "  'dropout_second': 0.5063009386369715,\n",
        "  'weight_decay': 1.660342003774594,\n",
        "})\n",
        "\n",
        "Time elapsed (CPU time): 4171.2697 seconds\n",
        "0.8116745455898824\n",
        "\n",
        "slashdot\n",
        "Best configuration  Configuration(values={\n",
        "  'dropout_first': 0.06713299053940118,\n",
        "  'dropout_second': 0.5121384023995134,\n",
        "  'weight_decay': 0.7054137921863408,\n",
        "})\n",
        "\n",
        "Time elapsed (CPU time): 3939.2768 seconds\n",
        "0.4050558337667007\n",
        "yeast\n",
        "Best configuration  Configuration(values={\n",
        "  'dropout_first': 0.6215387204074385,\n",
        "  'dropout_second': 0.25041387358251294,\n",
        "  'weight_decay': 1.4810282766872704,\n",
        "})\n",
        "\n",
        "Time elapsed (CPU time): 3388.5205 seconds\n",
        "0.47214501064303616\n"
      ],
      "metadata": {
        "id": "tDyNtWeP3DcY"
      },
      "id": "tDyNtWeP3DcY"
    },
    {
      "cell_type": "markdown",
      "source": [
        "# For testing\n"
      ],
      "metadata": {
        "id": "ZJm1zu-ciil3"
      },
      "id": "ZJm1zu-ciil3"
    },
    {
      "cell_type": "code",
      "source": [
        "# WORK IN PROGRESS\n",
        "import rtdl\n",
        "import wandb\n",
        "seed = 42\n",
        "\n",
        "loss_fn = nn.BCEWithLogitsLoss()\n",
        "\n",
        "best_config_dict = {dataset_num_to_id(0) : \n",
        "                    dataset_num_to_id(1) :\n",
        "                    dataset_num_to_id(2) :\n",
        "                    dataset_num_to_id(3) :\n",
        "                    dataset_num_to_id(4) :\n",
        "                    dataset_num_to_id(5) :\n",
        "                    dataset_num_to_id(6) :\n",
        "                    dataset_num_to_id(7) :\n",
        "                    dataset_num_to_id(8) :\n",
        "                    dataset_num_to_id(9) :\n",
        "                    }\n",
        "\n",
        "\n",
        "for id in range(10):\n",
        "  dataset = OpenMlDataset(dataset_num_to_id(id), threshold = 0.85, normalization_type=\"standard\", split=0.8, seed=seed)\n",
        "  dataset_name = dataset_number_to_name(id)\n",
        "  name = \"ResNet_Preprocess_\" + dataset_name\n",
        "  \n",
        "  pred_data, _ = dataset.get_predictors()\n",
        "  target_data, _ = dataset.get_targets()\n",
        "\n",
        "  cross_validation = CrossValidation(pred_data=pred_data, target_data=target_data, split_num=5)\n",
        "\n",
        "  n_inputs, n_outputs = pred_data.shape[1], target_data.shape[1]\n",
        "  \n",
        "  # To replace with \n",
        "\n",
        "  config = best_config_dict[dataset_num_to_id(id)]\n",
        "\n",
        "  config[\"batch_size\"] = 256\n",
        "\n",
        "  model = rtdl.ResNet.make_baseline(**config).to(device)  \n",
        "\n",
        "  print(config)\n",
        "  \n",
        "  # For cross validation\n",
        "  score_list = []\n",
        "  for i, (train_pred, train_tar, val_pred, val_tar) in enumerate(cross_validation):\n",
        "\n",
        "      train_split = Split(x=train_pred,y=train_tar)\n",
        "      test_split = Split(x=val_pred,y=val_tar)\n",
        "\n",
        "      model = rtdl.ResNet.make_baseline(**config).to(device) \n",
        "\n",
        "      optimizer = torch.optim.AdamW(model.parameters(), lr=1e-3, weight_decay=1e-05)\n",
        "\n",
        "      train_dataset = MyDataset(train_split)\n",
        "      test_dataset = MyDataset(test_split)\n",
        "\n",
        "\n",
        "      train_dataloader = DataLoader(train_dataset, batch_size=512)\n",
        "      test_dataloader = DataLoader(test_dataset, batch_size=512)\n",
        "\n",
        "      for t in range(budget):\n",
        "        train(train_dataloader, model, loss_fn, optimizer,ftt=False,dataset_test=test_dataloader)\n",
        "      \n",
        "      score_test = test(test_dataloader,model, loss_fn,ftt=False)\n",
        "\n",
        "      score_list.append(score_test)\n",
        "\n",
        "      del model\n",
        "      torch.cuda.empty_cache()\n",
        "\n",
        "      print(\"f1_score: \" + str(score_test))\n",
        "\n",
        "    # Get average and std\n",
        "    score_array = np.array(score_list)\n",
        "    avg_score = np.mean(score_array)\n",
        "    std_score = np.std(score_array)\n",
        "    print(\"Cross validation score : average \", avg_score\", standard deviation \", std_score)\n",
        "\n",
        "\n",
        "    # Leave one out test\n",
        "    test_pred = dataset.get_test_predictors()\n",
        "    test_target = dataset.get_test_target()\n",
        "    train_split = Split(x=pred_data,y=target_data)\n",
        "    test_split = Split(x=test_pred,y=test_target)\n",
        "    \n",
        "    model = rtdl.ResNet.make_baseline(**config).to(device) \n",
        "\n",
        "    optimizer = torch.optim.AdamW(model.parameters(), lr=1e-3, weight_decay=1e-05)\n",
        "\n",
        "    train_dataset = MyDataset(train_split)\n",
        "    test_dataset = MyDataset(test_split)\n",
        "\n",
        "\n",
        "    train_dataloader = DataLoader(train_dataset, batch_size=512)\n",
        "    test_dataloader = DataLoader(test_dataset, batch_size=512)\n",
        "\n",
        "    for t in range(budget):\n",
        "      train(train_dataloader, model, loss_fn, optimizer,ftt=False,dataset_test=test_dataloader)\n",
        "    \n",
        "    score_test = test(test_dataloader,model, loss_fn,ftt=False)\n",
        "\n",
        "    score_list.append(score_test)\n",
        "\n",
        "    del model\n",
        "    torch.cuda.empty_cache()\n",
        "\n",
        "    print(\"f1_score: \" + str(score_test))\n",
        "\n"
      ],
      "metadata": {
        "id": "ZhvOGyaLinUb"
      },
      "id": "ZhvOGyaLinUb",
      "execution_count": null,
      "outputs": []
    }
  ],
  "metadata": {
    "accelerator": "GPU",
    "colab": {
      "collapsed_sections": [
        "992c99fb",
        "YwTQag8A7Udh",
        "FynifhSy7hpv"
      ],
      "name": "DEHB_ResNet (1).ipynb",
      "provenance": []
    },
    "gpuClass": "standard",
    "kernelspec": {
      "display_name": "Python 3 (ipykernel)",
      "language": "python",
      "name": "python3"
    },
    "language_info": {
      "codemirror_mode": {
        "name": "ipython",
        "version": 3
      },
      "file_extension": ".py",
      "mimetype": "text/x-python",
      "name": "python",
      "nbconvert_exporter": "python",
      "pygments_lexer": "ipython3",
      "version": "3.8.13"
    },
    "widgets": {
      "application/vnd.jupyter.widget-state+json": {
        "2e540392b71249c980fbd6d3a5b20769": {
          "model_module": "@jupyter-widgets/controls",
          "model_name": "VBoxModel",
          "model_module_version": "1.5.0",
          "state": {
            "_dom_classes": [],
            "_model_module": "@jupyter-widgets/controls",
            "_model_module_version": "1.5.0",
            "_model_name": "VBoxModel",
            "_view_count": null,
            "_view_module": "@jupyter-widgets/controls",
            "_view_module_version": "1.5.0",
            "_view_name": "VBoxView",
            "box_style": "",
            "children": [
              "IPY_MODEL_fa8095e256094a438121580bbb78aafe",
              "IPY_MODEL_dc0a307f39f94684bcb252c5752f5278"
            ],
            "layout": "IPY_MODEL_266ccfc889404609a2844031d4e25c4d"
          }
        },
        "fa8095e256094a438121580bbb78aafe": {
          "model_module": "@jupyter-widgets/controls",
          "model_name": "LabelModel",
          "model_module_version": "1.5.0",
          "state": {
            "_dom_classes": [],
            "_model_module": "@jupyter-widgets/controls",
            "_model_module_version": "1.5.0",
            "_model_name": "LabelModel",
            "_view_count": null,
            "_view_module": "@jupyter-widgets/controls",
            "_view_module_version": "1.5.0",
            "_view_name": "LabelView",
            "description": "",
            "description_tooltip": null,
            "layout": "IPY_MODEL_1abc9fbef70e4fadb15ee6dfbd7ab4e2",
            "placeholder": "​",
            "style": "IPY_MODEL_96d118c669144dd1b9ca154e0b36eacb",
            "value": "0.000 MB of 0.000 MB uploaded (0.000 MB deduped)\r"
          }
        },
        "dc0a307f39f94684bcb252c5752f5278": {
          "model_module": "@jupyter-widgets/controls",
          "model_name": "FloatProgressModel",
          "model_module_version": "1.5.0",
          "state": {
            "_dom_classes": [],
            "_model_module": "@jupyter-widgets/controls",
            "_model_module_version": "1.5.0",
            "_model_name": "FloatProgressModel",
            "_view_count": null,
            "_view_module": "@jupyter-widgets/controls",
            "_view_module_version": "1.5.0",
            "_view_name": "ProgressView",
            "bar_style": "",
            "description": "",
            "description_tooltip": null,
            "layout": "IPY_MODEL_b02e892fada24f0895eda5962089c377",
            "max": 1,
            "min": 0,
            "orientation": "horizontal",
            "style": "IPY_MODEL_3a44ff45d9154d32b98ccef803bd4276",
            "value": 1
          }
        },
        "266ccfc889404609a2844031d4e25c4d": {
          "model_module": "@jupyter-widgets/base",
          "model_name": "LayoutModel",
          "model_module_version": "1.2.0",
          "state": {
            "_model_module": "@jupyter-widgets/base",
            "_model_module_version": "1.2.0",
            "_model_name": "LayoutModel",
            "_view_count": null,
            "_view_module": "@jupyter-widgets/base",
            "_view_module_version": "1.2.0",
            "_view_name": "LayoutView",
            "align_content": null,
            "align_items": null,
            "align_self": null,
            "border": null,
            "bottom": null,
            "display": null,
            "flex": null,
            "flex_flow": null,
            "grid_area": null,
            "grid_auto_columns": null,
            "grid_auto_flow": null,
            "grid_auto_rows": null,
            "grid_column": null,
            "grid_gap": null,
            "grid_row": null,
            "grid_template_areas": null,
            "grid_template_columns": null,
            "grid_template_rows": null,
            "height": null,
            "justify_content": null,
            "justify_items": null,
            "left": null,
            "margin": null,
            "max_height": null,
            "max_width": null,
            "min_height": null,
            "min_width": null,
            "object_fit": null,
            "object_position": null,
            "order": null,
            "overflow": null,
            "overflow_x": null,
            "overflow_y": null,
            "padding": null,
            "right": null,
            "top": null,
            "visibility": null,
            "width": null
          }
        },
        "1abc9fbef70e4fadb15ee6dfbd7ab4e2": {
          "model_module": "@jupyter-widgets/base",
          "model_name": "LayoutModel",
          "model_module_version": "1.2.0",
          "state": {
            "_model_module": "@jupyter-widgets/base",
            "_model_module_version": "1.2.0",
            "_model_name": "LayoutModel",
            "_view_count": null,
            "_view_module": "@jupyter-widgets/base",
            "_view_module_version": "1.2.0",
            "_view_name": "LayoutView",
            "align_content": null,
            "align_items": null,
            "align_self": null,
            "border": null,
            "bottom": null,
            "display": null,
            "flex": null,
            "flex_flow": null,
            "grid_area": null,
            "grid_auto_columns": null,
            "grid_auto_flow": null,
            "grid_auto_rows": null,
            "grid_column": null,
            "grid_gap": null,
            "grid_row": null,
            "grid_template_areas": null,
            "grid_template_columns": null,
            "grid_template_rows": null,
            "height": null,
            "justify_content": null,
            "justify_items": null,
            "left": null,
            "margin": null,
            "max_height": null,
            "max_width": null,
            "min_height": null,
            "min_width": null,
            "object_fit": null,
            "object_position": null,
            "order": null,
            "overflow": null,
            "overflow_x": null,
            "overflow_y": null,
            "padding": null,
            "right": null,
            "top": null,
            "visibility": null,
            "width": null
          }
        },
        "96d118c669144dd1b9ca154e0b36eacb": {
          "model_module": "@jupyter-widgets/controls",
          "model_name": "DescriptionStyleModel",
          "model_module_version": "1.5.0",
          "state": {
            "_model_module": "@jupyter-widgets/controls",
            "_model_module_version": "1.5.0",
            "_model_name": "DescriptionStyleModel",
            "_view_count": null,
            "_view_module": "@jupyter-widgets/base",
            "_view_module_version": "1.2.0",
            "_view_name": "StyleView",
            "description_width": ""
          }
        },
        "b02e892fada24f0895eda5962089c377": {
          "model_module": "@jupyter-widgets/base",
          "model_name": "LayoutModel",
          "model_module_version": "1.2.0",
          "state": {
            "_model_module": "@jupyter-widgets/base",
            "_model_module_version": "1.2.0",
            "_model_name": "LayoutModel",
            "_view_count": null,
            "_view_module": "@jupyter-widgets/base",
            "_view_module_version": "1.2.0",
            "_view_name": "LayoutView",
            "align_content": null,
            "align_items": null,
            "align_self": null,
            "border": null,
            "bottom": null,
            "display": null,
            "flex": null,
            "flex_flow": null,
            "grid_area": null,
            "grid_auto_columns": null,
            "grid_auto_flow": null,
            "grid_auto_rows": null,
            "grid_column": null,
            "grid_gap": null,
            "grid_row": null,
            "grid_template_areas": null,
            "grid_template_columns": null,
            "grid_template_rows": null,
            "height": null,
            "justify_content": null,
            "justify_items": null,
            "left": null,
            "margin": null,
            "max_height": null,
            "max_width": null,
            "min_height": null,
            "min_width": null,
            "object_fit": null,
            "object_position": null,
            "order": null,
            "overflow": null,
            "overflow_x": null,
            "overflow_y": null,
            "padding": null,
            "right": null,
            "top": null,
            "visibility": null,
            "width": null
          }
        },
        "3a44ff45d9154d32b98ccef803bd4276": {
          "model_module": "@jupyter-widgets/controls",
          "model_name": "ProgressStyleModel",
          "model_module_version": "1.5.0",
          "state": {
            "_model_module": "@jupyter-widgets/controls",
            "_model_module_version": "1.5.0",
            "_model_name": "ProgressStyleModel",
            "_view_count": null,
            "_view_module": "@jupyter-widgets/base",
            "_view_module_version": "1.2.0",
            "_view_name": "StyleView",
            "bar_color": null,
            "description_width": ""
          }
        },
        "f74a140a218d49ffae80b7a408bfd9ea": {
          "model_module": "@jupyter-widgets/controls",
          "model_name": "VBoxModel",
          "model_module_version": "1.5.0",
          "state": {
            "_dom_classes": [],
            "_model_module": "@jupyter-widgets/controls",
            "_model_module_version": "1.5.0",
            "_model_name": "VBoxModel",
            "_view_count": null,
            "_view_module": "@jupyter-widgets/controls",
            "_view_module_version": "1.5.0",
            "_view_name": "VBoxView",
            "box_style": "",
            "children": [
              "IPY_MODEL_e30815a3fedf4e5390bbec453c467fa5",
              "IPY_MODEL_6f4e25b6224d47af9bc4981df266f4a3"
            ],
            "layout": "IPY_MODEL_50d6f1d6b2de419b8eade4752bcb20bb"
          }
        },
        "e30815a3fedf4e5390bbec453c467fa5": {
          "model_module": "@jupyter-widgets/controls",
          "model_name": "LabelModel",
          "model_module_version": "1.5.0",
          "state": {
            "_dom_classes": [],
            "_model_module": "@jupyter-widgets/controls",
            "_model_module_version": "1.5.0",
            "_model_name": "LabelModel",
            "_view_count": null,
            "_view_module": "@jupyter-widgets/controls",
            "_view_module_version": "1.5.0",
            "_view_name": "LabelView",
            "description": "",
            "description_tooltip": null,
            "layout": "IPY_MODEL_950042af481746d28f9434307caba915",
            "placeholder": "​",
            "style": "IPY_MODEL_70afb512cfae46569a4a8a84b81a9129",
            "value": "0.000 MB of 0.000 MB uploaded (0.000 MB deduped)\r"
          }
        },
        "6f4e25b6224d47af9bc4981df266f4a3": {
          "model_module": "@jupyter-widgets/controls",
          "model_name": "FloatProgressModel",
          "model_module_version": "1.5.0",
          "state": {
            "_dom_classes": [],
            "_model_module": "@jupyter-widgets/controls",
            "_model_module_version": "1.5.0",
            "_model_name": "FloatProgressModel",
            "_view_count": null,
            "_view_module": "@jupyter-widgets/controls",
            "_view_module_version": "1.5.0",
            "_view_name": "ProgressView",
            "bar_style": "",
            "description": "",
            "description_tooltip": null,
            "layout": "IPY_MODEL_31d5cdeee28248a6bba89b571a71ee2c",
            "max": 1,
            "min": 0,
            "orientation": "horizontal",
            "style": "IPY_MODEL_b42e6cdb9e8c43c4a90b943904d335a3",
            "value": 1
          }
        },
        "50d6f1d6b2de419b8eade4752bcb20bb": {
          "model_module": "@jupyter-widgets/base",
          "model_name": "LayoutModel",
          "model_module_version": "1.2.0",
          "state": {
            "_model_module": "@jupyter-widgets/base",
            "_model_module_version": "1.2.0",
            "_model_name": "LayoutModel",
            "_view_count": null,
            "_view_module": "@jupyter-widgets/base",
            "_view_module_version": "1.2.0",
            "_view_name": "LayoutView",
            "align_content": null,
            "align_items": null,
            "align_self": null,
            "border": null,
            "bottom": null,
            "display": null,
            "flex": null,
            "flex_flow": null,
            "grid_area": null,
            "grid_auto_columns": null,
            "grid_auto_flow": null,
            "grid_auto_rows": null,
            "grid_column": null,
            "grid_gap": null,
            "grid_row": null,
            "grid_template_areas": null,
            "grid_template_columns": null,
            "grid_template_rows": null,
            "height": null,
            "justify_content": null,
            "justify_items": null,
            "left": null,
            "margin": null,
            "max_height": null,
            "max_width": null,
            "min_height": null,
            "min_width": null,
            "object_fit": null,
            "object_position": null,
            "order": null,
            "overflow": null,
            "overflow_x": null,
            "overflow_y": null,
            "padding": null,
            "right": null,
            "top": null,
            "visibility": null,
            "width": null
          }
        },
        "950042af481746d28f9434307caba915": {
          "model_module": "@jupyter-widgets/base",
          "model_name": "LayoutModel",
          "model_module_version": "1.2.0",
          "state": {
            "_model_module": "@jupyter-widgets/base",
            "_model_module_version": "1.2.0",
            "_model_name": "LayoutModel",
            "_view_count": null,
            "_view_module": "@jupyter-widgets/base",
            "_view_module_version": "1.2.0",
            "_view_name": "LayoutView",
            "align_content": null,
            "align_items": null,
            "align_self": null,
            "border": null,
            "bottom": null,
            "display": null,
            "flex": null,
            "flex_flow": null,
            "grid_area": null,
            "grid_auto_columns": null,
            "grid_auto_flow": null,
            "grid_auto_rows": null,
            "grid_column": null,
            "grid_gap": null,
            "grid_row": null,
            "grid_template_areas": null,
            "grid_template_columns": null,
            "grid_template_rows": null,
            "height": null,
            "justify_content": null,
            "justify_items": null,
            "left": null,
            "margin": null,
            "max_height": null,
            "max_width": null,
            "min_height": null,
            "min_width": null,
            "object_fit": null,
            "object_position": null,
            "order": null,
            "overflow": null,
            "overflow_x": null,
            "overflow_y": null,
            "padding": null,
            "right": null,
            "top": null,
            "visibility": null,
            "width": null
          }
        },
        "70afb512cfae46569a4a8a84b81a9129": {
          "model_module": "@jupyter-widgets/controls",
          "model_name": "DescriptionStyleModel",
          "model_module_version": "1.5.0",
          "state": {
            "_model_module": "@jupyter-widgets/controls",
            "_model_module_version": "1.5.0",
            "_model_name": "DescriptionStyleModel",
            "_view_count": null,
            "_view_module": "@jupyter-widgets/base",
            "_view_module_version": "1.2.0",
            "_view_name": "StyleView",
            "description_width": ""
          }
        },
        "31d5cdeee28248a6bba89b571a71ee2c": {
          "model_module": "@jupyter-widgets/base",
          "model_name": "LayoutModel",
          "model_module_version": "1.2.0",
          "state": {
            "_model_module": "@jupyter-widgets/base",
            "_model_module_version": "1.2.0",
            "_model_name": "LayoutModel",
            "_view_count": null,
            "_view_module": "@jupyter-widgets/base",
            "_view_module_version": "1.2.0",
            "_view_name": "LayoutView",
            "align_content": null,
            "align_items": null,
            "align_self": null,
            "border": null,
            "bottom": null,
            "display": null,
            "flex": null,
            "flex_flow": null,
            "grid_area": null,
            "grid_auto_columns": null,
            "grid_auto_flow": null,
            "grid_auto_rows": null,
            "grid_column": null,
            "grid_gap": null,
            "grid_row": null,
            "grid_template_areas": null,
            "grid_template_columns": null,
            "grid_template_rows": null,
            "height": null,
            "justify_content": null,
            "justify_items": null,
            "left": null,
            "margin": null,
            "max_height": null,
            "max_width": null,
            "min_height": null,
            "min_width": null,
            "object_fit": null,
            "object_position": null,
            "order": null,
            "overflow": null,
            "overflow_x": null,
            "overflow_y": null,
            "padding": null,
            "right": null,
            "top": null,
            "visibility": null,
            "width": null
          }
        },
        "b42e6cdb9e8c43c4a90b943904d335a3": {
          "model_module": "@jupyter-widgets/controls",
          "model_name": "ProgressStyleModel",
          "model_module_version": "1.5.0",
          "state": {
            "_model_module": "@jupyter-widgets/controls",
            "_model_module_version": "1.5.0",
            "_model_name": "ProgressStyleModel",
            "_view_count": null,
            "_view_module": "@jupyter-widgets/base",
            "_view_module_version": "1.2.0",
            "_view_name": "StyleView",
            "bar_color": null,
            "description_width": ""
          }
        },
        "b4fd3879bcad4caa9193d5794574a487": {
          "model_module": "@jupyter-widgets/controls",
          "model_name": "VBoxModel",
          "model_module_version": "1.5.0",
          "state": {
            "_dom_classes": [],
            "_model_module": "@jupyter-widgets/controls",
            "_model_module_version": "1.5.0",
            "_model_name": "VBoxModel",
            "_view_count": null,
            "_view_module": "@jupyter-widgets/controls",
            "_view_module_version": "1.5.0",
            "_view_name": "VBoxView",
            "box_style": "",
            "children": [
              "IPY_MODEL_a330fb6ef5fe4692b3c8f4e4b0b88080",
              "IPY_MODEL_18f7a18a6d084826be9d94fca3c7210f"
            ],
            "layout": "IPY_MODEL_87b213af8fd2400d98c4df87b3130553"
          }
        },
        "a330fb6ef5fe4692b3c8f4e4b0b88080": {
          "model_module": "@jupyter-widgets/controls",
          "model_name": "LabelModel",
          "model_module_version": "1.5.0",
          "state": {
            "_dom_classes": [],
            "_model_module": "@jupyter-widgets/controls",
            "_model_module_version": "1.5.0",
            "_model_name": "LabelModel",
            "_view_count": null,
            "_view_module": "@jupyter-widgets/controls",
            "_view_module_version": "1.5.0",
            "_view_name": "LabelView",
            "description": "",
            "description_tooltip": null,
            "layout": "IPY_MODEL_1cf29a728cad4817b891b5ff3929ee2a",
            "placeholder": "​",
            "style": "IPY_MODEL_80f4a215861443e9bc972365ca68667d",
            "value": "0.000 MB of 0.000 MB uploaded (0.000 MB deduped)\r"
          }
        },
        "18f7a18a6d084826be9d94fca3c7210f": {
          "model_module": "@jupyter-widgets/controls",
          "model_name": "FloatProgressModel",
          "model_module_version": "1.5.0",
          "state": {
            "_dom_classes": [],
            "_model_module": "@jupyter-widgets/controls",
            "_model_module_version": "1.5.0",
            "_model_name": "FloatProgressModel",
            "_view_count": null,
            "_view_module": "@jupyter-widgets/controls",
            "_view_module_version": "1.5.0",
            "_view_name": "ProgressView",
            "bar_style": "",
            "description": "",
            "description_tooltip": null,
            "layout": "IPY_MODEL_9890c33b89ad463884ad119a721e6012",
            "max": 1,
            "min": 0,
            "orientation": "horizontal",
            "style": "IPY_MODEL_ce144a8f2f614b318d2b803ae58f218a",
            "value": 1
          }
        },
        "87b213af8fd2400d98c4df87b3130553": {
          "model_module": "@jupyter-widgets/base",
          "model_name": "LayoutModel",
          "model_module_version": "1.2.0",
          "state": {
            "_model_module": "@jupyter-widgets/base",
            "_model_module_version": "1.2.0",
            "_model_name": "LayoutModel",
            "_view_count": null,
            "_view_module": "@jupyter-widgets/base",
            "_view_module_version": "1.2.0",
            "_view_name": "LayoutView",
            "align_content": null,
            "align_items": null,
            "align_self": null,
            "border": null,
            "bottom": null,
            "display": null,
            "flex": null,
            "flex_flow": null,
            "grid_area": null,
            "grid_auto_columns": null,
            "grid_auto_flow": null,
            "grid_auto_rows": null,
            "grid_column": null,
            "grid_gap": null,
            "grid_row": null,
            "grid_template_areas": null,
            "grid_template_columns": null,
            "grid_template_rows": null,
            "height": null,
            "justify_content": null,
            "justify_items": null,
            "left": null,
            "margin": null,
            "max_height": null,
            "max_width": null,
            "min_height": null,
            "min_width": null,
            "object_fit": null,
            "object_position": null,
            "order": null,
            "overflow": null,
            "overflow_x": null,
            "overflow_y": null,
            "padding": null,
            "right": null,
            "top": null,
            "visibility": null,
            "width": null
          }
        },
        "1cf29a728cad4817b891b5ff3929ee2a": {
          "model_module": "@jupyter-widgets/base",
          "model_name": "LayoutModel",
          "model_module_version": "1.2.0",
          "state": {
            "_model_module": "@jupyter-widgets/base",
            "_model_module_version": "1.2.0",
            "_model_name": "LayoutModel",
            "_view_count": null,
            "_view_module": "@jupyter-widgets/base",
            "_view_module_version": "1.2.0",
            "_view_name": "LayoutView",
            "align_content": null,
            "align_items": null,
            "align_self": null,
            "border": null,
            "bottom": null,
            "display": null,
            "flex": null,
            "flex_flow": null,
            "grid_area": null,
            "grid_auto_columns": null,
            "grid_auto_flow": null,
            "grid_auto_rows": null,
            "grid_column": null,
            "grid_gap": null,
            "grid_row": null,
            "grid_template_areas": null,
            "grid_template_columns": null,
            "grid_template_rows": null,
            "height": null,
            "justify_content": null,
            "justify_items": null,
            "left": null,
            "margin": null,
            "max_height": null,
            "max_width": null,
            "min_height": null,
            "min_width": null,
            "object_fit": null,
            "object_position": null,
            "order": null,
            "overflow": null,
            "overflow_x": null,
            "overflow_y": null,
            "padding": null,
            "right": null,
            "top": null,
            "visibility": null,
            "width": null
          }
        },
        "80f4a215861443e9bc972365ca68667d": {
          "model_module": "@jupyter-widgets/controls",
          "model_name": "DescriptionStyleModel",
          "model_module_version": "1.5.0",
          "state": {
            "_model_module": "@jupyter-widgets/controls",
            "_model_module_version": "1.5.0",
            "_model_name": "DescriptionStyleModel",
            "_view_count": null,
            "_view_module": "@jupyter-widgets/base",
            "_view_module_version": "1.2.0",
            "_view_name": "StyleView",
            "description_width": ""
          }
        },
        "9890c33b89ad463884ad119a721e6012": {
          "model_module": "@jupyter-widgets/base",
          "model_name": "LayoutModel",
          "model_module_version": "1.2.0",
          "state": {
            "_model_module": "@jupyter-widgets/base",
            "_model_module_version": "1.2.0",
            "_model_name": "LayoutModel",
            "_view_count": null,
            "_view_module": "@jupyter-widgets/base",
            "_view_module_version": "1.2.0",
            "_view_name": "LayoutView",
            "align_content": null,
            "align_items": null,
            "align_self": null,
            "border": null,
            "bottom": null,
            "display": null,
            "flex": null,
            "flex_flow": null,
            "grid_area": null,
            "grid_auto_columns": null,
            "grid_auto_flow": null,
            "grid_auto_rows": null,
            "grid_column": null,
            "grid_gap": null,
            "grid_row": null,
            "grid_template_areas": null,
            "grid_template_columns": null,
            "grid_template_rows": null,
            "height": null,
            "justify_content": null,
            "justify_items": null,
            "left": null,
            "margin": null,
            "max_height": null,
            "max_width": null,
            "min_height": null,
            "min_width": null,
            "object_fit": null,
            "object_position": null,
            "order": null,
            "overflow": null,
            "overflow_x": null,
            "overflow_y": null,
            "padding": null,
            "right": null,
            "top": null,
            "visibility": null,
            "width": null
          }
        },
        "ce144a8f2f614b318d2b803ae58f218a": {
          "model_module": "@jupyter-widgets/controls",
          "model_name": "ProgressStyleModel",
          "model_module_version": "1.5.0",
          "state": {
            "_model_module": "@jupyter-widgets/controls",
            "_model_module_version": "1.5.0",
            "_model_name": "ProgressStyleModel",
            "_view_count": null,
            "_view_module": "@jupyter-widgets/base",
            "_view_module_version": "1.2.0",
            "_view_name": "StyleView",
            "bar_color": null,
            "description_width": ""
          }
        },
        "8cb62c85930a4dde9f335d0246927c11": {
          "model_module": "@jupyter-widgets/controls",
          "model_name": "VBoxModel",
          "model_module_version": "1.5.0",
          "state": {
            "_dom_classes": [],
            "_model_module": "@jupyter-widgets/controls",
            "_model_module_version": "1.5.0",
            "_model_name": "VBoxModel",
            "_view_count": null,
            "_view_module": "@jupyter-widgets/controls",
            "_view_module_version": "1.5.0",
            "_view_name": "VBoxView",
            "box_style": "",
            "children": [
              "IPY_MODEL_a5e5b695b5254b48ba132fe8639d183d",
              "IPY_MODEL_d76ae86b1a9848b6a085c54efdac68b5"
            ],
            "layout": "IPY_MODEL_985ec2540b714e59b1bb692372efac51"
          }
        },
        "a5e5b695b5254b48ba132fe8639d183d": {
          "model_module": "@jupyter-widgets/controls",
          "model_name": "LabelModel",
          "model_module_version": "1.5.0",
          "state": {
            "_dom_classes": [],
            "_model_module": "@jupyter-widgets/controls",
            "_model_module_version": "1.5.0",
            "_model_name": "LabelModel",
            "_view_count": null,
            "_view_module": "@jupyter-widgets/controls",
            "_view_module_version": "1.5.0",
            "_view_name": "LabelView",
            "description": "",
            "description_tooltip": null,
            "layout": "IPY_MODEL_fb46441d9246439f9b2f26114aed0a42",
            "placeholder": "​",
            "style": "IPY_MODEL_e52983fc7fa245079fe4eb0ae2f0cd26",
            "value": "0.000 MB of 0.000 MB uploaded (0.000 MB deduped)\r"
          }
        },
        "d76ae86b1a9848b6a085c54efdac68b5": {
          "model_module": "@jupyter-widgets/controls",
          "model_name": "FloatProgressModel",
          "model_module_version": "1.5.0",
          "state": {
            "_dom_classes": [],
            "_model_module": "@jupyter-widgets/controls",
            "_model_module_version": "1.5.0",
            "_model_name": "FloatProgressModel",
            "_view_count": null,
            "_view_module": "@jupyter-widgets/controls",
            "_view_module_version": "1.5.0",
            "_view_name": "ProgressView",
            "bar_style": "",
            "description": "",
            "description_tooltip": null,
            "layout": "IPY_MODEL_56d82f602fa648e5ad9bd8818b462899",
            "max": 1,
            "min": 0,
            "orientation": "horizontal",
            "style": "IPY_MODEL_58c499fa8e3547279d93d59f6ea63d22",
            "value": 1
          }
        },
        "985ec2540b714e59b1bb692372efac51": {
          "model_module": "@jupyter-widgets/base",
          "model_name": "LayoutModel",
          "model_module_version": "1.2.0",
          "state": {
            "_model_module": "@jupyter-widgets/base",
            "_model_module_version": "1.2.0",
            "_model_name": "LayoutModel",
            "_view_count": null,
            "_view_module": "@jupyter-widgets/base",
            "_view_module_version": "1.2.0",
            "_view_name": "LayoutView",
            "align_content": null,
            "align_items": null,
            "align_self": null,
            "border": null,
            "bottom": null,
            "display": null,
            "flex": null,
            "flex_flow": null,
            "grid_area": null,
            "grid_auto_columns": null,
            "grid_auto_flow": null,
            "grid_auto_rows": null,
            "grid_column": null,
            "grid_gap": null,
            "grid_row": null,
            "grid_template_areas": null,
            "grid_template_columns": null,
            "grid_template_rows": null,
            "height": null,
            "justify_content": null,
            "justify_items": null,
            "left": null,
            "margin": null,
            "max_height": null,
            "max_width": null,
            "min_height": null,
            "min_width": null,
            "object_fit": null,
            "object_position": null,
            "order": null,
            "overflow": null,
            "overflow_x": null,
            "overflow_y": null,
            "padding": null,
            "right": null,
            "top": null,
            "visibility": null,
            "width": null
          }
        },
        "fb46441d9246439f9b2f26114aed0a42": {
          "model_module": "@jupyter-widgets/base",
          "model_name": "LayoutModel",
          "model_module_version": "1.2.0",
          "state": {
            "_model_module": "@jupyter-widgets/base",
            "_model_module_version": "1.2.0",
            "_model_name": "LayoutModel",
            "_view_count": null,
            "_view_module": "@jupyter-widgets/base",
            "_view_module_version": "1.2.0",
            "_view_name": "LayoutView",
            "align_content": null,
            "align_items": null,
            "align_self": null,
            "border": null,
            "bottom": null,
            "display": null,
            "flex": null,
            "flex_flow": null,
            "grid_area": null,
            "grid_auto_columns": null,
            "grid_auto_flow": null,
            "grid_auto_rows": null,
            "grid_column": null,
            "grid_gap": null,
            "grid_row": null,
            "grid_template_areas": null,
            "grid_template_columns": null,
            "grid_template_rows": null,
            "height": null,
            "justify_content": null,
            "justify_items": null,
            "left": null,
            "margin": null,
            "max_height": null,
            "max_width": null,
            "min_height": null,
            "min_width": null,
            "object_fit": null,
            "object_position": null,
            "order": null,
            "overflow": null,
            "overflow_x": null,
            "overflow_y": null,
            "padding": null,
            "right": null,
            "top": null,
            "visibility": null,
            "width": null
          }
        },
        "e52983fc7fa245079fe4eb0ae2f0cd26": {
          "model_module": "@jupyter-widgets/controls",
          "model_name": "DescriptionStyleModel",
          "model_module_version": "1.5.0",
          "state": {
            "_model_module": "@jupyter-widgets/controls",
            "_model_module_version": "1.5.0",
            "_model_name": "DescriptionStyleModel",
            "_view_count": null,
            "_view_module": "@jupyter-widgets/base",
            "_view_module_version": "1.2.0",
            "_view_name": "StyleView",
            "description_width": ""
          }
        },
        "56d82f602fa648e5ad9bd8818b462899": {
          "model_module": "@jupyter-widgets/base",
          "model_name": "LayoutModel",
          "model_module_version": "1.2.0",
          "state": {
            "_model_module": "@jupyter-widgets/base",
            "_model_module_version": "1.2.0",
            "_model_name": "LayoutModel",
            "_view_count": null,
            "_view_module": "@jupyter-widgets/base",
            "_view_module_version": "1.2.0",
            "_view_name": "LayoutView",
            "align_content": null,
            "align_items": null,
            "align_self": null,
            "border": null,
            "bottom": null,
            "display": null,
            "flex": null,
            "flex_flow": null,
            "grid_area": null,
            "grid_auto_columns": null,
            "grid_auto_flow": null,
            "grid_auto_rows": null,
            "grid_column": null,
            "grid_gap": null,
            "grid_row": null,
            "grid_template_areas": null,
            "grid_template_columns": null,
            "grid_template_rows": null,
            "height": null,
            "justify_content": null,
            "justify_items": null,
            "left": null,
            "margin": null,
            "max_height": null,
            "max_width": null,
            "min_height": null,
            "min_width": null,
            "object_fit": null,
            "object_position": null,
            "order": null,
            "overflow": null,
            "overflow_x": null,
            "overflow_y": null,
            "padding": null,
            "right": null,
            "top": null,
            "visibility": null,
            "width": null
          }
        },
        "58c499fa8e3547279d93d59f6ea63d22": {
          "model_module": "@jupyter-widgets/controls",
          "model_name": "ProgressStyleModel",
          "model_module_version": "1.5.0",
          "state": {
            "_model_module": "@jupyter-widgets/controls",
            "_model_module_version": "1.5.0",
            "_model_name": "ProgressStyleModel",
            "_view_count": null,
            "_view_module": "@jupyter-widgets/base",
            "_view_module_version": "1.2.0",
            "_view_name": "StyleView",
            "bar_color": null,
            "description_width": ""
          }
        },
        "ec09f8bb42f3474c9d813e91411bc455": {
          "model_module": "@jupyter-widgets/controls",
          "model_name": "VBoxModel",
          "model_module_version": "1.5.0",
          "state": {
            "_dom_classes": [],
            "_model_module": "@jupyter-widgets/controls",
            "_model_module_version": "1.5.0",
            "_model_name": "VBoxModel",
            "_view_count": null,
            "_view_module": "@jupyter-widgets/controls",
            "_view_module_version": "1.5.0",
            "_view_name": "VBoxView",
            "box_style": "",
            "children": [
              "IPY_MODEL_1585b55b124e49d9848d686dd45b0f7c",
              "IPY_MODEL_01f9230b88624caaa4423f50e4cc5384"
            ],
            "layout": "IPY_MODEL_854d96928ae2495a8d5c27d29a58d8fa"
          }
        },
        "1585b55b124e49d9848d686dd45b0f7c": {
          "model_module": "@jupyter-widgets/controls",
          "model_name": "LabelModel",
          "model_module_version": "1.5.0",
          "state": {
            "_dom_classes": [],
            "_model_module": "@jupyter-widgets/controls",
            "_model_module_version": "1.5.0",
            "_model_name": "LabelModel",
            "_view_count": null,
            "_view_module": "@jupyter-widgets/controls",
            "_view_module_version": "1.5.0",
            "_view_name": "LabelView",
            "description": "",
            "description_tooltip": null,
            "layout": "IPY_MODEL_307982f2fa7f44a8bdf3de8e71a13a13",
            "placeholder": "​",
            "style": "IPY_MODEL_e78015df47244ca8a140baacc210f38e",
            "value": "0.000 MB of 0.000 MB uploaded (0.000 MB deduped)\r"
          }
        },
        "01f9230b88624caaa4423f50e4cc5384": {
          "model_module": "@jupyter-widgets/controls",
          "model_name": "FloatProgressModel",
          "model_module_version": "1.5.0",
          "state": {
            "_dom_classes": [],
            "_model_module": "@jupyter-widgets/controls",
            "_model_module_version": "1.5.0",
            "_model_name": "FloatProgressModel",
            "_view_count": null,
            "_view_module": "@jupyter-widgets/controls",
            "_view_module_version": "1.5.0",
            "_view_name": "ProgressView",
            "bar_style": "",
            "description": "",
            "description_tooltip": null,
            "layout": "IPY_MODEL_fede9ed3bf4d41afb6896c2e267991f8",
            "max": 1,
            "min": 0,
            "orientation": "horizontal",
            "style": "IPY_MODEL_5c924eb216d143f2a1b856263ebfbc7c",
            "value": 1
          }
        },
        "854d96928ae2495a8d5c27d29a58d8fa": {
          "model_module": "@jupyter-widgets/base",
          "model_name": "LayoutModel",
          "model_module_version": "1.2.0",
          "state": {
            "_model_module": "@jupyter-widgets/base",
            "_model_module_version": "1.2.0",
            "_model_name": "LayoutModel",
            "_view_count": null,
            "_view_module": "@jupyter-widgets/base",
            "_view_module_version": "1.2.0",
            "_view_name": "LayoutView",
            "align_content": null,
            "align_items": null,
            "align_self": null,
            "border": null,
            "bottom": null,
            "display": null,
            "flex": null,
            "flex_flow": null,
            "grid_area": null,
            "grid_auto_columns": null,
            "grid_auto_flow": null,
            "grid_auto_rows": null,
            "grid_column": null,
            "grid_gap": null,
            "grid_row": null,
            "grid_template_areas": null,
            "grid_template_columns": null,
            "grid_template_rows": null,
            "height": null,
            "justify_content": null,
            "justify_items": null,
            "left": null,
            "margin": null,
            "max_height": null,
            "max_width": null,
            "min_height": null,
            "min_width": null,
            "object_fit": null,
            "object_position": null,
            "order": null,
            "overflow": null,
            "overflow_x": null,
            "overflow_y": null,
            "padding": null,
            "right": null,
            "top": null,
            "visibility": null,
            "width": null
          }
        },
        "307982f2fa7f44a8bdf3de8e71a13a13": {
          "model_module": "@jupyter-widgets/base",
          "model_name": "LayoutModel",
          "model_module_version": "1.2.0",
          "state": {
            "_model_module": "@jupyter-widgets/base",
            "_model_module_version": "1.2.0",
            "_model_name": "LayoutModel",
            "_view_count": null,
            "_view_module": "@jupyter-widgets/base",
            "_view_module_version": "1.2.0",
            "_view_name": "LayoutView",
            "align_content": null,
            "align_items": null,
            "align_self": null,
            "border": null,
            "bottom": null,
            "display": null,
            "flex": null,
            "flex_flow": null,
            "grid_area": null,
            "grid_auto_columns": null,
            "grid_auto_flow": null,
            "grid_auto_rows": null,
            "grid_column": null,
            "grid_gap": null,
            "grid_row": null,
            "grid_template_areas": null,
            "grid_template_columns": null,
            "grid_template_rows": null,
            "height": null,
            "justify_content": null,
            "justify_items": null,
            "left": null,
            "margin": null,
            "max_height": null,
            "max_width": null,
            "min_height": null,
            "min_width": null,
            "object_fit": null,
            "object_position": null,
            "order": null,
            "overflow": null,
            "overflow_x": null,
            "overflow_y": null,
            "padding": null,
            "right": null,
            "top": null,
            "visibility": null,
            "width": null
          }
        },
        "e78015df47244ca8a140baacc210f38e": {
          "model_module": "@jupyter-widgets/controls",
          "model_name": "DescriptionStyleModel",
          "model_module_version": "1.5.0",
          "state": {
            "_model_module": "@jupyter-widgets/controls",
            "_model_module_version": "1.5.0",
            "_model_name": "DescriptionStyleModel",
            "_view_count": null,
            "_view_module": "@jupyter-widgets/base",
            "_view_module_version": "1.2.0",
            "_view_name": "StyleView",
            "description_width": ""
          }
        },
        "fede9ed3bf4d41afb6896c2e267991f8": {
          "model_module": "@jupyter-widgets/base",
          "model_name": "LayoutModel",
          "model_module_version": "1.2.0",
          "state": {
            "_model_module": "@jupyter-widgets/base",
            "_model_module_version": "1.2.0",
            "_model_name": "LayoutModel",
            "_view_count": null,
            "_view_module": "@jupyter-widgets/base",
            "_view_module_version": "1.2.0",
            "_view_name": "LayoutView",
            "align_content": null,
            "align_items": null,
            "align_self": null,
            "border": null,
            "bottom": null,
            "display": null,
            "flex": null,
            "flex_flow": null,
            "grid_area": null,
            "grid_auto_columns": null,
            "grid_auto_flow": null,
            "grid_auto_rows": null,
            "grid_column": null,
            "grid_gap": null,
            "grid_row": null,
            "grid_template_areas": null,
            "grid_template_columns": null,
            "grid_template_rows": null,
            "height": null,
            "justify_content": null,
            "justify_items": null,
            "left": null,
            "margin": null,
            "max_height": null,
            "max_width": null,
            "min_height": null,
            "min_width": null,
            "object_fit": null,
            "object_position": null,
            "order": null,
            "overflow": null,
            "overflow_x": null,
            "overflow_y": null,
            "padding": null,
            "right": null,
            "top": null,
            "visibility": null,
            "width": null
          }
        },
        "5c924eb216d143f2a1b856263ebfbc7c": {
          "model_module": "@jupyter-widgets/controls",
          "model_name": "ProgressStyleModel",
          "model_module_version": "1.5.0",
          "state": {
            "_model_module": "@jupyter-widgets/controls",
            "_model_module_version": "1.5.0",
            "_model_name": "ProgressStyleModel",
            "_view_count": null,
            "_view_module": "@jupyter-widgets/base",
            "_view_module_version": "1.2.0",
            "_view_name": "StyleView",
            "bar_color": null,
            "description_width": ""
          }
        },
        "0c389e5ca99843eead50f9347b196d50": {
          "model_module": "@jupyter-widgets/controls",
          "model_name": "VBoxModel",
          "model_module_version": "1.5.0",
          "state": {
            "_dom_classes": [],
            "_model_module": "@jupyter-widgets/controls",
            "_model_module_version": "1.5.0",
            "_model_name": "VBoxModel",
            "_view_count": null,
            "_view_module": "@jupyter-widgets/controls",
            "_view_module_version": "1.5.0",
            "_view_name": "VBoxView",
            "box_style": "",
            "children": [
              "IPY_MODEL_09cda8c5cd684a80955a115ab5d4a181",
              "IPY_MODEL_38bebff0f9ab49a4b836c1cfe9c25cd8"
            ],
            "layout": "IPY_MODEL_9d3900a6c2d84256b7f18497c4643a8d"
          }
        },
        "09cda8c5cd684a80955a115ab5d4a181": {
          "model_module": "@jupyter-widgets/controls",
          "model_name": "LabelModel",
          "model_module_version": "1.5.0",
          "state": {
            "_dom_classes": [],
            "_model_module": "@jupyter-widgets/controls",
            "_model_module_version": "1.5.0",
            "_model_name": "LabelModel",
            "_view_count": null,
            "_view_module": "@jupyter-widgets/controls",
            "_view_module_version": "1.5.0",
            "_view_name": "LabelView",
            "description": "",
            "description_tooltip": null,
            "layout": "IPY_MODEL_5d1f3072fcfa4250b517ddc3ecc1815a",
            "placeholder": "​",
            "style": "IPY_MODEL_0a659b29d4534d46b88f78b0f385e663",
            "value": "0.000 MB of 0.000 MB uploaded (0.000 MB deduped)\r"
          }
        },
        "38bebff0f9ab49a4b836c1cfe9c25cd8": {
          "model_module": "@jupyter-widgets/controls",
          "model_name": "FloatProgressModel",
          "model_module_version": "1.5.0",
          "state": {
            "_dom_classes": [],
            "_model_module": "@jupyter-widgets/controls",
            "_model_module_version": "1.5.0",
            "_model_name": "FloatProgressModel",
            "_view_count": null,
            "_view_module": "@jupyter-widgets/controls",
            "_view_module_version": "1.5.0",
            "_view_name": "ProgressView",
            "bar_style": "",
            "description": "",
            "description_tooltip": null,
            "layout": "IPY_MODEL_300cc41960a345a296a27ef5e3f36376",
            "max": 1,
            "min": 0,
            "orientation": "horizontal",
            "style": "IPY_MODEL_46eff1a48cf74a259f045c1deaa779c4",
            "value": 1
          }
        },
        "9d3900a6c2d84256b7f18497c4643a8d": {
          "model_module": "@jupyter-widgets/base",
          "model_name": "LayoutModel",
          "model_module_version": "1.2.0",
          "state": {
            "_model_module": "@jupyter-widgets/base",
            "_model_module_version": "1.2.0",
            "_model_name": "LayoutModel",
            "_view_count": null,
            "_view_module": "@jupyter-widgets/base",
            "_view_module_version": "1.2.0",
            "_view_name": "LayoutView",
            "align_content": null,
            "align_items": null,
            "align_self": null,
            "border": null,
            "bottom": null,
            "display": null,
            "flex": null,
            "flex_flow": null,
            "grid_area": null,
            "grid_auto_columns": null,
            "grid_auto_flow": null,
            "grid_auto_rows": null,
            "grid_column": null,
            "grid_gap": null,
            "grid_row": null,
            "grid_template_areas": null,
            "grid_template_columns": null,
            "grid_template_rows": null,
            "height": null,
            "justify_content": null,
            "justify_items": null,
            "left": null,
            "margin": null,
            "max_height": null,
            "max_width": null,
            "min_height": null,
            "min_width": null,
            "object_fit": null,
            "object_position": null,
            "order": null,
            "overflow": null,
            "overflow_x": null,
            "overflow_y": null,
            "padding": null,
            "right": null,
            "top": null,
            "visibility": null,
            "width": null
          }
        },
        "5d1f3072fcfa4250b517ddc3ecc1815a": {
          "model_module": "@jupyter-widgets/base",
          "model_name": "LayoutModel",
          "model_module_version": "1.2.0",
          "state": {
            "_model_module": "@jupyter-widgets/base",
            "_model_module_version": "1.2.0",
            "_model_name": "LayoutModel",
            "_view_count": null,
            "_view_module": "@jupyter-widgets/base",
            "_view_module_version": "1.2.0",
            "_view_name": "LayoutView",
            "align_content": null,
            "align_items": null,
            "align_self": null,
            "border": null,
            "bottom": null,
            "display": null,
            "flex": null,
            "flex_flow": null,
            "grid_area": null,
            "grid_auto_columns": null,
            "grid_auto_flow": null,
            "grid_auto_rows": null,
            "grid_column": null,
            "grid_gap": null,
            "grid_row": null,
            "grid_template_areas": null,
            "grid_template_columns": null,
            "grid_template_rows": null,
            "height": null,
            "justify_content": null,
            "justify_items": null,
            "left": null,
            "margin": null,
            "max_height": null,
            "max_width": null,
            "min_height": null,
            "min_width": null,
            "object_fit": null,
            "object_position": null,
            "order": null,
            "overflow": null,
            "overflow_x": null,
            "overflow_y": null,
            "padding": null,
            "right": null,
            "top": null,
            "visibility": null,
            "width": null
          }
        },
        "0a659b29d4534d46b88f78b0f385e663": {
          "model_module": "@jupyter-widgets/controls",
          "model_name": "DescriptionStyleModel",
          "model_module_version": "1.5.0",
          "state": {
            "_model_module": "@jupyter-widgets/controls",
            "_model_module_version": "1.5.0",
            "_model_name": "DescriptionStyleModel",
            "_view_count": null,
            "_view_module": "@jupyter-widgets/base",
            "_view_module_version": "1.2.0",
            "_view_name": "StyleView",
            "description_width": ""
          }
        },
        "300cc41960a345a296a27ef5e3f36376": {
          "model_module": "@jupyter-widgets/base",
          "model_name": "LayoutModel",
          "model_module_version": "1.2.0",
          "state": {
            "_model_module": "@jupyter-widgets/base",
            "_model_module_version": "1.2.0",
            "_model_name": "LayoutModel",
            "_view_count": null,
            "_view_module": "@jupyter-widgets/base",
            "_view_module_version": "1.2.0",
            "_view_name": "LayoutView",
            "align_content": null,
            "align_items": null,
            "align_self": null,
            "border": null,
            "bottom": null,
            "display": null,
            "flex": null,
            "flex_flow": null,
            "grid_area": null,
            "grid_auto_columns": null,
            "grid_auto_flow": null,
            "grid_auto_rows": null,
            "grid_column": null,
            "grid_gap": null,
            "grid_row": null,
            "grid_template_areas": null,
            "grid_template_columns": null,
            "grid_template_rows": null,
            "height": null,
            "justify_content": null,
            "justify_items": null,
            "left": null,
            "margin": null,
            "max_height": null,
            "max_width": null,
            "min_height": null,
            "min_width": null,
            "object_fit": null,
            "object_position": null,
            "order": null,
            "overflow": null,
            "overflow_x": null,
            "overflow_y": null,
            "padding": null,
            "right": null,
            "top": null,
            "visibility": null,
            "width": null
          }
        },
        "46eff1a48cf74a259f045c1deaa779c4": {
          "model_module": "@jupyter-widgets/controls",
          "model_name": "ProgressStyleModel",
          "model_module_version": "1.5.0",
          "state": {
            "_model_module": "@jupyter-widgets/controls",
            "_model_module_version": "1.5.0",
            "_model_name": "ProgressStyleModel",
            "_view_count": null,
            "_view_module": "@jupyter-widgets/base",
            "_view_module_version": "1.2.0",
            "_view_name": "StyleView",
            "bar_color": null,
            "description_width": ""
          }
        },
        "d152273a20a0452bb0e8fb0435e7d760": {
          "model_module": "@jupyter-widgets/controls",
          "model_name": "VBoxModel",
          "model_module_version": "1.5.0",
          "state": {
            "_dom_classes": [],
            "_model_module": "@jupyter-widgets/controls",
            "_model_module_version": "1.5.0",
            "_model_name": "VBoxModel",
            "_view_count": null,
            "_view_module": "@jupyter-widgets/controls",
            "_view_module_version": "1.5.0",
            "_view_name": "VBoxView",
            "box_style": "",
            "children": [
              "IPY_MODEL_f082df72b1ef4c5b8443aec428b702bf",
              "IPY_MODEL_0e28e425bce4459996692486d2497cb0"
            ],
            "layout": "IPY_MODEL_c0fccda902354bf8938e0cdc813d4573"
          }
        },
        "f082df72b1ef4c5b8443aec428b702bf": {
          "model_module": "@jupyter-widgets/controls",
          "model_name": "LabelModel",
          "model_module_version": "1.5.0",
          "state": {
            "_dom_classes": [],
            "_model_module": "@jupyter-widgets/controls",
            "_model_module_version": "1.5.0",
            "_model_name": "LabelModel",
            "_view_count": null,
            "_view_module": "@jupyter-widgets/controls",
            "_view_module_version": "1.5.0",
            "_view_name": "LabelView",
            "description": "",
            "description_tooltip": null,
            "layout": "IPY_MODEL_07469c4bcc6f480ebb76b94e4b570096",
            "placeholder": "​",
            "style": "IPY_MODEL_f744576f2d9f4c58a43f7cf598d04744",
            "value": "0.000 MB of 0.000 MB uploaded (0.000 MB deduped)\r"
          }
        },
        "0e28e425bce4459996692486d2497cb0": {
          "model_module": "@jupyter-widgets/controls",
          "model_name": "FloatProgressModel",
          "model_module_version": "1.5.0",
          "state": {
            "_dom_classes": [],
            "_model_module": "@jupyter-widgets/controls",
            "_model_module_version": "1.5.0",
            "_model_name": "FloatProgressModel",
            "_view_count": null,
            "_view_module": "@jupyter-widgets/controls",
            "_view_module_version": "1.5.0",
            "_view_name": "ProgressView",
            "bar_style": "",
            "description": "",
            "description_tooltip": null,
            "layout": "IPY_MODEL_547afd9b1de745a0920616112f1011a9",
            "max": 1,
            "min": 0,
            "orientation": "horizontal",
            "style": "IPY_MODEL_0633fce9f9f9448c962ad0b3175fa7dd",
            "value": 1
          }
        },
        "c0fccda902354bf8938e0cdc813d4573": {
          "model_module": "@jupyter-widgets/base",
          "model_name": "LayoutModel",
          "model_module_version": "1.2.0",
          "state": {
            "_model_module": "@jupyter-widgets/base",
            "_model_module_version": "1.2.0",
            "_model_name": "LayoutModel",
            "_view_count": null,
            "_view_module": "@jupyter-widgets/base",
            "_view_module_version": "1.2.0",
            "_view_name": "LayoutView",
            "align_content": null,
            "align_items": null,
            "align_self": null,
            "border": null,
            "bottom": null,
            "display": null,
            "flex": null,
            "flex_flow": null,
            "grid_area": null,
            "grid_auto_columns": null,
            "grid_auto_flow": null,
            "grid_auto_rows": null,
            "grid_column": null,
            "grid_gap": null,
            "grid_row": null,
            "grid_template_areas": null,
            "grid_template_columns": null,
            "grid_template_rows": null,
            "height": null,
            "justify_content": null,
            "justify_items": null,
            "left": null,
            "margin": null,
            "max_height": null,
            "max_width": null,
            "min_height": null,
            "min_width": null,
            "object_fit": null,
            "object_position": null,
            "order": null,
            "overflow": null,
            "overflow_x": null,
            "overflow_y": null,
            "padding": null,
            "right": null,
            "top": null,
            "visibility": null,
            "width": null
          }
        },
        "07469c4bcc6f480ebb76b94e4b570096": {
          "model_module": "@jupyter-widgets/base",
          "model_name": "LayoutModel",
          "model_module_version": "1.2.0",
          "state": {
            "_model_module": "@jupyter-widgets/base",
            "_model_module_version": "1.2.0",
            "_model_name": "LayoutModel",
            "_view_count": null,
            "_view_module": "@jupyter-widgets/base",
            "_view_module_version": "1.2.0",
            "_view_name": "LayoutView",
            "align_content": null,
            "align_items": null,
            "align_self": null,
            "border": null,
            "bottom": null,
            "display": null,
            "flex": null,
            "flex_flow": null,
            "grid_area": null,
            "grid_auto_columns": null,
            "grid_auto_flow": null,
            "grid_auto_rows": null,
            "grid_column": null,
            "grid_gap": null,
            "grid_row": null,
            "grid_template_areas": null,
            "grid_template_columns": null,
            "grid_template_rows": null,
            "height": null,
            "justify_content": null,
            "justify_items": null,
            "left": null,
            "margin": null,
            "max_height": null,
            "max_width": null,
            "min_height": null,
            "min_width": null,
            "object_fit": null,
            "object_position": null,
            "order": null,
            "overflow": null,
            "overflow_x": null,
            "overflow_y": null,
            "padding": null,
            "right": null,
            "top": null,
            "visibility": null,
            "width": null
          }
        },
        "f744576f2d9f4c58a43f7cf598d04744": {
          "model_module": "@jupyter-widgets/controls",
          "model_name": "DescriptionStyleModel",
          "model_module_version": "1.5.0",
          "state": {
            "_model_module": "@jupyter-widgets/controls",
            "_model_module_version": "1.5.0",
            "_model_name": "DescriptionStyleModel",
            "_view_count": null,
            "_view_module": "@jupyter-widgets/base",
            "_view_module_version": "1.2.0",
            "_view_name": "StyleView",
            "description_width": ""
          }
        },
        "547afd9b1de745a0920616112f1011a9": {
          "model_module": "@jupyter-widgets/base",
          "model_name": "LayoutModel",
          "model_module_version": "1.2.0",
          "state": {
            "_model_module": "@jupyter-widgets/base",
            "_model_module_version": "1.2.0",
            "_model_name": "LayoutModel",
            "_view_count": null,
            "_view_module": "@jupyter-widgets/base",
            "_view_module_version": "1.2.0",
            "_view_name": "LayoutView",
            "align_content": null,
            "align_items": null,
            "align_self": null,
            "border": null,
            "bottom": null,
            "display": null,
            "flex": null,
            "flex_flow": null,
            "grid_area": null,
            "grid_auto_columns": null,
            "grid_auto_flow": null,
            "grid_auto_rows": null,
            "grid_column": null,
            "grid_gap": null,
            "grid_row": null,
            "grid_template_areas": null,
            "grid_template_columns": null,
            "grid_template_rows": null,
            "height": null,
            "justify_content": null,
            "justify_items": null,
            "left": null,
            "margin": null,
            "max_height": null,
            "max_width": null,
            "min_height": null,
            "min_width": null,
            "object_fit": null,
            "object_position": null,
            "order": null,
            "overflow": null,
            "overflow_x": null,
            "overflow_y": null,
            "padding": null,
            "right": null,
            "top": null,
            "visibility": null,
            "width": null
          }
        },
        "0633fce9f9f9448c962ad0b3175fa7dd": {
          "model_module": "@jupyter-widgets/controls",
          "model_name": "ProgressStyleModel",
          "model_module_version": "1.5.0",
          "state": {
            "_model_module": "@jupyter-widgets/controls",
            "_model_module_version": "1.5.0",
            "_model_name": "ProgressStyleModel",
            "_view_count": null,
            "_view_module": "@jupyter-widgets/base",
            "_view_module_version": "1.2.0",
            "_view_name": "StyleView",
            "bar_color": null,
            "description_width": ""
          }
        },
        "aecb4056b3e24605837e6428d3689721": {
          "model_module": "@jupyter-widgets/controls",
          "model_name": "VBoxModel",
          "model_module_version": "1.5.0",
          "state": {
            "_dom_classes": [],
            "_model_module": "@jupyter-widgets/controls",
            "_model_module_version": "1.5.0",
            "_model_name": "VBoxModel",
            "_view_count": null,
            "_view_module": "@jupyter-widgets/controls",
            "_view_module_version": "1.5.0",
            "_view_name": "VBoxView",
            "box_style": "",
            "children": [
              "IPY_MODEL_c50169b4d61d46dfa4a6b6a6d703babf",
              "IPY_MODEL_87fbb11d7db34d128274ca0414882130"
            ],
            "layout": "IPY_MODEL_8b002dadc2a14e73b721555c09bf4bfc"
          }
        },
        "c50169b4d61d46dfa4a6b6a6d703babf": {
          "model_module": "@jupyter-widgets/controls",
          "model_name": "LabelModel",
          "model_module_version": "1.5.0",
          "state": {
            "_dom_classes": [],
            "_model_module": "@jupyter-widgets/controls",
            "_model_module_version": "1.5.0",
            "_model_name": "LabelModel",
            "_view_count": null,
            "_view_module": "@jupyter-widgets/controls",
            "_view_module_version": "1.5.0",
            "_view_name": "LabelView",
            "description": "",
            "description_tooltip": null,
            "layout": "IPY_MODEL_9325f789e2904b5bb7c2f8ddf4b88e1c",
            "placeholder": "​",
            "style": "IPY_MODEL_a68eeddac6164f6f933c2927005b21aa",
            "value": "0.000 MB of 0.000 MB uploaded (0.000 MB deduped)\r"
          }
        },
        "87fbb11d7db34d128274ca0414882130": {
          "model_module": "@jupyter-widgets/controls",
          "model_name": "FloatProgressModel",
          "model_module_version": "1.5.0",
          "state": {
            "_dom_classes": [],
            "_model_module": "@jupyter-widgets/controls",
            "_model_module_version": "1.5.0",
            "_model_name": "FloatProgressModel",
            "_view_count": null,
            "_view_module": "@jupyter-widgets/controls",
            "_view_module_version": "1.5.0",
            "_view_name": "ProgressView",
            "bar_style": "",
            "description": "",
            "description_tooltip": null,
            "layout": "IPY_MODEL_91efe9f773144663b6f0aaac84ad4d3b",
            "max": 1,
            "min": 0,
            "orientation": "horizontal",
            "style": "IPY_MODEL_62fc8cc3b10a48acb3049650c49b166a",
            "value": 1
          }
        },
        "8b002dadc2a14e73b721555c09bf4bfc": {
          "model_module": "@jupyter-widgets/base",
          "model_name": "LayoutModel",
          "model_module_version": "1.2.0",
          "state": {
            "_model_module": "@jupyter-widgets/base",
            "_model_module_version": "1.2.0",
            "_model_name": "LayoutModel",
            "_view_count": null,
            "_view_module": "@jupyter-widgets/base",
            "_view_module_version": "1.2.0",
            "_view_name": "LayoutView",
            "align_content": null,
            "align_items": null,
            "align_self": null,
            "border": null,
            "bottom": null,
            "display": null,
            "flex": null,
            "flex_flow": null,
            "grid_area": null,
            "grid_auto_columns": null,
            "grid_auto_flow": null,
            "grid_auto_rows": null,
            "grid_column": null,
            "grid_gap": null,
            "grid_row": null,
            "grid_template_areas": null,
            "grid_template_columns": null,
            "grid_template_rows": null,
            "height": null,
            "justify_content": null,
            "justify_items": null,
            "left": null,
            "margin": null,
            "max_height": null,
            "max_width": null,
            "min_height": null,
            "min_width": null,
            "object_fit": null,
            "object_position": null,
            "order": null,
            "overflow": null,
            "overflow_x": null,
            "overflow_y": null,
            "padding": null,
            "right": null,
            "top": null,
            "visibility": null,
            "width": null
          }
        },
        "9325f789e2904b5bb7c2f8ddf4b88e1c": {
          "model_module": "@jupyter-widgets/base",
          "model_name": "LayoutModel",
          "model_module_version": "1.2.0",
          "state": {
            "_model_module": "@jupyter-widgets/base",
            "_model_module_version": "1.2.0",
            "_model_name": "LayoutModel",
            "_view_count": null,
            "_view_module": "@jupyter-widgets/base",
            "_view_module_version": "1.2.0",
            "_view_name": "LayoutView",
            "align_content": null,
            "align_items": null,
            "align_self": null,
            "border": null,
            "bottom": null,
            "display": null,
            "flex": null,
            "flex_flow": null,
            "grid_area": null,
            "grid_auto_columns": null,
            "grid_auto_flow": null,
            "grid_auto_rows": null,
            "grid_column": null,
            "grid_gap": null,
            "grid_row": null,
            "grid_template_areas": null,
            "grid_template_columns": null,
            "grid_template_rows": null,
            "height": null,
            "justify_content": null,
            "justify_items": null,
            "left": null,
            "margin": null,
            "max_height": null,
            "max_width": null,
            "min_height": null,
            "min_width": null,
            "object_fit": null,
            "object_position": null,
            "order": null,
            "overflow": null,
            "overflow_x": null,
            "overflow_y": null,
            "padding": null,
            "right": null,
            "top": null,
            "visibility": null,
            "width": null
          }
        },
        "a68eeddac6164f6f933c2927005b21aa": {
          "model_module": "@jupyter-widgets/controls",
          "model_name": "DescriptionStyleModel",
          "model_module_version": "1.5.0",
          "state": {
            "_model_module": "@jupyter-widgets/controls",
            "_model_module_version": "1.5.0",
            "_model_name": "DescriptionStyleModel",
            "_view_count": null,
            "_view_module": "@jupyter-widgets/base",
            "_view_module_version": "1.2.0",
            "_view_name": "StyleView",
            "description_width": ""
          }
        },
        "91efe9f773144663b6f0aaac84ad4d3b": {
          "model_module": "@jupyter-widgets/base",
          "model_name": "LayoutModel",
          "model_module_version": "1.2.0",
          "state": {
            "_model_module": "@jupyter-widgets/base",
            "_model_module_version": "1.2.0",
            "_model_name": "LayoutModel",
            "_view_count": null,
            "_view_module": "@jupyter-widgets/base",
            "_view_module_version": "1.2.0",
            "_view_name": "LayoutView",
            "align_content": null,
            "align_items": null,
            "align_self": null,
            "border": null,
            "bottom": null,
            "display": null,
            "flex": null,
            "flex_flow": null,
            "grid_area": null,
            "grid_auto_columns": null,
            "grid_auto_flow": null,
            "grid_auto_rows": null,
            "grid_column": null,
            "grid_gap": null,
            "grid_row": null,
            "grid_template_areas": null,
            "grid_template_columns": null,
            "grid_template_rows": null,
            "height": null,
            "justify_content": null,
            "justify_items": null,
            "left": null,
            "margin": null,
            "max_height": null,
            "max_width": null,
            "min_height": null,
            "min_width": null,
            "object_fit": null,
            "object_position": null,
            "order": null,
            "overflow": null,
            "overflow_x": null,
            "overflow_y": null,
            "padding": null,
            "right": null,
            "top": null,
            "visibility": null,
            "width": null
          }
        },
        "62fc8cc3b10a48acb3049650c49b166a": {
          "model_module": "@jupyter-widgets/controls",
          "model_name": "ProgressStyleModel",
          "model_module_version": "1.5.0",
          "state": {
            "_model_module": "@jupyter-widgets/controls",
            "_model_module_version": "1.5.0",
            "_model_name": "ProgressStyleModel",
            "_view_count": null,
            "_view_module": "@jupyter-widgets/base",
            "_view_module_version": "1.2.0",
            "_view_name": "StyleView",
            "bar_color": null,
            "description_width": ""
          }
        },
        "9d6bbd45be1c42bfa9641f15d5cef7ab": {
          "model_module": "@jupyter-widgets/controls",
          "model_name": "VBoxModel",
          "model_module_version": "1.5.0",
          "state": {
            "_dom_classes": [],
            "_model_module": "@jupyter-widgets/controls",
            "_model_module_version": "1.5.0",
            "_model_name": "VBoxModel",
            "_view_count": null,
            "_view_module": "@jupyter-widgets/controls",
            "_view_module_version": "1.5.0",
            "_view_name": "VBoxView",
            "box_style": "",
            "children": [
              "IPY_MODEL_57930329386842ea8bba9d9164abea19",
              "IPY_MODEL_5986529d3a874fb68d1d28fa6466aa40"
            ],
            "layout": "IPY_MODEL_91e3b9b5388840a0a028cc7f053c74e2"
          }
        },
        "57930329386842ea8bba9d9164abea19": {
          "model_module": "@jupyter-widgets/controls",
          "model_name": "LabelModel",
          "model_module_version": "1.5.0",
          "state": {
            "_dom_classes": [],
            "_model_module": "@jupyter-widgets/controls",
            "_model_module_version": "1.5.0",
            "_model_name": "LabelModel",
            "_view_count": null,
            "_view_module": "@jupyter-widgets/controls",
            "_view_module_version": "1.5.0",
            "_view_name": "LabelView",
            "description": "",
            "description_tooltip": null,
            "layout": "IPY_MODEL_581cadb915ef49daa438713a903f76ad",
            "placeholder": "​",
            "style": "IPY_MODEL_e7a6615c0efc4e7cb1abaddc3c53d3cf",
            "value": "0.000 MB of 0.000 MB uploaded (0.000 MB deduped)\r"
          }
        },
        "5986529d3a874fb68d1d28fa6466aa40": {
          "model_module": "@jupyter-widgets/controls",
          "model_name": "FloatProgressModel",
          "model_module_version": "1.5.0",
          "state": {
            "_dom_classes": [],
            "_model_module": "@jupyter-widgets/controls",
            "_model_module_version": "1.5.0",
            "_model_name": "FloatProgressModel",
            "_view_count": null,
            "_view_module": "@jupyter-widgets/controls",
            "_view_module_version": "1.5.0",
            "_view_name": "ProgressView",
            "bar_style": "",
            "description": "",
            "description_tooltip": null,
            "layout": "IPY_MODEL_085f1bb11b3b4fcc95fb945d3bd57c48",
            "max": 1,
            "min": 0,
            "orientation": "horizontal",
            "style": "IPY_MODEL_17c66698207e48888f9a9d88f09c6308",
            "value": 1
          }
        },
        "91e3b9b5388840a0a028cc7f053c74e2": {
          "model_module": "@jupyter-widgets/base",
          "model_name": "LayoutModel",
          "model_module_version": "1.2.0",
          "state": {
            "_model_module": "@jupyter-widgets/base",
            "_model_module_version": "1.2.0",
            "_model_name": "LayoutModel",
            "_view_count": null,
            "_view_module": "@jupyter-widgets/base",
            "_view_module_version": "1.2.0",
            "_view_name": "LayoutView",
            "align_content": null,
            "align_items": null,
            "align_self": null,
            "border": null,
            "bottom": null,
            "display": null,
            "flex": null,
            "flex_flow": null,
            "grid_area": null,
            "grid_auto_columns": null,
            "grid_auto_flow": null,
            "grid_auto_rows": null,
            "grid_column": null,
            "grid_gap": null,
            "grid_row": null,
            "grid_template_areas": null,
            "grid_template_columns": null,
            "grid_template_rows": null,
            "height": null,
            "justify_content": null,
            "justify_items": null,
            "left": null,
            "margin": null,
            "max_height": null,
            "max_width": null,
            "min_height": null,
            "min_width": null,
            "object_fit": null,
            "object_position": null,
            "order": null,
            "overflow": null,
            "overflow_x": null,
            "overflow_y": null,
            "padding": null,
            "right": null,
            "top": null,
            "visibility": null,
            "width": null
          }
        },
        "581cadb915ef49daa438713a903f76ad": {
          "model_module": "@jupyter-widgets/base",
          "model_name": "LayoutModel",
          "model_module_version": "1.2.0",
          "state": {
            "_model_module": "@jupyter-widgets/base",
            "_model_module_version": "1.2.0",
            "_model_name": "LayoutModel",
            "_view_count": null,
            "_view_module": "@jupyter-widgets/base",
            "_view_module_version": "1.2.0",
            "_view_name": "LayoutView",
            "align_content": null,
            "align_items": null,
            "align_self": null,
            "border": null,
            "bottom": null,
            "display": null,
            "flex": null,
            "flex_flow": null,
            "grid_area": null,
            "grid_auto_columns": null,
            "grid_auto_flow": null,
            "grid_auto_rows": null,
            "grid_column": null,
            "grid_gap": null,
            "grid_row": null,
            "grid_template_areas": null,
            "grid_template_columns": null,
            "grid_template_rows": null,
            "height": null,
            "justify_content": null,
            "justify_items": null,
            "left": null,
            "margin": null,
            "max_height": null,
            "max_width": null,
            "min_height": null,
            "min_width": null,
            "object_fit": null,
            "object_position": null,
            "order": null,
            "overflow": null,
            "overflow_x": null,
            "overflow_y": null,
            "padding": null,
            "right": null,
            "top": null,
            "visibility": null,
            "width": null
          }
        },
        "e7a6615c0efc4e7cb1abaddc3c53d3cf": {
          "model_module": "@jupyter-widgets/controls",
          "model_name": "DescriptionStyleModel",
          "model_module_version": "1.5.0",
          "state": {
            "_model_module": "@jupyter-widgets/controls",
            "_model_module_version": "1.5.0",
            "_model_name": "DescriptionStyleModel",
            "_view_count": null,
            "_view_module": "@jupyter-widgets/base",
            "_view_module_version": "1.2.0",
            "_view_name": "StyleView",
            "description_width": ""
          }
        },
        "085f1bb11b3b4fcc95fb945d3bd57c48": {
          "model_module": "@jupyter-widgets/base",
          "model_name": "LayoutModel",
          "model_module_version": "1.2.0",
          "state": {
            "_model_module": "@jupyter-widgets/base",
            "_model_module_version": "1.2.0",
            "_model_name": "LayoutModel",
            "_view_count": null,
            "_view_module": "@jupyter-widgets/base",
            "_view_module_version": "1.2.0",
            "_view_name": "LayoutView",
            "align_content": null,
            "align_items": null,
            "align_self": null,
            "border": null,
            "bottom": null,
            "display": null,
            "flex": null,
            "flex_flow": null,
            "grid_area": null,
            "grid_auto_columns": null,
            "grid_auto_flow": null,
            "grid_auto_rows": null,
            "grid_column": null,
            "grid_gap": null,
            "grid_row": null,
            "grid_template_areas": null,
            "grid_template_columns": null,
            "grid_template_rows": null,
            "height": null,
            "justify_content": null,
            "justify_items": null,
            "left": null,
            "margin": null,
            "max_height": null,
            "max_width": null,
            "min_height": null,
            "min_width": null,
            "object_fit": null,
            "object_position": null,
            "order": null,
            "overflow": null,
            "overflow_x": null,
            "overflow_y": null,
            "padding": null,
            "right": null,
            "top": null,
            "visibility": null,
            "width": null
          }
        },
        "17c66698207e48888f9a9d88f09c6308": {
          "model_module": "@jupyter-widgets/controls",
          "model_name": "ProgressStyleModel",
          "model_module_version": "1.5.0",
          "state": {
            "_model_module": "@jupyter-widgets/controls",
            "_model_module_version": "1.5.0",
            "_model_name": "ProgressStyleModel",
            "_view_count": null,
            "_view_module": "@jupyter-widgets/base",
            "_view_module_version": "1.2.0",
            "_view_name": "StyleView",
            "bar_color": null,
            "description_width": ""
          }
        },
        "eda43566e92342a28f0399754b717824": {
          "model_module": "@jupyter-widgets/controls",
          "model_name": "VBoxModel",
          "model_module_version": "1.5.0",
          "state": {
            "_dom_classes": [],
            "_model_module": "@jupyter-widgets/controls",
            "_model_module_version": "1.5.0",
            "_model_name": "VBoxModel",
            "_view_count": null,
            "_view_module": "@jupyter-widgets/controls",
            "_view_module_version": "1.5.0",
            "_view_name": "VBoxView",
            "box_style": "",
            "children": [
              "IPY_MODEL_4c199e8b4a3c4b428cbb2d704d079271",
              "IPY_MODEL_02ff1047db134aaf8f66ba03b80d1124"
            ],
            "layout": "IPY_MODEL_59f2b5dbd54d464aa51b5acf3d4689e0"
          }
        },
        "4c199e8b4a3c4b428cbb2d704d079271": {
          "model_module": "@jupyter-widgets/controls",
          "model_name": "LabelModel",
          "model_module_version": "1.5.0",
          "state": {
            "_dom_classes": [],
            "_model_module": "@jupyter-widgets/controls",
            "_model_module_version": "1.5.0",
            "_model_name": "LabelModel",
            "_view_count": null,
            "_view_module": "@jupyter-widgets/controls",
            "_view_module_version": "1.5.0",
            "_view_name": "LabelView",
            "description": "",
            "description_tooltip": null,
            "layout": "IPY_MODEL_64d860572b9e47c4b20e567e27da15dc",
            "placeholder": "​",
            "style": "IPY_MODEL_575071bee7a2421ca3b27a47fd43358a",
            "value": "0.000 MB of 0.000 MB uploaded (0.000 MB deduped)\r"
          }
        },
        "02ff1047db134aaf8f66ba03b80d1124": {
          "model_module": "@jupyter-widgets/controls",
          "model_name": "FloatProgressModel",
          "model_module_version": "1.5.0",
          "state": {
            "_dom_classes": [],
            "_model_module": "@jupyter-widgets/controls",
            "_model_module_version": "1.5.0",
            "_model_name": "FloatProgressModel",
            "_view_count": null,
            "_view_module": "@jupyter-widgets/controls",
            "_view_module_version": "1.5.0",
            "_view_name": "ProgressView",
            "bar_style": "",
            "description": "",
            "description_tooltip": null,
            "layout": "IPY_MODEL_7e16e98e504a41d4b18fd718165192b5",
            "max": 1,
            "min": 0,
            "orientation": "horizontal",
            "style": "IPY_MODEL_46ba19f4c2b243f1b0d9dcadb7db8fb3",
            "value": 1
          }
        },
        "59f2b5dbd54d464aa51b5acf3d4689e0": {
          "model_module": "@jupyter-widgets/base",
          "model_name": "LayoutModel",
          "model_module_version": "1.2.0",
          "state": {
            "_model_module": "@jupyter-widgets/base",
            "_model_module_version": "1.2.0",
            "_model_name": "LayoutModel",
            "_view_count": null,
            "_view_module": "@jupyter-widgets/base",
            "_view_module_version": "1.2.0",
            "_view_name": "LayoutView",
            "align_content": null,
            "align_items": null,
            "align_self": null,
            "border": null,
            "bottom": null,
            "display": null,
            "flex": null,
            "flex_flow": null,
            "grid_area": null,
            "grid_auto_columns": null,
            "grid_auto_flow": null,
            "grid_auto_rows": null,
            "grid_column": null,
            "grid_gap": null,
            "grid_row": null,
            "grid_template_areas": null,
            "grid_template_columns": null,
            "grid_template_rows": null,
            "height": null,
            "justify_content": null,
            "justify_items": null,
            "left": null,
            "margin": null,
            "max_height": null,
            "max_width": null,
            "min_height": null,
            "min_width": null,
            "object_fit": null,
            "object_position": null,
            "order": null,
            "overflow": null,
            "overflow_x": null,
            "overflow_y": null,
            "padding": null,
            "right": null,
            "top": null,
            "visibility": null,
            "width": null
          }
        },
        "64d860572b9e47c4b20e567e27da15dc": {
          "model_module": "@jupyter-widgets/base",
          "model_name": "LayoutModel",
          "model_module_version": "1.2.0",
          "state": {
            "_model_module": "@jupyter-widgets/base",
            "_model_module_version": "1.2.0",
            "_model_name": "LayoutModel",
            "_view_count": null,
            "_view_module": "@jupyter-widgets/base",
            "_view_module_version": "1.2.0",
            "_view_name": "LayoutView",
            "align_content": null,
            "align_items": null,
            "align_self": null,
            "border": null,
            "bottom": null,
            "display": null,
            "flex": null,
            "flex_flow": null,
            "grid_area": null,
            "grid_auto_columns": null,
            "grid_auto_flow": null,
            "grid_auto_rows": null,
            "grid_column": null,
            "grid_gap": null,
            "grid_row": null,
            "grid_template_areas": null,
            "grid_template_columns": null,
            "grid_template_rows": null,
            "height": null,
            "justify_content": null,
            "justify_items": null,
            "left": null,
            "margin": null,
            "max_height": null,
            "max_width": null,
            "min_height": null,
            "min_width": null,
            "object_fit": null,
            "object_position": null,
            "order": null,
            "overflow": null,
            "overflow_x": null,
            "overflow_y": null,
            "padding": null,
            "right": null,
            "top": null,
            "visibility": null,
            "width": null
          }
        },
        "575071bee7a2421ca3b27a47fd43358a": {
          "model_module": "@jupyter-widgets/controls",
          "model_name": "DescriptionStyleModel",
          "model_module_version": "1.5.0",
          "state": {
            "_model_module": "@jupyter-widgets/controls",
            "_model_module_version": "1.5.0",
            "_model_name": "DescriptionStyleModel",
            "_view_count": null,
            "_view_module": "@jupyter-widgets/base",
            "_view_module_version": "1.2.0",
            "_view_name": "StyleView",
            "description_width": ""
          }
        },
        "7e16e98e504a41d4b18fd718165192b5": {
          "model_module": "@jupyter-widgets/base",
          "model_name": "LayoutModel",
          "model_module_version": "1.2.0",
          "state": {
            "_model_module": "@jupyter-widgets/base",
            "_model_module_version": "1.2.0",
            "_model_name": "LayoutModel",
            "_view_count": null,
            "_view_module": "@jupyter-widgets/base",
            "_view_module_version": "1.2.0",
            "_view_name": "LayoutView",
            "align_content": null,
            "align_items": null,
            "align_self": null,
            "border": null,
            "bottom": null,
            "display": null,
            "flex": null,
            "flex_flow": null,
            "grid_area": null,
            "grid_auto_columns": null,
            "grid_auto_flow": null,
            "grid_auto_rows": null,
            "grid_column": null,
            "grid_gap": null,
            "grid_row": null,
            "grid_template_areas": null,
            "grid_template_columns": null,
            "grid_template_rows": null,
            "height": null,
            "justify_content": null,
            "justify_items": null,
            "left": null,
            "margin": null,
            "max_height": null,
            "max_width": null,
            "min_height": null,
            "min_width": null,
            "object_fit": null,
            "object_position": null,
            "order": null,
            "overflow": null,
            "overflow_x": null,
            "overflow_y": null,
            "padding": null,
            "right": null,
            "top": null,
            "visibility": null,
            "width": null
          }
        },
        "46ba19f4c2b243f1b0d9dcadb7db8fb3": {
          "model_module": "@jupyter-widgets/controls",
          "model_name": "ProgressStyleModel",
          "model_module_version": "1.5.0",
          "state": {
            "_model_module": "@jupyter-widgets/controls",
            "_model_module_version": "1.5.0",
            "_model_name": "ProgressStyleModel",
            "_view_count": null,
            "_view_module": "@jupyter-widgets/base",
            "_view_module_version": "1.2.0",
            "_view_name": "StyleView",
            "bar_color": null,
            "description_width": ""
          }
        },
        "803a17fe4fd84d8b95399a635b715217": {
          "model_module": "@jupyter-widgets/controls",
          "model_name": "VBoxModel",
          "model_module_version": "1.5.0",
          "state": {
            "_dom_classes": [],
            "_model_module": "@jupyter-widgets/controls",
            "_model_module_version": "1.5.0",
            "_model_name": "VBoxModel",
            "_view_count": null,
            "_view_module": "@jupyter-widgets/controls",
            "_view_module_version": "1.5.0",
            "_view_name": "VBoxView",
            "box_style": "",
            "children": [
              "IPY_MODEL_c8a87731f30b4e8aa7f3bc96b1f16ccb",
              "IPY_MODEL_18bf06356b484e6da98d097c7b5ef828"
            ],
            "layout": "IPY_MODEL_2971f68f92cf4c7d916dc414709afba1"
          }
        },
        "c8a87731f30b4e8aa7f3bc96b1f16ccb": {
          "model_module": "@jupyter-widgets/controls",
          "model_name": "LabelModel",
          "model_module_version": "1.5.0",
          "state": {
            "_dom_classes": [],
            "_model_module": "@jupyter-widgets/controls",
            "_model_module_version": "1.5.0",
            "_model_name": "LabelModel",
            "_view_count": null,
            "_view_module": "@jupyter-widgets/controls",
            "_view_module_version": "1.5.0",
            "_view_name": "LabelView",
            "description": "",
            "description_tooltip": null,
            "layout": "IPY_MODEL_a46f4f2b643f437c82cae8e1339f52e4",
            "placeholder": "​",
            "style": "IPY_MODEL_99fdd8a8ab024a4abde1229dc15879de",
            "value": "0.000 MB of 0.000 MB uploaded (0.000 MB deduped)\r"
          }
        },
        "18bf06356b484e6da98d097c7b5ef828": {
          "model_module": "@jupyter-widgets/controls",
          "model_name": "FloatProgressModel",
          "model_module_version": "1.5.0",
          "state": {
            "_dom_classes": [],
            "_model_module": "@jupyter-widgets/controls",
            "_model_module_version": "1.5.0",
            "_model_name": "FloatProgressModel",
            "_view_count": null,
            "_view_module": "@jupyter-widgets/controls",
            "_view_module_version": "1.5.0",
            "_view_name": "ProgressView",
            "bar_style": "",
            "description": "",
            "description_tooltip": null,
            "layout": "IPY_MODEL_020fcea62a564509ad39e98a760845d0",
            "max": 1,
            "min": 0,
            "orientation": "horizontal",
            "style": "IPY_MODEL_3bc6c480ca12448a996fc3eceba22018",
            "value": 1
          }
        },
        "2971f68f92cf4c7d916dc414709afba1": {
          "model_module": "@jupyter-widgets/base",
          "model_name": "LayoutModel",
          "model_module_version": "1.2.0",
          "state": {
            "_model_module": "@jupyter-widgets/base",
            "_model_module_version": "1.2.0",
            "_model_name": "LayoutModel",
            "_view_count": null,
            "_view_module": "@jupyter-widgets/base",
            "_view_module_version": "1.2.0",
            "_view_name": "LayoutView",
            "align_content": null,
            "align_items": null,
            "align_self": null,
            "border": null,
            "bottom": null,
            "display": null,
            "flex": null,
            "flex_flow": null,
            "grid_area": null,
            "grid_auto_columns": null,
            "grid_auto_flow": null,
            "grid_auto_rows": null,
            "grid_column": null,
            "grid_gap": null,
            "grid_row": null,
            "grid_template_areas": null,
            "grid_template_columns": null,
            "grid_template_rows": null,
            "height": null,
            "justify_content": null,
            "justify_items": null,
            "left": null,
            "margin": null,
            "max_height": null,
            "max_width": null,
            "min_height": null,
            "min_width": null,
            "object_fit": null,
            "object_position": null,
            "order": null,
            "overflow": null,
            "overflow_x": null,
            "overflow_y": null,
            "padding": null,
            "right": null,
            "top": null,
            "visibility": null,
            "width": null
          }
        },
        "a46f4f2b643f437c82cae8e1339f52e4": {
          "model_module": "@jupyter-widgets/base",
          "model_name": "LayoutModel",
          "model_module_version": "1.2.0",
          "state": {
            "_model_module": "@jupyter-widgets/base",
            "_model_module_version": "1.2.0",
            "_model_name": "LayoutModel",
            "_view_count": null,
            "_view_module": "@jupyter-widgets/base",
            "_view_module_version": "1.2.0",
            "_view_name": "LayoutView",
            "align_content": null,
            "align_items": null,
            "align_self": null,
            "border": null,
            "bottom": null,
            "display": null,
            "flex": null,
            "flex_flow": null,
            "grid_area": null,
            "grid_auto_columns": null,
            "grid_auto_flow": null,
            "grid_auto_rows": null,
            "grid_column": null,
            "grid_gap": null,
            "grid_row": null,
            "grid_template_areas": null,
            "grid_template_columns": null,
            "grid_template_rows": null,
            "height": null,
            "justify_content": null,
            "justify_items": null,
            "left": null,
            "margin": null,
            "max_height": null,
            "max_width": null,
            "min_height": null,
            "min_width": null,
            "object_fit": null,
            "object_position": null,
            "order": null,
            "overflow": null,
            "overflow_x": null,
            "overflow_y": null,
            "padding": null,
            "right": null,
            "top": null,
            "visibility": null,
            "width": null
          }
        },
        "99fdd8a8ab024a4abde1229dc15879de": {
          "model_module": "@jupyter-widgets/controls",
          "model_name": "DescriptionStyleModel",
          "model_module_version": "1.5.0",
          "state": {
            "_model_module": "@jupyter-widgets/controls",
            "_model_module_version": "1.5.0",
            "_model_name": "DescriptionStyleModel",
            "_view_count": null,
            "_view_module": "@jupyter-widgets/base",
            "_view_module_version": "1.2.0",
            "_view_name": "StyleView",
            "description_width": ""
          }
        },
        "020fcea62a564509ad39e98a760845d0": {
          "model_module": "@jupyter-widgets/base",
          "model_name": "LayoutModel",
          "model_module_version": "1.2.0",
          "state": {
            "_model_module": "@jupyter-widgets/base",
            "_model_module_version": "1.2.0",
            "_model_name": "LayoutModel",
            "_view_count": null,
            "_view_module": "@jupyter-widgets/base",
            "_view_module_version": "1.2.0",
            "_view_name": "LayoutView",
            "align_content": null,
            "align_items": null,
            "align_self": null,
            "border": null,
            "bottom": null,
            "display": null,
            "flex": null,
            "flex_flow": null,
            "grid_area": null,
            "grid_auto_columns": null,
            "grid_auto_flow": null,
            "grid_auto_rows": null,
            "grid_column": null,
            "grid_gap": null,
            "grid_row": null,
            "grid_template_areas": null,
            "grid_template_columns": null,
            "grid_template_rows": null,
            "height": null,
            "justify_content": null,
            "justify_items": null,
            "left": null,
            "margin": null,
            "max_height": null,
            "max_width": null,
            "min_height": null,
            "min_width": null,
            "object_fit": null,
            "object_position": null,
            "order": null,
            "overflow": null,
            "overflow_x": null,
            "overflow_y": null,
            "padding": null,
            "right": null,
            "top": null,
            "visibility": null,
            "width": null
          }
        },
        "3bc6c480ca12448a996fc3eceba22018": {
          "model_module": "@jupyter-widgets/controls",
          "model_name": "ProgressStyleModel",
          "model_module_version": "1.5.0",
          "state": {
            "_model_module": "@jupyter-widgets/controls",
            "_model_module_version": "1.5.0",
            "_model_name": "ProgressStyleModel",
            "_view_count": null,
            "_view_module": "@jupyter-widgets/base",
            "_view_module_version": "1.2.0",
            "_view_name": "StyleView",
            "bar_color": null,
            "description_width": ""
          }
        },
        "f40f98b1471740f494feb227a5646b39": {
          "model_module": "@jupyter-widgets/controls",
          "model_name": "VBoxModel",
          "model_module_version": "1.5.0",
          "state": {
            "_dom_classes": [],
            "_model_module": "@jupyter-widgets/controls",
            "_model_module_version": "1.5.0",
            "_model_name": "VBoxModel",
            "_view_count": null,
            "_view_module": "@jupyter-widgets/controls",
            "_view_module_version": "1.5.0",
            "_view_name": "VBoxView",
            "box_style": "",
            "children": [
              "IPY_MODEL_71d774047cd2456db5ef85fb491fb4f2",
              "IPY_MODEL_906c5308d42f40caaf51a8d6a50a4d30"
            ],
            "layout": "IPY_MODEL_4b524d3fafa04657a8ca35d6180db78d"
          }
        },
        "71d774047cd2456db5ef85fb491fb4f2": {
          "model_module": "@jupyter-widgets/controls",
          "model_name": "LabelModel",
          "model_module_version": "1.5.0",
          "state": {
            "_dom_classes": [],
            "_model_module": "@jupyter-widgets/controls",
            "_model_module_version": "1.5.0",
            "_model_name": "LabelModel",
            "_view_count": null,
            "_view_module": "@jupyter-widgets/controls",
            "_view_module_version": "1.5.0",
            "_view_name": "LabelView",
            "description": "",
            "description_tooltip": null,
            "layout": "IPY_MODEL_03dd7e1df76f48b2b4c345130de70c4e",
            "placeholder": "​",
            "style": "IPY_MODEL_0e175b74a6014a13b33fdb46223825f2",
            "value": "0.000 MB of 0.000 MB uploaded (0.000 MB deduped)\r"
          }
        },
        "906c5308d42f40caaf51a8d6a50a4d30": {
          "model_module": "@jupyter-widgets/controls",
          "model_name": "FloatProgressModel",
          "model_module_version": "1.5.0",
          "state": {
            "_dom_classes": [],
            "_model_module": "@jupyter-widgets/controls",
            "_model_module_version": "1.5.0",
            "_model_name": "FloatProgressModel",
            "_view_count": null,
            "_view_module": "@jupyter-widgets/controls",
            "_view_module_version": "1.5.0",
            "_view_name": "ProgressView",
            "bar_style": "",
            "description": "",
            "description_tooltip": null,
            "layout": "IPY_MODEL_787dd33cb7954ab49cac1b443721cf64",
            "max": 1,
            "min": 0,
            "orientation": "horizontal",
            "style": "IPY_MODEL_b0ecdabbd03e47e8b4dd827c60c6e059",
            "value": 1
          }
        },
        "4b524d3fafa04657a8ca35d6180db78d": {
          "model_module": "@jupyter-widgets/base",
          "model_name": "LayoutModel",
          "model_module_version": "1.2.0",
          "state": {
            "_model_module": "@jupyter-widgets/base",
            "_model_module_version": "1.2.0",
            "_model_name": "LayoutModel",
            "_view_count": null,
            "_view_module": "@jupyter-widgets/base",
            "_view_module_version": "1.2.0",
            "_view_name": "LayoutView",
            "align_content": null,
            "align_items": null,
            "align_self": null,
            "border": null,
            "bottom": null,
            "display": null,
            "flex": null,
            "flex_flow": null,
            "grid_area": null,
            "grid_auto_columns": null,
            "grid_auto_flow": null,
            "grid_auto_rows": null,
            "grid_column": null,
            "grid_gap": null,
            "grid_row": null,
            "grid_template_areas": null,
            "grid_template_columns": null,
            "grid_template_rows": null,
            "height": null,
            "justify_content": null,
            "justify_items": null,
            "left": null,
            "margin": null,
            "max_height": null,
            "max_width": null,
            "min_height": null,
            "min_width": null,
            "object_fit": null,
            "object_position": null,
            "order": null,
            "overflow": null,
            "overflow_x": null,
            "overflow_y": null,
            "padding": null,
            "right": null,
            "top": null,
            "visibility": null,
            "width": null
          }
        },
        "03dd7e1df76f48b2b4c345130de70c4e": {
          "model_module": "@jupyter-widgets/base",
          "model_name": "LayoutModel",
          "model_module_version": "1.2.0",
          "state": {
            "_model_module": "@jupyter-widgets/base",
            "_model_module_version": "1.2.0",
            "_model_name": "LayoutModel",
            "_view_count": null,
            "_view_module": "@jupyter-widgets/base",
            "_view_module_version": "1.2.0",
            "_view_name": "LayoutView",
            "align_content": null,
            "align_items": null,
            "align_self": null,
            "border": null,
            "bottom": null,
            "display": null,
            "flex": null,
            "flex_flow": null,
            "grid_area": null,
            "grid_auto_columns": null,
            "grid_auto_flow": null,
            "grid_auto_rows": null,
            "grid_column": null,
            "grid_gap": null,
            "grid_row": null,
            "grid_template_areas": null,
            "grid_template_columns": null,
            "grid_template_rows": null,
            "height": null,
            "justify_content": null,
            "justify_items": null,
            "left": null,
            "margin": null,
            "max_height": null,
            "max_width": null,
            "min_height": null,
            "min_width": null,
            "object_fit": null,
            "object_position": null,
            "order": null,
            "overflow": null,
            "overflow_x": null,
            "overflow_y": null,
            "padding": null,
            "right": null,
            "top": null,
            "visibility": null,
            "width": null
          }
        },
        "0e175b74a6014a13b33fdb46223825f2": {
          "model_module": "@jupyter-widgets/controls",
          "model_name": "DescriptionStyleModel",
          "model_module_version": "1.5.0",
          "state": {
            "_model_module": "@jupyter-widgets/controls",
            "_model_module_version": "1.5.0",
            "_model_name": "DescriptionStyleModel",
            "_view_count": null,
            "_view_module": "@jupyter-widgets/base",
            "_view_module_version": "1.2.0",
            "_view_name": "StyleView",
            "description_width": ""
          }
        },
        "787dd33cb7954ab49cac1b443721cf64": {
          "model_module": "@jupyter-widgets/base",
          "model_name": "LayoutModel",
          "model_module_version": "1.2.0",
          "state": {
            "_model_module": "@jupyter-widgets/base",
            "_model_module_version": "1.2.0",
            "_model_name": "LayoutModel",
            "_view_count": null,
            "_view_module": "@jupyter-widgets/base",
            "_view_module_version": "1.2.0",
            "_view_name": "LayoutView",
            "align_content": null,
            "align_items": null,
            "align_self": null,
            "border": null,
            "bottom": null,
            "display": null,
            "flex": null,
            "flex_flow": null,
            "grid_area": null,
            "grid_auto_columns": null,
            "grid_auto_flow": null,
            "grid_auto_rows": null,
            "grid_column": null,
            "grid_gap": null,
            "grid_row": null,
            "grid_template_areas": null,
            "grid_template_columns": null,
            "grid_template_rows": null,
            "height": null,
            "justify_content": null,
            "justify_items": null,
            "left": null,
            "margin": null,
            "max_height": null,
            "max_width": null,
            "min_height": null,
            "min_width": null,
            "object_fit": null,
            "object_position": null,
            "order": null,
            "overflow": null,
            "overflow_x": null,
            "overflow_y": null,
            "padding": null,
            "right": null,
            "top": null,
            "visibility": null,
            "width": null
          }
        },
        "b0ecdabbd03e47e8b4dd827c60c6e059": {
          "model_module": "@jupyter-widgets/controls",
          "model_name": "ProgressStyleModel",
          "model_module_version": "1.5.0",
          "state": {
            "_model_module": "@jupyter-widgets/controls",
            "_model_module_version": "1.5.0",
            "_model_name": "ProgressStyleModel",
            "_view_count": null,
            "_view_module": "@jupyter-widgets/base",
            "_view_module_version": "1.2.0",
            "_view_name": "StyleView",
            "bar_color": null,
            "description_width": ""
          }
        },
        "7675066aa5bd48b8bc020670682cc348": {
          "model_module": "@jupyter-widgets/controls",
          "model_name": "VBoxModel",
          "model_module_version": "1.5.0",
          "state": {
            "_dom_classes": [],
            "_model_module": "@jupyter-widgets/controls",
            "_model_module_version": "1.5.0",
            "_model_name": "VBoxModel",
            "_view_count": null,
            "_view_module": "@jupyter-widgets/controls",
            "_view_module_version": "1.5.0",
            "_view_name": "VBoxView",
            "box_style": "",
            "children": [
              "IPY_MODEL_480f7e5c4dfa4d35aeadbdc0e3171401",
              "IPY_MODEL_9d4e037251914f2795150cf6c0c6fcce"
            ],
            "layout": "IPY_MODEL_c59a8b5bd5ca4cf9b143228d2fff94a2"
          }
        },
        "480f7e5c4dfa4d35aeadbdc0e3171401": {
          "model_module": "@jupyter-widgets/controls",
          "model_name": "LabelModel",
          "model_module_version": "1.5.0",
          "state": {
            "_dom_classes": [],
            "_model_module": "@jupyter-widgets/controls",
            "_model_module_version": "1.5.0",
            "_model_name": "LabelModel",
            "_view_count": null,
            "_view_module": "@jupyter-widgets/controls",
            "_view_module_version": "1.5.0",
            "_view_name": "LabelView",
            "description": "",
            "description_tooltip": null,
            "layout": "IPY_MODEL_5226ed3d14be482da30a97791482a654",
            "placeholder": "​",
            "style": "IPY_MODEL_7c858de534104ae9b05ab3d750b012ad",
            "value": "0.000 MB of 0.000 MB uploaded (0.000 MB deduped)\r"
          }
        },
        "9d4e037251914f2795150cf6c0c6fcce": {
          "model_module": "@jupyter-widgets/controls",
          "model_name": "FloatProgressModel",
          "model_module_version": "1.5.0",
          "state": {
            "_dom_classes": [],
            "_model_module": "@jupyter-widgets/controls",
            "_model_module_version": "1.5.0",
            "_model_name": "FloatProgressModel",
            "_view_count": null,
            "_view_module": "@jupyter-widgets/controls",
            "_view_module_version": "1.5.0",
            "_view_name": "ProgressView",
            "bar_style": "",
            "description": "",
            "description_tooltip": null,
            "layout": "IPY_MODEL_b0c0b8b9ecf941848459d7f9163823bf",
            "max": 1,
            "min": 0,
            "orientation": "horizontal",
            "style": "IPY_MODEL_c8dc6f8a13c74c92bb3b0143351721c4",
            "value": 1
          }
        },
        "c59a8b5bd5ca4cf9b143228d2fff94a2": {
          "model_module": "@jupyter-widgets/base",
          "model_name": "LayoutModel",
          "model_module_version": "1.2.0",
          "state": {
            "_model_module": "@jupyter-widgets/base",
            "_model_module_version": "1.2.0",
            "_model_name": "LayoutModel",
            "_view_count": null,
            "_view_module": "@jupyter-widgets/base",
            "_view_module_version": "1.2.0",
            "_view_name": "LayoutView",
            "align_content": null,
            "align_items": null,
            "align_self": null,
            "border": null,
            "bottom": null,
            "display": null,
            "flex": null,
            "flex_flow": null,
            "grid_area": null,
            "grid_auto_columns": null,
            "grid_auto_flow": null,
            "grid_auto_rows": null,
            "grid_column": null,
            "grid_gap": null,
            "grid_row": null,
            "grid_template_areas": null,
            "grid_template_columns": null,
            "grid_template_rows": null,
            "height": null,
            "justify_content": null,
            "justify_items": null,
            "left": null,
            "margin": null,
            "max_height": null,
            "max_width": null,
            "min_height": null,
            "min_width": null,
            "object_fit": null,
            "object_position": null,
            "order": null,
            "overflow": null,
            "overflow_x": null,
            "overflow_y": null,
            "padding": null,
            "right": null,
            "top": null,
            "visibility": null,
            "width": null
          }
        },
        "5226ed3d14be482da30a97791482a654": {
          "model_module": "@jupyter-widgets/base",
          "model_name": "LayoutModel",
          "model_module_version": "1.2.0",
          "state": {
            "_model_module": "@jupyter-widgets/base",
            "_model_module_version": "1.2.0",
            "_model_name": "LayoutModel",
            "_view_count": null,
            "_view_module": "@jupyter-widgets/base",
            "_view_module_version": "1.2.0",
            "_view_name": "LayoutView",
            "align_content": null,
            "align_items": null,
            "align_self": null,
            "border": null,
            "bottom": null,
            "display": null,
            "flex": null,
            "flex_flow": null,
            "grid_area": null,
            "grid_auto_columns": null,
            "grid_auto_flow": null,
            "grid_auto_rows": null,
            "grid_column": null,
            "grid_gap": null,
            "grid_row": null,
            "grid_template_areas": null,
            "grid_template_columns": null,
            "grid_template_rows": null,
            "height": null,
            "justify_content": null,
            "justify_items": null,
            "left": null,
            "margin": null,
            "max_height": null,
            "max_width": null,
            "min_height": null,
            "min_width": null,
            "object_fit": null,
            "object_position": null,
            "order": null,
            "overflow": null,
            "overflow_x": null,
            "overflow_y": null,
            "padding": null,
            "right": null,
            "top": null,
            "visibility": null,
            "width": null
          }
        },
        "7c858de534104ae9b05ab3d750b012ad": {
          "model_module": "@jupyter-widgets/controls",
          "model_name": "DescriptionStyleModel",
          "model_module_version": "1.5.0",
          "state": {
            "_model_module": "@jupyter-widgets/controls",
            "_model_module_version": "1.5.0",
            "_model_name": "DescriptionStyleModel",
            "_view_count": null,
            "_view_module": "@jupyter-widgets/base",
            "_view_module_version": "1.2.0",
            "_view_name": "StyleView",
            "description_width": ""
          }
        },
        "b0c0b8b9ecf941848459d7f9163823bf": {
          "model_module": "@jupyter-widgets/base",
          "model_name": "LayoutModel",
          "model_module_version": "1.2.0",
          "state": {
            "_model_module": "@jupyter-widgets/base",
            "_model_module_version": "1.2.0",
            "_model_name": "LayoutModel",
            "_view_count": null,
            "_view_module": "@jupyter-widgets/base",
            "_view_module_version": "1.2.0",
            "_view_name": "LayoutView",
            "align_content": null,
            "align_items": null,
            "align_self": null,
            "border": null,
            "bottom": null,
            "display": null,
            "flex": null,
            "flex_flow": null,
            "grid_area": null,
            "grid_auto_columns": null,
            "grid_auto_flow": null,
            "grid_auto_rows": null,
            "grid_column": null,
            "grid_gap": null,
            "grid_row": null,
            "grid_template_areas": null,
            "grid_template_columns": null,
            "grid_template_rows": null,
            "height": null,
            "justify_content": null,
            "justify_items": null,
            "left": null,
            "margin": null,
            "max_height": null,
            "max_width": null,
            "min_height": null,
            "min_width": null,
            "object_fit": null,
            "object_position": null,
            "order": null,
            "overflow": null,
            "overflow_x": null,
            "overflow_y": null,
            "padding": null,
            "right": null,
            "top": null,
            "visibility": null,
            "width": null
          }
        },
        "c8dc6f8a13c74c92bb3b0143351721c4": {
          "model_module": "@jupyter-widgets/controls",
          "model_name": "ProgressStyleModel",
          "model_module_version": "1.5.0",
          "state": {
            "_model_module": "@jupyter-widgets/controls",
            "_model_module_version": "1.5.0",
            "_model_name": "ProgressStyleModel",
            "_view_count": null,
            "_view_module": "@jupyter-widgets/base",
            "_view_module_version": "1.2.0",
            "_view_name": "StyleView",
            "bar_color": null,
            "description_width": ""
          }
        },
        "089d0e220de44214a3106a57103d3c79": {
          "model_module": "@jupyter-widgets/controls",
          "model_name": "VBoxModel",
          "model_module_version": "1.5.0",
          "state": {
            "_dom_classes": [],
            "_model_module": "@jupyter-widgets/controls",
            "_model_module_version": "1.5.0",
            "_model_name": "VBoxModel",
            "_view_count": null,
            "_view_module": "@jupyter-widgets/controls",
            "_view_module_version": "1.5.0",
            "_view_name": "VBoxView",
            "box_style": "",
            "children": [
              "IPY_MODEL_d2fd4f8dc0f24a85892555c5b27cb27d",
              "IPY_MODEL_8d8ce3ee5f194071b1750496672a5932"
            ],
            "layout": "IPY_MODEL_538c77c7fff74c2397ad15d4dd4e8b5d"
          }
        },
        "d2fd4f8dc0f24a85892555c5b27cb27d": {
          "model_module": "@jupyter-widgets/controls",
          "model_name": "LabelModel",
          "model_module_version": "1.5.0",
          "state": {
            "_dom_classes": [],
            "_model_module": "@jupyter-widgets/controls",
            "_model_module_version": "1.5.0",
            "_model_name": "LabelModel",
            "_view_count": null,
            "_view_module": "@jupyter-widgets/controls",
            "_view_module_version": "1.5.0",
            "_view_name": "LabelView",
            "description": "",
            "description_tooltip": null,
            "layout": "IPY_MODEL_e2a9b8f8990e4cc2b6b630ea30a4c58d",
            "placeholder": "​",
            "style": "IPY_MODEL_ed702bc4198b4cbd898013fdecc73350",
            "value": "0.000 MB of 0.000 MB uploaded (0.000 MB deduped)\r"
          }
        },
        "8d8ce3ee5f194071b1750496672a5932": {
          "model_module": "@jupyter-widgets/controls",
          "model_name": "FloatProgressModel",
          "model_module_version": "1.5.0",
          "state": {
            "_dom_classes": [],
            "_model_module": "@jupyter-widgets/controls",
            "_model_module_version": "1.5.0",
            "_model_name": "FloatProgressModel",
            "_view_count": null,
            "_view_module": "@jupyter-widgets/controls",
            "_view_module_version": "1.5.0",
            "_view_name": "ProgressView",
            "bar_style": "",
            "description": "",
            "description_tooltip": null,
            "layout": "IPY_MODEL_3cc150bbf3214433995fa0d0a6a6b19f",
            "max": 1,
            "min": 0,
            "orientation": "horizontal",
            "style": "IPY_MODEL_0402c1c465e34b6fae04eae6e6e091de",
            "value": 1
          }
        },
        "538c77c7fff74c2397ad15d4dd4e8b5d": {
          "model_module": "@jupyter-widgets/base",
          "model_name": "LayoutModel",
          "model_module_version": "1.2.0",
          "state": {
            "_model_module": "@jupyter-widgets/base",
            "_model_module_version": "1.2.0",
            "_model_name": "LayoutModel",
            "_view_count": null,
            "_view_module": "@jupyter-widgets/base",
            "_view_module_version": "1.2.0",
            "_view_name": "LayoutView",
            "align_content": null,
            "align_items": null,
            "align_self": null,
            "border": null,
            "bottom": null,
            "display": null,
            "flex": null,
            "flex_flow": null,
            "grid_area": null,
            "grid_auto_columns": null,
            "grid_auto_flow": null,
            "grid_auto_rows": null,
            "grid_column": null,
            "grid_gap": null,
            "grid_row": null,
            "grid_template_areas": null,
            "grid_template_columns": null,
            "grid_template_rows": null,
            "height": null,
            "justify_content": null,
            "justify_items": null,
            "left": null,
            "margin": null,
            "max_height": null,
            "max_width": null,
            "min_height": null,
            "min_width": null,
            "object_fit": null,
            "object_position": null,
            "order": null,
            "overflow": null,
            "overflow_x": null,
            "overflow_y": null,
            "padding": null,
            "right": null,
            "top": null,
            "visibility": null,
            "width": null
          }
        },
        "e2a9b8f8990e4cc2b6b630ea30a4c58d": {
          "model_module": "@jupyter-widgets/base",
          "model_name": "LayoutModel",
          "model_module_version": "1.2.0",
          "state": {
            "_model_module": "@jupyter-widgets/base",
            "_model_module_version": "1.2.0",
            "_model_name": "LayoutModel",
            "_view_count": null,
            "_view_module": "@jupyter-widgets/base",
            "_view_module_version": "1.2.0",
            "_view_name": "LayoutView",
            "align_content": null,
            "align_items": null,
            "align_self": null,
            "border": null,
            "bottom": null,
            "display": null,
            "flex": null,
            "flex_flow": null,
            "grid_area": null,
            "grid_auto_columns": null,
            "grid_auto_flow": null,
            "grid_auto_rows": null,
            "grid_column": null,
            "grid_gap": null,
            "grid_row": null,
            "grid_template_areas": null,
            "grid_template_columns": null,
            "grid_template_rows": null,
            "height": null,
            "justify_content": null,
            "justify_items": null,
            "left": null,
            "margin": null,
            "max_height": null,
            "max_width": null,
            "min_height": null,
            "min_width": null,
            "object_fit": null,
            "object_position": null,
            "order": null,
            "overflow": null,
            "overflow_x": null,
            "overflow_y": null,
            "padding": null,
            "right": null,
            "top": null,
            "visibility": null,
            "width": null
          }
        },
        "ed702bc4198b4cbd898013fdecc73350": {
          "model_module": "@jupyter-widgets/controls",
          "model_name": "DescriptionStyleModel",
          "model_module_version": "1.5.0",
          "state": {
            "_model_module": "@jupyter-widgets/controls",
            "_model_module_version": "1.5.0",
            "_model_name": "DescriptionStyleModel",
            "_view_count": null,
            "_view_module": "@jupyter-widgets/base",
            "_view_module_version": "1.2.0",
            "_view_name": "StyleView",
            "description_width": ""
          }
        },
        "3cc150bbf3214433995fa0d0a6a6b19f": {
          "model_module": "@jupyter-widgets/base",
          "model_name": "LayoutModel",
          "model_module_version": "1.2.0",
          "state": {
            "_model_module": "@jupyter-widgets/base",
            "_model_module_version": "1.2.0",
            "_model_name": "LayoutModel",
            "_view_count": null,
            "_view_module": "@jupyter-widgets/base",
            "_view_module_version": "1.2.0",
            "_view_name": "LayoutView",
            "align_content": null,
            "align_items": null,
            "align_self": null,
            "border": null,
            "bottom": null,
            "display": null,
            "flex": null,
            "flex_flow": null,
            "grid_area": null,
            "grid_auto_columns": null,
            "grid_auto_flow": null,
            "grid_auto_rows": null,
            "grid_column": null,
            "grid_gap": null,
            "grid_row": null,
            "grid_template_areas": null,
            "grid_template_columns": null,
            "grid_template_rows": null,
            "height": null,
            "justify_content": null,
            "justify_items": null,
            "left": null,
            "margin": null,
            "max_height": null,
            "max_width": null,
            "min_height": null,
            "min_width": null,
            "object_fit": null,
            "object_position": null,
            "order": null,
            "overflow": null,
            "overflow_x": null,
            "overflow_y": null,
            "padding": null,
            "right": null,
            "top": null,
            "visibility": null,
            "width": null
          }
        },
        "0402c1c465e34b6fae04eae6e6e091de": {
          "model_module": "@jupyter-widgets/controls",
          "model_name": "ProgressStyleModel",
          "model_module_version": "1.5.0",
          "state": {
            "_model_module": "@jupyter-widgets/controls",
            "_model_module_version": "1.5.0",
            "_model_name": "ProgressStyleModel",
            "_view_count": null,
            "_view_module": "@jupyter-widgets/base",
            "_view_module_version": "1.2.0",
            "_view_name": "StyleView",
            "bar_color": null,
            "description_width": ""
          }
        },
        "9391aa110e47448e9e4553ffc729a6e1": {
          "model_module": "@jupyter-widgets/controls",
          "model_name": "VBoxModel",
          "model_module_version": "1.5.0",
          "state": {
            "_dom_classes": [],
            "_model_module": "@jupyter-widgets/controls",
            "_model_module_version": "1.5.0",
            "_model_name": "VBoxModel",
            "_view_count": null,
            "_view_module": "@jupyter-widgets/controls",
            "_view_module_version": "1.5.0",
            "_view_name": "VBoxView",
            "box_style": "",
            "children": [
              "IPY_MODEL_d5cc762fef304398848325201fcd6ff0",
              "IPY_MODEL_e1642b127e5a4882b766abbee837dfcb"
            ],
            "layout": "IPY_MODEL_18fe370f817c4846a9f74866a5caf1d4"
          }
        },
        "d5cc762fef304398848325201fcd6ff0": {
          "model_module": "@jupyter-widgets/controls",
          "model_name": "LabelModel",
          "model_module_version": "1.5.0",
          "state": {
            "_dom_classes": [],
            "_model_module": "@jupyter-widgets/controls",
            "_model_module_version": "1.5.0",
            "_model_name": "LabelModel",
            "_view_count": null,
            "_view_module": "@jupyter-widgets/controls",
            "_view_module_version": "1.5.0",
            "_view_name": "LabelView",
            "description": "",
            "description_tooltip": null,
            "layout": "IPY_MODEL_fdb9087559754c4aa3df4e2297bb9eab",
            "placeholder": "​",
            "style": "IPY_MODEL_cd3a16eed539446babf8d356c5c46faf",
            "value": "0.000 MB of 0.000 MB uploaded (0.000 MB deduped)\r"
          }
        },
        "e1642b127e5a4882b766abbee837dfcb": {
          "model_module": "@jupyter-widgets/controls",
          "model_name": "FloatProgressModel",
          "model_module_version": "1.5.0",
          "state": {
            "_dom_classes": [],
            "_model_module": "@jupyter-widgets/controls",
            "_model_module_version": "1.5.0",
            "_model_name": "FloatProgressModel",
            "_view_count": null,
            "_view_module": "@jupyter-widgets/controls",
            "_view_module_version": "1.5.0",
            "_view_name": "ProgressView",
            "bar_style": "",
            "description": "",
            "description_tooltip": null,
            "layout": "IPY_MODEL_4e161ade94ee4b8c8d73a768b60c08a5",
            "max": 1,
            "min": 0,
            "orientation": "horizontal",
            "style": "IPY_MODEL_540121aca6e5425caa3d78cbd2915216",
            "value": 1
          }
        },
        "18fe370f817c4846a9f74866a5caf1d4": {
          "model_module": "@jupyter-widgets/base",
          "model_name": "LayoutModel",
          "model_module_version": "1.2.0",
          "state": {
            "_model_module": "@jupyter-widgets/base",
            "_model_module_version": "1.2.0",
            "_model_name": "LayoutModel",
            "_view_count": null,
            "_view_module": "@jupyter-widgets/base",
            "_view_module_version": "1.2.0",
            "_view_name": "LayoutView",
            "align_content": null,
            "align_items": null,
            "align_self": null,
            "border": null,
            "bottom": null,
            "display": null,
            "flex": null,
            "flex_flow": null,
            "grid_area": null,
            "grid_auto_columns": null,
            "grid_auto_flow": null,
            "grid_auto_rows": null,
            "grid_column": null,
            "grid_gap": null,
            "grid_row": null,
            "grid_template_areas": null,
            "grid_template_columns": null,
            "grid_template_rows": null,
            "height": null,
            "justify_content": null,
            "justify_items": null,
            "left": null,
            "margin": null,
            "max_height": null,
            "max_width": null,
            "min_height": null,
            "min_width": null,
            "object_fit": null,
            "object_position": null,
            "order": null,
            "overflow": null,
            "overflow_x": null,
            "overflow_y": null,
            "padding": null,
            "right": null,
            "top": null,
            "visibility": null,
            "width": null
          }
        },
        "fdb9087559754c4aa3df4e2297bb9eab": {
          "model_module": "@jupyter-widgets/base",
          "model_name": "LayoutModel",
          "model_module_version": "1.2.0",
          "state": {
            "_model_module": "@jupyter-widgets/base",
            "_model_module_version": "1.2.0",
            "_model_name": "LayoutModel",
            "_view_count": null,
            "_view_module": "@jupyter-widgets/base",
            "_view_module_version": "1.2.0",
            "_view_name": "LayoutView",
            "align_content": null,
            "align_items": null,
            "align_self": null,
            "border": null,
            "bottom": null,
            "display": null,
            "flex": null,
            "flex_flow": null,
            "grid_area": null,
            "grid_auto_columns": null,
            "grid_auto_flow": null,
            "grid_auto_rows": null,
            "grid_column": null,
            "grid_gap": null,
            "grid_row": null,
            "grid_template_areas": null,
            "grid_template_columns": null,
            "grid_template_rows": null,
            "height": null,
            "justify_content": null,
            "justify_items": null,
            "left": null,
            "margin": null,
            "max_height": null,
            "max_width": null,
            "min_height": null,
            "min_width": null,
            "object_fit": null,
            "object_position": null,
            "order": null,
            "overflow": null,
            "overflow_x": null,
            "overflow_y": null,
            "padding": null,
            "right": null,
            "top": null,
            "visibility": null,
            "width": null
          }
        },
        "cd3a16eed539446babf8d356c5c46faf": {
          "model_module": "@jupyter-widgets/controls",
          "model_name": "DescriptionStyleModel",
          "model_module_version": "1.5.0",
          "state": {
            "_model_module": "@jupyter-widgets/controls",
            "_model_module_version": "1.5.0",
            "_model_name": "DescriptionStyleModel",
            "_view_count": null,
            "_view_module": "@jupyter-widgets/base",
            "_view_module_version": "1.2.0",
            "_view_name": "StyleView",
            "description_width": ""
          }
        },
        "4e161ade94ee4b8c8d73a768b60c08a5": {
          "model_module": "@jupyter-widgets/base",
          "model_name": "LayoutModel",
          "model_module_version": "1.2.0",
          "state": {
            "_model_module": "@jupyter-widgets/base",
            "_model_module_version": "1.2.0",
            "_model_name": "LayoutModel",
            "_view_count": null,
            "_view_module": "@jupyter-widgets/base",
            "_view_module_version": "1.2.0",
            "_view_name": "LayoutView",
            "align_content": null,
            "align_items": null,
            "align_self": null,
            "border": null,
            "bottom": null,
            "display": null,
            "flex": null,
            "flex_flow": null,
            "grid_area": null,
            "grid_auto_columns": null,
            "grid_auto_flow": null,
            "grid_auto_rows": null,
            "grid_column": null,
            "grid_gap": null,
            "grid_row": null,
            "grid_template_areas": null,
            "grid_template_columns": null,
            "grid_template_rows": null,
            "height": null,
            "justify_content": null,
            "justify_items": null,
            "left": null,
            "margin": null,
            "max_height": null,
            "max_width": null,
            "min_height": null,
            "min_width": null,
            "object_fit": null,
            "object_position": null,
            "order": null,
            "overflow": null,
            "overflow_x": null,
            "overflow_y": null,
            "padding": null,
            "right": null,
            "top": null,
            "visibility": null,
            "width": null
          }
        },
        "540121aca6e5425caa3d78cbd2915216": {
          "model_module": "@jupyter-widgets/controls",
          "model_name": "ProgressStyleModel",
          "model_module_version": "1.5.0",
          "state": {
            "_model_module": "@jupyter-widgets/controls",
            "_model_module_version": "1.5.0",
            "_model_name": "ProgressStyleModel",
            "_view_count": null,
            "_view_module": "@jupyter-widgets/base",
            "_view_module_version": "1.2.0",
            "_view_name": "StyleView",
            "bar_color": null,
            "description_width": ""
          }
        },
        "7b9b36eb8166467cad129fd59f2df8e0": {
          "model_module": "@jupyter-widgets/controls",
          "model_name": "VBoxModel",
          "model_module_version": "1.5.0",
          "state": {
            "_dom_classes": [],
            "_model_module": "@jupyter-widgets/controls",
            "_model_module_version": "1.5.0",
            "_model_name": "VBoxModel",
            "_view_count": null,
            "_view_module": "@jupyter-widgets/controls",
            "_view_module_version": "1.5.0",
            "_view_name": "VBoxView",
            "box_style": "",
            "children": [
              "IPY_MODEL_bbe10b681de349c699a88b095bef9d9f",
              "IPY_MODEL_9b6b7960e10f48e4bf48faafd21ab345"
            ],
            "layout": "IPY_MODEL_d4abffe608f5415aab22508d8bb800e8"
          }
        },
        "bbe10b681de349c699a88b095bef9d9f": {
          "model_module": "@jupyter-widgets/controls",
          "model_name": "LabelModel",
          "model_module_version": "1.5.0",
          "state": {
            "_dom_classes": [],
            "_model_module": "@jupyter-widgets/controls",
            "_model_module_version": "1.5.0",
            "_model_name": "LabelModel",
            "_view_count": null,
            "_view_module": "@jupyter-widgets/controls",
            "_view_module_version": "1.5.0",
            "_view_name": "LabelView",
            "description": "",
            "description_tooltip": null,
            "layout": "IPY_MODEL_a2013e01038b42de93249b7865a293e0",
            "placeholder": "​",
            "style": "IPY_MODEL_4796c17c99424a0093fccb04e96fd595",
            "value": "0.000 MB of 0.000 MB uploaded (0.000 MB deduped)\r"
          }
        },
        "9b6b7960e10f48e4bf48faafd21ab345": {
          "model_module": "@jupyter-widgets/controls",
          "model_name": "FloatProgressModel",
          "model_module_version": "1.5.0",
          "state": {
            "_dom_classes": [],
            "_model_module": "@jupyter-widgets/controls",
            "_model_module_version": "1.5.0",
            "_model_name": "FloatProgressModel",
            "_view_count": null,
            "_view_module": "@jupyter-widgets/controls",
            "_view_module_version": "1.5.0",
            "_view_name": "ProgressView",
            "bar_style": "",
            "description": "",
            "description_tooltip": null,
            "layout": "IPY_MODEL_6768eaecdb5e4a83a63be026fc112180",
            "max": 1,
            "min": 0,
            "orientation": "horizontal",
            "style": "IPY_MODEL_533c78c15c544bf58f916f1cedd7a471",
            "value": 1
          }
        },
        "d4abffe608f5415aab22508d8bb800e8": {
          "model_module": "@jupyter-widgets/base",
          "model_name": "LayoutModel",
          "model_module_version": "1.2.0",
          "state": {
            "_model_module": "@jupyter-widgets/base",
            "_model_module_version": "1.2.0",
            "_model_name": "LayoutModel",
            "_view_count": null,
            "_view_module": "@jupyter-widgets/base",
            "_view_module_version": "1.2.0",
            "_view_name": "LayoutView",
            "align_content": null,
            "align_items": null,
            "align_self": null,
            "border": null,
            "bottom": null,
            "display": null,
            "flex": null,
            "flex_flow": null,
            "grid_area": null,
            "grid_auto_columns": null,
            "grid_auto_flow": null,
            "grid_auto_rows": null,
            "grid_column": null,
            "grid_gap": null,
            "grid_row": null,
            "grid_template_areas": null,
            "grid_template_columns": null,
            "grid_template_rows": null,
            "height": null,
            "justify_content": null,
            "justify_items": null,
            "left": null,
            "margin": null,
            "max_height": null,
            "max_width": null,
            "min_height": null,
            "min_width": null,
            "object_fit": null,
            "object_position": null,
            "order": null,
            "overflow": null,
            "overflow_x": null,
            "overflow_y": null,
            "padding": null,
            "right": null,
            "top": null,
            "visibility": null,
            "width": null
          }
        },
        "a2013e01038b42de93249b7865a293e0": {
          "model_module": "@jupyter-widgets/base",
          "model_name": "LayoutModel",
          "model_module_version": "1.2.0",
          "state": {
            "_model_module": "@jupyter-widgets/base",
            "_model_module_version": "1.2.0",
            "_model_name": "LayoutModel",
            "_view_count": null,
            "_view_module": "@jupyter-widgets/base",
            "_view_module_version": "1.2.0",
            "_view_name": "LayoutView",
            "align_content": null,
            "align_items": null,
            "align_self": null,
            "border": null,
            "bottom": null,
            "display": null,
            "flex": null,
            "flex_flow": null,
            "grid_area": null,
            "grid_auto_columns": null,
            "grid_auto_flow": null,
            "grid_auto_rows": null,
            "grid_column": null,
            "grid_gap": null,
            "grid_row": null,
            "grid_template_areas": null,
            "grid_template_columns": null,
            "grid_template_rows": null,
            "height": null,
            "justify_content": null,
            "justify_items": null,
            "left": null,
            "margin": null,
            "max_height": null,
            "max_width": null,
            "min_height": null,
            "min_width": null,
            "object_fit": null,
            "object_position": null,
            "order": null,
            "overflow": null,
            "overflow_x": null,
            "overflow_y": null,
            "padding": null,
            "right": null,
            "top": null,
            "visibility": null,
            "width": null
          }
        },
        "4796c17c99424a0093fccb04e96fd595": {
          "model_module": "@jupyter-widgets/controls",
          "model_name": "DescriptionStyleModel",
          "model_module_version": "1.5.0",
          "state": {
            "_model_module": "@jupyter-widgets/controls",
            "_model_module_version": "1.5.0",
            "_model_name": "DescriptionStyleModel",
            "_view_count": null,
            "_view_module": "@jupyter-widgets/base",
            "_view_module_version": "1.2.0",
            "_view_name": "StyleView",
            "description_width": ""
          }
        },
        "6768eaecdb5e4a83a63be026fc112180": {
          "model_module": "@jupyter-widgets/base",
          "model_name": "LayoutModel",
          "model_module_version": "1.2.0",
          "state": {
            "_model_module": "@jupyter-widgets/base",
            "_model_module_version": "1.2.0",
            "_model_name": "LayoutModel",
            "_view_count": null,
            "_view_module": "@jupyter-widgets/base",
            "_view_module_version": "1.2.0",
            "_view_name": "LayoutView",
            "align_content": null,
            "align_items": null,
            "align_self": null,
            "border": null,
            "bottom": null,
            "display": null,
            "flex": null,
            "flex_flow": null,
            "grid_area": null,
            "grid_auto_columns": null,
            "grid_auto_flow": null,
            "grid_auto_rows": null,
            "grid_column": null,
            "grid_gap": null,
            "grid_row": null,
            "grid_template_areas": null,
            "grid_template_columns": null,
            "grid_template_rows": null,
            "height": null,
            "justify_content": null,
            "justify_items": null,
            "left": null,
            "margin": null,
            "max_height": null,
            "max_width": null,
            "min_height": null,
            "min_width": null,
            "object_fit": null,
            "object_position": null,
            "order": null,
            "overflow": null,
            "overflow_x": null,
            "overflow_y": null,
            "padding": null,
            "right": null,
            "top": null,
            "visibility": null,
            "width": null
          }
        },
        "533c78c15c544bf58f916f1cedd7a471": {
          "model_module": "@jupyter-widgets/controls",
          "model_name": "ProgressStyleModel",
          "model_module_version": "1.5.0",
          "state": {
            "_model_module": "@jupyter-widgets/controls",
            "_model_module_version": "1.5.0",
            "_model_name": "ProgressStyleModel",
            "_view_count": null,
            "_view_module": "@jupyter-widgets/base",
            "_view_module_version": "1.2.0",
            "_view_name": "StyleView",
            "bar_color": null,
            "description_width": ""
          }
        },
        "1c3a23159ff54bf2b457eae68f538097": {
          "model_module": "@jupyter-widgets/controls",
          "model_name": "VBoxModel",
          "model_module_version": "1.5.0",
          "state": {
            "_dom_classes": [],
            "_model_module": "@jupyter-widgets/controls",
            "_model_module_version": "1.5.0",
            "_model_name": "VBoxModel",
            "_view_count": null,
            "_view_module": "@jupyter-widgets/controls",
            "_view_module_version": "1.5.0",
            "_view_name": "VBoxView",
            "box_style": "",
            "children": [
              "IPY_MODEL_7ee46d58030f4b768805349de9f731d9",
              "IPY_MODEL_b01a33fe19c64b7393a8943825a4a00e"
            ],
            "layout": "IPY_MODEL_342ff1f1bde942deb9210b1e69409030"
          }
        },
        "7ee46d58030f4b768805349de9f731d9": {
          "model_module": "@jupyter-widgets/controls",
          "model_name": "LabelModel",
          "model_module_version": "1.5.0",
          "state": {
            "_dom_classes": [],
            "_model_module": "@jupyter-widgets/controls",
            "_model_module_version": "1.5.0",
            "_model_name": "LabelModel",
            "_view_count": null,
            "_view_module": "@jupyter-widgets/controls",
            "_view_module_version": "1.5.0",
            "_view_name": "LabelView",
            "description": "",
            "description_tooltip": null,
            "layout": "IPY_MODEL_177546106a88450db962ea0e5f7440cd",
            "placeholder": "​",
            "style": "IPY_MODEL_2873409344b844578abf8faceecf8b70",
            "value": "0.000 MB of 0.000 MB uploaded (0.000 MB deduped)\r"
          }
        },
        "b01a33fe19c64b7393a8943825a4a00e": {
          "model_module": "@jupyter-widgets/controls",
          "model_name": "FloatProgressModel",
          "model_module_version": "1.5.0",
          "state": {
            "_dom_classes": [],
            "_model_module": "@jupyter-widgets/controls",
            "_model_module_version": "1.5.0",
            "_model_name": "FloatProgressModel",
            "_view_count": null,
            "_view_module": "@jupyter-widgets/controls",
            "_view_module_version": "1.5.0",
            "_view_name": "ProgressView",
            "bar_style": "",
            "description": "",
            "description_tooltip": null,
            "layout": "IPY_MODEL_25d91a1eb5aa4c83b1bd92d373fb0086",
            "max": 1,
            "min": 0,
            "orientation": "horizontal",
            "style": "IPY_MODEL_7292b3871fdd4c6d97e86fd9ae85f315",
            "value": 1
          }
        },
        "342ff1f1bde942deb9210b1e69409030": {
          "model_module": "@jupyter-widgets/base",
          "model_name": "LayoutModel",
          "model_module_version": "1.2.0",
          "state": {
            "_model_module": "@jupyter-widgets/base",
            "_model_module_version": "1.2.0",
            "_model_name": "LayoutModel",
            "_view_count": null,
            "_view_module": "@jupyter-widgets/base",
            "_view_module_version": "1.2.0",
            "_view_name": "LayoutView",
            "align_content": null,
            "align_items": null,
            "align_self": null,
            "border": null,
            "bottom": null,
            "display": null,
            "flex": null,
            "flex_flow": null,
            "grid_area": null,
            "grid_auto_columns": null,
            "grid_auto_flow": null,
            "grid_auto_rows": null,
            "grid_column": null,
            "grid_gap": null,
            "grid_row": null,
            "grid_template_areas": null,
            "grid_template_columns": null,
            "grid_template_rows": null,
            "height": null,
            "justify_content": null,
            "justify_items": null,
            "left": null,
            "margin": null,
            "max_height": null,
            "max_width": null,
            "min_height": null,
            "min_width": null,
            "object_fit": null,
            "object_position": null,
            "order": null,
            "overflow": null,
            "overflow_x": null,
            "overflow_y": null,
            "padding": null,
            "right": null,
            "top": null,
            "visibility": null,
            "width": null
          }
        },
        "177546106a88450db962ea0e5f7440cd": {
          "model_module": "@jupyter-widgets/base",
          "model_name": "LayoutModel",
          "model_module_version": "1.2.0",
          "state": {
            "_model_module": "@jupyter-widgets/base",
            "_model_module_version": "1.2.0",
            "_model_name": "LayoutModel",
            "_view_count": null,
            "_view_module": "@jupyter-widgets/base",
            "_view_module_version": "1.2.0",
            "_view_name": "LayoutView",
            "align_content": null,
            "align_items": null,
            "align_self": null,
            "border": null,
            "bottom": null,
            "display": null,
            "flex": null,
            "flex_flow": null,
            "grid_area": null,
            "grid_auto_columns": null,
            "grid_auto_flow": null,
            "grid_auto_rows": null,
            "grid_column": null,
            "grid_gap": null,
            "grid_row": null,
            "grid_template_areas": null,
            "grid_template_columns": null,
            "grid_template_rows": null,
            "height": null,
            "justify_content": null,
            "justify_items": null,
            "left": null,
            "margin": null,
            "max_height": null,
            "max_width": null,
            "min_height": null,
            "min_width": null,
            "object_fit": null,
            "object_position": null,
            "order": null,
            "overflow": null,
            "overflow_x": null,
            "overflow_y": null,
            "padding": null,
            "right": null,
            "top": null,
            "visibility": null,
            "width": null
          }
        },
        "2873409344b844578abf8faceecf8b70": {
          "model_module": "@jupyter-widgets/controls",
          "model_name": "DescriptionStyleModel",
          "model_module_version": "1.5.0",
          "state": {
            "_model_module": "@jupyter-widgets/controls",
            "_model_module_version": "1.5.0",
            "_model_name": "DescriptionStyleModel",
            "_view_count": null,
            "_view_module": "@jupyter-widgets/base",
            "_view_module_version": "1.2.0",
            "_view_name": "StyleView",
            "description_width": ""
          }
        },
        "25d91a1eb5aa4c83b1bd92d373fb0086": {
          "model_module": "@jupyter-widgets/base",
          "model_name": "LayoutModel",
          "model_module_version": "1.2.0",
          "state": {
            "_model_module": "@jupyter-widgets/base",
            "_model_module_version": "1.2.0",
            "_model_name": "LayoutModel",
            "_view_count": null,
            "_view_module": "@jupyter-widgets/base",
            "_view_module_version": "1.2.0",
            "_view_name": "LayoutView",
            "align_content": null,
            "align_items": null,
            "align_self": null,
            "border": null,
            "bottom": null,
            "display": null,
            "flex": null,
            "flex_flow": null,
            "grid_area": null,
            "grid_auto_columns": null,
            "grid_auto_flow": null,
            "grid_auto_rows": null,
            "grid_column": null,
            "grid_gap": null,
            "grid_row": null,
            "grid_template_areas": null,
            "grid_template_columns": null,
            "grid_template_rows": null,
            "height": null,
            "justify_content": null,
            "justify_items": null,
            "left": null,
            "margin": null,
            "max_height": null,
            "max_width": null,
            "min_height": null,
            "min_width": null,
            "object_fit": null,
            "object_position": null,
            "order": null,
            "overflow": null,
            "overflow_x": null,
            "overflow_y": null,
            "padding": null,
            "right": null,
            "top": null,
            "visibility": null,
            "width": null
          }
        },
        "7292b3871fdd4c6d97e86fd9ae85f315": {
          "model_module": "@jupyter-widgets/controls",
          "model_name": "ProgressStyleModel",
          "model_module_version": "1.5.0",
          "state": {
            "_model_module": "@jupyter-widgets/controls",
            "_model_module_version": "1.5.0",
            "_model_name": "ProgressStyleModel",
            "_view_count": null,
            "_view_module": "@jupyter-widgets/base",
            "_view_module_version": "1.2.0",
            "_view_name": "StyleView",
            "bar_color": null,
            "description_width": ""
          }
        },
        "c0e5962bb8914546a932e1c5f4e52f38": {
          "model_module": "@jupyter-widgets/controls",
          "model_name": "VBoxModel",
          "model_module_version": "1.5.0",
          "state": {
            "_dom_classes": [],
            "_model_module": "@jupyter-widgets/controls",
            "_model_module_version": "1.5.0",
            "_model_name": "VBoxModel",
            "_view_count": null,
            "_view_module": "@jupyter-widgets/controls",
            "_view_module_version": "1.5.0",
            "_view_name": "VBoxView",
            "box_style": "",
            "children": [
              "IPY_MODEL_b79bb454f2c94e49b44b99a3a0bc29f9",
              "IPY_MODEL_794a78fc1c25490987baa15744847179"
            ],
            "layout": "IPY_MODEL_46387c49540042fb9bf346a1ec46ab2a"
          }
        },
        "b79bb454f2c94e49b44b99a3a0bc29f9": {
          "model_module": "@jupyter-widgets/controls",
          "model_name": "LabelModel",
          "model_module_version": "1.5.0",
          "state": {
            "_dom_classes": [],
            "_model_module": "@jupyter-widgets/controls",
            "_model_module_version": "1.5.0",
            "_model_name": "LabelModel",
            "_view_count": null,
            "_view_module": "@jupyter-widgets/controls",
            "_view_module_version": "1.5.0",
            "_view_name": "LabelView",
            "description": "",
            "description_tooltip": null,
            "layout": "IPY_MODEL_39542c425f3044858430869022237d15",
            "placeholder": "​",
            "style": "IPY_MODEL_75fa0d2f11c54116b7d19450ecd16908",
            "value": "0.000 MB of 0.000 MB uploaded (0.000 MB deduped)\r"
          }
        },
        "794a78fc1c25490987baa15744847179": {
          "model_module": "@jupyter-widgets/controls",
          "model_name": "FloatProgressModel",
          "model_module_version": "1.5.0",
          "state": {
            "_dom_classes": [],
            "_model_module": "@jupyter-widgets/controls",
            "_model_module_version": "1.5.0",
            "_model_name": "FloatProgressModel",
            "_view_count": null,
            "_view_module": "@jupyter-widgets/controls",
            "_view_module_version": "1.5.0",
            "_view_name": "ProgressView",
            "bar_style": "",
            "description": "",
            "description_tooltip": null,
            "layout": "IPY_MODEL_7d5b5350807245899edf9251b1ae18ad",
            "max": 1,
            "min": 0,
            "orientation": "horizontal",
            "style": "IPY_MODEL_f4047bf7adfb483387bb3a571faf97d8",
            "value": 1
          }
        },
        "46387c49540042fb9bf346a1ec46ab2a": {
          "model_module": "@jupyter-widgets/base",
          "model_name": "LayoutModel",
          "model_module_version": "1.2.0",
          "state": {
            "_model_module": "@jupyter-widgets/base",
            "_model_module_version": "1.2.0",
            "_model_name": "LayoutModel",
            "_view_count": null,
            "_view_module": "@jupyter-widgets/base",
            "_view_module_version": "1.2.0",
            "_view_name": "LayoutView",
            "align_content": null,
            "align_items": null,
            "align_self": null,
            "border": null,
            "bottom": null,
            "display": null,
            "flex": null,
            "flex_flow": null,
            "grid_area": null,
            "grid_auto_columns": null,
            "grid_auto_flow": null,
            "grid_auto_rows": null,
            "grid_column": null,
            "grid_gap": null,
            "grid_row": null,
            "grid_template_areas": null,
            "grid_template_columns": null,
            "grid_template_rows": null,
            "height": null,
            "justify_content": null,
            "justify_items": null,
            "left": null,
            "margin": null,
            "max_height": null,
            "max_width": null,
            "min_height": null,
            "min_width": null,
            "object_fit": null,
            "object_position": null,
            "order": null,
            "overflow": null,
            "overflow_x": null,
            "overflow_y": null,
            "padding": null,
            "right": null,
            "top": null,
            "visibility": null,
            "width": null
          }
        },
        "39542c425f3044858430869022237d15": {
          "model_module": "@jupyter-widgets/base",
          "model_name": "LayoutModel",
          "model_module_version": "1.2.0",
          "state": {
            "_model_module": "@jupyter-widgets/base",
            "_model_module_version": "1.2.0",
            "_model_name": "LayoutModel",
            "_view_count": null,
            "_view_module": "@jupyter-widgets/base",
            "_view_module_version": "1.2.0",
            "_view_name": "LayoutView",
            "align_content": null,
            "align_items": null,
            "align_self": null,
            "border": null,
            "bottom": null,
            "display": null,
            "flex": null,
            "flex_flow": null,
            "grid_area": null,
            "grid_auto_columns": null,
            "grid_auto_flow": null,
            "grid_auto_rows": null,
            "grid_column": null,
            "grid_gap": null,
            "grid_row": null,
            "grid_template_areas": null,
            "grid_template_columns": null,
            "grid_template_rows": null,
            "height": null,
            "justify_content": null,
            "justify_items": null,
            "left": null,
            "margin": null,
            "max_height": null,
            "max_width": null,
            "min_height": null,
            "min_width": null,
            "object_fit": null,
            "object_position": null,
            "order": null,
            "overflow": null,
            "overflow_x": null,
            "overflow_y": null,
            "padding": null,
            "right": null,
            "top": null,
            "visibility": null,
            "width": null
          }
        },
        "75fa0d2f11c54116b7d19450ecd16908": {
          "model_module": "@jupyter-widgets/controls",
          "model_name": "DescriptionStyleModel",
          "model_module_version": "1.5.0",
          "state": {
            "_model_module": "@jupyter-widgets/controls",
            "_model_module_version": "1.5.0",
            "_model_name": "DescriptionStyleModel",
            "_view_count": null,
            "_view_module": "@jupyter-widgets/base",
            "_view_module_version": "1.2.0",
            "_view_name": "StyleView",
            "description_width": ""
          }
        },
        "7d5b5350807245899edf9251b1ae18ad": {
          "model_module": "@jupyter-widgets/base",
          "model_name": "LayoutModel",
          "model_module_version": "1.2.0",
          "state": {
            "_model_module": "@jupyter-widgets/base",
            "_model_module_version": "1.2.0",
            "_model_name": "LayoutModel",
            "_view_count": null,
            "_view_module": "@jupyter-widgets/base",
            "_view_module_version": "1.2.0",
            "_view_name": "LayoutView",
            "align_content": null,
            "align_items": null,
            "align_self": null,
            "border": null,
            "bottom": null,
            "display": null,
            "flex": null,
            "flex_flow": null,
            "grid_area": null,
            "grid_auto_columns": null,
            "grid_auto_flow": null,
            "grid_auto_rows": null,
            "grid_column": null,
            "grid_gap": null,
            "grid_row": null,
            "grid_template_areas": null,
            "grid_template_columns": null,
            "grid_template_rows": null,
            "height": null,
            "justify_content": null,
            "justify_items": null,
            "left": null,
            "margin": null,
            "max_height": null,
            "max_width": null,
            "min_height": null,
            "min_width": null,
            "object_fit": null,
            "object_position": null,
            "order": null,
            "overflow": null,
            "overflow_x": null,
            "overflow_y": null,
            "padding": null,
            "right": null,
            "top": null,
            "visibility": null,
            "width": null
          }
        },
        "f4047bf7adfb483387bb3a571faf97d8": {
          "model_module": "@jupyter-widgets/controls",
          "model_name": "ProgressStyleModel",
          "model_module_version": "1.5.0",
          "state": {
            "_model_module": "@jupyter-widgets/controls",
            "_model_module_version": "1.5.0",
            "_model_name": "ProgressStyleModel",
            "_view_count": null,
            "_view_module": "@jupyter-widgets/base",
            "_view_module_version": "1.2.0",
            "_view_name": "StyleView",
            "bar_color": null,
            "description_width": ""
          }
        },
        "459725b15dc34f3e9f34bbf15f23a072": {
          "model_module": "@jupyter-widgets/controls",
          "model_name": "VBoxModel",
          "model_module_version": "1.5.0",
          "state": {
            "_dom_classes": [],
            "_model_module": "@jupyter-widgets/controls",
            "_model_module_version": "1.5.0",
            "_model_name": "VBoxModel",
            "_view_count": null,
            "_view_module": "@jupyter-widgets/controls",
            "_view_module_version": "1.5.0",
            "_view_name": "VBoxView",
            "box_style": "",
            "children": [
              "IPY_MODEL_c9b948d605f74ae7b18455736da2cd9a",
              "IPY_MODEL_09caddac95044521b3f5f228c80e787a"
            ],
            "layout": "IPY_MODEL_c13318f62b914d0fbda598d181b06ede"
          }
        },
        "c9b948d605f74ae7b18455736da2cd9a": {
          "model_module": "@jupyter-widgets/controls",
          "model_name": "LabelModel",
          "model_module_version": "1.5.0",
          "state": {
            "_dom_classes": [],
            "_model_module": "@jupyter-widgets/controls",
            "_model_module_version": "1.5.0",
            "_model_name": "LabelModel",
            "_view_count": null,
            "_view_module": "@jupyter-widgets/controls",
            "_view_module_version": "1.5.0",
            "_view_name": "LabelView",
            "description": "",
            "description_tooltip": null,
            "layout": "IPY_MODEL_10cffe1bdf7349b3ac0e6734fa6e9d9f",
            "placeholder": "​",
            "style": "IPY_MODEL_3dbd09f7b35340d3be1a375f18f0e506",
            "value": "0.000 MB of 0.000 MB uploaded (0.000 MB deduped)\r"
          }
        },
        "09caddac95044521b3f5f228c80e787a": {
          "model_module": "@jupyter-widgets/controls",
          "model_name": "FloatProgressModel",
          "model_module_version": "1.5.0",
          "state": {
            "_dom_classes": [],
            "_model_module": "@jupyter-widgets/controls",
            "_model_module_version": "1.5.0",
            "_model_name": "FloatProgressModel",
            "_view_count": null,
            "_view_module": "@jupyter-widgets/controls",
            "_view_module_version": "1.5.0",
            "_view_name": "ProgressView",
            "bar_style": "",
            "description": "",
            "description_tooltip": null,
            "layout": "IPY_MODEL_a956449f104c4c7e83ffc14710535b32",
            "max": 1,
            "min": 0,
            "orientation": "horizontal",
            "style": "IPY_MODEL_d5ee8a0c403a42a79bad267845f8afba",
            "value": 1
          }
        },
        "c13318f62b914d0fbda598d181b06ede": {
          "model_module": "@jupyter-widgets/base",
          "model_name": "LayoutModel",
          "model_module_version": "1.2.0",
          "state": {
            "_model_module": "@jupyter-widgets/base",
            "_model_module_version": "1.2.0",
            "_model_name": "LayoutModel",
            "_view_count": null,
            "_view_module": "@jupyter-widgets/base",
            "_view_module_version": "1.2.0",
            "_view_name": "LayoutView",
            "align_content": null,
            "align_items": null,
            "align_self": null,
            "border": null,
            "bottom": null,
            "display": null,
            "flex": null,
            "flex_flow": null,
            "grid_area": null,
            "grid_auto_columns": null,
            "grid_auto_flow": null,
            "grid_auto_rows": null,
            "grid_column": null,
            "grid_gap": null,
            "grid_row": null,
            "grid_template_areas": null,
            "grid_template_columns": null,
            "grid_template_rows": null,
            "height": null,
            "justify_content": null,
            "justify_items": null,
            "left": null,
            "margin": null,
            "max_height": null,
            "max_width": null,
            "min_height": null,
            "min_width": null,
            "object_fit": null,
            "object_position": null,
            "order": null,
            "overflow": null,
            "overflow_x": null,
            "overflow_y": null,
            "padding": null,
            "right": null,
            "top": null,
            "visibility": null,
            "width": null
          }
        },
        "10cffe1bdf7349b3ac0e6734fa6e9d9f": {
          "model_module": "@jupyter-widgets/base",
          "model_name": "LayoutModel",
          "model_module_version": "1.2.0",
          "state": {
            "_model_module": "@jupyter-widgets/base",
            "_model_module_version": "1.2.0",
            "_model_name": "LayoutModel",
            "_view_count": null,
            "_view_module": "@jupyter-widgets/base",
            "_view_module_version": "1.2.0",
            "_view_name": "LayoutView",
            "align_content": null,
            "align_items": null,
            "align_self": null,
            "border": null,
            "bottom": null,
            "display": null,
            "flex": null,
            "flex_flow": null,
            "grid_area": null,
            "grid_auto_columns": null,
            "grid_auto_flow": null,
            "grid_auto_rows": null,
            "grid_column": null,
            "grid_gap": null,
            "grid_row": null,
            "grid_template_areas": null,
            "grid_template_columns": null,
            "grid_template_rows": null,
            "height": null,
            "justify_content": null,
            "justify_items": null,
            "left": null,
            "margin": null,
            "max_height": null,
            "max_width": null,
            "min_height": null,
            "min_width": null,
            "object_fit": null,
            "object_position": null,
            "order": null,
            "overflow": null,
            "overflow_x": null,
            "overflow_y": null,
            "padding": null,
            "right": null,
            "top": null,
            "visibility": null,
            "width": null
          }
        },
        "3dbd09f7b35340d3be1a375f18f0e506": {
          "model_module": "@jupyter-widgets/controls",
          "model_name": "DescriptionStyleModel",
          "model_module_version": "1.5.0",
          "state": {
            "_model_module": "@jupyter-widgets/controls",
            "_model_module_version": "1.5.0",
            "_model_name": "DescriptionStyleModel",
            "_view_count": null,
            "_view_module": "@jupyter-widgets/base",
            "_view_module_version": "1.2.0",
            "_view_name": "StyleView",
            "description_width": ""
          }
        },
        "a956449f104c4c7e83ffc14710535b32": {
          "model_module": "@jupyter-widgets/base",
          "model_name": "LayoutModel",
          "model_module_version": "1.2.0",
          "state": {
            "_model_module": "@jupyter-widgets/base",
            "_model_module_version": "1.2.0",
            "_model_name": "LayoutModel",
            "_view_count": null,
            "_view_module": "@jupyter-widgets/base",
            "_view_module_version": "1.2.0",
            "_view_name": "LayoutView",
            "align_content": null,
            "align_items": null,
            "align_self": null,
            "border": null,
            "bottom": null,
            "display": null,
            "flex": null,
            "flex_flow": null,
            "grid_area": null,
            "grid_auto_columns": null,
            "grid_auto_flow": null,
            "grid_auto_rows": null,
            "grid_column": null,
            "grid_gap": null,
            "grid_row": null,
            "grid_template_areas": null,
            "grid_template_columns": null,
            "grid_template_rows": null,
            "height": null,
            "justify_content": null,
            "justify_items": null,
            "left": null,
            "margin": null,
            "max_height": null,
            "max_width": null,
            "min_height": null,
            "min_width": null,
            "object_fit": null,
            "object_position": null,
            "order": null,
            "overflow": null,
            "overflow_x": null,
            "overflow_y": null,
            "padding": null,
            "right": null,
            "top": null,
            "visibility": null,
            "width": null
          }
        },
        "d5ee8a0c403a42a79bad267845f8afba": {
          "model_module": "@jupyter-widgets/controls",
          "model_name": "ProgressStyleModel",
          "model_module_version": "1.5.0",
          "state": {
            "_model_module": "@jupyter-widgets/controls",
            "_model_module_version": "1.5.0",
            "_model_name": "ProgressStyleModel",
            "_view_count": null,
            "_view_module": "@jupyter-widgets/base",
            "_view_module_version": "1.2.0",
            "_view_name": "StyleView",
            "bar_color": null,
            "description_width": ""
          }
        },
        "94d47b76bba14aadb0816c927abd7397": {
          "model_module": "@jupyter-widgets/controls",
          "model_name": "VBoxModel",
          "model_module_version": "1.5.0",
          "state": {
            "_dom_classes": [],
            "_model_module": "@jupyter-widgets/controls",
            "_model_module_version": "1.5.0",
            "_model_name": "VBoxModel",
            "_view_count": null,
            "_view_module": "@jupyter-widgets/controls",
            "_view_module_version": "1.5.0",
            "_view_name": "VBoxView",
            "box_style": "",
            "children": [
              "IPY_MODEL_f775ae4029d04b3b8538b4c05fd36884",
              "IPY_MODEL_ddb528155f3f41829f204fa599d6ae13"
            ],
            "layout": "IPY_MODEL_c6e1bde13a2040dea4a1b090b26930f8"
          }
        },
        "f775ae4029d04b3b8538b4c05fd36884": {
          "model_module": "@jupyter-widgets/controls",
          "model_name": "LabelModel",
          "model_module_version": "1.5.0",
          "state": {
            "_dom_classes": [],
            "_model_module": "@jupyter-widgets/controls",
            "_model_module_version": "1.5.0",
            "_model_name": "LabelModel",
            "_view_count": null,
            "_view_module": "@jupyter-widgets/controls",
            "_view_module_version": "1.5.0",
            "_view_name": "LabelView",
            "description": "",
            "description_tooltip": null,
            "layout": "IPY_MODEL_83f72b13456d451aa97402e72c91f5cd",
            "placeholder": "​",
            "style": "IPY_MODEL_3a17f1defb5c49979c7c445edf4503e3",
            "value": "0.000 MB of 0.000 MB uploaded (0.000 MB deduped)\r"
          }
        },
        "ddb528155f3f41829f204fa599d6ae13": {
          "model_module": "@jupyter-widgets/controls",
          "model_name": "FloatProgressModel",
          "model_module_version": "1.5.0",
          "state": {
            "_dom_classes": [],
            "_model_module": "@jupyter-widgets/controls",
            "_model_module_version": "1.5.0",
            "_model_name": "FloatProgressModel",
            "_view_count": null,
            "_view_module": "@jupyter-widgets/controls",
            "_view_module_version": "1.5.0",
            "_view_name": "ProgressView",
            "bar_style": "",
            "description": "",
            "description_tooltip": null,
            "layout": "IPY_MODEL_47667385829f48e9a9eb7065fda36ecf",
            "max": 1,
            "min": 0,
            "orientation": "horizontal",
            "style": "IPY_MODEL_9af3f5a829e0433f97bb3a23e10daaef",
            "value": 1
          }
        },
        "c6e1bde13a2040dea4a1b090b26930f8": {
          "model_module": "@jupyter-widgets/base",
          "model_name": "LayoutModel",
          "model_module_version": "1.2.0",
          "state": {
            "_model_module": "@jupyter-widgets/base",
            "_model_module_version": "1.2.0",
            "_model_name": "LayoutModel",
            "_view_count": null,
            "_view_module": "@jupyter-widgets/base",
            "_view_module_version": "1.2.0",
            "_view_name": "LayoutView",
            "align_content": null,
            "align_items": null,
            "align_self": null,
            "border": null,
            "bottom": null,
            "display": null,
            "flex": null,
            "flex_flow": null,
            "grid_area": null,
            "grid_auto_columns": null,
            "grid_auto_flow": null,
            "grid_auto_rows": null,
            "grid_column": null,
            "grid_gap": null,
            "grid_row": null,
            "grid_template_areas": null,
            "grid_template_columns": null,
            "grid_template_rows": null,
            "height": null,
            "justify_content": null,
            "justify_items": null,
            "left": null,
            "margin": null,
            "max_height": null,
            "max_width": null,
            "min_height": null,
            "min_width": null,
            "object_fit": null,
            "object_position": null,
            "order": null,
            "overflow": null,
            "overflow_x": null,
            "overflow_y": null,
            "padding": null,
            "right": null,
            "top": null,
            "visibility": null,
            "width": null
          }
        },
        "83f72b13456d451aa97402e72c91f5cd": {
          "model_module": "@jupyter-widgets/base",
          "model_name": "LayoutModel",
          "model_module_version": "1.2.0",
          "state": {
            "_model_module": "@jupyter-widgets/base",
            "_model_module_version": "1.2.0",
            "_model_name": "LayoutModel",
            "_view_count": null,
            "_view_module": "@jupyter-widgets/base",
            "_view_module_version": "1.2.0",
            "_view_name": "LayoutView",
            "align_content": null,
            "align_items": null,
            "align_self": null,
            "border": null,
            "bottom": null,
            "display": null,
            "flex": null,
            "flex_flow": null,
            "grid_area": null,
            "grid_auto_columns": null,
            "grid_auto_flow": null,
            "grid_auto_rows": null,
            "grid_column": null,
            "grid_gap": null,
            "grid_row": null,
            "grid_template_areas": null,
            "grid_template_columns": null,
            "grid_template_rows": null,
            "height": null,
            "justify_content": null,
            "justify_items": null,
            "left": null,
            "margin": null,
            "max_height": null,
            "max_width": null,
            "min_height": null,
            "min_width": null,
            "object_fit": null,
            "object_position": null,
            "order": null,
            "overflow": null,
            "overflow_x": null,
            "overflow_y": null,
            "padding": null,
            "right": null,
            "top": null,
            "visibility": null,
            "width": null
          }
        },
        "3a17f1defb5c49979c7c445edf4503e3": {
          "model_module": "@jupyter-widgets/controls",
          "model_name": "DescriptionStyleModel",
          "model_module_version": "1.5.0",
          "state": {
            "_model_module": "@jupyter-widgets/controls",
            "_model_module_version": "1.5.0",
            "_model_name": "DescriptionStyleModel",
            "_view_count": null,
            "_view_module": "@jupyter-widgets/base",
            "_view_module_version": "1.2.0",
            "_view_name": "StyleView",
            "description_width": ""
          }
        },
        "47667385829f48e9a9eb7065fda36ecf": {
          "model_module": "@jupyter-widgets/base",
          "model_name": "LayoutModel",
          "model_module_version": "1.2.0",
          "state": {
            "_model_module": "@jupyter-widgets/base",
            "_model_module_version": "1.2.0",
            "_model_name": "LayoutModel",
            "_view_count": null,
            "_view_module": "@jupyter-widgets/base",
            "_view_module_version": "1.2.0",
            "_view_name": "LayoutView",
            "align_content": null,
            "align_items": null,
            "align_self": null,
            "border": null,
            "bottom": null,
            "display": null,
            "flex": null,
            "flex_flow": null,
            "grid_area": null,
            "grid_auto_columns": null,
            "grid_auto_flow": null,
            "grid_auto_rows": null,
            "grid_column": null,
            "grid_gap": null,
            "grid_row": null,
            "grid_template_areas": null,
            "grid_template_columns": null,
            "grid_template_rows": null,
            "height": null,
            "justify_content": null,
            "justify_items": null,
            "left": null,
            "margin": null,
            "max_height": null,
            "max_width": null,
            "min_height": null,
            "min_width": null,
            "object_fit": null,
            "object_position": null,
            "order": null,
            "overflow": null,
            "overflow_x": null,
            "overflow_y": null,
            "padding": null,
            "right": null,
            "top": null,
            "visibility": null,
            "width": null
          }
        },
        "9af3f5a829e0433f97bb3a23e10daaef": {
          "model_module": "@jupyter-widgets/controls",
          "model_name": "ProgressStyleModel",
          "model_module_version": "1.5.0",
          "state": {
            "_model_module": "@jupyter-widgets/controls",
            "_model_module_version": "1.5.0",
            "_model_name": "ProgressStyleModel",
            "_view_count": null,
            "_view_module": "@jupyter-widgets/base",
            "_view_module_version": "1.2.0",
            "_view_name": "StyleView",
            "bar_color": null,
            "description_width": ""
          }
        },
        "c88e1b9c68bf460f9383efdf200afb27": {
          "model_module": "@jupyter-widgets/controls",
          "model_name": "VBoxModel",
          "model_module_version": "1.5.0",
          "state": {
            "_dom_classes": [],
            "_model_module": "@jupyter-widgets/controls",
            "_model_module_version": "1.5.0",
            "_model_name": "VBoxModel",
            "_view_count": null,
            "_view_module": "@jupyter-widgets/controls",
            "_view_module_version": "1.5.0",
            "_view_name": "VBoxView",
            "box_style": "",
            "children": [
              "IPY_MODEL_864ee26eedca411fa0680d6ab40062f2",
              "IPY_MODEL_40779ed4dc1446a1ba73e3e9e4160fe0"
            ],
            "layout": "IPY_MODEL_2b594f76311842cabb35fe734e64dce2"
          }
        },
        "864ee26eedca411fa0680d6ab40062f2": {
          "model_module": "@jupyter-widgets/controls",
          "model_name": "LabelModel",
          "model_module_version": "1.5.0",
          "state": {
            "_dom_classes": [],
            "_model_module": "@jupyter-widgets/controls",
            "_model_module_version": "1.5.0",
            "_model_name": "LabelModel",
            "_view_count": null,
            "_view_module": "@jupyter-widgets/controls",
            "_view_module_version": "1.5.0",
            "_view_name": "LabelView",
            "description": "",
            "description_tooltip": null,
            "layout": "IPY_MODEL_c91c5d53ce614f5ab8ebb0279f3368cc",
            "placeholder": "​",
            "style": "IPY_MODEL_3b366c6eb9164207830148bf9927c4ff",
            "value": "0.000 MB of 0.000 MB uploaded (0.000 MB deduped)\r"
          }
        },
        "40779ed4dc1446a1ba73e3e9e4160fe0": {
          "model_module": "@jupyter-widgets/controls",
          "model_name": "FloatProgressModel",
          "model_module_version": "1.5.0",
          "state": {
            "_dom_classes": [],
            "_model_module": "@jupyter-widgets/controls",
            "_model_module_version": "1.5.0",
            "_model_name": "FloatProgressModel",
            "_view_count": null,
            "_view_module": "@jupyter-widgets/controls",
            "_view_module_version": "1.5.0",
            "_view_name": "ProgressView",
            "bar_style": "",
            "description": "",
            "description_tooltip": null,
            "layout": "IPY_MODEL_4aea391259604e07a3ed39bf96d1e3f7",
            "max": 1,
            "min": 0,
            "orientation": "horizontal",
            "style": "IPY_MODEL_87fd5d5e8c6944cea56d09f0633c9511",
            "value": 1
          }
        },
        "2b594f76311842cabb35fe734e64dce2": {
          "model_module": "@jupyter-widgets/base",
          "model_name": "LayoutModel",
          "model_module_version": "1.2.0",
          "state": {
            "_model_module": "@jupyter-widgets/base",
            "_model_module_version": "1.2.0",
            "_model_name": "LayoutModel",
            "_view_count": null,
            "_view_module": "@jupyter-widgets/base",
            "_view_module_version": "1.2.0",
            "_view_name": "LayoutView",
            "align_content": null,
            "align_items": null,
            "align_self": null,
            "border": null,
            "bottom": null,
            "display": null,
            "flex": null,
            "flex_flow": null,
            "grid_area": null,
            "grid_auto_columns": null,
            "grid_auto_flow": null,
            "grid_auto_rows": null,
            "grid_column": null,
            "grid_gap": null,
            "grid_row": null,
            "grid_template_areas": null,
            "grid_template_columns": null,
            "grid_template_rows": null,
            "height": null,
            "justify_content": null,
            "justify_items": null,
            "left": null,
            "margin": null,
            "max_height": null,
            "max_width": null,
            "min_height": null,
            "min_width": null,
            "object_fit": null,
            "object_position": null,
            "order": null,
            "overflow": null,
            "overflow_x": null,
            "overflow_y": null,
            "padding": null,
            "right": null,
            "top": null,
            "visibility": null,
            "width": null
          }
        },
        "c91c5d53ce614f5ab8ebb0279f3368cc": {
          "model_module": "@jupyter-widgets/base",
          "model_name": "LayoutModel",
          "model_module_version": "1.2.0",
          "state": {
            "_model_module": "@jupyter-widgets/base",
            "_model_module_version": "1.2.0",
            "_model_name": "LayoutModel",
            "_view_count": null,
            "_view_module": "@jupyter-widgets/base",
            "_view_module_version": "1.2.0",
            "_view_name": "LayoutView",
            "align_content": null,
            "align_items": null,
            "align_self": null,
            "border": null,
            "bottom": null,
            "display": null,
            "flex": null,
            "flex_flow": null,
            "grid_area": null,
            "grid_auto_columns": null,
            "grid_auto_flow": null,
            "grid_auto_rows": null,
            "grid_column": null,
            "grid_gap": null,
            "grid_row": null,
            "grid_template_areas": null,
            "grid_template_columns": null,
            "grid_template_rows": null,
            "height": null,
            "justify_content": null,
            "justify_items": null,
            "left": null,
            "margin": null,
            "max_height": null,
            "max_width": null,
            "min_height": null,
            "min_width": null,
            "object_fit": null,
            "object_position": null,
            "order": null,
            "overflow": null,
            "overflow_x": null,
            "overflow_y": null,
            "padding": null,
            "right": null,
            "top": null,
            "visibility": null,
            "width": null
          }
        },
        "3b366c6eb9164207830148bf9927c4ff": {
          "model_module": "@jupyter-widgets/controls",
          "model_name": "DescriptionStyleModel",
          "model_module_version": "1.5.0",
          "state": {
            "_model_module": "@jupyter-widgets/controls",
            "_model_module_version": "1.5.0",
            "_model_name": "DescriptionStyleModel",
            "_view_count": null,
            "_view_module": "@jupyter-widgets/base",
            "_view_module_version": "1.2.0",
            "_view_name": "StyleView",
            "description_width": ""
          }
        },
        "4aea391259604e07a3ed39bf96d1e3f7": {
          "model_module": "@jupyter-widgets/base",
          "model_name": "LayoutModel",
          "model_module_version": "1.2.0",
          "state": {
            "_model_module": "@jupyter-widgets/base",
            "_model_module_version": "1.2.0",
            "_model_name": "LayoutModel",
            "_view_count": null,
            "_view_module": "@jupyter-widgets/base",
            "_view_module_version": "1.2.0",
            "_view_name": "LayoutView",
            "align_content": null,
            "align_items": null,
            "align_self": null,
            "border": null,
            "bottom": null,
            "display": null,
            "flex": null,
            "flex_flow": null,
            "grid_area": null,
            "grid_auto_columns": null,
            "grid_auto_flow": null,
            "grid_auto_rows": null,
            "grid_column": null,
            "grid_gap": null,
            "grid_row": null,
            "grid_template_areas": null,
            "grid_template_columns": null,
            "grid_template_rows": null,
            "height": null,
            "justify_content": null,
            "justify_items": null,
            "left": null,
            "margin": null,
            "max_height": null,
            "max_width": null,
            "min_height": null,
            "min_width": null,
            "object_fit": null,
            "object_position": null,
            "order": null,
            "overflow": null,
            "overflow_x": null,
            "overflow_y": null,
            "padding": null,
            "right": null,
            "top": null,
            "visibility": null,
            "width": null
          }
        },
        "87fd5d5e8c6944cea56d09f0633c9511": {
          "model_module": "@jupyter-widgets/controls",
          "model_name": "ProgressStyleModel",
          "model_module_version": "1.5.0",
          "state": {
            "_model_module": "@jupyter-widgets/controls",
            "_model_module_version": "1.5.0",
            "_model_name": "ProgressStyleModel",
            "_view_count": null,
            "_view_module": "@jupyter-widgets/base",
            "_view_module_version": "1.2.0",
            "_view_name": "StyleView",
            "bar_color": null,
            "description_width": ""
          }
        },
        "cbefeb5790eb4ea9a4e50c5247879198": {
          "model_module": "@jupyter-widgets/controls",
          "model_name": "VBoxModel",
          "model_module_version": "1.5.0",
          "state": {
            "_dom_classes": [],
            "_model_module": "@jupyter-widgets/controls",
            "_model_module_version": "1.5.0",
            "_model_name": "VBoxModel",
            "_view_count": null,
            "_view_module": "@jupyter-widgets/controls",
            "_view_module_version": "1.5.0",
            "_view_name": "VBoxView",
            "box_style": "",
            "children": [
              "IPY_MODEL_4922127875d14d13b49c851738ebbf74",
              "IPY_MODEL_00acbb4eb91d4985aec33c02ab63862f"
            ],
            "layout": "IPY_MODEL_a07590ec740d4973adb8a66ca1827c41"
          }
        },
        "4922127875d14d13b49c851738ebbf74": {
          "model_module": "@jupyter-widgets/controls",
          "model_name": "LabelModel",
          "model_module_version": "1.5.0",
          "state": {
            "_dom_classes": [],
            "_model_module": "@jupyter-widgets/controls",
            "_model_module_version": "1.5.0",
            "_model_name": "LabelModel",
            "_view_count": null,
            "_view_module": "@jupyter-widgets/controls",
            "_view_module_version": "1.5.0",
            "_view_name": "LabelView",
            "description": "",
            "description_tooltip": null,
            "layout": "IPY_MODEL_dcb36dea60ef4d0294407861f1b9cedb",
            "placeholder": "​",
            "style": "IPY_MODEL_59a4f38c885140f5985bd4519dc1b9b7",
            "value": "0.000 MB of 0.000 MB uploaded (0.000 MB deduped)\r"
          }
        },
        "00acbb4eb91d4985aec33c02ab63862f": {
          "model_module": "@jupyter-widgets/controls",
          "model_name": "FloatProgressModel",
          "model_module_version": "1.5.0",
          "state": {
            "_dom_classes": [],
            "_model_module": "@jupyter-widgets/controls",
            "_model_module_version": "1.5.0",
            "_model_name": "FloatProgressModel",
            "_view_count": null,
            "_view_module": "@jupyter-widgets/controls",
            "_view_module_version": "1.5.0",
            "_view_name": "ProgressView",
            "bar_style": "",
            "description": "",
            "description_tooltip": null,
            "layout": "IPY_MODEL_4c5c74e407bb42789d8fcb67d159a4cd",
            "max": 1,
            "min": 0,
            "orientation": "horizontal",
            "style": "IPY_MODEL_da26b6a1e86b41a4b264967b4f760797",
            "value": 1
          }
        },
        "a07590ec740d4973adb8a66ca1827c41": {
          "model_module": "@jupyter-widgets/base",
          "model_name": "LayoutModel",
          "model_module_version": "1.2.0",
          "state": {
            "_model_module": "@jupyter-widgets/base",
            "_model_module_version": "1.2.0",
            "_model_name": "LayoutModel",
            "_view_count": null,
            "_view_module": "@jupyter-widgets/base",
            "_view_module_version": "1.2.0",
            "_view_name": "LayoutView",
            "align_content": null,
            "align_items": null,
            "align_self": null,
            "border": null,
            "bottom": null,
            "display": null,
            "flex": null,
            "flex_flow": null,
            "grid_area": null,
            "grid_auto_columns": null,
            "grid_auto_flow": null,
            "grid_auto_rows": null,
            "grid_column": null,
            "grid_gap": null,
            "grid_row": null,
            "grid_template_areas": null,
            "grid_template_columns": null,
            "grid_template_rows": null,
            "height": null,
            "justify_content": null,
            "justify_items": null,
            "left": null,
            "margin": null,
            "max_height": null,
            "max_width": null,
            "min_height": null,
            "min_width": null,
            "object_fit": null,
            "object_position": null,
            "order": null,
            "overflow": null,
            "overflow_x": null,
            "overflow_y": null,
            "padding": null,
            "right": null,
            "top": null,
            "visibility": null,
            "width": null
          }
        },
        "dcb36dea60ef4d0294407861f1b9cedb": {
          "model_module": "@jupyter-widgets/base",
          "model_name": "LayoutModel",
          "model_module_version": "1.2.0",
          "state": {
            "_model_module": "@jupyter-widgets/base",
            "_model_module_version": "1.2.0",
            "_model_name": "LayoutModel",
            "_view_count": null,
            "_view_module": "@jupyter-widgets/base",
            "_view_module_version": "1.2.0",
            "_view_name": "LayoutView",
            "align_content": null,
            "align_items": null,
            "align_self": null,
            "border": null,
            "bottom": null,
            "display": null,
            "flex": null,
            "flex_flow": null,
            "grid_area": null,
            "grid_auto_columns": null,
            "grid_auto_flow": null,
            "grid_auto_rows": null,
            "grid_column": null,
            "grid_gap": null,
            "grid_row": null,
            "grid_template_areas": null,
            "grid_template_columns": null,
            "grid_template_rows": null,
            "height": null,
            "justify_content": null,
            "justify_items": null,
            "left": null,
            "margin": null,
            "max_height": null,
            "max_width": null,
            "min_height": null,
            "min_width": null,
            "object_fit": null,
            "object_position": null,
            "order": null,
            "overflow": null,
            "overflow_x": null,
            "overflow_y": null,
            "padding": null,
            "right": null,
            "top": null,
            "visibility": null,
            "width": null
          }
        },
        "59a4f38c885140f5985bd4519dc1b9b7": {
          "model_module": "@jupyter-widgets/controls",
          "model_name": "DescriptionStyleModel",
          "model_module_version": "1.5.0",
          "state": {
            "_model_module": "@jupyter-widgets/controls",
            "_model_module_version": "1.5.0",
            "_model_name": "DescriptionStyleModel",
            "_view_count": null,
            "_view_module": "@jupyter-widgets/base",
            "_view_module_version": "1.2.0",
            "_view_name": "StyleView",
            "description_width": ""
          }
        },
        "4c5c74e407bb42789d8fcb67d159a4cd": {
          "model_module": "@jupyter-widgets/base",
          "model_name": "LayoutModel",
          "model_module_version": "1.2.0",
          "state": {
            "_model_module": "@jupyter-widgets/base",
            "_model_module_version": "1.2.0",
            "_model_name": "LayoutModel",
            "_view_count": null,
            "_view_module": "@jupyter-widgets/base",
            "_view_module_version": "1.2.0",
            "_view_name": "LayoutView",
            "align_content": null,
            "align_items": null,
            "align_self": null,
            "border": null,
            "bottom": null,
            "display": null,
            "flex": null,
            "flex_flow": null,
            "grid_area": null,
            "grid_auto_columns": null,
            "grid_auto_flow": null,
            "grid_auto_rows": null,
            "grid_column": null,
            "grid_gap": null,
            "grid_row": null,
            "grid_template_areas": null,
            "grid_template_columns": null,
            "grid_template_rows": null,
            "height": null,
            "justify_content": null,
            "justify_items": null,
            "left": null,
            "margin": null,
            "max_height": null,
            "max_width": null,
            "min_height": null,
            "min_width": null,
            "object_fit": null,
            "object_position": null,
            "order": null,
            "overflow": null,
            "overflow_x": null,
            "overflow_y": null,
            "padding": null,
            "right": null,
            "top": null,
            "visibility": null,
            "width": null
          }
        },
        "da26b6a1e86b41a4b264967b4f760797": {
          "model_module": "@jupyter-widgets/controls",
          "model_name": "ProgressStyleModel",
          "model_module_version": "1.5.0",
          "state": {
            "_model_module": "@jupyter-widgets/controls",
            "_model_module_version": "1.5.0",
            "_model_name": "ProgressStyleModel",
            "_view_count": null,
            "_view_module": "@jupyter-widgets/base",
            "_view_module_version": "1.2.0",
            "_view_name": "StyleView",
            "bar_color": null,
            "description_width": ""
          }
        },
        "011aa7e9943c4a32822e9de6e476b431": {
          "model_module": "@jupyter-widgets/controls",
          "model_name": "VBoxModel",
          "model_module_version": "1.5.0",
          "state": {
            "_dom_classes": [],
            "_model_module": "@jupyter-widgets/controls",
            "_model_module_version": "1.5.0",
            "_model_name": "VBoxModel",
            "_view_count": null,
            "_view_module": "@jupyter-widgets/controls",
            "_view_module_version": "1.5.0",
            "_view_name": "VBoxView",
            "box_style": "",
            "children": [
              "IPY_MODEL_d88a7ff95bba497f9c449617bc092bfe",
              "IPY_MODEL_a99f536bdb8b4dc6bcba8ae391e7bd7f"
            ],
            "layout": "IPY_MODEL_2fa2314005724ce9a17ad4b5a2471d81"
          }
        },
        "d88a7ff95bba497f9c449617bc092bfe": {
          "model_module": "@jupyter-widgets/controls",
          "model_name": "LabelModel",
          "model_module_version": "1.5.0",
          "state": {
            "_dom_classes": [],
            "_model_module": "@jupyter-widgets/controls",
            "_model_module_version": "1.5.0",
            "_model_name": "LabelModel",
            "_view_count": null,
            "_view_module": "@jupyter-widgets/controls",
            "_view_module_version": "1.5.0",
            "_view_name": "LabelView",
            "description": "",
            "description_tooltip": null,
            "layout": "IPY_MODEL_3768c86879c94ad6b83ed6b9cd9d8d8d",
            "placeholder": "​",
            "style": "IPY_MODEL_da136be83d5745e39d90e4d980286842",
            "value": "0.000 MB of 0.000 MB uploaded (0.000 MB deduped)\r"
          }
        },
        "a99f536bdb8b4dc6bcba8ae391e7bd7f": {
          "model_module": "@jupyter-widgets/controls",
          "model_name": "FloatProgressModel",
          "model_module_version": "1.5.0",
          "state": {
            "_dom_classes": [],
            "_model_module": "@jupyter-widgets/controls",
            "_model_module_version": "1.5.0",
            "_model_name": "FloatProgressModel",
            "_view_count": null,
            "_view_module": "@jupyter-widgets/controls",
            "_view_module_version": "1.5.0",
            "_view_name": "ProgressView",
            "bar_style": "",
            "description": "",
            "description_tooltip": null,
            "layout": "IPY_MODEL_f5dca476d0dc486497166c8ecf1e12b6",
            "max": 1,
            "min": 0,
            "orientation": "horizontal",
            "style": "IPY_MODEL_9647aa5a8e944f528a49abba5e837323",
            "value": 1
          }
        },
        "2fa2314005724ce9a17ad4b5a2471d81": {
          "model_module": "@jupyter-widgets/base",
          "model_name": "LayoutModel",
          "model_module_version": "1.2.0",
          "state": {
            "_model_module": "@jupyter-widgets/base",
            "_model_module_version": "1.2.0",
            "_model_name": "LayoutModel",
            "_view_count": null,
            "_view_module": "@jupyter-widgets/base",
            "_view_module_version": "1.2.0",
            "_view_name": "LayoutView",
            "align_content": null,
            "align_items": null,
            "align_self": null,
            "border": null,
            "bottom": null,
            "display": null,
            "flex": null,
            "flex_flow": null,
            "grid_area": null,
            "grid_auto_columns": null,
            "grid_auto_flow": null,
            "grid_auto_rows": null,
            "grid_column": null,
            "grid_gap": null,
            "grid_row": null,
            "grid_template_areas": null,
            "grid_template_columns": null,
            "grid_template_rows": null,
            "height": null,
            "justify_content": null,
            "justify_items": null,
            "left": null,
            "margin": null,
            "max_height": null,
            "max_width": null,
            "min_height": null,
            "min_width": null,
            "object_fit": null,
            "object_position": null,
            "order": null,
            "overflow": null,
            "overflow_x": null,
            "overflow_y": null,
            "padding": null,
            "right": null,
            "top": null,
            "visibility": null,
            "width": null
          }
        },
        "3768c86879c94ad6b83ed6b9cd9d8d8d": {
          "model_module": "@jupyter-widgets/base",
          "model_name": "LayoutModel",
          "model_module_version": "1.2.0",
          "state": {
            "_model_module": "@jupyter-widgets/base",
            "_model_module_version": "1.2.0",
            "_model_name": "LayoutModel",
            "_view_count": null,
            "_view_module": "@jupyter-widgets/base",
            "_view_module_version": "1.2.0",
            "_view_name": "LayoutView",
            "align_content": null,
            "align_items": null,
            "align_self": null,
            "border": null,
            "bottom": null,
            "display": null,
            "flex": null,
            "flex_flow": null,
            "grid_area": null,
            "grid_auto_columns": null,
            "grid_auto_flow": null,
            "grid_auto_rows": null,
            "grid_column": null,
            "grid_gap": null,
            "grid_row": null,
            "grid_template_areas": null,
            "grid_template_columns": null,
            "grid_template_rows": null,
            "height": null,
            "justify_content": null,
            "justify_items": null,
            "left": null,
            "margin": null,
            "max_height": null,
            "max_width": null,
            "min_height": null,
            "min_width": null,
            "object_fit": null,
            "object_position": null,
            "order": null,
            "overflow": null,
            "overflow_x": null,
            "overflow_y": null,
            "padding": null,
            "right": null,
            "top": null,
            "visibility": null,
            "width": null
          }
        },
        "da136be83d5745e39d90e4d980286842": {
          "model_module": "@jupyter-widgets/controls",
          "model_name": "DescriptionStyleModel",
          "model_module_version": "1.5.0",
          "state": {
            "_model_module": "@jupyter-widgets/controls",
            "_model_module_version": "1.5.0",
            "_model_name": "DescriptionStyleModel",
            "_view_count": null,
            "_view_module": "@jupyter-widgets/base",
            "_view_module_version": "1.2.0",
            "_view_name": "StyleView",
            "description_width": ""
          }
        },
        "f5dca476d0dc486497166c8ecf1e12b6": {
          "model_module": "@jupyter-widgets/base",
          "model_name": "LayoutModel",
          "model_module_version": "1.2.0",
          "state": {
            "_model_module": "@jupyter-widgets/base",
            "_model_module_version": "1.2.0",
            "_model_name": "LayoutModel",
            "_view_count": null,
            "_view_module": "@jupyter-widgets/base",
            "_view_module_version": "1.2.0",
            "_view_name": "LayoutView",
            "align_content": null,
            "align_items": null,
            "align_self": null,
            "border": null,
            "bottom": null,
            "display": null,
            "flex": null,
            "flex_flow": null,
            "grid_area": null,
            "grid_auto_columns": null,
            "grid_auto_flow": null,
            "grid_auto_rows": null,
            "grid_column": null,
            "grid_gap": null,
            "grid_row": null,
            "grid_template_areas": null,
            "grid_template_columns": null,
            "grid_template_rows": null,
            "height": null,
            "justify_content": null,
            "justify_items": null,
            "left": null,
            "margin": null,
            "max_height": null,
            "max_width": null,
            "min_height": null,
            "min_width": null,
            "object_fit": null,
            "object_position": null,
            "order": null,
            "overflow": null,
            "overflow_x": null,
            "overflow_y": null,
            "padding": null,
            "right": null,
            "top": null,
            "visibility": null,
            "width": null
          }
        },
        "9647aa5a8e944f528a49abba5e837323": {
          "model_module": "@jupyter-widgets/controls",
          "model_name": "ProgressStyleModel",
          "model_module_version": "1.5.0",
          "state": {
            "_model_module": "@jupyter-widgets/controls",
            "_model_module_version": "1.5.0",
            "_model_name": "ProgressStyleModel",
            "_view_count": null,
            "_view_module": "@jupyter-widgets/base",
            "_view_module_version": "1.2.0",
            "_view_name": "StyleView",
            "bar_color": null,
            "description_width": ""
          }
        },
        "fa233a38ca00499984349e0f764a3c5b": {
          "model_module": "@jupyter-widgets/controls",
          "model_name": "VBoxModel",
          "model_module_version": "1.5.0",
          "state": {
            "_dom_classes": [],
            "_model_module": "@jupyter-widgets/controls",
            "_model_module_version": "1.5.0",
            "_model_name": "VBoxModel",
            "_view_count": null,
            "_view_module": "@jupyter-widgets/controls",
            "_view_module_version": "1.5.0",
            "_view_name": "VBoxView",
            "box_style": "",
            "children": [
              "IPY_MODEL_1858da34289f4dbfafae462a367389bc",
              "IPY_MODEL_a14a7465a7674e5ca8280458f24b9994"
            ],
            "layout": "IPY_MODEL_9e1f200518d540589623e8a10e9d4948"
          }
        },
        "1858da34289f4dbfafae462a367389bc": {
          "model_module": "@jupyter-widgets/controls",
          "model_name": "LabelModel",
          "model_module_version": "1.5.0",
          "state": {
            "_dom_classes": [],
            "_model_module": "@jupyter-widgets/controls",
            "_model_module_version": "1.5.0",
            "_model_name": "LabelModel",
            "_view_count": null,
            "_view_module": "@jupyter-widgets/controls",
            "_view_module_version": "1.5.0",
            "_view_name": "LabelView",
            "description": "",
            "description_tooltip": null,
            "layout": "IPY_MODEL_7387bb30291e4c2aacfbd52a7d82edde",
            "placeholder": "​",
            "style": "IPY_MODEL_7460908925a246ffabd1322021648ca1",
            "value": "0.000 MB of 0.000 MB uploaded (0.000 MB deduped)\r"
          }
        },
        "a14a7465a7674e5ca8280458f24b9994": {
          "model_module": "@jupyter-widgets/controls",
          "model_name": "FloatProgressModel",
          "model_module_version": "1.5.0",
          "state": {
            "_dom_classes": [],
            "_model_module": "@jupyter-widgets/controls",
            "_model_module_version": "1.5.0",
            "_model_name": "FloatProgressModel",
            "_view_count": null,
            "_view_module": "@jupyter-widgets/controls",
            "_view_module_version": "1.5.0",
            "_view_name": "ProgressView",
            "bar_style": "",
            "description": "",
            "description_tooltip": null,
            "layout": "IPY_MODEL_d54332f693054320b7a685cfdc152f2c",
            "max": 1,
            "min": 0,
            "orientation": "horizontal",
            "style": "IPY_MODEL_6ad7582e16ef49c8a57c41d5ad44239f",
            "value": 1
          }
        },
        "9e1f200518d540589623e8a10e9d4948": {
          "model_module": "@jupyter-widgets/base",
          "model_name": "LayoutModel",
          "model_module_version": "1.2.0",
          "state": {
            "_model_module": "@jupyter-widgets/base",
            "_model_module_version": "1.2.0",
            "_model_name": "LayoutModel",
            "_view_count": null,
            "_view_module": "@jupyter-widgets/base",
            "_view_module_version": "1.2.0",
            "_view_name": "LayoutView",
            "align_content": null,
            "align_items": null,
            "align_self": null,
            "border": null,
            "bottom": null,
            "display": null,
            "flex": null,
            "flex_flow": null,
            "grid_area": null,
            "grid_auto_columns": null,
            "grid_auto_flow": null,
            "grid_auto_rows": null,
            "grid_column": null,
            "grid_gap": null,
            "grid_row": null,
            "grid_template_areas": null,
            "grid_template_columns": null,
            "grid_template_rows": null,
            "height": null,
            "justify_content": null,
            "justify_items": null,
            "left": null,
            "margin": null,
            "max_height": null,
            "max_width": null,
            "min_height": null,
            "min_width": null,
            "object_fit": null,
            "object_position": null,
            "order": null,
            "overflow": null,
            "overflow_x": null,
            "overflow_y": null,
            "padding": null,
            "right": null,
            "top": null,
            "visibility": null,
            "width": null
          }
        },
        "7387bb30291e4c2aacfbd52a7d82edde": {
          "model_module": "@jupyter-widgets/base",
          "model_name": "LayoutModel",
          "model_module_version": "1.2.0",
          "state": {
            "_model_module": "@jupyter-widgets/base",
            "_model_module_version": "1.2.0",
            "_model_name": "LayoutModel",
            "_view_count": null,
            "_view_module": "@jupyter-widgets/base",
            "_view_module_version": "1.2.0",
            "_view_name": "LayoutView",
            "align_content": null,
            "align_items": null,
            "align_self": null,
            "border": null,
            "bottom": null,
            "display": null,
            "flex": null,
            "flex_flow": null,
            "grid_area": null,
            "grid_auto_columns": null,
            "grid_auto_flow": null,
            "grid_auto_rows": null,
            "grid_column": null,
            "grid_gap": null,
            "grid_row": null,
            "grid_template_areas": null,
            "grid_template_columns": null,
            "grid_template_rows": null,
            "height": null,
            "justify_content": null,
            "justify_items": null,
            "left": null,
            "margin": null,
            "max_height": null,
            "max_width": null,
            "min_height": null,
            "min_width": null,
            "object_fit": null,
            "object_position": null,
            "order": null,
            "overflow": null,
            "overflow_x": null,
            "overflow_y": null,
            "padding": null,
            "right": null,
            "top": null,
            "visibility": null,
            "width": null
          }
        },
        "7460908925a246ffabd1322021648ca1": {
          "model_module": "@jupyter-widgets/controls",
          "model_name": "DescriptionStyleModel",
          "model_module_version": "1.5.0",
          "state": {
            "_model_module": "@jupyter-widgets/controls",
            "_model_module_version": "1.5.0",
            "_model_name": "DescriptionStyleModel",
            "_view_count": null,
            "_view_module": "@jupyter-widgets/base",
            "_view_module_version": "1.2.0",
            "_view_name": "StyleView",
            "description_width": ""
          }
        },
        "d54332f693054320b7a685cfdc152f2c": {
          "model_module": "@jupyter-widgets/base",
          "model_name": "LayoutModel",
          "model_module_version": "1.2.0",
          "state": {
            "_model_module": "@jupyter-widgets/base",
            "_model_module_version": "1.2.0",
            "_model_name": "LayoutModel",
            "_view_count": null,
            "_view_module": "@jupyter-widgets/base",
            "_view_module_version": "1.2.0",
            "_view_name": "LayoutView",
            "align_content": null,
            "align_items": null,
            "align_self": null,
            "border": null,
            "bottom": null,
            "display": null,
            "flex": null,
            "flex_flow": null,
            "grid_area": null,
            "grid_auto_columns": null,
            "grid_auto_flow": null,
            "grid_auto_rows": null,
            "grid_column": null,
            "grid_gap": null,
            "grid_row": null,
            "grid_template_areas": null,
            "grid_template_columns": null,
            "grid_template_rows": null,
            "height": null,
            "justify_content": null,
            "justify_items": null,
            "left": null,
            "margin": null,
            "max_height": null,
            "max_width": null,
            "min_height": null,
            "min_width": null,
            "object_fit": null,
            "object_position": null,
            "order": null,
            "overflow": null,
            "overflow_x": null,
            "overflow_y": null,
            "padding": null,
            "right": null,
            "top": null,
            "visibility": null,
            "width": null
          }
        },
        "6ad7582e16ef49c8a57c41d5ad44239f": {
          "model_module": "@jupyter-widgets/controls",
          "model_name": "ProgressStyleModel",
          "model_module_version": "1.5.0",
          "state": {
            "_model_module": "@jupyter-widgets/controls",
            "_model_module_version": "1.5.0",
            "_model_name": "ProgressStyleModel",
            "_view_count": null,
            "_view_module": "@jupyter-widgets/base",
            "_view_module_version": "1.2.0",
            "_view_name": "StyleView",
            "bar_color": null,
            "description_width": ""
          }
        },
        "cb302596ae0b443787772e0a5d61340f": {
          "model_module": "@jupyter-widgets/controls",
          "model_name": "VBoxModel",
          "model_module_version": "1.5.0",
          "state": {
            "_dom_classes": [],
            "_model_module": "@jupyter-widgets/controls",
            "_model_module_version": "1.5.0",
            "_model_name": "VBoxModel",
            "_view_count": null,
            "_view_module": "@jupyter-widgets/controls",
            "_view_module_version": "1.5.0",
            "_view_name": "VBoxView",
            "box_style": "",
            "children": [
              "IPY_MODEL_bd7a7c9d28ac4a07b6ebaeac7bcf57bc",
              "IPY_MODEL_2c47a725a58f4bf3a4002da6917f1b54"
            ],
            "layout": "IPY_MODEL_4a830fe595ab498c9bb7c359300448e0"
          }
        },
        "bd7a7c9d28ac4a07b6ebaeac7bcf57bc": {
          "model_module": "@jupyter-widgets/controls",
          "model_name": "LabelModel",
          "model_module_version": "1.5.0",
          "state": {
            "_dom_classes": [],
            "_model_module": "@jupyter-widgets/controls",
            "_model_module_version": "1.5.0",
            "_model_name": "LabelModel",
            "_view_count": null,
            "_view_module": "@jupyter-widgets/controls",
            "_view_module_version": "1.5.0",
            "_view_name": "LabelView",
            "description": "",
            "description_tooltip": null,
            "layout": "IPY_MODEL_5c3fdc88614c4f859f4e3a8258e0652e",
            "placeholder": "​",
            "style": "IPY_MODEL_e8b5ce756b934b16a25422d72d7976ed",
            "value": "0.000 MB of 0.000 MB uploaded (0.000 MB deduped)\r"
          }
        },
        "2c47a725a58f4bf3a4002da6917f1b54": {
          "model_module": "@jupyter-widgets/controls",
          "model_name": "FloatProgressModel",
          "model_module_version": "1.5.0",
          "state": {
            "_dom_classes": [],
            "_model_module": "@jupyter-widgets/controls",
            "_model_module_version": "1.5.0",
            "_model_name": "FloatProgressModel",
            "_view_count": null,
            "_view_module": "@jupyter-widgets/controls",
            "_view_module_version": "1.5.0",
            "_view_name": "ProgressView",
            "bar_style": "",
            "description": "",
            "description_tooltip": null,
            "layout": "IPY_MODEL_bc5db62da5c84a1eb0a5dc1eae509e5f",
            "max": 1,
            "min": 0,
            "orientation": "horizontal",
            "style": "IPY_MODEL_4ddb2e0f16fe45dc87afab6b2ec7824b",
            "value": 1
          }
        },
        "4a830fe595ab498c9bb7c359300448e0": {
          "model_module": "@jupyter-widgets/base",
          "model_name": "LayoutModel",
          "model_module_version": "1.2.0",
          "state": {
            "_model_module": "@jupyter-widgets/base",
            "_model_module_version": "1.2.0",
            "_model_name": "LayoutModel",
            "_view_count": null,
            "_view_module": "@jupyter-widgets/base",
            "_view_module_version": "1.2.0",
            "_view_name": "LayoutView",
            "align_content": null,
            "align_items": null,
            "align_self": null,
            "border": null,
            "bottom": null,
            "display": null,
            "flex": null,
            "flex_flow": null,
            "grid_area": null,
            "grid_auto_columns": null,
            "grid_auto_flow": null,
            "grid_auto_rows": null,
            "grid_column": null,
            "grid_gap": null,
            "grid_row": null,
            "grid_template_areas": null,
            "grid_template_columns": null,
            "grid_template_rows": null,
            "height": null,
            "justify_content": null,
            "justify_items": null,
            "left": null,
            "margin": null,
            "max_height": null,
            "max_width": null,
            "min_height": null,
            "min_width": null,
            "object_fit": null,
            "object_position": null,
            "order": null,
            "overflow": null,
            "overflow_x": null,
            "overflow_y": null,
            "padding": null,
            "right": null,
            "top": null,
            "visibility": null,
            "width": null
          }
        },
        "5c3fdc88614c4f859f4e3a8258e0652e": {
          "model_module": "@jupyter-widgets/base",
          "model_name": "LayoutModel",
          "model_module_version": "1.2.0",
          "state": {
            "_model_module": "@jupyter-widgets/base",
            "_model_module_version": "1.2.0",
            "_model_name": "LayoutModel",
            "_view_count": null,
            "_view_module": "@jupyter-widgets/base",
            "_view_module_version": "1.2.0",
            "_view_name": "LayoutView",
            "align_content": null,
            "align_items": null,
            "align_self": null,
            "border": null,
            "bottom": null,
            "display": null,
            "flex": null,
            "flex_flow": null,
            "grid_area": null,
            "grid_auto_columns": null,
            "grid_auto_flow": null,
            "grid_auto_rows": null,
            "grid_column": null,
            "grid_gap": null,
            "grid_row": null,
            "grid_template_areas": null,
            "grid_template_columns": null,
            "grid_template_rows": null,
            "height": null,
            "justify_content": null,
            "justify_items": null,
            "left": null,
            "margin": null,
            "max_height": null,
            "max_width": null,
            "min_height": null,
            "min_width": null,
            "object_fit": null,
            "object_position": null,
            "order": null,
            "overflow": null,
            "overflow_x": null,
            "overflow_y": null,
            "padding": null,
            "right": null,
            "top": null,
            "visibility": null,
            "width": null
          }
        },
        "e8b5ce756b934b16a25422d72d7976ed": {
          "model_module": "@jupyter-widgets/controls",
          "model_name": "DescriptionStyleModel",
          "model_module_version": "1.5.0",
          "state": {
            "_model_module": "@jupyter-widgets/controls",
            "_model_module_version": "1.5.0",
            "_model_name": "DescriptionStyleModel",
            "_view_count": null,
            "_view_module": "@jupyter-widgets/base",
            "_view_module_version": "1.2.0",
            "_view_name": "StyleView",
            "description_width": ""
          }
        },
        "bc5db62da5c84a1eb0a5dc1eae509e5f": {
          "model_module": "@jupyter-widgets/base",
          "model_name": "LayoutModel",
          "model_module_version": "1.2.0",
          "state": {
            "_model_module": "@jupyter-widgets/base",
            "_model_module_version": "1.2.0",
            "_model_name": "LayoutModel",
            "_view_count": null,
            "_view_module": "@jupyter-widgets/base",
            "_view_module_version": "1.2.0",
            "_view_name": "LayoutView",
            "align_content": null,
            "align_items": null,
            "align_self": null,
            "border": null,
            "bottom": null,
            "display": null,
            "flex": null,
            "flex_flow": null,
            "grid_area": null,
            "grid_auto_columns": null,
            "grid_auto_flow": null,
            "grid_auto_rows": null,
            "grid_column": null,
            "grid_gap": null,
            "grid_row": null,
            "grid_template_areas": null,
            "grid_template_columns": null,
            "grid_template_rows": null,
            "height": null,
            "justify_content": null,
            "justify_items": null,
            "left": null,
            "margin": null,
            "max_height": null,
            "max_width": null,
            "min_height": null,
            "min_width": null,
            "object_fit": null,
            "object_position": null,
            "order": null,
            "overflow": null,
            "overflow_x": null,
            "overflow_y": null,
            "padding": null,
            "right": null,
            "top": null,
            "visibility": null,
            "width": null
          }
        },
        "4ddb2e0f16fe45dc87afab6b2ec7824b": {
          "model_module": "@jupyter-widgets/controls",
          "model_name": "ProgressStyleModel",
          "model_module_version": "1.5.0",
          "state": {
            "_model_module": "@jupyter-widgets/controls",
            "_model_module_version": "1.5.0",
            "_model_name": "ProgressStyleModel",
            "_view_count": null,
            "_view_module": "@jupyter-widgets/base",
            "_view_module_version": "1.2.0",
            "_view_name": "StyleView",
            "bar_color": null,
            "description_width": ""
          }
        },
        "69f8da994c1c4e70908c9f469c44c8da": {
          "model_module": "@jupyter-widgets/controls",
          "model_name": "VBoxModel",
          "model_module_version": "1.5.0",
          "state": {
            "_dom_classes": [],
            "_model_module": "@jupyter-widgets/controls",
            "_model_module_version": "1.5.0",
            "_model_name": "VBoxModel",
            "_view_count": null,
            "_view_module": "@jupyter-widgets/controls",
            "_view_module_version": "1.5.0",
            "_view_name": "VBoxView",
            "box_style": "",
            "children": [
              "IPY_MODEL_9ded5a8fb1284918aec5dbdf2fa9ad2a",
              "IPY_MODEL_b4518727fff7414f9fd479e20efff4db"
            ],
            "layout": "IPY_MODEL_3f6bf537e1784116978d016543e12124"
          }
        },
        "9ded5a8fb1284918aec5dbdf2fa9ad2a": {
          "model_module": "@jupyter-widgets/controls",
          "model_name": "LabelModel",
          "model_module_version": "1.5.0",
          "state": {
            "_dom_classes": [],
            "_model_module": "@jupyter-widgets/controls",
            "_model_module_version": "1.5.0",
            "_model_name": "LabelModel",
            "_view_count": null,
            "_view_module": "@jupyter-widgets/controls",
            "_view_module_version": "1.5.0",
            "_view_name": "LabelView",
            "description": "",
            "description_tooltip": null,
            "layout": "IPY_MODEL_8adb13470ab343eb9bc2e79bf77b101a",
            "placeholder": "​",
            "style": "IPY_MODEL_d21d108fb0824d7186b80200df07855e",
            "value": "0.000 MB of 0.000 MB uploaded (0.000 MB deduped)\r"
          }
        },
        "b4518727fff7414f9fd479e20efff4db": {
          "model_module": "@jupyter-widgets/controls",
          "model_name": "FloatProgressModel",
          "model_module_version": "1.5.0",
          "state": {
            "_dom_classes": [],
            "_model_module": "@jupyter-widgets/controls",
            "_model_module_version": "1.5.0",
            "_model_name": "FloatProgressModel",
            "_view_count": null,
            "_view_module": "@jupyter-widgets/controls",
            "_view_module_version": "1.5.0",
            "_view_name": "ProgressView",
            "bar_style": "",
            "description": "",
            "description_tooltip": null,
            "layout": "IPY_MODEL_45add5989071452189e3740ae17f3347",
            "max": 1,
            "min": 0,
            "orientation": "horizontal",
            "style": "IPY_MODEL_5b9e9c7a308e4ad39814fef4bd595d2f",
            "value": 1
          }
        },
        "3f6bf537e1784116978d016543e12124": {
          "model_module": "@jupyter-widgets/base",
          "model_name": "LayoutModel",
          "model_module_version": "1.2.0",
          "state": {
            "_model_module": "@jupyter-widgets/base",
            "_model_module_version": "1.2.0",
            "_model_name": "LayoutModel",
            "_view_count": null,
            "_view_module": "@jupyter-widgets/base",
            "_view_module_version": "1.2.0",
            "_view_name": "LayoutView",
            "align_content": null,
            "align_items": null,
            "align_self": null,
            "border": null,
            "bottom": null,
            "display": null,
            "flex": null,
            "flex_flow": null,
            "grid_area": null,
            "grid_auto_columns": null,
            "grid_auto_flow": null,
            "grid_auto_rows": null,
            "grid_column": null,
            "grid_gap": null,
            "grid_row": null,
            "grid_template_areas": null,
            "grid_template_columns": null,
            "grid_template_rows": null,
            "height": null,
            "justify_content": null,
            "justify_items": null,
            "left": null,
            "margin": null,
            "max_height": null,
            "max_width": null,
            "min_height": null,
            "min_width": null,
            "object_fit": null,
            "object_position": null,
            "order": null,
            "overflow": null,
            "overflow_x": null,
            "overflow_y": null,
            "padding": null,
            "right": null,
            "top": null,
            "visibility": null,
            "width": null
          }
        },
        "8adb13470ab343eb9bc2e79bf77b101a": {
          "model_module": "@jupyter-widgets/base",
          "model_name": "LayoutModel",
          "model_module_version": "1.2.0",
          "state": {
            "_model_module": "@jupyter-widgets/base",
            "_model_module_version": "1.2.0",
            "_model_name": "LayoutModel",
            "_view_count": null,
            "_view_module": "@jupyter-widgets/base",
            "_view_module_version": "1.2.0",
            "_view_name": "LayoutView",
            "align_content": null,
            "align_items": null,
            "align_self": null,
            "border": null,
            "bottom": null,
            "display": null,
            "flex": null,
            "flex_flow": null,
            "grid_area": null,
            "grid_auto_columns": null,
            "grid_auto_flow": null,
            "grid_auto_rows": null,
            "grid_column": null,
            "grid_gap": null,
            "grid_row": null,
            "grid_template_areas": null,
            "grid_template_columns": null,
            "grid_template_rows": null,
            "height": null,
            "justify_content": null,
            "justify_items": null,
            "left": null,
            "margin": null,
            "max_height": null,
            "max_width": null,
            "min_height": null,
            "min_width": null,
            "object_fit": null,
            "object_position": null,
            "order": null,
            "overflow": null,
            "overflow_x": null,
            "overflow_y": null,
            "padding": null,
            "right": null,
            "top": null,
            "visibility": null,
            "width": null
          }
        },
        "d21d108fb0824d7186b80200df07855e": {
          "model_module": "@jupyter-widgets/controls",
          "model_name": "DescriptionStyleModel",
          "model_module_version": "1.5.0",
          "state": {
            "_model_module": "@jupyter-widgets/controls",
            "_model_module_version": "1.5.0",
            "_model_name": "DescriptionStyleModel",
            "_view_count": null,
            "_view_module": "@jupyter-widgets/base",
            "_view_module_version": "1.2.0",
            "_view_name": "StyleView",
            "description_width": ""
          }
        },
        "45add5989071452189e3740ae17f3347": {
          "model_module": "@jupyter-widgets/base",
          "model_name": "LayoutModel",
          "model_module_version": "1.2.0",
          "state": {
            "_model_module": "@jupyter-widgets/base",
            "_model_module_version": "1.2.0",
            "_model_name": "LayoutModel",
            "_view_count": null,
            "_view_module": "@jupyter-widgets/base",
            "_view_module_version": "1.2.0",
            "_view_name": "LayoutView",
            "align_content": null,
            "align_items": null,
            "align_self": null,
            "border": null,
            "bottom": null,
            "display": null,
            "flex": null,
            "flex_flow": null,
            "grid_area": null,
            "grid_auto_columns": null,
            "grid_auto_flow": null,
            "grid_auto_rows": null,
            "grid_column": null,
            "grid_gap": null,
            "grid_row": null,
            "grid_template_areas": null,
            "grid_template_columns": null,
            "grid_template_rows": null,
            "height": null,
            "justify_content": null,
            "justify_items": null,
            "left": null,
            "margin": null,
            "max_height": null,
            "max_width": null,
            "min_height": null,
            "min_width": null,
            "object_fit": null,
            "object_position": null,
            "order": null,
            "overflow": null,
            "overflow_x": null,
            "overflow_y": null,
            "padding": null,
            "right": null,
            "top": null,
            "visibility": null,
            "width": null
          }
        },
        "5b9e9c7a308e4ad39814fef4bd595d2f": {
          "model_module": "@jupyter-widgets/controls",
          "model_name": "ProgressStyleModel",
          "model_module_version": "1.5.0",
          "state": {
            "_model_module": "@jupyter-widgets/controls",
            "_model_module_version": "1.5.0",
            "_model_name": "ProgressStyleModel",
            "_view_count": null,
            "_view_module": "@jupyter-widgets/base",
            "_view_module_version": "1.2.0",
            "_view_name": "StyleView",
            "bar_color": null,
            "description_width": ""
          }
        },
        "5a6a29da4a5d4bf4a7981a4cb34d4cac": {
          "model_module": "@jupyter-widgets/controls",
          "model_name": "VBoxModel",
          "model_module_version": "1.5.0",
          "state": {
            "_dom_classes": [],
            "_model_module": "@jupyter-widgets/controls",
            "_model_module_version": "1.5.0",
            "_model_name": "VBoxModel",
            "_view_count": null,
            "_view_module": "@jupyter-widgets/controls",
            "_view_module_version": "1.5.0",
            "_view_name": "VBoxView",
            "box_style": "",
            "children": [
              "IPY_MODEL_c0b947d122ff48a1814a79f3be43c42c",
              "IPY_MODEL_8ccd7bfd98c74bf0911c845a560b73f2"
            ],
            "layout": "IPY_MODEL_12213f812b424ca4bcf64cdd2d6e3163"
          }
        },
        "c0b947d122ff48a1814a79f3be43c42c": {
          "model_module": "@jupyter-widgets/controls",
          "model_name": "LabelModel",
          "model_module_version": "1.5.0",
          "state": {
            "_dom_classes": [],
            "_model_module": "@jupyter-widgets/controls",
            "_model_module_version": "1.5.0",
            "_model_name": "LabelModel",
            "_view_count": null,
            "_view_module": "@jupyter-widgets/controls",
            "_view_module_version": "1.5.0",
            "_view_name": "LabelView",
            "description": "",
            "description_tooltip": null,
            "layout": "IPY_MODEL_53778c672be242cc891755aeaf7e98f9",
            "placeholder": "​",
            "style": "IPY_MODEL_fd6a6ebc6b404ef3af7f2d9ae0998dc6",
            "value": "0.000 MB of 0.000 MB uploaded (0.000 MB deduped)\r"
          }
        },
        "8ccd7bfd98c74bf0911c845a560b73f2": {
          "model_module": "@jupyter-widgets/controls",
          "model_name": "FloatProgressModel",
          "model_module_version": "1.5.0",
          "state": {
            "_dom_classes": [],
            "_model_module": "@jupyter-widgets/controls",
            "_model_module_version": "1.5.0",
            "_model_name": "FloatProgressModel",
            "_view_count": null,
            "_view_module": "@jupyter-widgets/controls",
            "_view_module_version": "1.5.0",
            "_view_name": "ProgressView",
            "bar_style": "",
            "description": "",
            "description_tooltip": null,
            "layout": "IPY_MODEL_a73cc365f89340e7a28adc593c172d66",
            "max": 1,
            "min": 0,
            "orientation": "horizontal",
            "style": "IPY_MODEL_ae5fe8d55c834af8b4c89dde2708a035",
            "value": 1
          }
        },
        "12213f812b424ca4bcf64cdd2d6e3163": {
          "model_module": "@jupyter-widgets/base",
          "model_name": "LayoutModel",
          "model_module_version": "1.2.0",
          "state": {
            "_model_module": "@jupyter-widgets/base",
            "_model_module_version": "1.2.0",
            "_model_name": "LayoutModel",
            "_view_count": null,
            "_view_module": "@jupyter-widgets/base",
            "_view_module_version": "1.2.0",
            "_view_name": "LayoutView",
            "align_content": null,
            "align_items": null,
            "align_self": null,
            "border": null,
            "bottom": null,
            "display": null,
            "flex": null,
            "flex_flow": null,
            "grid_area": null,
            "grid_auto_columns": null,
            "grid_auto_flow": null,
            "grid_auto_rows": null,
            "grid_column": null,
            "grid_gap": null,
            "grid_row": null,
            "grid_template_areas": null,
            "grid_template_columns": null,
            "grid_template_rows": null,
            "height": null,
            "justify_content": null,
            "justify_items": null,
            "left": null,
            "margin": null,
            "max_height": null,
            "max_width": null,
            "min_height": null,
            "min_width": null,
            "object_fit": null,
            "object_position": null,
            "order": null,
            "overflow": null,
            "overflow_x": null,
            "overflow_y": null,
            "padding": null,
            "right": null,
            "top": null,
            "visibility": null,
            "width": null
          }
        },
        "53778c672be242cc891755aeaf7e98f9": {
          "model_module": "@jupyter-widgets/base",
          "model_name": "LayoutModel",
          "model_module_version": "1.2.0",
          "state": {
            "_model_module": "@jupyter-widgets/base",
            "_model_module_version": "1.2.0",
            "_model_name": "LayoutModel",
            "_view_count": null,
            "_view_module": "@jupyter-widgets/base",
            "_view_module_version": "1.2.0",
            "_view_name": "LayoutView",
            "align_content": null,
            "align_items": null,
            "align_self": null,
            "border": null,
            "bottom": null,
            "display": null,
            "flex": null,
            "flex_flow": null,
            "grid_area": null,
            "grid_auto_columns": null,
            "grid_auto_flow": null,
            "grid_auto_rows": null,
            "grid_column": null,
            "grid_gap": null,
            "grid_row": null,
            "grid_template_areas": null,
            "grid_template_columns": null,
            "grid_template_rows": null,
            "height": null,
            "justify_content": null,
            "justify_items": null,
            "left": null,
            "margin": null,
            "max_height": null,
            "max_width": null,
            "min_height": null,
            "min_width": null,
            "object_fit": null,
            "object_position": null,
            "order": null,
            "overflow": null,
            "overflow_x": null,
            "overflow_y": null,
            "padding": null,
            "right": null,
            "top": null,
            "visibility": null,
            "width": null
          }
        },
        "fd6a6ebc6b404ef3af7f2d9ae0998dc6": {
          "model_module": "@jupyter-widgets/controls",
          "model_name": "DescriptionStyleModel",
          "model_module_version": "1.5.0",
          "state": {
            "_model_module": "@jupyter-widgets/controls",
            "_model_module_version": "1.5.0",
            "_model_name": "DescriptionStyleModel",
            "_view_count": null,
            "_view_module": "@jupyter-widgets/base",
            "_view_module_version": "1.2.0",
            "_view_name": "StyleView",
            "description_width": ""
          }
        },
        "a73cc365f89340e7a28adc593c172d66": {
          "model_module": "@jupyter-widgets/base",
          "model_name": "LayoutModel",
          "model_module_version": "1.2.0",
          "state": {
            "_model_module": "@jupyter-widgets/base",
            "_model_module_version": "1.2.0",
            "_model_name": "LayoutModel",
            "_view_count": null,
            "_view_module": "@jupyter-widgets/base",
            "_view_module_version": "1.2.0",
            "_view_name": "LayoutView",
            "align_content": null,
            "align_items": null,
            "align_self": null,
            "border": null,
            "bottom": null,
            "display": null,
            "flex": null,
            "flex_flow": null,
            "grid_area": null,
            "grid_auto_columns": null,
            "grid_auto_flow": null,
            "grid_auto_rows": null,
            "grid_column": null,
            "grid_gap": null,
            "grid_row": null,
            "grid_template_areas": null,
            "grid_template_columns": null,
            "grid_template_rows": null,
            "height": null,
            "justify_content": null,
            "justify_items": null,
            "left": null,
            "margin": null,
            "max_height": null,
            "max_width": null,
            "min_height": null,
            "min_width": null,
            "object_fit": null,
            "object_position": null,
            "order": null,
            "overflow": null,
            "overflow_x": null,
            "overflow_y": null,
            "padding": null,
            "right": null,
            "top": null,
            "visibility": null,
            "width": null
          }
        },
        "ae5fe8d55c834af8b4c89dde2708a035": {
          "model_module": "@jupyter-widgets/controls",
          "model_name": "ProgressStyleModel",
          "model_module_version": "1.5.0",
          "state": {
            "_model_module": "@jupyter-widgets/controls",
            "_model_module_version": "1.5.0",
            "_model_name": "ProgressStyleModel",
            "_view_count": null,
            "_view_module": "@jupyter-widgets/base",
            "_view_module_version": "1.2.0",
            "_view_name": "StyleView",
            "bar_color": null,
            "description_width": ""
          }
        },
        "c327527c51a8482bb07c10b3faf4345f": {
          "model_module": "@jupyter-widgets/controls",
          "model_name": "VBoxModel",
          "model_module_version": "1.5.0",
          "state": {
            "_dom_classes": [],
            "_model_module": "@jupyter-widgets/controls",
            "_model_module_version": "1.5.0",
            "_model_name": "VBoxModel",
            "_view_count": null,
            "_view_module": "@jupyter-widgets/controls",
            "_view_module_version": "1.5.0",
            "_view_name": "VBoxView",
            "box_style": "",
            "children": [
              "IPY_MODEL_a9359ebb560b421296dbe69abac4949e",
              "IPY_MODEL_b41a21a1794541428f994d6ed20fab29"
            ],
            "layout": "IPY_MODEL_6f9da0a5a2024d6d80b3fdd4027d4cb4"
          }
        },
        "a9359ebb560b421296dbe69abac4949e": {
          "model_module": "@jupyter-widgets/controls",
          "model_name": "LabelModel",
          "model_module_version": "1.5.0",
          "state": {
            "_dom_classes": [],
            "_model_module": "@jupyter-widgets/controls",
            "_model_module_version": "1.5.0",
            "_model_name": "LabelModel",
            "_view_count": null,
            "_view_module": "@jupyter-widgets/controls",
            "_view_module_version": "1.5.0",
            "_view_name": "LabelView",
            "description": "",
            "description_tooltip": null,
            "layout": "IPY_MODEL_93d173efae0b43bd9b2488c23dfaa5cb",
            "placeholder": "​",
            "style": "IPY_MODEL_a198bdc276d843408fbda07a9851c2cf",
            "value": "0.000 MB of 0.000 MB uploaded (0.000 MB deduped)\r"
          }
        },
        "b41a21a1794541428f994d6ed20fab29": {
          "model_module": "@jupyter-widgets/controls",
          "model_name": "FloatProgressModel",
          "model_module_version": "1.5.0",
          "state": {
            "_dom_classes": [],
            "_model_module": "@jupyter-widgets/controls",
            "_model_module_version": "1.5.0",
            "_model_name": "FloatProgressModel",
            "_view_count": null,
            "_view_module": "@jupyter-widgets/controls",
            "_view_module_version": "1.5.0",
            "_view_name": "ProgressView",
            "bar_style": "",
            "description": "",
            "description_tooltip": null,
            "layout": "IPY_MODEL_f792a4e5d5424aef8152ff0b23952f2d",
            "max": 1,
            "min": 0,
            "orientation": "horizontal",
            "style": "IPY_MODEL_b73ef3cf66d44c32b3b2cd98dcc7b660",
            "value": 1
          }
        },
        "6f9da0a5a2024d6d80b3fdd4027d4cb4": {
          "model_module": "@jupyter-widgets/base",
          "model_name": "LayoutModel",
          "model_module_version": "1.2.0",
          "state": {
            "_model_module": "@jupyter-widgets/base",
            "_model_module_version": "1.2.0",
            "_model_name": "LayoutModel",
            "_view_count": null,
            "_view_module": "@jupyter-widgets/base",
            "_view_module_version": "1.2.0",
            "_view_name": "LayoutView",
            "align_content": null,
            "align_items": null,
            "align_self": null,
            "border": null,
            "bottom": null,
            "display": null,
            "flex": null,
            "flex_flow": null,
            "grid_area": null,
            "grid_auto_columns": null,
            "grid_auto_flow": null,
            "grid_auto_rows": null,
            "grid_column": null,
            "grid_gap": null,
            "grid_row": null,
            "grid_template_areas": null,
            "grid_template_columns": null,
            "grid_template_rows": null,
            "height": null,
            "justify_content": null,
            "justify_items": null,
            "left": null,
            "margin": null,
            "max_height": null,
            "max_width": null,
            "min_height": null,
            "min_width": null,
            "object_fit": null,
            "object_position": null,
            "order": null,
            "overflow": null,
            "overflow_x": null,
            "overflow_y": null,
            "padding": null,
            "right": null,
            "top": null,
            "visibility": null,
            "width": null
          }
        },
        "93d173efae0b43bd9b2488c23dfaa5cb": {
          "model_module": "@jupyter-widgets/base",
          "model_name": "LayoutModel",
          "model_module_version": "1.2.0",
          "state": {
            "_model_module": "@jupyter-widgets/base",
            "_model_module_version": "1.2.0",
            "_model_name": "LayoutModel",
            "_view_count": null,
            "_view_module": "@jupyter-widgets/base",
            "_view_module_version": "1.2.0",
            "_view_name": "LayoutView",
            "align_content": null,
            "align_items": null,
            "align_self": null,
            "border": null,
            "bottom": null,
            "display": null,
            "flex": null,
            "flex_flow": null,
            "grid_area": null,
            "grid_auto_columns": null,
            "grid_auto_flow": null,
            "grid_auto_rows": null,
            "grid_column": null,
            "grid_gap": null,
            "grid_row": null,
            "grid_template_areas": null,
            "grid_template_columns": null,
            "grid_template_rows": null,
            "height": null,
            "justify_content": null,
            "justify_items": null,
            "left": null,
            "margin": null,
            "max_height": null,
            "max_width": null,
            "min_height": null,
            "min_width": null,
            "object_fit": null,
            "object_position": null,
            "order": null,
            "overflow": null,
            "overflow_x": null,
            "overflow_y": null,
            "padding": null,
            "right": null,
            "top": null,
            "visibility": null,
            "width": null
          }
        },
        "a198bdc276d843408fbda07a9851c2cf": {
          "model_module": "@jupyter-widgets/controls",
          "model_name": "DescriptionStyleModel",
          "model_module_version": "1.5.0",
          "state": {
            "_model_module": "@jupyter-widgets/controls",
            "_model_module_version": "1.5.0",
            "_model_name": "DescriptionStyleModel",
            "_view_count": null,
            "_view_module": "@jupyter-widgets/base",
            "_view_module_version": "1.2.0",
            "_view_name": "StyleView",
            "description_width": ""
          }
        },
        "f792a4e5d5424aef8152ff0b23952f2d": {
          "model_module": "@jupyter-widgets/base",
          "model_name": "LayoutModel",
          "model_module_version": "1.2.0",
          "state": {
            "_model_module": "@jupyter-widgets/base",
            "_model_module_version": "1.2.0",
            "_model_name": "LayoutModel",
            "_view_count": null,
            "_view_module": "@jupyter-widgets/base",
            "_view_module_version": "1.2.0",
            "_view_name": "LayoutView",
            "align_content": null,
            "align_items": null,
            "align_self": null,
            "border": null,
            "bottom": null,
            "display": null,
            "flex": null,
            "flex_flow": null,
            "grid_area": null,
            "grid_auto_columns": null,
            "grid_auto_flow": null,
            "grid_auto_rows": null,
            "grid_column": null,
            "grid_gap": null,
            "grid_row": null,
            "grid_template_areas": null,
            "grid_template_columns": null,
            "grid_template_rows": null,
            "height": null,
            "justify_content": null,
            "justify_items": null,
            "left": null,
            "margin": null,
            "max_height": null,
            "max_width": null,
            "min_height": null,
            "min_width": null,
            "object_fit": null,
            "object_position": null,
            "order": null,
            "overflow": null,
            "overflow_x": null,
            "overflow_y": null,
            "padding": null,
            "right": null,
            "top": null,
            "visibility": null,
            "width": null
          }
        },
        "b73ef3cf66d44c32b3b2cd98dcc7b660": {
          "model_module": "@jupyter-widgets/controls",
          "model_name": "ProgressStyleModel",
          "model_module_version": "1.5.0",
          "state": {
            "_model_module": "@jupyter-widgets/controls",
            "_model_module_version": "1.5.0",
            "_model_name": "ProgressStyleModel",
            "_view_count": null,
            "_view_module": "@jupyter-widgets/base",
            "_view_module_version": "1.2.0",
            "_view_name": "StyleView",
            "bar_color": null,
            "description_width": ""
          }
        },
        "95df1e4211fd48a1bc6d97bff0df06b0": {
          "model_module": "@jupyter-widgets/controls",
          "model_name": "VBoxModel",
          "model_module_version": "1.5.0",
          "state": {
            "_dom_classes": [],
            "_model_module": "@jupyter-widgets/controls",
            "_model_module_version": "1.5.0",
            "_model_name": "VBoxModel",
            "_view_count": null,
            "_view_module": "@jupyter-widgets/controls",
            "_view_module_version": "1.5.0",
            "_view_name": "VBoxView",
            "box_style": "",
            "children": [
              "IPY_MODEL_c883a09a5c5c430a855d262a3741ec83",
              "IPY_MODEL_628b4ae8be214bf6823ae158cd2f35d5"
            ],
            "layout": "IPY_MODEL_3aa37676f1ce43ef880740f8c5f25fa4"
          }
        },
        "c883a09a5c5c430a855d262a3741ec83": {
          "model_module": "@jupyter-widgets/controls",
          "model_name": "LabelModel",
          "model_module_version": "1.5.0",
          "state": {
            "_dom_classes": [],
            "_model_module": "@jupyter-widgets/controls",
            "_model_module_version": "1.5.0",
            "_model_name": "LabelModel",
            "_view_count": null,
            "_view_module": "@jupyter-widgets/controls",
            "_view_module_version": "1.5.0",
            "_view_name": "LabelView",
            "description": "",
            "description_tooltip": null,
            "layout": "IPY_MODEL_933c1a5044cb41289cf24aab96583e79",
            "placeholder": "​",
            "style": "IPY_MODEL_b3e06079e5e9452eb48e2d114f37ff79",
            "value": "0.000 MB of 0.000 MB uploaded (0.000 MB deduped)\r"
          }
        },
        "628b4ae8be214bf6823ae158cd2f35d5": {
          "model_module": "@jupyter-widgets/controls",
          "model_name": "FloatProgressModel",
          "model_module_version": "1.5.0",
          "state": {
            "_dom_classes": [],
            "_model_module": "@jupyter-widgets/controls",
            "_model_module_version": "1.5.0",
            "_model_name": "FloatProgressModel",
            "_view_count": null,
            "_view_module": "@jupyter-widgets/controls",
            "_view_module_version": "1.5.0",
            "_view_name": "ProgressView",
            "bar_style": "",
            "description": "",
            "description_tooltip": null,
            "layout": "IPY_MODEL_ba0bdf8d94fb4af484d68ec989023217",
            "max": 1,
            "min": 0,
            "orientation": "horizontal",
            "style": "IPY_MODEL_1a45700a5fe943e7a3712e8e02ec77a2",
            "value": 1
          }
        },
        "3aa37676f1ce43ef880740f8c5f25fa4": {
          "model_module": "@jupyter-widgets/base",
          "model_name": "LayoutModel",
          "model_module_version": "1.2.0",
          "state": {
            "_model_module": "@jupyter-widgets/base",
            "_model_module_version": "1.2.0",
            "_model_name": "LayoutModel",
            "_view_count": null,
            "_view_module": "@jupyter-widgets/base",
            "_view_module_version": "1.2.0",
            "_view_name": "LayoutView",
            "align_content": null,
            "align_items": null,
            "align_self": null,
            "border": null,
            "bottom": null,
            "display": null,
            "flex": null,
            "flex_flow": null,
            "grid_area": null,
            "grid_auto_columns": null,
            "grid_auto_flow": null,
            "grid_auto_rows": null,
            "grid_column": null,
            "grid_gap": null,
            "grid_row": null,
            "grid_template_areas": null,
            "grid_template_columns": null,
            "grid_template_rows": null,
            "height": null,
            "justify_content": null,
            "justify_items": null,
            "left": null,
            "margin": null,
            "max_height": null,
            "max_width": null,
            "min_height": null,
            "min_width": null,
            "object_fit": null,
            "object_position": null,
            "order": null,
            "overflow": null,
            "overflow_x": null,
            "overflow_y": null,
            "padding": null,
            "right": null,
            "top": null,
            "visibility": null,
            "width": null
          }
        },
        "933c1a5044cb41289cf24aab96583e79": {
          "model_module": "@jupyter-widgets/base",
          "model_name": "LayoutModel",
          "model_module_version": "1.2.0",
          "state": {
            "_model_module": "@jupyter-widgets/base",
            "_model_module_version": "1.2.0",
            "_model_name": "LayoutModel",
            "_view_count": null,
            "_view_module": "@jupyter-widgets/base",
            "_view_module_version": "1.2.0",
            "_view_name": "LayoutView",
            "align_content": null,
            "align_items": null,
            "align_self": null,
            "border": null,
            "bottom": null,
            "display": null,
            "flex": null,
            "flex_flow": null,
            "grid_area": null,
            "grid_auto_columns": null,
            "grid_auto_flow": null,
            "grid_auto_rows": null,
            "grid_column": null,
            "grid_gap": null,
            "grid_row": null,
            "grid_template_areas": null,
            "grid_template_columns": null,
            "grid_template_rows": null,
            "height": null,
            "justify_content": null,
            "justify_items": null,
            "left": null,
            "margin": null,
            "max_height": null,
            "max_width": null,
            "min_height": null,
            "min_width": null,
            "object_fit": null,
            "object_position": null,
            "order": null,
            "overflow": null,
            "overflow_x": null,
            "overflow_y": null,
            "padding": null,
            "right": null,
            "top": null,
            "visibility": null,
            "width": null
          }
        },
        "b3e06079e5e9452eb48e2d114f37ff79": {
          "model_module": "@jupyter-widgets/controls",
          "model_name": "DescriptionStyleModel",
          "model_module_version": "1.5.0",
          "state": {
            "_model_module": "@jupyter-widgets/controls",
            "_model_module_version": "1.5.0",
            "_model_name": "DescriptionStyleModel",
            "_view_count": null,
            "_view_module": "@jupyter-widgets/base",
            "_view_module_version": "1.2.0",
            "_view_name": "StyleView",
            "description_width": ""
          }
        },
        "ba0bdf8d94fb4af484d68ec989023217": {
          "model_module": "@jupyter-widgets/base",
          "model_name": "LayoutModel",
          "model_module_version": "1.2.0",
          "state": {
            "_model_module": "@jupyter-widgets/base",
            "_model_module_version": "1.2.0",
            "_model_name": "LayoutModel",
            "_view_count": null,
            "_view_module": "@jupyter-widgets/base",
            "_view_module_version": "1.2.0",
            "_view_name": "LayoutView",
            "align_content": null,
            "align_items": null,
            "align_self": null,
            "border": null,
            "bottom": null,
            "display": null,
            "flex": null,
            "flex_flow": null,
            "grid_area": null,
            "grid_auto_columns": null,
            "grid_auto_flow": null,
            "grid_auto_rows": null,
            "grid_column": null,
            "grid_gap": null,
            "grid_row": null,
            "grid_template_areas": null,
            "grid_template_columns": null,
            "grid_template_rows": null,
            "height": null,
            "justify_content": null,
            "justify_items": null,
            "left": null,
            "margin": null,
            "max_height": null,
            "max_width": null,
            "min_height": null,
            "min_width": null,
            "object_fit": null,
            "object_position": null,
            "order": null,
            "overflow": null,
            "overflow_x": null,
            "overflow_y": null,
            "padding": null,
            "right": null,
            "top": null,
            "visibility": null,
            "width": null
          }
        },
        "1a45700a5fe943e7a3712e8e02ec77a2": {
          "model_module": "@jupyter-widgets/controls",
          "model_name": "ProgressStyleModel",
          "model_module_version": "1.5.0",
          "state": {
            "_model_module": "@jupyter-widgets/controls",
            "_model_module_version": "1.5.0",
            "_model_name": "ProgressStyleModel",
            "_view_count": null,
            "_view_module": "@jupyter-widgets/base",
            "_view_module_version": "1.2.0",
            "_view_name": "StyleView",
            "bar_color": null,
            "description_width": ""
          }
        },
        "d1de3ade4ed74b25ba78258c6b3213e0": {
          "model_module": "@jupyter-widgets/controls",
          "model_name": "VBoxModel",
          "model_module_version": "1.5.0",
          "state": {
            "_dom_classes": [],
            "_model_module": "@jupyter-widgets/controls",
            "_model_module_version": "1.5.0",
            "_model_name": "VBoxModel",
            "_view_count": null,
            "_view_module": "@jupyter-widgets/controls",
            "_view_module_version": "1.5.0",
            "_view_name": "VBoxView",
            "box_style": "",
            "children": [
              "IPY_MODEL_26fccf94d268465f81ae1967b38d7074",
              "IPY_MODEL_cd5986c150884ae2a6929337be32b15f"
            ],
            "layout": "IPY_MODEL_9ee4023d202e4d20a1ac29d93cf98695"
          }
        },
        "26fccf94d268465f81ae1967b38d7074": {
          "model_module": "@jupyter-widgets/controls",
          "model_name": "LabelModel",
          "model_module_version": "1.5.0",
          "state": {
            "_dom_classes": [],
            "_model_module": "@jupyter-widgets/controls",
            "_model_module_version": "1.5.0",
            "_model_name": "LabelModel",
            "_view_count": null,
            "_view_module": "@jupyter-widgets/controls",
            "_view_module_version": "1.5.0",
            "_view_name": "LabelView",
            "description": "",
            "description_tooltip": null,
            "layout": "IPY_MODEL_8690408817e8417d863cd3df523aad15",
            "placeholder": "​",
            "style": "IPY_MODEL_4413ce4ce20a4a59938801b5a9e406a0",
            "value": "0.000 MB of 0.000 MB uploaded (0.000 MB deduped)\r"
          }
        },
        "cd5986c150884ae2a6929337be32b15f": {
          "model_module": "@jupyter-widgets/controls",
          "model_name": "FloatProgressModel",
          "model_module_version": "1.5.0",
          "state": {
            "_dom_classes": [],
            "_model_module": "@jupyter-widgets/controls",
            "_model_module_version": "1.5.0",
            "_model_name": "FloatProgressModel",
            "_view_count": null,
            "_view_module": "@jupyter-widgets/controls",
            "_view_module_version": "1.5.0",
            "_view_name": "ProgressView",
            "bar_style": "",
            "description": "",
            "description_tooltip": null,
            "layout": "IPY_MODEL_4fb6cc9941544b67985958645ec2b2d7",
            "max": 1,
            "min": 0,
            "orientation": "horizontal",
            "style": "IPY_MODEL_1fe74a1ae65b49c2a54c15ec7c6fdf66",
            "value": 1
          }
        },
        "9ee4023d202e4d20a1ac29d93cf98695": {
          "model_module": "@jupyter-widgets/base",
          "model_name": "LayoutModel",
          "model_module_version": "1.2.0",
          "state": {
            "_model_module": "@jupyter-widgets/base",
            "_model_module_version": "1.2.0",
            "_model_name": "LayoutModel",
            "_view_count": null,
            "_view_module": "@jupyter-widgets/base",
            "_view_module_version": "1.2.0",
            "_view_name": "LayoutView",
            "align_content": null,
            "align_items": null,
            "align_self": null,
            "border": null,
            "bottom": null,
            "display": null,
            "flex": null,
            "flex_flow": null,
            "grid_area": null,
            "grid_auto_columns": null,
            "grid_auto_flow": null,
            "grid_auto_rows": null,
            "grid_column": null,
            "grid_gap": null,
            "grid_row": null,
            "grid_template_areas": null,
            "grid_template_columns": null,
            "grid_template_rows": null,
            "height": null,
            "justify_content": null,
            "justify_items": null,
            "left": null,
            "margin": null,
            "max_height": null,
            "max_width": null,
            "min_height": null,
            "min_width": null,
            "object_fit": null,
            "object_position": null,
            "order": null,
            "overflow": null,
            "overflow_x": null,
            "overflow_y": null,
            "padding": null,
            "right": null,
            "top": null,
            "visibility": null,
            "width": null
          }
        },
        "8690408817e8417d863cd3df523aad15": {
          "model_module": "@jupyter-widgets/base",
          "model_name": "LayoutModel",
          "model_module_version": "1.2.0",
          "state": {
            "_model_module": "@jupyter-widgets/base",
            "_model_module_version": "1.2.0",
            "_model_name": "LayoutModel",
            "_view_count": null,
            "_view_module": "@jupyter-widgets/base",
            "_view_module_version": "1.2.0",
            "_view_name": "LayoutView",
            "align_content": null,
            "align_items": null,
            "align_self": null,
            "border": null,
            "bottom": null,
            "display": null,
            "flex": null,
            "flex_flow": null,
            "grid_area": null,
            "grid_auto_columns": null,
            "grid_auto_flow": null,
            "grid_auto_rows": null,
            "grid_column": null,
            "grid_gap": null,
            "grid_row": null,
            "grid_template_areas": null,
            "grid_template_columns": null,
            "grid_template_rows": null,
            "height": null,
            "justify_content": null,
            "justify_items": null,
            "left": null,
            "margin": null,
            "max_height": null,
            "max_width": null,
            "min_height": null,
            "min_width": null,
            "object_fit": null,
            "object_position": null,
            "order": null,
            "overflow": null,
            "overflow_x": null,
            "overflow_y": null,
            "padding": null,
            "right": null,
            "top": null,
            "visibility": null,
            "width": null
          }
        },
        "4413ce4ce20a4a59938801b5a9e406a0": {
          "model_module": "@jupyter-widgets/controls",
          "model_name": "DescriptionStyleModel",
          "model_module_version": "1.5.0",
          "state": {
            "_model_module": "@jupyter-widgets/controls",
            "_model_module_version": "1.5.0",
            "_model_name": "DescriptionStyleModel",
            "_view_count": null,
            "_view_module": "@jupyter-widgets/base",
            "_view_module_version": "1.2.0",
            "_view_name": "StyleView",
            "description_width": ""
          }
        },
        "4fb6cc9941544b67985958645ec2b2d7": {
          "model_module": "@jupyter-widgets/base",
          "model_name": "LayoutModel",
          "model_module_version": "1.2.0",
          "state": {
            "_model_module": "@jupyter-widgets/base",
            "_model_module_version": "1.2.0",
            "_model_name": "LayoutModel",
            "_view_count": null,
            "_view_module": "@jupyter-widgets/base",
            "_view_module_version": "1.2.0",
            "_view_name": "LayoutView",
            "align_content": null,
            "align_items": null,
            "align_self": null,
            "border": null,
            "bottom": null,
            "display": null,
            "flex": null,
            "flex_flow": null,
            "grid_area": null,
            "grid_auto_columns": null,
            "grid_auto_flow": null,
            "grid_auto_rows": null,
            "grid_column": null,
            "grid_gap": null,
            "grid_row": null,
            "grid_template_areas": null,
            "grid_template_columns": null,
            "grid_template_rows": null,
            "height": null,
            "justify_content": null,
            "justify_items": null,
            "left": null,
            "margin": null,
            "max_height": null,
            "max_width": null,
            "min_height": null,
            "min_width": null,
            "object_fit": null,
            "object_position": null,
            "order": null,
            "overflow": null,
            "overflow_x": null,
            "overflow_y": null,
            "padding": null,
            "right": null,
            "top": null,
            "visibility": null,
            "width": null
          }
        },
        "1fe74a1ae65b49c2a54c15ec7c6fdf66": {
          "model_module": "@jupyter-widgets/controls",
          "model_name": "ProgressStyleModel",
          "model_module_version": "1.5.0",
          "state": {
            "_model_module": "@jupyter-widgets/controls",
            "_model_module_version": "1.5.0",
            "_model_name": "ProgressStyleModel",
            "_view_count": null,
            "_view_module": "@jupyter-widgets/base",
            "_view_module_version": "1.2.0",
            "_view_name": "StyleView",
            "bar_color": null,
            "description_width": ""
          }
        },
        "d8e449d6c2a94c98bb6ad77b91c09376": {
          "model_module": "@jupyter-widgets/controls",
          "model_name": "VBoxModel",
          "model_module_version": "1.5.0",
          "state": {
            "_dom_classes": [],
            "_model_module": "@jupyter-widgets/controls",
            "_model_module_version": "1.5.0",
            "_model_name": "VBoxModel",
            "_view_count": null,
            "_view_module": "@jupyter-widgets/controls",
            "_view_module_version": "1.5.0",
            "_view_name": "VBoxView",
            "box_style": "",
            "children": [
              "IPY_MODEL_3227cf09ec1e41748e0b3386cbcc97ba",
              "IPY_MODEL_bafbbd0c544946fea2a408516c5daf7a"
            ],
            "layout": "IPY_MODEL_bd53a0d91fd64f5d8c56fbb359c30273"
          }
        },
        "3227cf09ec1e41748e0b3386cbcc97ba": {
          "model_module": "@jupyter-widgets/controls",
          "model_name": "LabelModel",
          "model_module_version": "1.5.0",
          "state": {
            "_dom_classes": [],
            "_model_module": "@jupyter-widgets/controls",
            "_model_module_version": "1.5.0",
            "_model_name": "LabelModel",
            "_view_count": null,
            "_view_module": "@jupyter-widgets/controls",
            "_view_module_version": "1.5.0",
            "_view_name": "LabelView",
            "description": "",
            "description_tooltip": null,
            "layout": "IPY_MODEL_499495787db644d182a24b0fa78c1a90",
            "placeholder": "​",
            "style": "IPY_MODEL_fadc35e9fcc3413d9477ee23135f856d",
            "value": "0.000 MB of 0.000 MB uploaded (0.000 MB deduped)\r"
          }
        },
        "bafbbd0c544946fea2a408516c5daf7a": {
          "model_module": "@jupyter-widgets/controls",
          "model_name": "FloatProgressModel",
          "model_module_version": "1.5.0",
          "state": {
            "_dom_classes": [],
            "_model_module": "@jupyter-widgets/controls",
            "_model_module_version": "1.5.0",
            "_model_name": "FloatProgressModel",
            "_view_count": null,
            "_view_module": "@jupyter-widgets/controls",
            "_view_module_version": "1.5.0",
            "_view_name": "ProgressView",
            "bar_style": "",
            "description": "",
            "description_tooltip": null,
            "layout": "IPY_MODEL_3c80db5ab6c8409d9cdc06be1298a366",
            "max": 1,
            "min": 0,
            "orientation": "horizontal",
            "style": "IPY_MODEL_497ac14fbfda49f088bcb55b0e1cc4f1",
            "value": 1
          }
        },
        "bd53a0d91fd64f5d8c56fbb359c30273": {
          "model_module": "@jupyter-widgets/base",
          "model_name": "LayoutModel",
          "model_module_version": "1.2.0",
          "state": {
            "_model_module": "@jupyter-widgets/base",
            "_model_module_version": "1.2.0",
            "_model_name": "LayoutModel",
            "_view_count": null,
            "_view_module": "@jupyter-widgets/base",
            "_view_module_version": "1.2.0",
            "_view_name": "LayoutView",
            "align_content": null,
            "align_items": null,
            "align_self": null,
            "border": null,
            "bottom": null,
            "display": null,
            "flex": null,
            "flex_flow": null,
            "grid_area": null,
            "grid_auto_columns": null,
            "grid_auto_flow": null,
            "grid_auto_rows": null,
            "grid_column": null,
            "grid_gap": null,
            "grid_row": null,
            "grid_template_areas": null,
            "grid_template_columns": null,
            "grid_template_rows": null,
            "height": null,
            "justify_content": null,
            "justify_items": null,
            "left": null,
            "margin": null,
            "max_height": null,
            "max_width": null,
            "min_height": null,
            "min_width": null,
            "object_fit": null,
            "object_position": null,
            "order": null,
            "overflow": null,
            "overflow_x": null,
            "overflow_y": null,
            "padding": null,
            "right": null,
            "top": null,
            "visibility": null,
            "width": null
          }
        },
        "499495787db644d182a24b0fa78c1a90": {
          "model_module": "@jupyter-widgets/base",
          "model_name": "LayoutModel",
          "model_module_version": "1.2.0",
          "state": {
            "_model_module": "@jupyter-widgets/base",
            "_model_module_version": "1.2.0",
            "_model_name": "LayoutModel",
            "_view_count": null,
            "_view_module": "@jupyter-widgets/base",
            "_view_module_version": "1.2.0",
            "_view_name": "LayoutView",
            "align_content": null,
            "align_items": null,
            "align_self": null,
            "border": null,
            "bottom": null,
            "display": null,
            "flex": null,
            "flex_flow": null,
            "grid_area": null,
            "grid_auto_columns": null,
            "grid_auto_flow": null,
            "grid_auto_rows": null,
            "grid_column": null,
            "grid_gap": null,
            "grid_row": null,
            "grid_template_areas": null,
            "grid_template_columns": null,
            "grid_template_rows": null,
            "height": null,
            "justify_content": null,
            "justify_items": null,
            "left": null,
            "margin": null,
            "max_height": null,
            "max_width": null,
            "min_height": null,
            "min_width": null,
            "object_fit": null,
            "object_position": null,
            "order": null,
            "overflow": null,
            "overflow_x": null,
            "overflow_y": null,
            "padding": null,
            "right": null,
            "top": null,
            "visibility": null,
            "width": null
          }
        },
        "fadc35e9fcc3413d9477ee23135f856d": {
          "model_module": "@jupyter-widgets/controls",
          "model_name": "DescriptionStyleModel",
          "model_module_version": "1.5.0",
          "state": {
            "_model_module": "@jupyter-widgets/controls",
            "_model_module_version": "1.5.0",
            "_model_name": "DescriptionStyleModel",
            "_view_count": null,
            "_view_module": "@jupyter-widgets/base",
            "_view_module_version": "1.2.0",
            "_view_name": "StyleView",
            "description_width": ""
          }
        },
        "3c80db5ab6c8409d9cdc06be1298a366": {
          "model_module": "@jupyter-widgets/base",
          "model_name": "LayoutModel",
          "model_module_version": "1.2.0",
          "state": {
            "_model_module": "@jupyter-widgets/base",
            "_model_module_version": "1.2.0",
            "_model_name": "LayoutModel",
            "_view_count": null,
            "_view_module": "@jupyter-widgets/base",
            "_view_module_version": "1.2.0",
            "_view_name": "LayoutView",
            "align_content": null,
            "align_items": null,
            "align_self": null,
            "border": null,
            "bottom": null,
            "display": null,
            "flex": null,
            "flex_flow": null,
            "grid_area": null,
            "grid_auto_columns": null,
            "grid_auto_flow": null,
            "grid_auto_rows": null,
            "grid_column": null,
            "grid_gap": null,
            "grid_row": null,
            "grid_template_areas": null,
            "grid_template_columns": null,
            "grid_template_rows": null,
            "height": null,
            "justify_content": null,
            "justify_items": null,
            "left": null,
            "margin": null,
            "max_height": null,
            "max_width": null,
            "min_height": null,
            "min_width": null,
            "object_fit": null,
            "object_position": null,
            "order": null,
            "overflow": null,
            "overflow_x": null,
            "overflow_y": null,
            "padding": null,
            "right": null,
            "top": null,
            "visibility": null,
            "width": null
          }
        },
        "497ac14fbfda49f088bcb55b0e1cc4f1": {
          "model_module": "@jupyter-widgets/controls",
          "model_name": "ProgressStyleModel",
          "model_module_version": "1.5.0",
          "state": {
            "_model_module": "@jupyter-widgets/controls",
            "_model_module_version": "1.5.0",
            "_model_name": "ProgressStyleModel",
            "_view_count": null,
            "_view_module": "@jupyter-widgets/base",
            "_view_module_version": "1.2.0",
            "_view_name": "StyleView",
            "bar_color": null,
            "description_width": ""
          }
        }
      }
    }
  },
  "nbformat": 4,
  "nbformat_minor": 5
}